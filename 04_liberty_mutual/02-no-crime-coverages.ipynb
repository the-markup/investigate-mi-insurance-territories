{
 "cells": [
  {
   "cell_type": "markdown",
   "id": "7c1e7e71-0d80-42e5-9766-4449511c6147",
   "metadata": {},
   "source": [
    "# No crime related coverages analysis"
   ]
  },
  {
   "cell_type": "code",
   "execution_count": 1,
   "id": "3df351cf-9039-4508-baf8-ae6746153b91",
   "metadata": {},
   "outputs": [],
   "source": [
    "import geopandas as gpd\n",
    "import pandas as pd"
   ]
  },
  {
   "cell_type": "markdown",
   "id": "35c7c2d5-77c7-4869-9975-6eb40929c645",
   "metadata": {},
   "source": [
    "# Constants and helper functions"
   ]
  },
  {
   "cell_type": "code",
   "execution_count": 2,
   "id": "bd3e2f62-9a10-41d0-8d82-ffda973fd4eb",
   "metadata": {},
   "outputs": [],
   "source": [
    "DATA_FP = \"./outputs/libertymutual_auto_gis.geojson\""
   ]
  },
  {
   "cell_type": "code",
   "execution_count": 3,
   "id": "1976c706-da59-47df-bb62-b66d7129ad90",
   "metadata": {},
   "outputs": [],
   "source": [
    "CRIME_RELATED_COVERAGES = [\n",
    "    \"rate_comp\",\n",
    "]\n",
    "\n",
    "RATE_Q_LABELS = [\n",
    "    \"lowest effect\",\n",
    "    \"middle low\",\n",
    "    \"median\",\n",
    "    \"middle high\",\n",
    "    \"highest effect\",\n",
    "]\n",
    "\n",
    "QUANTILE_GROUP_BY_COLS = [\"black_tot\", \"white_tot\", \"tot_pop\"]"
   ]
  },
  {
   "cell_type": "code",
   "execution_count": 4,
   "id": "9d65f3d4-ee31-4751-9c96-e175e1a3a60c",
   "metadata": {},
   "outputs": [],
   "source": [
    "ROUNDING_PRECISION = 2"
   ]
  },
  {
   "cell_type": "code",
   "execution_count": 5,
   "id": "2ad77793-62d3-4a2d-89d5-b8b7671b92c1",
   "metadata": {},
   "outputs": [],
   "source": [
    "def get_rate_columns(df_rate_table):\n",
    "    RATE_PREFIX = \"rate_\"\n",
    "    return [col for col in df_rate_table.columns if col.startswith(RATE_PREFIX)]\n",
    "\n",
    "\n",
    "def prptn_to_pct(val, precision=ROUNDING_PRECISION):\n",
    "    return round(val, precision) * 100"
   ]
  },
  {
   "cell_type": "markdown",
   "id": "b418670a-4578-4436-9ad8-923f19db77d5",
   "metadata": {},
   "source": [
    "# Read data"
   ]
  },
  {
   "cell_type": "code",
   "execution_count": 6,
   "id": "deda47cb-1b1f-45d8-afe0-afcd98700cc2",
   "metadata": {},
   "outputs": [],
   "source": [
    "GDF = gpd.read_file(DATA_FP)\n",
    "GDF[\"tot_pop\"] = GDF[\"total_pop\"]"
   ]
  },
  {
   "cell_type": "markdown",
   "id": "05bf67cb-fb4b-4124-88c9-7389f8b2022b",
   "metadata": {},
   "source": [
    "# Process"
   ]
  },
  {
   "cell_type": "code",
   "execution_count": 7,
   "id": "e31ae46d-4863-4903-b611-a68273bd7267",
   "metadata": {},
   "outputs": [],
   "source": [
    "non_crime_coverages = [\n",
    "    col for col in get_rate_columns(GDF) if col not in CRIME_RELATED_COVERAGES\n",
    "]\n",
    "gdf = GDF.copy()"
   ]
  },
  {
   "cell_type": "code",
   "execution_count": 8,
   "id": "ee7844fc-a0e6-4fd1-b3a8-328b07590896",
   "metadata": {},
   "outputs": [],
   "source": [
    "gdf[\"non_crime_generic_premium\"] = round(gdf[non_crime_coverages].sum(axis=1))\n",
    "\n",
    "gdf[\"non_crime_location_effect\"] = round(\n",
    "    gdf[\"non_crime_generic_premium\"] / gdf[\"non_crime_generic_premium\"].median(),\n",
    "    ROUNDING_PRECISION,\n",
    ")"
   ]
  },
  {
   "cell_type": "markdown",
   "id": "b2350121-f8ff-4529-ac15-395d3378fec5",
   "metadata": {},
   "source": [
    "# Analysis"
   ]
  },
  {
   "cell_type": "markdown",
   "id": "880d8e78-acde-4477-98d2-16eb089dc108",
   "metadata": {},
   "source": [
    "## Rate quantiles"
   ]
  },
  {
   "cell_type": "code",
   "execution_count": 9,
   "id": "d730aae9-6f35-41b3-bbf1-5947b9f23761",
   "metadata": {},
   "outputs": [],
   "source": [
    "gdf[\"non_crime_effect_quantile\"] = pd.qcut(\n",
    "    gdf[\"non_crime_location_effect\"], q=len(RATE_Q_LABELS), labels=RATE_Q_LABELS\n",
    ")\n",
    "\n",
    "gdf[\"effect_quantile\"] = pd.qcut(\n",
    "    gdf[\"location_effect\"], q=len(RATE_Q_LABELS), labels=RATE_Q_LABELS\n",
    ")"
   ]
  },
  {
   "cell_type": "markdown",
   "id": "7371cb3b-29b0-4217-bac4-fbd27d1a4d4a",
   "metadata": {},
   "source": [
    "## Race\n",
    "\n",
    "> Fifteen percent of Michigan residents lived in territories showing location effects among the highest quintile in the state. About seven percent of White Michiganders and 58 percent of Black Michiganders lived in these territories."
   ]
  },
  {
   "cell_type": "code",
   "execution_count": 10,
   "id": "132b1b72-76e2-4c5d-8389-9b86cbf46dbc",
   "metadata": {},
   "outputs": [
    {
     "data": {
      "text/html": [
       "<div>\n",
       "<style scoped>\n",
       "    .dataframe tbody tr th:only-of-type {\n",
       "        vertical-align: middle;\n",
       "    }\n",
       "\n",
       "    .dataframe tbody tr th {\n",
       "        vertical-align: top;\n",
       "    }\n",
       "\n",
       "    .dataframe thead th {\n",
       "        text-align: right;\n",
       "    }\n",
       "</style>\n",
       "<table border=\"1\" class=\"dataframe\">\n",
       "  <thead>\n",
       "    <tr style=\"text-align: right;\">\n",
       "      <th></th>\n",
       "      <th>black_tot</th>\n",
       "      <th>white_tot</th>\n",
       "      <th>tot_pop</th>\n",
       "    </tr>\n",
       "    <tr>\n",
       "      <th>effect_quantile</th>\n",
       "      <th></th>\n",
       "      <th></th>\n",
       "      <th></th>\n",
       "    </tr>\n",
       "  </thead>\n",
       "  <tbody>\n",
       "    <tr>\n",
       "      <th>lowest effect</th>\n",
       "      <td>11.2</td>\n",
       "      <td>23.9</td>\n",
       "      <td>21.9</td>\n",
       "    </tr>\n",
       "    <tr>\n",
       "      <th>middle low</th>\n",
       "      <td>3.0</td>\n",
       "      <td>6.3</td>\n",
       "      <td>5.9</td>\n",
       "    </tr>\n",
       "    <tr>\n",
       "      <th>median</th>\n",
       "      <td>8.8</td>\n",
       "      <td>19.7</td>\n",
       "      <td>18.1</td>\n",
       "    </tr>\n",
       "    <tr>\n",
       "      <th>middle high</th>\n",
       "      <td>0.9</td>\n",
       "      <td>9.1</td>\n",
       "      <td>7.4</td>\n",
       "    </tr>\n",
       "    <tr>\n",
       "      <th>highest effect</th>\n",
       "      <td>76.1</td>\n",
       "      <td>41.1</td>\n",
       "      <td>46.7</td>\n",
       "    </tr>\n",
       "  </tbody>\n",
       "</table>\n",
       "</div>"
      ],
      "text/plain": [
       "                 black_tot  white_tot  tot_pop\n",
       "effect_quantile                               \n",
       "lowest effect         11.2       23.9     21.9\n",
       "middle low             3.0        6.3      5.9\n",
       "median                 8.8       19.7     18.1\n",
       "middle high            0.9        9.1      7.4\n",
       "highest effect        76.1       41.1     46.7"
      ]
     },
     "execution_count": 10,
     "metadata": {},
     "output_type": "execute_result"
    }
   ],
   "source": [
    "gdf_groupby_quantiles = gdf.groupby(\"effect_quantile\", observed=False)[\n",
    "    QUANTILE_GROUP_BY_COLS\n",
    "].sum()\n",
    "column_sums = gdf_groupby_quantiles.sum(axis=0)\n",
    "df_distribution = prptn_to_pct(gdf_groupby_quantiles.div(column_sums, axis=1), 3)\n",
    "df_distribution"
   ]
  },
  {
   "cell_type": "code",
   "execution_count": 11,
   "id": "0452f43f-6601-47b5-851e-e9d72b775b91",
   "metadata": {},
   "outputs": [
    {
     "data": {
      "text/html": [
       "<div>\n",
       "<style scoped>\n",
       "    .dataframe tbody tr th:only-of-type {\n",
       "        vertical-align: middle;\n",
       "    }\n",
       "\n",
       "    .dataframe tbody tr th {\n",
       "        vertical-align: top;\n",
       "    }\n",
       "\n",
       "    .dataframe thead th {\n",
       "        text-align: right;\n",
       "    }\n",
       "</style>\n",
       "<table border=\"1\" class=\"dataframe\">\n",
       "  <thead>\n",
       "    <tr style=\"text-align: right;\">\n",
       "      <th></th>\n",
       "      <th>black_tot</th>\n",
       "      <th>white_tot</th>\n",
       "      <th>tot_pop</th>\n",
       "    </tr>\n",
       "    <tr>\n",
       "      <th>non_crime_effect_quantile</th>\n",
       "      <th></th>\n",
       "      <th></th>\n",
       "      <th></th>\n",
       "    </tr>\n",
       "  </thead>\n",
       "  <tbody>\n",
       "    <tr>\n",
       "      <th>lowest effect</th>\n",
       "      <td>3.3</td>\n",
       "      <td>10.0</td>\n",
       "      <td>8.6</td>\n",
       "    </tr>\n",
       "    <tr>\n",
       "      <th>middle low</th>\n",
       "      <td>0.6</td>\n",
       "      <td>3.8</td>\n",
       "      <td>3.2</td>\n",
       "    </tr>\n",
       "    <tr>\n",
       "      <th>median</th>\n",
       "      <td>11.6</td>\n",
       "      <td>22.2</td>\n",
       "      <td>21.0</td>\n",
       "    </tr>\n",
       "    <tr>\n",
       "      <th>middle high</th>\n",
       "      <td>3.7</td>\n",
       "      <td>13.6</td>\n",
       "      <td>11.6</td>\n",
       "    </tr>\n",
       "    <tr>\n",
       "      <th>highest effect</th>\n",
       "      <td>80.8</td>\n",
       "      <td>50.4</td>\n",
       "      <td>55.6</td>\n",
       "    </tr>\n",
       "  </tbody>\n",
       "</table>\n",
       "</div>"
      ],
      "text/plain": [
       "                           black_tot  white_tot  tot_pop\n",
       "non_crime_effect_quantile                               \n",
       "lowest effect                    3.3       10.0      8.6\n",
       "middle low                       0.6        3.8      3.2\n",
       "median                          11.6       22.2     21.0\n",
       "middle high                      3.7       13.6     11.6\n",
       "highest effect                  80.8       50.4     55.6"
      ]
     },
     "execution_count": 11,
     "metadata": {},
     "output_type": "execute_result"
    }
   ],
   "source": [
    "gdf_groupby_quantiles = gdf.groupby(\"non_crime_effect_quantile\", observed=False)[\n",
    "    QUANTILE_GROUP_BY_COLS\n",
    "].sum()\n",
    "column_sums = gdf_groupby_quantiles.sum(axis=0)\n",
    "df_non_crime_distribution = prptn_to_pct(gdf_groupby_quantiles.div(column_sums, axis=1), 3)\n",
    "df_non_crime_distribution"
   ]
  },
  {
   "cell_type": "code",
   "execution_count": 16,
   "id": "3ef86e29-df24-40fa-9ce8-75fbf50081d4",
   "metadata": {},
   "outputs": [
    {
     "data": {
      "text/html": [
       "<div>\n",
       "<style scoped>\n",
       "    .dataframe tbody tr th:only-of-type {\n",
       "        vertical-align: middle;\n",
       "    }\n",
       "\n",
       "    .dataframe tbody tr th {\n",
       "        vertical-align: top;\n",
       "    }\n",
       "\n",
       "    .dataframe thead th {\n",
       "        text-align: right;\n",
       "    }\n",
       "</style>\n",
       "<table border=\"1\" class=\"dataframe\">\n",
       "  <thead>\n",
       "    <tr style=\"text-align: right;\">\n",
       "      <th></th>\n",
       "      <th>black_tot</th>\n",
       "      <th>white_tot</th>\n",
       "      <th>tot_pop</th>\n",
       "    </tr>\n",
       "    <tr>\n",
       "      <th>non_crime_effect_quantile</th>\n",
       "      <th></th>\n",
       "      <th></th>\n",
       "      <th></th>\n",
       "    </tr>\n",
       "  </thead>\n",
       "  <tbody>\n",
       "    <tr>\n",
       "      <th>lowest effect</th>\n",
       "      <td>-7.9</td>\n",
       "      <td>-13.9</td>\n",
       "      <td>-13.3</td>\n",
       "    </tr>\n",
       "    <tr>\n",
       "      <th>middle low</th>\n",
       "      <td>-2.4</td>\n",
       "      <td>-2.5</td>\n",
       "      <td>-2.7</td>\n",
       "    </tr>\n",
       "    <tr>\n",
       "      <th>median</th>\n",
       "      <td>2.8</td>\n",
       "      <td>2.5</td>\n",
       "      <td>2.9</td>\n",
       "    </tr>\n",
       "    <tr>\n",
       "      <th>middle high</th>\n",
       "      <td>2.8</td>\n",
       "      <td>4.5</td>\n",
       "      <td>4.2</td>\n",
       "    </tr>\n",
       "    <tr>\n",
       "      <th>highest effect</th>\n",
       "      <td>4.7</td>\n",
       "      <td>9.3</td>\n",
       "      <td>8.9</td>\n",
       "    </tr>\n",
       "  </tbody>\n",
       "</table>\n",
       "</div>"
      ],
      "text/plain": [
       "                           black_tot  white_tot  tot_pop\n",
       "non_crime_effect_quantile                               \n",
       "lowest effect                   -7.9      -13.9    -13.3\n",
       "middle low                      -2.4       -2.5     -2.7\n",
       "median                           2.8        2.5      2.9\n",
       "middle high                      2.8        4.5      4.2\n",
       "highest effect                   4.7        9.3      8.9"
      ]
     },
     "execution_count": 16,
     "metadata": {},
     "output_type": "execute_result"
    }
   ],
   "source": [
    "df_diff = (df_non_crime_distribution - df_distribution)\n",
    "df_diff"
   ]
  },
  {
   "cell_type": "code",
   "execution_count": null,
   "id": "ca2a95e2-3075-4ce1-87af-11c9ffefb344",
   "metadata": {},
   "outputs": [],
   "source": []
  }
 ],
 "metadata": {
  "kernelspec": {
   "display_name": "Python 3 (ipykernel)",
   "language": "python",
   "name": "python3"
  },
  "language_info": {
   "codemirror_mode": {
    "name": "ipython",
    "version": 3
   },
   "file_extension": ".py",
   "mimetype": "text/x-python",
   "name": "python",
   "nbconvert_exporter": "python",
   "pygments_lexer": "ipython3",
   "version": "3.11.9"
  }
 },
 "nbformat": 4,
 "nbformat_minor": 5
}
