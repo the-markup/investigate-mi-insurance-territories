{
 "cells": [
  {
   "cell_type": "markdown",
   "id": "85d49369-2e88-472b-92b3-3c0c6170615d",
   "metadata": {},
   "source": [
    "# Allstate analysis\n",
    "\n",
    "Author: Mo Al Elew\n",
    "\n",
    "**What notebook does/produces:**\n",
    "\n",
    "Replicates and fact checks all the data findings used in publication\n",
    "\n",
    "**Approach:**\n",
    "\n",
    "The general pattern includes:\n",
    "1. Quote the relevant text\n",
    "2. Determine asserted figure to reproduce\n",
    "3. Run the operations to reproduce relevant figure\n",
    "4. Assert expected value against actual value\n",
    "5. Print the relevant text with the actual value templated in\n",
    "\n",
    "Some findings cannot be directly tested using an assertion against a single value. In those cases, I display the relevant data slice, chart, or other presentation."
   ]
  },
  {
   "cell_type": "code",
   "execution_count": 1,
   "id": "f9d37e68-6e03-4bed-9efa-e82f76900735",
   "metadata": {
    "tags": []
   },
   "outputs": [],
   "source": [
    "import math\n",
    "\n",
    "import geopandas as gpd\n",
    "import matplotlib.pyplot as plt\n",
    "import numpy as np\n",
    "import pandas as pd\n",
    "import seaborn as sns\n",
    "from sklearn.neighbors import NearestNeighbors"
   ]
  },
  {
   "cell_type": "markdown",
   "id": "05d4c77f-c022-410d-b5eb-6008029452eb",
   "metadata": {},
   "source": [
    "# Constants and helper functions"
   ]
  },
  {
   "cell_type": "code",
   "execution_count": 2,
   "id": "7897f4b9-462b-4d1a-9d6d-1196339d9ca4",
   "metadata": {
    "tags": []
   },
   "outputs": [],
   "source": [
    "INSURER = \"Allstate\"\n",
    "DATA_FP = \"./outputs/allstate_auto_gis.geojson\"\n",
    "\n",
    "ZCTA_GIS_FP = \"../01_demographics/outputs/zcta_demographics_map.geojson\"\n",
    "TRACT_GIS_FP = \"../01_demographics/outputs/tract_demographics_map.geojson\"\n",
    "\n",
    "RATE_TABLE_FP = \"./outputs/allstate_auto.csv\"\n",
    "COLS_TO_READ = [\n",
    "    \"company\",\n",
    "    \"vehicle_type\",\n",
    "    \"geography_type\",\n",
    "    \"geography_factor_id\",\n",
    "    \"latitude\",\n",
    "    \"longitude\",\n",
    "    \"generic_location_based_premium\",\n",
    "]\n",
    "\n",
    "PREREFORM_DATA_FP = \"../09_pre_reform/allstate/outputs/allstate_auto_gis.geojson\""
   ]
  },
  {
   "cell_type": "code",
   "execution_count": 3,
   "id": "6bf7a421-0547-4f9b-9abe-38bf6e9905d5",
   "metadata": {},
   "outputs": [],
   "source": [
    "PROJECTED_CRS = \"EPSG:3078\"\n",
    "GEOGRAPHIC_CRS = \"EPSG:3857\""
   ]
  },
  {
   "cell_type": "code",
   "execution_count": 4,
   "id": "b18c6d4f-559e-4b5c-b2c1-cf9a6ad037cb",
   "metadata": {},
   "outputs": [],
   "source": [
    "RATE_Q_LABELS = [\n",
    "    \"lowest effect\",\n",
    "    \"middle low\",\n",
    "    \"median\",\n",
    "    \"middle high\",\n",
    "    \"highest effect\",\n",
    "]\n",
    "INCOME_Q_LABELS = [\n",
    "    \"lowest income\",\n",
    "    \"middle low\",\n",
    "    \"median\",\n",
    "    \"middle high\",\n",
    "    \"highest income\",\n",
    "]\n",
    "\n",
    "QUANTILE_ANALYSIS_COLS = [\n",
    "    \"geo_id\",\n",
    "    \"geo_name\",\n",
    "    \"total_pop\",\n",
    "    \"white_tot\",\n",
    "    \"black_tot\",\n",
    "    \"generic_location_based_premium\",\n",
    "    \"effect_quantile\",\n",
    "]\n",
    "\n",
    "DENSITY_Q_LABELS = [\n",
    "    \"lowest density\",\n",
    "    \"middle low\",\n",
    "    \"median\",\n",
    "    \"middle high\",\n",
    "    \"highest density\",\n",
    "]\n",
    "\n",
    "GEOID_GROUP_BY_COLS = [\n",
    "    \"generic_location_based_premium\",\n",
    "    \"white_tot\",\n",
    "    \"black_tot\",\n",
    "    \"total_pop\",\n",
    "    \"density\",\n",
    "    \"median_income\",\n",
    "]\n",
    "\n",
    "QUANTILE_GROUP_BY_COLS = [\"black_tot\", \"white_tot\", \"total_pop\"]\n",
    "\n",
    "TRACT_COLS = [\n",
    "    \"geo_id\",\n",
    "    \"geo_name\",\n",
    "    \"total_pop\",\n",
    "    \"geometry\",\n",
    "]\n",
    "RATE_EFFECT_COLUMNS = [\n",
    "    \"generic_location_based_premium\",\n",
    "    \"location_effect\",\n",
    "    \"geometry\",\n",
    "]"
   ]
  },
  {
   "cell_type": "code",
   "execution_count": 5,
   "id": "cbbdb386-fe0b-439c-8adb-cf1c967d60a7",
   "metadata": {
    "tags": []
   },
   "outputs": [],
   "source": [
    "%run ../00_misc/helper-func-notebook.ipynb"
   ]
  },
  {
   "cell_type": "code",
   "execution_count": 6,
   "id": "91b28d6f-bf75-4567-b7ea-91f851451691",
   "metadata": {
    "tags": []
   },
   "outputs": [],
   "source": [
    "def round_half_up(n, decimals=0):\n",
    "    multiplier = 10**decimals\n",
    "    return math.floor(n * multiplier + 0.5) / multiplier\n",
    "\n",
    "\n",
    "def prptn_to_pct(val, precision=3):\n",
    "    return round(val, precision) * 100\n",
    "\n",
    "\n",
    "# adaptted from: https://stackabuse.com/calculating-spearmans-rank-correlation-coefficient-in-python-with-pandas/\n",
    "def display_correlation(df, method=\"pearson\"):\n",
    "    r = df.corr(method=method)\n",
    "    plt.figure(figsize=(10, 6))\n",
    "    heatmap = sns.heatmap(r, vmin=-1, vmax=1, annot=True)\n",
    "    plt.title(f\"{method} correlation\")\n",
    "    return r\n",
    "\n",
    "\n",
    "def plot_data_corr(df, title, color=\"green\"):\n",
    "    r = display_correlation(df)\n",
    "    fig, ax = plt.subplots(nrows=1, ncols=len(df.columns) - 1, figsize=(14, 3))\n",
    "    for i in range(1, len(df.columns)):\n",
    "        ax[i - 1].scatter(df[\"X\"], df.values[:, i], color=color)\n",
    "        ax[i - 1].title.set_text(title[i] + \"\\n r = \" + \"{:.2f}\".format(r.values[0, i]))\n",
    "        ax[i - 1].set(xlabel=df.columns[0], ylabel=df.columns[i])\n",
    "    fig.subplots_adjust(wspace=0.7)\n",
    "    plt.show()\n",
    "\n",
    "\n",
    "def google_maps_lat_lon(latitude, longitude, zoom_level=12):\n",
    "    return (\n",
    "        f\"https://maps.google.com/maps?z={zoom_level}&t=m&q=loc:{latitude}+{longitude}\"\n",
    "    )\n",
    "\n",
    "\n",
    "def google_maps_coords(coords_shapely):\n",
    "    return google_maps_lat_lon(coords_shapely.y, coords_shapely.x)"
   ]
  },
  {
   "cell_type": "code",
   "execution_count": 7,
   "id": "12bc7329-9440-4596-9bd0-5963e115541d",
   "metadata": {},
   "outputs": [],
   "source": [
    "NEAREST_NEIGHBOR_COUNT = 8\n",
    "\n",
    "\n",
    "def n_nearest_neighbors(df, n_neighbors):\n",
    "    # 2d numpy array of the coordinates\n",
    "    coords = np.array(df.geometry.map(lambda p: [p.x, p.y]).tolist())\n",
    "\n",
    "    # \"train\"/initialize the NearestNeighbors model\n",
    "    # NOTE: N_NEIGHBORS + 1 since we are dropping the nearest point\n",
    "    #       (which is each point itself with distance 0)\n",
    "    knn = NearestNeighbors(n_neighbors=n_neighbors + 1, algorithm=\"kd_tree\").fit(coords)\n",
    "    # retrieve neighbors (distance and index)\n",
    "    knn_dist, knn_idx = knn.kneighbors(coords)\n",
    "\n",
    "    # add results to dataframe:\n",
    "    df[list(map(\"NEIGHBOR_{}\".format, range(1, n_neighbors + 1)))] = (\n",
    "        df.geometry.values.to_numpy()[knn_idx[:, 1:]]\n",
    "    )\n",
    "    rate_cols = list(map(\"NEIGHBOR_RATE_{}\".format, range(1, n_neighbors + 1)))\n",
    "    df[rate_cols] = df[\"generic_location_based_premium\"].to_numpy()[knn_idx[:, 1:]]\n",
    "\n",
    "    geo_id_cols = list(map(\"NEIGHBOR_GEO_ID_{}\".format, range(1, n_neighbors + 1)))\n",
    "    neighbor_geo_id = df[\"geo_id\"].to_numpy()[knn_idx[:, 1:]]\n",
    "    df[\"neighbors_geo_id\"] = [set(i) for i in neighbor_geo_id]\n",
    "\n",
    "    for idx, col in enumerate(rate_cols):\n",
    "        df[f\"NEIGHBOR_DIV_{idx+1}\"] = df[\"generic_location_based_premium\"] / df[col]"
   ]
  },
  {
   "cell_type": "markdown",
   "id": "fcccc975-809c-4c2b-916c-676c514ef153",
   "metadata": {},
   "source": [
    "# Read data"
   ]
  },
  {
   "cell_type": "code",
   "execution_count": 8,
   "id": "75f00421-8259-404c-9090-1efe2d9d2d09",
   "metadata": {},
   "outputs": [],
   "source": [
    "GDF_CLEAN_DATA = gpd.read_file(\"./outputs/allstate_auto_clean.geojson\")"
   ]
  },
  {
   "cell_type": "markdown",
   "id": "2267ac4d-d0a7-4acf-a67a-79a22710916c",
   "metadata": {},
   "source": [
    "# Preprocess"
   ]
  },
  {
   "cell_type": "markdown",
   "id": "c526c8fd-2b16-48ab-ba48-a96cc1d810e1",
   "metadata": {},
   "source": [
    "Points falling outside a ZCTA largely fell within nature preservers or parks"
   ]
  },
  {
   "cell_type": "code",
   "execution_count": 9,
   "id": "a7c584b5-c2d9-46ac-9ed6-7c3d4dcdff15",
   "metadata": {
    "tags": []
   },
   "outputs": [
    {
     "name": "stdout",
     "output_type": "stream",
     "text": [
      "Dropping 1052 points\n"
     ]
    }
   ],
   "source": [
    "is_outside_zip_bounds = GDF_CLEAN_DATA[\"geo_id\"].isna()\n",
    "print(f\"Dropping {is_outside_zip_bounds.sum()} points\")\n",
    "\n",
    "gdf = GDF_CLEAN_DATA[~is_outside_zip_bounds].copy()\n",
    "gdf[\"white_pct\"] = gdf[\"white_pct\"].astype(float)\n",
    "gdf[\"black_pct\"] = gdf[\"black_pct\"].astype(float)\n",
    "gdf[\"median_income\"] = gdf[\"median_income\"].astype(float)"
   ]
  },
  {
   "cell_type": "code",
   "execution_count": 10,
   "id": "e05304a7-ff1d-4129-8742-b28dbc0eefab",
   "metadata": {
    "tags": []
   },
   "outputs": [],
   "source": [
    "assert (gdf[\"white_pct\"] > 1).any()\n",
    "gdf[\"is_maj_white\"] = gdf[\"white_pct\"] > 49\n",
    "gdf[\"is_maj_black\"] = gdf[\"black_pct\"] > 49"
   ]
  },
  {
   "cell_type": "code",
   "execution_count": 11,
   "id": "b06eb4af-8a93-4716-a414-74c2f93b4d4d",
   "metadata": {},
   "outputs": [
    {
     "data": {
      "text/plain": [
       "6955.52"
      ]
     },
     "execution_count": 11,
     "metadata": {},
     "output_type": "execute_result"
    }
   ],
   "source": [
    "state_median_rate = gdf[\"generic_location_based_premium\"].median()\n",
    "state_median_rate"
   ]
  },
  {
   "cell_type": "markdown",
   "id": "a5197068-2f4d-4b49-b24d-6e5549987b3e",
   "metadata": {},
   "source": [
    "# Topline"
   ]
  },
  {
   "cell_type": "markdown",
   "id": "d7926591-89ef-4b13-aaa2-19b2ba740c61",
   "metadata": {},
   "source": [
    "## Gridded plane size\n",
    "\n",
    "> Allstate divided Michigan into a grid of 78,015 territories for its location-fixed base rates."
   ]
  },
  {
   "cell_type": "code",
   "execution_count": 12,
   "id": "8d078b14-5802-4a09-88e4-d8916edeea45",
   "metadata": {},
   "outputs": [
    {
     "name": "stdout",
     "output_type": "stream",
     "text": [
      "Allstate divided the state into a gridded plane with 78015 units for its geography-based base rates and factors.\n"
     ]
    }
   ],
   "source": [
    "GRID_SIZE_ASSERTION = 78015\n",
    "GDF_DATA = gpd.read_file(DATA_FP)\n",
    "GDF_DATA = GDF_DATA.dropna(how=\"all\", axis=1)\n",
    "grid_count = GDF_DATA[\"geography_factor_id\"].nunique()\n",
    "assert GRID_SIZE_ASSERTION == grid_count\n",
    "print(\n",
    "    f\"Allstate divided the state into a gridded plane with {grid_count} units for its geography-based base rates and factors.\"\n",
    ")\n",
    "del GDF_DATA"
   ]
  },
  {
   "cell_type": "markdown",
   "id": "84142a95-e861-4c29-ace7-7ddcfc15d867",
   "metadata": {},
   "source": [
    "## Geography match experiment\n",
    "\n",
    "> To determine the best fit for matching demographic data on race and income, we merged each territory to the block, block group, ZCTA, census tract, and county it fell within. Blocks and block groups left over 80 percent of the state’s population without an Allstate insurance territory. Tracts left 10 percent of the population without a territory match. ZCTAs minimized the internal variation of location-adjusted base rates without removing a single populated area without a gridded rate point that did not contain an Allstate territory. Therefore, we matched Allstate’s territories to 2022 ACS demographic data by ZCTA.\n",
    "\n",
    "I rerun the experiment code for ZCTA. The other experiments can be reviewed in `00b_geography_experiment`"
   ]
  },
  {
   "cell_type": "code",
   "execution_count": 13,
   "id": "dff01543-231a-4dc3-abc0-7fc576492ee5",
   "metadata": {},
   "outputs": [],
   "source": [
    "DF_GRID = pd.read_csv(RATE_TABLE_FP, usecols=COLS_TO_READ)\n",
    "\n",
    "GDF_ZCTA = gpd.read_file(ZCTA_GIS_FP)\n",
    "GDF_ZCTA = GDF_ZCTA[GDF_ZCTA[\"total_pop\"] > 0]\n",
    "\n",
    "gdf_rate_table = gpd.GeoDataFrame(\n",
    "    DF_GRID,\n",
    "    geometry=gpd.points_from_xy(DF_GRID[\"longitude\"], DF_GRID[\"latitude\"]),\n",
    ")"
   ]
  },
  {
   "cell_type": "code",
   "execution_count": 14,
   "id": "a49c1897-50a2-4dc3-acc7-50d6d1785d81",
   "metadata": {},
   "outputs": [
    {
     "name": "stderr",
     "output_type": "stream",
     "text": [
      "/opt/conda/lib/python3.11/site-packages/geopandas/geodataframe.py:2195: UserWarning: CRS mismatch between the CRS of left geometries and the CRS of right geometries.\n",
      "Use `to_crs()` to reproject one of the input geometries to match the CRS of the other.\n",
      "\n",
      "Left CRS: None\n",
      "Right CRS: EPSG:4269\n",
      "\n",
      "  return geopandas.sjoin(left_df=self, right_df=df, *args, **kwargs)  # noqa: B026\n"
     ]
    }
   ],
   "source": [
    "gdf_rate_table_zcta = gdf_rate_table.sjoin(\n",
    "    GDF_ZCTA, how=\"inner\", predicate=\"intersects\"\n",
    ")"
   ]
  },
  {
   "cell_type": "code",
   "execution_count": 15,
   "id": "81fa0c38-6ef4-4d94-b217-d68d47bd7239",
   "metadata": {},
   "outputs": [
    {
     "name": "stdout",
     "output_type": "stream",
     "text": [
      "There are 962 zctas.\n",
      "\n",
      "3.4000000000000004% of zctas contain a single gridded unit.\n",
      "\n",
      "The range of units within zcta is 1.0 to 980.0.\n",
      "\n",
      "On average, there is 80 points within a zcta.\n",
      "\n",
      "The median zcta has 53 gridded units in it.\n",
      "\n",
      "The largest location rate range within a single zcta is 6704.759999999999 among 92.0 units in 860Z200US48111.\n",
      "\n",
      "The largest location rate variance within a single zcta is 3025803.0 among 38.0 units in 860Z200US48164.\n",
      "\n"
     ]
    },
    {
     "data": {
      "text/html": [
       "<div>\n",
       "<style scoped>\n",
       "    .dataframe tbody tr th:only-of-type {\n",
       "        vertical-align: middle;\n",
       "    }\n",
       "\n",
       "    .dataframe tbody tr th {\n",
       "        vertical-align: top;\n",
       "    }\n",
       "\n",
       "    .dataframe thead th {\n",
       "        text-align: right;\n",
       "    }\n",
       "</style>\n",
       "<table border=\"1\" class=\"dataframe\">\n",
       "  <thead>\n",
       "    <tr style=\"text-align: right;\">\n",
       "      <th></th>\n",
       "      <th>count</th>\n",
       "      <th>mean</th>\n",
       "      <th>std</th>\n",
       "      <th>min</th>\n",
       "      <th>25%</th>\n",
       "      <th>50%</th>\n",
       "      <th>75%</th>\n",
       "      <th>max</th>\n",
       "      <th>var</th>\n",
       "      <th>range</th>\n",
       "    </tr>\n",
       "    <tr>\n",
       "      <th>geo_id</th>\n",
       "      <th></th>\n",
       "      <th></th>\n",
       "      <th></th>\n",
       "      <th></th>\n",
       "      <th></th>\n",
       "      <th></th>\n",
       "      <th></th>\n",
       "      <th></th>\n",
       "      <th></th>\n",
       "      <th></th>\n",
       "    </tr>\n",
       "  </thead>\n",
       "  <tbody>\n",
       "    <tr>\n",
       "      <th>860Z200US48001</th>\n",
       "      <td>34.0</td>\n",
       "      <td>9822.955294</td>\n",
       "      <td>343.541697</td>\n",
       "      <td>9151.86</td>\n",
       "      <td>9905.110</td>\n",
       "      <td>10012.12</td>\n",
       "      <td>10012.12</td>\n",
       "      <td>10012.12</td>\n",
       "      <td>118021.0</td>\n",
       "      <td>860.26</td>\n",
       "    </tr>\n",
       "    <tr>\n",
       "      <th>860Z200US48002</th>\n",
       "      <td>48.0</td>\n",
       "      <td>10388.173750</td>\n",
       "      <td>62.322931</td>\n",
       "      <td>10195.22</td>\n",
       "      <td>10331.025</td>\n",
       "      <td>10423.62</td>\n",
       "      <td>10423.62</td>\n",
       "      <td>10423.62</td>\n",
       "      <td>3884.0</td>\n",
       "      <td>228.40</td>\n",
       "    </tr>\n",
       "    <tr>\n",
       "      <th>860Z200US48003</th>\n",
       "      <td>46.0</td>\n",
       "      <td>10800.354783</td>\n",
       "      <td>172.264460</td>\n",
       "      <td>10270.14</td>\n",
       "      <td>10782.575</td>\n",
       "      <td>10888.74</td>\n",
       "      <td>10888.74</td>\n",
       "      <td>10926.26</td>\n",
       "      <td>29675.0</td>\n",
       "      <td>656.12</td>\n",
       "    </tr>\n",
       "    <tr>\n",
       "      <th>860Z200US48005</th>\n",
       "      <td>48.0</td>\n",
       "      <td>10440.588333</td>\n",
       "      <td>99.344751</td>\n",
       "      <td>10132.12</td>\n",
       "      <td>10462.520</td>\n",
       "      <td>10482.34</td>\n",
       "      <td>10482.34</td>\n",
       "      <td>10482.34</td>\n",
       "      <td>9869.0</td>\n",
       "      <td>350.22</td>\n",
       "    </tr>\n",
       "    <tr>\n",
       "      <th>860Z200US48006</th>\n",
       "      <td>91.0</td>\n",
       "      <td>10241.176484</td>\n",
       "      <td>64.962782</td>\n",
       "      <td>9814.08</td>\n",
       "      <td>10262.700</td>\n",
       "      <td>10262.70</td>\n",
       "      <td>10262.70</td>\n",
       "      <td>10262.70</td>\n",
       "      <td>4220.0</td>\n",
       "      <td>448.62</td>\n",
       "    </tr>\n",
       "    <tr>\n",
       "      <th>...</th>\n",
       "      <td>...</td>\n",
       "      <td>...</td>\n",
       "      <td>...</td>\n",
       "      <td>...</td>\n",
       "      <td>...</td>\n",
       "      <td>...</td>\n",
       "      <td>...</td>\n",
       "      <td>...</td>\n",
       "      <td>...</td>\n",
       "      <td>...</td>\n",
       "    </tr>\n",
       "    <tr>\n",
       "      <th>860Z200US49968</th>\n",
       "      <td>359.0</td>\n",
       "      <td>7900.201170</td>\n",
       "      <td>28.349048</td>\n",
       "      <td>7529.32</td>\n",
       "      <td>7899.280</td>\n",
       "      <td>7899.28</td>\n",
       "      <td>7899.28</td>\n",
       "      <td>8221.02</td>\n",
       "      <td>804.0</td>\n",
       "      <td>691.70</td>\n",
       "    </tr>\n",
       "    <tr>\n",
       "      <th>860Z200US49969</th>\n",
       "      <td>393.0</td>\n",
       "      <td>8593.669415</td>\n",
       "      <td>22.706648</td>\n",
       "      <td>8420.26</td>\n",
       "      <td>8594.520</td>\n",
       "      <td>8594.52</td>\n",
       "      <td>8594.52</td>\n",
       "      <td>8660.22</td>\n",
       "      <td>516.0</td>\n",
       "      <td>239.96</td>\n",
       "    </tr>\n",
       "    <tr>\n",
       "      <th>860Z200US49970</th>\n",
       "      <td>122.0</td>\n",
       "      <td>7020.180656</td>\n",
       "      <td>550.608527</td>\n",
       "      <td>6112.84</td>\n",
       "      <td>6265.930</td>\n",
       "      <td>7375.84</td>\n",
       "      <td>7375.84</td>\n",
       "      <td>7417.90</td>\n",
       "      <td>303170.0</td>\n",
       "      <td>1305.06</td>\n",
       "    </tr>\n",
       "    <tr>\n",
       "      <th>860Z200US49971</th>\n",
       "      <td>30.0</td>\n",
       "      <td>8858.729333</td>\n",
       "      <td>292.181679</td>\n",
       "      <td>8189.74</td>\n",
       "      <td>8911.495</td>\n",
       "      <td>9013.92</td>\n",
       "      <td>9013.92</td>\n",
       "      <td>9013.92</td>\n",
       "      <td>85370.0</td>\n",
       "      <td>824.18</td>\n",
       "    </tr>\n",
       "    <tr>\n",
       "      <th>860Z200US54540</th>\n",
       "      <td>1.0</td>\n",
       "      <td>8594.520000</td>\n",
       "      <td>NaN</td>\n",
       "      <td>8594.52</td>\n",
       "      <td>8594.520</td>\n",
       "      <td>8594.52</td>\n",
       "      <td>8594.52</td>\n",
       "      <td>8594.52</td>\n",
       "      <td>NaN</td>\n",
       "      <td>0.00</td>\n",
       "    </tr>\n",
       "  </tbody>\n",
       "</table>\n",
       "<p>962 rows × 10 columns</p>\n",
       "</div>"
      ],
      "text/plain": [
       "                count          mean         std       min        25%  \\\n",
       "geo_id                                                                 \n",
       "860Z200US48001   34.0   9822.955294  343.541697   9151.86   9905.110   \n",
       "860Z200US48002   48.0  10388.173750   62.322931  10195.22  10331.025   \n",
       "860Z200US48003   46.0  10800.354783  172.264460  10270.14  10782.575   \n",
       "860Z200US48005   48.0  10440.588333   99.344751  10132.12  10462.520   \n",
       "860Z200US48006   91.0  10241.176484   64.962782   9814.08  10262.700   \n",
       "...               ...           ...         ...       ...        ...   \n",
       "860Z200US49968  359.0   7900.201170   28.349048   7529.32   7899.280   \n",
       "860Z200US49969  393.0   8593.669415   22.706648   8420.26   8594.520   \n",
       "860Z200US49970  122.0   7020.180656  550.608527   6112.84   6265.930   \n",
       "860Z200US49971   30.0   8858.729333  292.181679   8189.74   8911.495   \n",
       "860Z200US54540    1.0   8594.520000         NaN   8594.52   8594.520   \n",
       "\n",
       "                     50%       75%       max       var    range  \n",
       "geo_id                                                           \n",
       "860Z200US48001  10012.12  10012.12  10012.12  118021.0   860.26  \n",
       "860Z200US48002  10423.62  10423.62  10423.62    3884.0   228.40  \n",
       "860Z200US48003  10888.74  10888.74  10926.26   29675.0   656.12  \n",
       "860Z200US48005  10482.34  10482.34  10482.34    9869.0   350.22  \n",
       "860Z200US48006  10262.70  10262.70  10262.70    4220.0   448.62  \n",
       "...                  ...       ...       ...       ...      ...  \n",
       "860Z200US49968   7899.28   7899.28   8221.02     804.0   691.70  \n",
       "860Z200US49969   8594.52   8594.52   8660.22     516.0   239.96  \n",
       "860Z200US49970   7375.84   7375.84   7417.90  303170.0  1305.06  \n",
       "860Z200US49971   9013.92   9013.92   9013.92   85370.0   824.18  \n",
       "860Z200US54540   8594.52   8594.52   8594.52       NaN     0.00  \n",
       "\n",
       "[962 rows x 10 columns]"
      ]
     },
     "execution_count": 15,
     "metadata": {},
     "output_type": "execute_result"
    }
   ],
   "source": [
    "def generate_report(gdf_geo_merged, geography=\"geographic unit\", groupby=\"geo_id\"):\n",
    "    geography_count = gdf_geo_merged[\"geo_id\"].nunique()\n",
    "    gdf_point_summary = gdf_geo_merged.groupby(groupby)[\n",
    "        \"generic_location_based_premium\"\n",
    "    ].describe()\n",
    "    gdf_point_summary[\"var\"] = round(\n",
    "        gdf_geo_merged.groupby(groupby)[\"generic_location_based_premium\"].var()\n",
    "    )\n",
    "    gdf_point_summary[\"range\"] = gdf_point_summary[\"max\"] - gdf_point_summary[\"min\"]\n",
    "\n",
    "    avg_count = round(gdf_point_summary[\"count\"].mean())\n",
    "    med_count = round(gdf_point_summary[\"count\"].median())\n",
    "    value_count = gdf_point_summary[\"count\"].value_counts()\n",
    "    single_point_tract_pct = (\n",
    "        round(value_count[1] / len(gdf_point_summary.index), 3) * 100\n",
    "    )\n",
    "\n",
    "    largest_intra_unit_range = gdf_point_summary[\n",
    "        gdf_point_summary[\"range\"] == gdf_point_summary[\"range\"].max()\n",
    "    ].iloc[0]\n",
    "    largest_intra_unit_range_val = gdf_point_summary[\"range\"].max()\n",
    "    largest_intra_unit_range_count = largest_intra_unit_range[\"count\"]\n",
    "    largest_intra_unit_range_name = largest_intra_unit_range.name\n",
    "\n",
    "    largest_intra_unit_var = gdf_point_summary[\n",
    "        gdf_point_summary[\"var\"] == gdf_point_summary[\"var\"].max()\n",
    "    ].iloc[0]\n",
    "    largest_intra_unit_var_val = gdf_point_summary[\"var\"].max()\n",
    "    largest_intra_unit_var_count = largest_intra_unit_var[\"count\"]\n",
    "    largest_intra_unit_var_name = largest_intra_unit_var.name\n",
    "\n",
    "    print(f\"There are {geography_count} {geography}s.\\n\")\n",
    "    print(f\"{single_point_tract_pct}% of {geography}s contain a single gridded unit.\\n\")\n",
    "    print(\n",
    "        f\"The range of units within {geography} is {gdf_point_summary['count'].min()} to {gdf_point_summary['count'].max()}.\\n\"\n",
    "    )\n",
    "    print(f\"On average, there is {avg_count} points within a {geography}.\\n\")\n",
    "    print(f\"The median {geography} has {med_count} gridded units in it.\\n\")\n",
    "    print(\n",
    "        f\"The largest location rate range within a single {geography} is {largest_intra_unit_range_val} among {largest_intra_unit_range_count} units in {largest_intra_unit_range_name}.\\n\"\n",
    "    )\n",
    "    print(\n",
    "        f\"The largest location rate variance within a single {geography} is {largest_intra_unit_var_val} among {largest_intra_unit_var_count} units in {largest_intra_unit_var_name}.\\n\"\n",
    "    )\n",
    "    return gdf_point_summary\n",
    "\n",
    "\n",
    "zcta_summary = generate_report(gdf_rate_table_zcta, \"zcta\")\n",
    "zcta_summary"
   ]
  },
  {
   "cell_type": "markdown",
   "id": "1fde4f3a-b9d7-440e-a8b1-07d16e9117ca",
   "metadata": {},
   "source": [
    "# Prereform\n",
    "\n",
    "> Before the 2019 reform that prohibited the practice, Allstate divided Michigan by zip code in its location-fixed base rates. Pre-reform, about one in four residents lived in the top quintile. This included 67 percent of Black Michiganders and 19 percent of White Michiganders."
   ]
  },
  {
   "cell_type": "code",
   "execution_count": 16,
   "id": "706e4ebe-493d-41d3-8d76-e961eada5dca",
   "metadata": {},
   "outputs": [],
   "source": [
    "GDF_PREREFORM_DATA = gpd.read_file(PREREFORM_DATA_FP)\n",
    "geographic_crs = GDF_PREREFORM_DATA.crs\n",
    "GDF_PREREFORM_DATA[\"density\"] = (\n",
    "    GDF_PREREFORM_DATA[\"tot_pop\"] / GDF_PREREFORM_DATA.to_crs(PROJECTED_CRS).area\n",
    ")\n",
    "zcta_len = int(GDF_PREREFORM_DATA[\"geo_id\"].str.len()[0])"
   ]
  },
  {
   "cell_type": "code",
   "execution_count": 17,
   "id": "7d52d186-e275-413e-99d0-970990209538",
   "metadata": {
    "scrolled": true
   },
   "outputs": [
    {
     "data": {
      "text/html": [
       "<div>\n",
       "<style scoped>\n",
       "    .dataframe tbody tr th:only-of-type {\n",
       "        vertical-align: middle;\n",
       "    }\n",
       "\n",
       "    .dataframe tbody tr th {\n",
       "        vertical-align: top;\n",
       "    }\n",
       "\n",
       "    .dataframe thead th {\n",
       "        text-align: right;\n",
       "    }\n",
       "</style>\n",
       "<table border=\"1\" class=\"dataframe\">\n",
       "  <thead>\n",
       "    <tr style=\"text-align: right;\">\n",
       "      <th></th>\n",
       "      <th>black_tot</th>\n",
       "      <th>white_tot</th>\n",
       "      <th>tot_pop</th>\n",
       "    </tr>\n",
       "    <tr>\n",
       "      <th>effect_quantile</th>\n",
       "      <th></th>\n",
       "      <th></th>\n",
       "      <th></th>\n",
       "    </tr>\n",
       "  </thead>\n",
       "  <tbody>\n",
       "    <tr>\n",
       "      <th>lowest effect</th>\n",
       "      <td>9.3</td>\n",
       "      <td>24.8</td>\n",
       "      <td>22.6</td>\n",
       "    </tr>\n",
       "    <tr>\n",
       "      <th>middle low</th>\n",
       "      <td>9.2</td>\n",
       "      <td>17.4</td>\n",
       "      <td>16.4</td>\n",
       "    </tr>\n",
       "    <tr>\n",
       "      <th>median</th>\n",
       "      <td>3.6</td>\n",
       "      <td>12.3</td>\n",
       "      <td>10.8</td>\n",
       "    </tr>\n",
       "    <tr>\n",
       "      <th>middle high</th>\n",
       "      <td>11.5</td>\n",
       "      <td>27.1</td>\n",
       "      <td>24.5</td>\n",
       "    </tr>\n",
       "    <tr>\n",
       "      <th>highest effect</th>\n",
       "      <td>66.5</td>\n",
       "      <td>18.5</td>\n",
       "      <td>25.8</td>\n",
       "    </tr>\n",
       "  </tbody>\n",
       "</table>\n",
       "</div>"
      ],
      "text/plain": [
       "                 black_tot  white_tot  tot_pop\n",
       "effect_quantile                               \n",
       "lowest effect          9.3       24.8     22.6\n",
       "middle low             9.2       17.4     16.4\n",
       "median                 3.6       12.3     10.8\n",
       "middle high           11.5       27.1     24.5\n",
       "highest effect        66.5       18.5     25.8"
      ]
     },
     "execution_count": 17,
     "metadata": {},
     "output_type": "execute_result"
    }
   ],
   "source": [
    "GDF_PREREFORM_DATA[\"effect_quantile\"] = pd.qcut(\n",
    "    GDF_PREREFORM_DATA[\"generic_location_based_premium\"],\n",
    "    q=len(RATE_Q_LABELS),\n",
    "    labels=RATE_Q_LABELS,\n",
    ")\n",
    "gdf_groupby_quantiles = GDF_PREREFORM_DATA.groupby(\"effect_quantile\", observed=False)[\n",
    "    [\"black_tot\", \"white_tot\", \"tot_pop\"]\n",
    "].sum()\n",
    "\n",
    "df_pre_reform_distribution = prptn_to_pct(\n",
    "    gdf_groupby_quantiles.div(gdf_groupby_quantiles.sum(axis=0), axis=1)\n",
    ")\n",
    "df_pre_reform_distribution"
   ]
  },
  {
   "cell_type": "code",
   "execution_count": 18,
   "id": "5f53f840-592b-43b0-b5f4-9d753d85a4af",
   "metadata": {},
   "outputs": [],
   "source": [
    "ASSERTED_TOTAL_POP_PCT_MIN_RANGE = 24\n",
    "ASSERTED_TOTAL_POP_PCT_MAX_RANGE = 27\n",
    "ASSERTED_BLACK_POP_PCT = 67\n",
    "ASSERTED_WHITE_POP_PCT = 19\n",
    "\n",
    "highest_effect_pop_ceil = (df_pre_reform_distribution.loc[\"highest effect\"]).apply(\n",
    "    round_half_up\n",
    ")\n",
    "assert (\n",
    "    ASSERTED_TOTAL_POP_PCT_MIN_RANGE < highest_effect_pop_ceil[\"tot_pop\"]\n",
    "    and ASSERTED_TOTAL_POP_PCT_MAX_RANGE > highest_effect_pop_ceil[\"tot_pop\"]\n",
    ")\n",
    "assert ASSERTED_BLACK_POP_PCT == highest_effect_pop_ceil[\"black_tot\"]\n",
    "assert ASSERTED_WHITE_POP_PCT == highest_effect_pop_ceil[\"white_tot\"]"
   ]
  },
  {
   "cell_type": "code",
   "execution_count": 19,
   "id": "d24f77da-4fed-4edd-9559-cc203bc234f7",
   "metadata": {},
   "outputs": [
    {
     "name": "stdout",
     "output_type": "stream",
     "text": [
      "Pre-reform, 26.0 residents lived in the top quintile.\n",
      "This included 67.0 percent of Black Michiganders and 19.0 percent of White Michiganders.\n"
     ]
    }
   ],
   "source": [
    "print(\n",
    "    f\"\"\"Pre-reform, {highest_effect_pop_ceil[\"tot_pop\"]} residents lived in the top quintile.\"\"\"\n",
    ")\n",
    "print(\n",
    "    f\"\"\"This included {highest_effect_pop_ceil[\"black_tot\"]} percent of Black Michiganders and {highest_effect_pop_ceil[\"white_tot\"]} percent of White Michiganders.\"\"\"\n",
    ")"
   ]
  },
  {
   "cell_type": "markdown",
   "id": "b45532c3-2726-45a4-b28e-e2d407457523",
   "metadata": {},
   "source": [
    "# Majority Black ZCTAs\n",
    "\n",
    "> After the reform, the median location effect for majority Black ZCTAs was 40 percent higher than the statewide median and within the top six percent of all territories. The median location effect in majority White ZCTAs was on par with the state median."
   ]
  },
  {
   "cell_type": "code",
   "execution_count": 20,
   "id": "6b4ad800-b30f-4f75-bac4-f849623d176e",
   "metadata": {},
   "outputs": [
    {
     "name": "stdout",
     "output_type": "stream",
     "text": [
      "The state median rate is 6955.52 and the median rate in majority Black zip codes is 9707.96, so 6955.52 / 9707.96\n",
      "The median location effect for majority Black ZCTAs was 1.39 times the statewide median\n"
     ]
    }
   ],
   "source": [
    "gdf_maj_black = gdf[gdf[\"is_maj_black\"]]\n",
    "maj_black_median_rate = gdf_maj_black[\"generic_location_based_premium\"].median()\n",
    "median_loc_effect_maj_black = gdf_maj_black[\n",
    "    gdf_maj_black[\"generic_location_based_premium\"] == maj_black_median_rate\n",
    "][\"location_effect\"].iloc[0]\n",
    "print(\n",
    "    f\"The state median rate is {state_median_rate} and the median rate in majority Black zip codes is {maj_black_median_rate}, so {state_median_rate} / {maj_black_median_rate}\"\n",
    ")\n",
    "print(\n",
    "    f\"The median location effect for majority Black ZCTAs was {median_loc_effect_maj_black} times the statewide median\"\n",
    ")"
   ]
  },
  {
   "cell_type": "code",
   "execution_count": 21,
   "id": "2f9be162-c91f-4bfd-9b95-dba090430d04",
   "metadata": {},
   "outputs": [
    {
     "data": {
      "text/plain": [
       "'The median location effect for majority Black ZCTAs is in the top 5.599999999999994.'"
      ]
     },
     "execution_count": 21,
     "metadata": {},
     "output_type": "execute_result"
    }
   ],
   "source": [
    "percentile = percentile_of_score(\n",
    "    maj_black_median_rate,\n",
    "    gdf[\"generic_location_based_premium\"],\n",
    ")\n",
    "top_pct = 100 - percentile\n",
    "f\"The median location effect for majority Black ZCTAs is in the top {top_pct}.\""
   ]
  },
  {
   "cell_type": "code",
   "execution_count": 22,
   "id": "0ca6acc5-f85d-471d-86ed-626ec7810420",
   "metadata": {},
   "outputs": [
    {
     "data": {
      "text/plain": [
       "'The median location effect in majority White ZCTAs is 1.0'"
      ]
     },
     "execution_count": 22,
     "metadata": {},
     "output_type": "execute_result"
    }
   ],
   "source": [
    "gdf_maj_white = gdf[gdf[\"is_maj_white\"]]\n",
    "maj_white_median_loc_effect = gdf_maj_white[\"location_effect\"].median()\n",
    "f\"The median location effect in majority White ZCTAs is {maj_white_median_loc_effect}\""
   ]
  },
  {
   "cell_type": "markdown",
   "id": "651a0c01-3e69-4b14-aec4-4ad001c9280d",
   "metadata": {},
   "source": [
    "# Rate quantiles\n",
    "\n",
    "> Thirty-four percent of Michiganders lived in a ZCTA where the typical location effect was within the top quintile of the state. Sixty-nine percent of Black residents lived in that top quintile compared to 28 percent of White residents.\n",
    "\n",
    "Since Allstate uses a gridded map, I attempt three different ways to analyze the quantiles by demographics.\n",
    "\n",
    "1. I average the generic rate for each ZCTA `geo_id` \n",
    "\n",
    "I moved the these approaches to the [appendix below](#Different_quantile_approaches)\n",
    "\n",
    "2. Drop all duplicate ZCTA `geo_id` entries within quantiles - this approach allows for the same ZCTA to appear in multiple quantiles\n",
    "3. Drop all duplicate ZCTA `geo_id` entries in each quantile retaining the one in the lowest quantile"
   ]
  },
  {
   "cell_type": "markdown",
   "id": "0ccd994d-09e9-4d6b-8cb7-291fed04d861",
   "metadata": {},
   "source": [
    "## Average rate\n",
    "\n",
    "I average the rates by geographic id to avoid double counting "
   ]
  },
  {
   "cell_type": "code",
   "execution_count": 23,
   "id": "26bba0c5-e8a6-4e93-a69b-14f52db3c23d",
   "metadata": {},
   "outputs": [],
   "source": [
    "gdf_groupby_geo_id = gdf.groupby(\"geo_id\")[GEOID_GROUP_BY_COLS].mean()\n",
    "gdf_groupby_geo_id[\"income_quantile\"] = pd.qcut(\n",
    "    gdf_groupby_geo_id[\"median_income\"],\n",
    "    q=len(INCOME_Q_LABELS),\n",
    "    labels=INCOME_Q_LABELS,\n",
    ")\n",
    "gdf_groupby_geo_id[\"effect_quantile\"] = pd.qcut(\n",
    "    gdf_groupby_geo_id[\"generic_location_based_premium\"],\n",
    "    q=len(RATE_Q_LABELS),\n",
    "    labels=RATE_Q_LABELS,\n",
    ")\n",
    "gdf_groupby_geo_id[\"effect_quantile\"] = pd.qcut(\n",
    "    gdf_groupby_geo_id[\"generic_location_based_premium\"],\n",
    "    q=len(RATE_Q_LABELS),\n",
    "    labels=RATE_Q_LABELS,\n",
    ")\n",
    "gdf_groupby_geo_id[\"density_quantile\"] = pd.qcut(\n",
    "    gdf_groupby_geo_id[\"density\"], q=len(DENSITY_Q_LABELS), labels=DENSITY_Q_LABELS\n",
    ")"
   ]
  },
  {
   "cell_type": "markdown",
   "id": "242afaa3-ad44-4487-9d8e-c1f16abc3ca4",
   "metadata": {},
   "source": [
    "This calculates (subset in quantile / total in quantile)\n",
    "\n",
    "For example: TK% of people living in a top quarter of rates are Black."
   ]
  },
  {
   "cell_type": "code",
   "execution_count": 24,
   "id": "69d4cc7a-c251-4f7e-8159-3a1376cfce6d",
   "metadata": {},
   "outputs": [
    {
     "name": "stdout",
     "output_type": "stream",
     "text": [
      "This calculates (group subset in quantile / total group population)\n"
     ]
    },
    {
     "data": {
      "text/html": [
       "<div>\n",
       "<style scoped>\n",
       "    .dataframe tbody tr th:only-of-type {\n",
       "        vertical-align: middle;\n",
       "    }\n",
       "\n",
       "    .dataframe tbody tr th {\n",
       "        vertical-align: top;\n",
       "    }\n",
       "\n",
       "    .dataframe thead th {\n",
       "        text-align: right;\n",
       "    }\n",
       "</style>\n",
       "<table border=\"1\" class=\"dataframe\">\n",
       "  <thead>\n",
       "    <tr style=\"text-align: right;\">\n",
       "      <th></th>\n",
       "      <th>black_tot</th>\n",
       "      <th>white_tot</th>\n",
       "      <th>total_pop</th>\n",
       "    </tr>\n",
       "    <tr>\n",
       "      <th>effect_quantile</th>\n",
       "      <th></th>\n",
       "      <th></th>\n",
       "      <th></th>\n",
       "    </tr>\n",
       "  </thead>\n",
       "  <tbody>\n",
       "    <tr>\n",
       "      <th>lowest effect</th>\n",
       "      <td>8.0</td>\n",
       "      <td>20.8</td>\n",
       "      <td>19.0</td>\n",
       "    </tr>\n",
       "    <tr>\n",
       "      <th>middle low</th>\n",
       "      <td>4.6</td>\n",
       "      <td>14.4</td>\n",
       "      <td>12.8</td>\n",
       "    </tr>\n",
       "    <tr>\n",
       "      <th>median</th>\n",
       "      <td>8.6</td>\n",
       "      <td>16.3</td>\n",
       "      <td>15.3</td>\n",
       "    </tr>\n",
       "    <tr>\n",
       "      <th>middle high</th>\n",
       "      <td>9.9</td>\n",
       "      <td>20.1</td>\n",
       "      <td>18.4</td>\n",
       "    </tr>\n",
       "    <tr>\n",
       "      <th>highest effect</th>\n",
       "      <td>68.9</td>\n",
       "      <td>28.3</td>\n",
       "      <td>34.4</td>\n",
       "    </tr>\n",
       "  </tbody>\n",
       "</table>\n",
       "</div>"
      ],
      "text/plain": [
       "                 black_tot  white_tot  total_pop\n",
       "effect_quantile                                 \n",
       "lowest effect          8.0       20.8       19.0\n",
       "middle low             4.6       14.4       12.8\n",
       "median                 8.6       16.3       15.3\n",
       "middle high            9.9       20.1       18.4\n",
       "highest effect        68.9       28.3       34.4"
      ]
     },
     "execution_count": 24,
     "metadata": {},
     "output_type": "execute_result"
    }
   ],
   "source": [
    "gdf_groupby_quantiles = gdf_groupby_geo_id.groupby(\"effect_quantile\", observed=False)[\n",
    "    QUANTILE_GROUP_BY_COLS\n",
    "].sum()\n",
    "\n",
    "\n",
    "print(\"This calculates (group subset in quantile / total group population)\")\n",
    "df_distribution = prptn_to_pct(\n",
    "    gdf_groupby_quantiles.div(gdf_groupby_quantiles.sum(axis=0), axis=1)\n",
    ")\n",
    "df_distribution"
   ]
  },
  {
   "cell_type": "code",
   "execution_count": 25,
   "id": "42112eb0-1222-4d77-95e3-14fb2217d6bc",
   "metadata": {},
   "outputs": [
    {
     "name": "stdout",
     "output_type": "stream",
     "text": [
      "34.0 percent of Michiganders lived in a ZCTA where the typical location effect was within the top quintile of the state. 69.0 percent of Black residents lived in that top quintile compared to 28.0 percent of White residents.\n"
     ]
    }
   ],
   "source": [
    "highest_quantile = round(df_distribution.loc[\"highest effect\"])\n",
    "print(\n",
    "    f\"\"\"{highest_quantile[\"total_pop\"]} percent of Michiganders lived in a ZCTA where the typical location effect was within the top quintile of the state. {highest_quantile[\"black_tot\"]} percent of Black residents lived in that top quintile compared to {highest_quantile[\"white_tot\"]} percent of White residents.\"\"\"\n",
    ")"
   ]
  },
  {
   "cell_type": "markdown",
   "id": "1613e695-cd43-4873-a994-cf1da41cbf0d",
   "metadata": {},
   "source": [
    "## Stacked chart\n",
    "\n",
    "First draft of chart"
   ]
  },
  {
   "cell_type": "code",
   "execution_count": 26,
   "id": "f3f6bd9d-2d99-499f-bf78-cde06375bd6f",
   "metadata": {},
   "outputs": [
    {
     "data": {
      "text/html": [
       "\n",
       "<style>\n",
       "  #altair-viz-943705b88da049448e699d09d99331c2.vega-embed {\n",
       "    width: 100%;\n",
       "    display: flex;\n",
       "  }\n",
       "\n",
       "  #altair-viz-943705b88da049448e699d09d99331c2.vega-embed details,\n",
       "  #altair-viz-943705b88da049448e699d09d99331c2.vega-embed details summary {\n",
       "    position: relative;\n",
       "  }\n",
       "</style>\n",
       "<div id=\"altair-viz-943705b88da049448e699d09d99331c2\"></div>\n",
       "<script type=\"text/javascript\">\n",
       "  var VEGA_DEBUG = (typeof VEGA_DEBUG == \"undefined\") ? {} : VEGA_DEBUG;\n",
       "  (function(spec, embedOpt){\n",
       "    let outputDiv = document.currentScript.previousElementSibling;\n",
       "    if (outputDiv.id !== \"altair-viz-943705b88da049448e699d09d99331c2\") {\n",
       "      outputDiv = document.getElementById(\"altair-viz-943705b88da049448e699d09d99331c2\");\n",
       "    }\n",
       "    const paths = {\n",
       "      \"vega\": \"https://cdn.jsdelivr.net/npm/vega@5?noext\",\n",
       "      \"vega-lib\": \"https://cdn.jsdelivr.net/npm/vega-lib?noext\",\n",
       "      \"vega-lite\": \"https://cdn.jsdelivr.net/npm/vega-lite@5.17.0?noext\",\n",
       "      \"vega-embed\": \"https://cdn.jsdelivr.net/npm/vega-embed@6?noext\",\n",
       "    };\n",
       "\n",
       "    function maybeLoadScript(lib, version) {\n",
       "      var key = `${lib.replace(\"-\", \"\")}_version`;\n",
       "      return (VEGA_DEBUG[key] == version) ?\n",
       "        Promise.resolve(paths[lib]) :\n",
       "        new Promise(function(resolve, reject) {\n",
       "          var s = document.createElement('script');\n",
       "          document.getElementsByTagName(\"head\")[0].appendChild(s);\n",
       "          s.async = true;\n",
       "          s.onload = () => {\n",
       "            VEGA_DEBUG[key] = version;\n",
       "            return resolve(paths[lib]);\n",
       "          };\n",
       "          s.onerror = () => reject(`Error loading script: ${paths[lib]}`);\n",
       "          s.src = paths[lib];\n",
       "        });\n",
       "    }\n",
       "\n",
       "    function showError(err) {\n",
       "      outputDiv.innerHTML = `<div class=\"error\" style=\"color:red;\">${err}</div>`;\n",
       "      throw err;\n",
       "    }\n",
       "\n",
       "    function displayChart(vegaEmbed) {\n",
       "      vegaEmbed(outputDiv, spec, embedOpt)\n",
       "        .catch(err => showError(`Javascript Error: ${err.message}<br>This usually means there's a typo in your chart specification. See the javascript console for the full traceback.`));\n",
       "    }\n",
       "\n",
       "    if(typeof define === \"function\" && define.amd) {\n",
       "      requirejs.config({paths});\n",
       "      require([\"vega-embed\"], displayChart, err => showError(`Error loading script: ${err.message}`));\n",
       "    } else {\n",
       "      maybeLoadScript(\"vega\", \"5\")\n",
       "        .then(() => maybeLoadScript(\"vega-lite\", \"5.17.0\"))\n",
       "        .then(() => maybeLoadScript(\"vega-embed\", \"6\"))\n",
       "        .catch(showError)\n",
       "        .then(() => displayChart(vegaEmbed));\n",
       "    }\n",
       "  })({\"config\": {\"view\": {\"continuousWidth\": 300, \"continuousHeight\": 300}}, \"data\": {\"name\": \"data-0cb13abfd90c6beb33a58592d9c58071\"}, \"mark\": {\"type\": \"bar\"}, \"encoding\": {\"color\": {\"field\": \"Effect quintile\", \"sort\": [\"lowest effect\", \"middle low\", \"median\", \"middle high\", \"highest effect\"], \"type\": \"ordinal\"}, \"order\": {\"field\": \"color_Effect_quintile_sort_index\", \"type\": \"quantitative\"}, \"x\": {\"field\": \"Percent\", \"type\": \"quantitative\"}, \"y\": {\"field\": \"Population group\", \"sort\": [\"Total population\", \"White population\", \"Black population\"], \"type\": \"nominal\"}}, \"height\": 500, \"title\": \"Allstate\", \"width\": 500, \"$schema\": \"https://vega.github.io/schema/vega-lite/v5.17.0.json\", \"datasets\": {\"data-0cb13abfd90c6beb33a58592d9c58071\": [{\"Effect quintile\": \"lowest effect\", \"Population group\": \"Black population\", \"Percent\": 8.0}, {\"Effect quintile\": \"middle low\", \"Population group\": \"Black population\", \"Percent\": 4.6}, {\"Effect quintile\": \"median\", \"Population group\": \"Black population\", \"Percent\": 8.6}, {\"Effect quintile\": \"middle high\", \"Population group\": \"Black population\", \"Percent\": 9.9}, {\"Effect quintile\": \"highest effect\", \"Population group\": \"Black population\", \"Percent\": 68.89999999999999}, {\"Effect quintile\": \"lowest effect\", \"Population group\": \"White population\", \"Percent\": 20.8}, {\"Effect quintile\": \"middle low\", \"Population group\": \"White population\", \"Percent\": 14.399999999999999}, {\"Effect quintile\": \"median\", \"Population group\": \"White population\", \"Percent\": 16.3}, {\"Effect quintile\": \"middle high\", \"Population group\": \"White population\", \"Percent\": 20.1}, {\"Effect quintile\": \"highest effect\", \"Population group\": \"White population\", \"Percent\": 28.299999999999997}, {\"Effect quintile\": \"lowest effect\", \"Population group\": \"Total population\", \"Percent\": 19.0}, {\"Effect quintile\": \"middle low\", \"Population group\": \"Total population\", \"Percent\": 12.8}, {\"Effect quintile\": \"median\", \"Population group\": \"Total population\", \"Percent\": 15.299999999999999}, {\"Effect quintile\": \"middle high\", \"Population group\": \"Total population\", \"Percent\": 18.4}, {\"Effect quintile\": \"highest effect\", \"Population group\": \"Total population\", \"Percent\": 34.4}]}}, {\"mode\": \"vega-lite\"});\n",
       "</script>"
      ],
      "text/plain": [
       "alt.Chart(...)"
      ]
     },
     "execution_count": 26,
     "metadata": {},
     "output_type": "execute_result"
    }
   ],
   "source": [
    "%run ../00_misc/helper-func-notebook.ipynb\n",
    "stacked_quintile_chart = stacked_race_hbar(df_distribution, \"Allstate\")\n",
    "stacked_quintile_chart.save(\"../00_misc/charts/allstate_population_quintile.png\")\n",
    "stacked_quintile_chart"
   ]
  },
  {
   "cell_type": "markdown",
   "id": "3156c73a-6b3b-4aeb-a676-b5ae51bcc45a",
   "metadata": {},
   "source": [
    "# Detroit"
   ]
  },
  {
   "cell_type": "markdown",
   "id": "fabafd28-85bb-4ce1-9068-f0e812fa55b3",
   "metadata": {},
   "source": [
    "## Median\n",
    "\n",
    "> The median location effect in Detroit, which is 76 percent Black, was more than double the statewide median.\n",
    "\n",
    "[Detroit demographics source](https://censusreporter.org/profiles/16000US2622000-detroit-mi/)"
   ]
  },
  {
   "cell_type": "code",
   "execution_count": 27,
   "id": "6af16593-8c57-4c33-8127-8f3d5c55e01a",
   "metadata": {},
   "outputs": [
    {
     "data": {
      "text/plain": [
       "<Axes: >"
      ]
     },
     "execution_count": 27,
     "metadata": {},
     "output_type": "execute_result"
    },
    {
     "data": {
      "image/png": "[encoded data removed]",
      "text/plain": [
       "<Figure size 640x480 with 1 Axes>"
      ]
     },
     "metadata": {},
     "output_type": "display_data"
    }
   ],
   "source": [
    "gdf_detroit = gdf[gdf[\"is_in_detroit\"] & gdf[\"geo_id\"].notnull()]\n",
    "gdf_detroit.plot()"
   ]
  },
  {
   "cell_type": "code",
   "execution_count": 28,
   "id": "8c74fba7-52e8-4f9a-9a31-03bdfee32e33",
   "metadata": {},
   "outputs": [
    {
     "data": {
      "text/plain": [
       "'The median location effect in Detroit, which is 76 percent Black, was 2.56 (17784.42 / 6955.52) times the statewide median.'"
      ]
     },
     "execution_count": 28,
     "metadata": {},
     "output_type": "execute_result"
    }
   ],
   "source": [
    "detroit_median_rate = gdf_detroit[\"generic_location_based_premium\"].median()\n",
    "detroit_median_div_state_median_rate = round(detroit_median_rate / state_median_rate, 2)\n",
    "f\"The median location effect in Detroit, which is 76 percent Black, was {detroit_median_div_state_median_rate} ({detroit_median_rate} / {state_median_rate}) times the statewide median.\""
   ]
  },
  {
   "cell_type": "markdown",
   "id": "543e7d58-13b9-4f01-90d3-94178a8a5036",
   "metadata": {},
   "source": [
    "## Minimum\n",
    "\n",
    "> The lowest location effect within Detroit’s borders was higher than 99.4 percent of all other location zones in the state. Less than 1 percent of the state fell within the range of rates calculated for Detroit."
   ]
  },
  {
   "cell_type": "code",
   "execution_count": 29,
   "id": "f9f3d9f1-2fe3-41ab-94b6-bc3adec8ea27",
   "metadata": {},
   "outputs": [
    {
     "data": {
      "text/plain": [
       "'The lowest location effect within Detroit’s borders is higher than 99.4 percent of all other location zones in the state.'"
      ]
     },
     "execution_count": 29,
     "metadata": {},
     "output_type": "execute_result"
    }
   ],
   "source": [
    "ASSERTED_PERCENTILE = 99.4\n",
    "detroit_min_rate = gdf_detroit[\"generic_location_based_premium\"].min()\n",
    "percentile = percentile_of_score(\n",
    "    detroit_min_rate, gdf[\"generic_location_based_premium\"]\n",
    ")\n",
    "assert ASSERTED_PERCENTILE <= percentile\n",
    "f\"The lowest location effect within Detroit’s borders is higher than {percentile} percent of all other location zones in the state.\""
   ]
  },
  {
   "cell_type": "code",
   "execution_count": 30,
   "id": "d955a99a-7022-4a80-94e3-aac560a84c33",
   "metadata": {},
   "outputs": [
    {
     "data": {
      "text/plain": [
       "'0.3 percent of the state fall within the range of rates calculated for Detroit.'"
      ]
     },
     "execution_count": 30,
     "metadata": {},
     "output_type": "execute_result"
    }
   ],
   "source": [
    "ASSERTED_PCT = 1\n",
    "df_temp = gdf[\n",
    "    ~gdf[\"is_in_detroit\"] & (gdf[\"generic_location_based_premium\"] >= detroit_min_rate)\n",
    "]\n",
    "grtr_than_detroit_min_unit_count = len(df_temp)\n",
    "pct_grtr_than_detroit = round(grtr_than_detroit_min_unit_count / len(gdf), 3) * 100\n",
    "assert ASSERTED_PCT > pct_grtr_than_detroit\n",
    "f\"{pct_grtr_than_detroit} percent of the state fall within the range of rates calculated for Detroit.\""
   ]
  },
  {
   "cell_type": "markdown",
   "id": "10278cf0-869d-4b20-ad0a-eb80f63f07d2",
   "metadata": {},
   "source": [
    "# Statewide"
   ]
  },
  {
   "cell_type": "markdown",
   "id": "db0df515-eab1-4e94-9737-464cae88c8cd",
   "metadata": {},
   "source": [
    "## Maximum rate\n",
    "\n",
    "> Allstate’s highest location-fixed base rates were for customers in Detroit’s Morningside neighborhood, where the location effect was more than triple the company’s statewide median."
   ]
  },
  {
   "cell_type": "code",
   "execution_count": 31,
   "id": "786bd656-de77-47d6-ad90-7243595f657c",
   "metadata": {},
   "outputs": [
    {
     "data": {
      "text/plain": [
       "'\\nAllstate’s highest location-fixed base rates were for customers in Detroit’s Morningside neighborhood,\\nwhere the location effect was 3.31 (23022.58/6955.52) times the statewide median.\\n'"
      ]
     },
     "execution_count": 31,
     "metadata": {},
     "output_type": "execute_result"
    }
   ],
   "source": [
    "ASSERTED_FIGURE = 3\n",
    "max_rate = gdf[\"generic_location_based_premium\"].max()\n",
    "max_rate_div_median = round(max_rate / state_median_rate, 2)\n",
    "assert ASSERTED_FIGURE < max_rate_div_median\n",
    "f\"\"\"\n",
    "Allstate’s highest location-fixed base rates were for customers in Detroit’s Morningside neighborhood,\n",
    "where the location effect was {max_rate_div_median} ({max_rate}/{state_median_rate}) times the statewide median.\n",
    "\"\"\""
   ]
  },
  {
   "cell_type": "code",
   "execution_count": 32,
   "id": "fd86b661-46fe-4638-8deb-563fde744b44",
   "metadata": {},
   "outputs": [
    {
     "data": {
      "text/plain": [
       "'https://maps.google.com/maps?z=12&t=m&q=loc:42.41250152210396+-82.94250939222181'"
      ]
     },
     "execution_count": 32,
     "metadata": {},
     "output_type": "execute_result"
    }
   ],
   "source": [
    "google_maps_coords(\n",
    "    gdf[\n",
    "        gdf[\"generic_location_based_premium\"]\n",
    "        == gdf[\"generic_location_based_premium\"].max()\n",
    "    ]\n",
    "    .to_crs(geographic_crs)\n",
    "    .iloc[0][\"geometry\"]\n",
    ")"
   ]
  },
  {
   "cell_type": "markdown",
   "id": "0dd2c49b-b45c-46c1-a4a3-4e4d644e8d6e",
   "metadata": {},
   "source": [
    "## Minimum rate\n",
    "\n",
    "> Allstate’s lowest location-fixed base rates were near Mattawan, Mich., in an area spanning the 49009 and 49071 ZCTAs. The location effect there is 33 percent lower than than the statewide median."
   ]
  },
  {
   "cell_type": "code",
   "execution_count": 33,
   "id": "2b01a9ee-aa42-4d26-afe7-0129cefcd527",
   "metadata": {},
   "outputs": [
    {
     "name": "stdout",
     "output_type": "stream",
     "text": [
      "Allstate’s lowest location-fixed base rates were near Mattawan, Mich., in an area spanning the ['ZCTA5 49071', 'ZCTA5 49009'] ZCTAs. The location effect there is 33.0 percent lower than than the statewide median or 0.67 times the statewide median.\n"
     ]
    }
   ],
   "source": [
    "ASSERTED_FIGURE = 33\n",
    "min_rate = gdf[\"location_effect\"].min()\n",
    "gdf_temp = gdf[gdf[\"location_effect\"] == gdf[\"location_effect\"].min()]\n",
    "min_effect_zctas = list(gdf_temp[\"geo_name\"].unique())\n",
    "pct_decrease = round(1 - min_rate, 2) * 100\n",
    "assert ASSERTED_FIGURE == pct_decrease, min_rate\n",
    "print(\n",
    "    f\"Allstate’s lowest location-fixed base rates were near Mattawan, Mich., in an area spanning the {min_effect_zctas} ZCTAs. The location effect there is {pct_decrease} percent lower than than the statewide median or {min_rate} times the statewide median.\"\n",
    ")"
   ]
  },
  {
   "cell_type": "code",
   "execution_count": 34,
   "id": "4ed25fea-759f-45a5-991d-f0ac2004cec0",
   "metadata": {},
   "outputs": [
    {
     "data": {
      "text/plain": [
       "'https://maps.google.com/maps?z=12&t=m&q=loc:42.27749979716688+-85.79250487611478'"
      ]
     },
     "execution_count": 34,
     "metadata": {},
     "output_type": "execute_result"
    }
   ],
   "source": [
    "google_maps_coords(\n",
    "    gdf[\n",
    "        gdf[\"generic_location_based_premium\"]\n",
    "        == gdf[\"generic_location_based_premium\"].min()\n",
    "    ]\n",
    "    .to_crs(geographic_crs)\n",
    "    .iloc[0][\"geometry\"]\n",
    ")"
   ]
  },
  {
   "cell_type": "markdown",
   "id": "37b109f7-7e26-4092-9d29-02fe0e5d6269",
   "metadata": {},
   "source": [
    "# Nearest neighbor\n",
    "\n",
    "> Performing a nearest neighbor analysis showed that, on average, Allstate set rates for a territory similar to those of its surrounding neighbors.\n",
    "\n",
    "`loc_rate_div_min_nn` = $\\frac{Location\\ zone\\ location\\ set\\ base\\ rate}{min(Location\\ set\\ base\\ rate\\ adjacent\\ zones)}$"
   ]
  },
  {
   "cell_type": "code",
   "execution_count": 35,
   "id": "3a50842d-b30c-4d3f-9c17-f564643e53d4",
   "metadata": {},
   "outputs": [
    {
     "data": {
      "text/plain": [
       "'Performing a nearest neighbor analysis showed that, on average, Allstate set location zone rates 1.02 times their surrounding zone neighbors.'"
      ]
     },
     "execution_count": 35,
     "metadata": {},
     "output_type": "execute_result"
    }
   ],
   "source": [
    "avg_ratio_btwn_rate_and_nn_min = round(gdf[\"loc_rate_div_min_nn\"].mean(), 2)\n",
    "f\"Performing a nearest neighbor analysis showed that, on average, Allstate set location zone rates {avg_ratio_btwn_rate_and_nn_min} times their surrounding zone neighbors.\""
   ]
  },
  {
   "cell_type": "markdown",
   "id": "6404cbd2-526f-4773-aee4-f5c565454929",
   "metadata": {},
   "source": [
    "## Neighboring ZCTA point\n",
    "\n",
    ">  The territories that had noticeable differences in location effects were typically areas along ZCTA boundaries. When we filtered for where an adjacent territory increased the location effect by at least 10 percent, 84 percent of those territories were along a ZCTA boundary."
   ]
  },
  {
   "cell_type": "markdown",
   "id": "0bacb97e-88a1-4882-aa6f-57dd26783055",
   "metadata": {},
   "source": [
    "I check the percentage of location zones along a ZCTA border in case the majority of zones are along a border."
   ]
  },
  {
   "cell_type": "code",
   "execution_count": 36,
   "id": "9568432f-46b6-422a-a671-00d45f9ffa4a",
   "metadata": {},
   "outputs": [
    {
     "data": {
      "text/plain": [
       "'48.0 percent of location zones are along a ZCTA border'"
      ]
     },
     "execution_count": 36,
     "metadata": {},
     "output_type": "execute_result"
    }
   ],
   "source": [
    "border_point_count = gdf[\"is_zcta_border\"].sum()\n",
    "territory_count = len(gdf)\n",
    "f\"{prptn_to_pct((border_point_count / territory_count), 2)} percent of location zones are along a ZCTA border\""
   ]
  },
  {
   "cell_type": "markdown",
   "id": "08427beb-c379-4671-9c68-a70f609f3b08",
   "metadata": {},
   "source": [
    "I check the percentile for `loc_rate_div_min_nn` values greater than 1.1 to avoid setting the threshhold too low. I worry if I set the threshold too low then my finding does not reflect acute neighboring differences."
   ]
  },
  {
   "cell_type": "code",
   "execution_count": 37,
   "id": "978b2e3b-ab89-42c7-90bd-8494bd018b62",
   "metadata": {},
   "outputs": [
    {
     "data": {
      "text/plain": [
       "'A location zone with a rate more than 1.1 times a neighboring zone is in the 95.2 percentile'"
      ]
     },
     "execution_count": 37,
     "metadata": {},
     "output_type": "execute_result"
    }
   ],
   "source": [
    "nn_percentile = percentile_of_score(1.11, gdf[\"loc_rate_div_min_nn\"])\n",
    "f\"A location zone with a rate more than 1.1 times a neighboring zone is in the {nn_percentile} percentile\""
   ]
  },
  {
   "cell_type": "code",
   "execution_count": 38,
   "id": "dca5d036-1367-4d22-9920-2946cfe2bfd3",
   "metadata": {},
   "outputs": [
    {
     "data": {
      "text/plain": [
       "'When we filtered for where an adjacent territory increased the location effect by at least 10 percent,\\n84.0 percent of those territories were along a ZCTA boundary.'"
      ]
     },
     "execution_count": 38,
     "metadata": {},
     "output_type": "execute_result"
    }
   ],
   "source": [
    "ASSERTED_PCT = 84\n",
    "points_above_ratio_count = len(gdf[gdf[\"loc_rate_div_min_nn\"] > 1.1])\n",
    "border_points_above_ratio_count = gdf[gdf[\"loc_rate_div_min_nn\"] > 1.1][\n",
    "    \"is_zcta_border\"\n",
    "].sum()\n",
    "observed_pct = prptn_to_pct(\n",
    "    border_points_above_ratio_count / points_above_ratio_count, 2\n",
    ")\n",
    "assert ASSERTED_PCT == observed_pct\n",
    "f\"\"\"When we filtered for where an adjacent territory increased the location effect by at least 10 percent,\n",
    "{observed_pct} percent of those territories were along a ZCTA boundary.\"\"\""
   ]
  },
  {
   "cell_type": "markdown",
   "id": "f741b1ce-f6b1-4ab0-a603-f94b7caa5cbb",
   "metadata": {},
   "source": [
    "# Appendix"
   ]
  },
  {
   "cell_type": "markdown",
   "id": "3ee492c6-816b-4533-b97d-1d3914a40784",
   "metadata": {},
   "source": [
    "## Detroit range"
   ]
  },
  {
   "cell_type": "code",
   "execution_count": 39,
   "id": "0a8cdc5c-dd92-4c3f-a03e-a8bad4af1f6f",
   "metadata": {},
   "outputs": [
    {
     "name": "stdout",
     "output_type": "stream",
     "text": [
      "Allstate range of location effects within Detroit: 1.82-3.31. The avg: 2.55\n",
      "The highest effect 3.31 is in Detroit\n"
     ]
    }
   ],
   "source": [
    "highest_effect = gdf[\"location_effect\"].max()\n",
    "detroit_loc_effects = gdf[gdf[\"is_in_detroit\"]][\"location_effect\"]\n",
    "detroit_min_loc_effects = detroit_loc_effects.min()\n",
    "detroit_max_loc_effects = detroit_loc_effects.max()\n",
    "detroit_avg_loc_effect = round(detroit_loc_effects.mean(), 2)\n",
    "assert highest_effect == detroit_max_loc_effects\n",
    "\n",
    "print(\n",
    "    f\"Allstate range of location effects within Detroit: {detroit_min_loc_effects}-{detroit_max_loc_effects}. The avg: {detroit_avg_loc_effect}\"\n",
    ")\n",
    "print(f\"The highest effect {highest_effect} is in Detroit\")"
   ]
  },
  {
   "cell_type": "markdown",
   "id": "d7907bcd-8164-408a-a1a5-a3b658db277e",
   "metadata": {},
   "source": [
    "## Population density"
   ]
  },
  {
   "cell_type": "code",
   "execution_count": 40,
   "id": "16b8888f-e84e-4dc0-8ae5-886a2c07fc3d",
   "metadata": {},
   "outputs": [
    {
     "data": {
      "text/html": [
       "<div>\n",
       "<style scoped>\n",
       "    .dataframe tbody tr th:only-of-type {\n",
       "        vertical-align: middle;\n",
       "    }\n",
       "\n",
       "    .dataframe tbody tr th {\n",
       "        vertical-align: top;\n",
       "    }\n",
       "\n",
       "    .dataframe thead th {\n",
       "        text-align: right;\n",
       "    }\n",
       "</style>\n",
       "<table border=\"1\" class=\"dataframe\">\n",
       "  <thead>\n",
       "    <tr style=\"text-align: right;\">\n",
       "      <th>density_quantile</th>\n",
       "      <th>lowest density</th>\n",
       "      <th>middle low</th>\n",
       "      <th>median</th>\n",
       "      <th>middle high</th>\n",
       "      <th>highest density</th>\n",
       "    </tr>\n",
       "    <tr>\n",
       "      <th>effect_quantile</th>\n",
       "      <th></th>\n",
       "      <th></th>\n",
       "      <th></th>\n",
       "      <th></th>\n",
       "      <th></th>\n",
       "    </tr>\n",
       "  </thead>\n",
       "  <tbody>\n",
       "    <tr>\n",
       "      <th>lowest effect</th>\n",
       "      <td>15.5</td>\n",
       "      <td>17.6</td>\n",
       "      <td>25.0</td>\n",
       "      <td>33.7</td>\n",
       "      <td>8.3</td>\n",
       "    </tr>\n",
       "    <tr>\n",
       "      <th>middle low</th>\n",
       "      <td>28.5</td>\n",
       "      <td>24.4</td>\n",
       "      <td>27.6</td>\n",
       "      <td>13.5</td>\n",
       "      <td>6.2</td>\n",
       "    </tr>\n",
       "    <tr>\n",
       "      <th>median</th>\n",
       "      <td>25.9</td>\n",
       "      <td>29.5</td>\n",
       "      <td>21.9</td>\n",
       "      <td>13.5</td>\n",
       "      <td>8.8</td>\n",
       "    </tr>\n",
       "    <tr>\n",
       "      <th>middle high</th>\n",
       "      <td>28.0</td>\n",
       "      <td>19.7</td>\n",
       "      <td>12.0</td>\n",
       "      <td>23.3</td>\n",
       "      <td>17.1</td>\n",
       "    </tr>\n",
       "    <tr>\n",
       "      <th>highest effect</th>\n",
       "      <td>2.1</td>\n",
       "      <td>8.8</td>\n",
       "      <td>13.5</td>\n",
       "      <td>16.1</td>\n",
       "      <td>59.6</td>\n",
       "    </tr>\n",
       "  </tbody>\n",
       "</table>\n",
       "</div>"
      ],
      "text/plain": [
       "density_quantile  lowest density  middle low  median  middle high  \\\n",
       "effect_quantile                                                     \n",
       "lowest effect               15.5        17.6    25.0         33.7   \n",
       "middle low                  28.5        24.4    27.6         13.5   \n",
       "median                      25.9        29.5    21.9         13.5   \n",
       "middle high                 28.0        19.7    12.0         23.3   \n",
       "highest effect               2.1         8.8    13.5         16.1   \n",
       "\n",
       "density_quantile  highest density  \n",
       "effect_quantile                    \n",
       "lowest effect                 8.3  \n",
       "middle low                    6.2  \n",
       "median                        8.8  \n",
       "middle high                  17.1  \n",
       "highest effect               59.6  "
      ]
     },
     "execution_count": 40,
     "metadata": {},
     "output_type": "execute_result"
    }
   ],
   "source": [
    "gdf_temp = gdf_groupby_geo_id.pivot_table(\n",
    "    index=\"effect_quantile\", columns=\"density_quantile\", aggfunc=\"count\", observed=False\n",
    ")[\"total_pop\"]\n",
    "df_density_quintile = prptn_to_pct(gdf_temp / gdf_temp.sum())\n",
    "df_density_quintile"
   ]
  },
  {
   "cell_type": "code",
   "execution_count": 41,
   "id": "0794cbeb-798a-43cf-9c21-fa7372800206",
   "metadata": {},
   "outputs": [
    {
     "data": {
      "text/html": [
       "<div>\n",
       "<style scoped>\n",
       "    .dataframe tbody tr th:only-of-type {\n",
       "        vertical-align: middle;\n",
       "    }\n",
       "\n",
       "    .dataframe tbody tr th {\n",
       "        vertical-align: top;\n",
       "    }\n",
       "\n",
       "    .dataframe thead th {\n",
       "        text-align: right;\n",
       "    }\n",
       "</style>\n",
       "<table border=\"1\" class=\"dataframe\">\n",
       "  <thead>\n",
       "    <tr style=\"text-align: right;\">\n",
       "      <th></th>\n",
       "      <th>black_tot</th>\n",
       "      <th>white_tot</th>\n",
       "      <th>total_pop</th>\n",
       "    </tr>\n",
       "    <tr>\n",
       "      <th>density_quantile</th>\n",
       "      <th></th>\n",
       "      <th></th>\n",
       "      <th></th>\n",
       "    </tr>\n",
       "  </thead>\n",
       "  <tbody>\n",
       "    <tr>\n",
       "      <th>lowest density</th>\n",
       "      <td>0.0</td>\n",
       "      <td>3.0</td>\n",
       "      <td>3.0</td>\n",
       "    </tr>\n",
       "    <tr>\n",
       "      <th>middle low</th>\n",
       "      <td>0.0</td>\n",
       "      <td>8.0</td>\n",
       "      <td>7.0</td>\n",
       "    </tr>\n",
       "    <tr>\n",
       "      <th>median</th>\n",
       "      <td>1.0</td>\n",
       "      <td>15.0</td>\n",
       "      <td>13.0</td>\n",
       "    </tr>\n",
       "    <tr>\n",
       "      <th>middle high</th>\n",
       "      <td>14.0</td>\n",
       "      <td>34.0</td>\n",
       "      <td>31.0</td>\n",
       "    </tr>\n",
       "    <tr>\n",
       "      <th>highest density</th>\n",
       "      <td>84.0</td>\n",
       "      <td>39.0</td>\n",
       "      <td>48.0</td>\n",
       "    </tr>\n",
       "  </tbody>\n",
       "</table>\n",
       "</div>"
      ],
      "text/plain": [
       "                  black_tot  white_tot  total_pop\n",
       "density_quantile                                 \n",
       "lowest density          0.0        3.0        3.0\n",
       "middle low              0.0        8.0        7.0\n",
       "median                  1.0       15.0       13.0\n",
       "middle high            14.0       34.0       31.0\n",
       "highest density        84.0       39.0       48.0"
      ]
     },
     "execution_count": 41,
     "metadata": {},
     "output_type": "execute_result"
    }
   ],
   "source": [
    "gdf_groupby_density_quantiles = gdf_groupby_geo_id.groupby(\n",
    "    \"density_quantile\", observed=False\n",
    ")[QUANTILE_GROUP_BY_COLS].sum()\n",
    "column_sums = gdf_groupby_density_quantiles.sum(axis=0)\n",
    "df_density_distribution = prptn_to_pct(\n",
    "    gdf_groupby_density_quantiles.div(column_sums, axis=1), 2\n",
    ")\n",
    "df_density_distribution"
   ]
  },
  {
   "cell_type": "markdown",
   "id": "5f0da652-2ed9-48a3-8167-deb0b7e3c8a8",
   "metadata": {},
   "source": [
    "## Effect x density"
   ]
  },
  {
   "cell_type": "code",
   "execution_count": 42,
   "id": "1c5fbc23-9860-4b8e-8e8a-e50cbb34f867",
   "metadata": {},
   "outputs": [],
   "source": [
    "def pivot_effect_density_quantiles(\n",
    "    gdf, race_group, race_label=None, calculate_percent=True\n",
    "):\n",
    "    gdf_temp = gdf.pivot_table(\n",
    "        index=\"effect_quantile\",\n",
    "        columns=\"density_quantile\",\n",
    "        values=race_group,\n",
    "        aggfunc=\"sum\",\n",
    "        observed=False,\n",
    "    )\n",
    "    if calculate_percent:\n",
    "        gdf_temp = prptn_to_pct(gdf_temp / gdf_temp.sum().sum())\n",
    "    gdf_temp = gdf_temp.reset_index()\n",
    "    if race_label:\n",
    "        gdf_temp[\"race\"] = race_label\n",
    "    else:\n",
    "        gdf_temp[\"race\"] = race_group\n",
    "    gdf_temp[\"insurer\"] = INSURER\n",
    "    return gdf_temp\n",
    "\n",
    "\n",
    "def join_effect_density_quantiles_pivots(calculate_percent=True):\n",
    "    gdf_white = pivot_effect_density_quantiles(\n",
    "        gdf_groupby_geo_id, \"white_tot\", \"White\", calculate_percent=calculate_percent\n",
    "    )\n",
    "    gdf_black = pivot_effect_density_quantiles(\n",
    "        gdf_groupby_geo_id, \"black_tot\", \"Black\", calculate_percent=calculate_percent\n",
    "    )\n",
    "    return pd.concat([gdf_white, gdf_black], ignore_index=True)\n",
    "\n",
    "\n",
    "gdf_effect_density_quantiles_pivot = join_effect_density_quantiles_pivots(False)\n",
    "gdf_effect_density_quantiles_pivot.to_csv(\n",
    "    \"./outputs/effect_density_quantiles_pivot_count.csv\", index=False\n",
    ")"
   ]
  },
  {
   "cell_type": "markdown",
   "id": "4dc2baad-032c-458e-afc0-c29b2c46216a",
   "metadata": {},
   "source": [
    "## Effect in top quantile\n",
    "\n",
    "This text is from the `Findings` section topper:\n",
    "\n",
    "> On average, 65 percent of Black Michiganders lived in territories within every insurer’s highest quintile of location effects. These territories saw a location effect between 10 and 360 percent above an insurer’s state median. No matter which of the top insurers they chose, most Black Michiganders’ premiums were set higher based solely on where they lived.\n",
    "\n",
    "I want to verify the top quintile falls between this range."
   ]
  },
  {
   "cell_type": "code",
   "execution_count": 43,
   "id": "5bd7980c-2788-42b1-a496-8c897cde1470",
   "metadata": {},
   "outputs": [
    {
     "name": "stdout",
     "output_type": "stream",
     "text": [
      "The location effect for Allstate in the top quantile ranged from 1.28 to 3.03\n"
     ]
    }
   ],
   "source": [
    "ASSERTED_MIN = 1.1\n",
    "ASSERTED_MAX = 460\n",
    "\n",
    "gdf_highest_effects = gdf_groupby_geo_id[\n",
    "    gdf_groupby_geo_id[\"effect_quantile\"] == \"highest effect\"\n",
    "]\n",
    "highest_quantile_min_effect = round(\n",
    "    gdf_highest_effects[\"generic_location_based_premium\"].min()\n",
    "    / gdf_groupby_geo_id[\"generic_location_based_premium\"].median(),\n",
    "    2,\n",
    ")\n",
    "highest_quantile_max_effect = round(\n",
    "    gdf_highest_effects[\"generic_location_based_premium\"].max()\n",
    "    / gdf_groupby_geo_id[\"generic_location_based_premium\"].median(),\n",
    "    2,\n",
    ")\n",
    "\n",
    "assert (\n",
    "    ASSERTED_MIN <= highest_quantile_min_effect\n",
    "    and ASSERTED_MAX >= highest_quantile_max_effect\n",
    ")\n",
    "print(\n",
    "    f\"The location effect for Allstate in the top quantile ranged from {highest_quantile_min_effect} to {highest_quantile_max_effect}\"\n",
    ")"
   ]
  },
  {
   "cell_type": "markdown",
   "id": "8fcfb128-451c-44ea-b5ec-faa338b41b61",
   "metadata": {},
   "source": [
    "## Income cross tab\n",
    "\n",
    "This is from the `On Income` section:\n",
    "\n",
    "> For Allstate and Liberty Mutual, the territories in the top quintile of location effects were divided approximately evenly across income levels."
   ]
  },
  {
   "cell_type": "code",
   "execution_count": 44,
   "id": "6254ea66-1303-46c9-9596-63b4e2f85b3f",
   "metadata": {},
   "outputs": [
    {
     "data": {
      "text/html": [
       "<div>\n",
       "<style scoped>\n",
       "    .dataframe tbody tr th:only-of-type {\n",
       "        vertical-align: middle;\n",
       "    }\n",
       "\n",
       "    .dataframe tbody tr th {\n",
       "        vertical-align: top;\n",
       "    }\n",
       "\n",
       "    .dataframe thead th {\n",
       "        text-align: right;\n",
       "    }\n",
       "</style>\n",
       "<table border=\"1\" class=\"dataframe\">\n",
       "  <thead>\n",
       "    <tr style=\"text-align: right;\">\n",
       "      <th>income_quantile</th>\n",
       "      <th>lowest income</th>\n",
       "      <th>middle low</th>\n",
       "      <th>median</th>\n",
       "      <th>middle high</th>\n",
       "      <th>highest income</th>\n",
       "    </tr>\n",
       "    <tr>\n",
       "      <th>effect_quantile</th>\n",
       "      <th></th>\n",
       "      <th></th>\n",
       "      <th></th>\n",
       "      <th></th>\n",
       "      <th></th>\n",
       "    </tr>\n",
       "  </thead>\n",
       "  <tbody>\n",
       "    <tr>\n",
       "      <th>lowest effect</th>\n",
       "      <td>17.1</td>\n",
       "      <td>10.4</td>\n",
       "      <td>16.1</td>\n",
       "      <td>30.6</td>\n",
       "      <td>25.9</td>\n",
       "    </tr>\n",
       "    <tr>\n",
       "      <th>middle low</th>\n",
       "      <td>15.0</td>\n",
       "      <td>22.8</td>\n",
       "      <td>26.6</td>\n",
       "      <td>24.9</td>\n",
       "      <td>10.9</td>\n",
       "    </tr>\n",
       "    <tr>\n",
       "      <th>median</th>\n",
       "      <td>23.3</td>\n",
       "      <td>29.0</td>\n",
       "      <td>23.4</td>\n",
       "      <td>13.5</td>\n",
       "      <td>10.4</td>\n",
       "    </tr>\n",
       "    <tr>\n",
       "      <th>middle high</th>\n",
       "      <td>20.7</td>\n",
       "      <td>23.3</td>\n",
       "      <td>13.5</td>\n",
       "      <td>14.0</td>\n",
       "      <td>28.5</td>\n",
       "    </tr>\n",
       "    <tr>\n",
       "      <th>highest effect</th>\n",
       "      <td>23.8</td>\n",
       "      <td>14.5</td>\n",
       "      <td>20.3</td>\n",
       "      <td>17.1</td>\n",
       "      <td>24.4</td>\n",
       "    </tr>\n",
       "  </tbody>\n",
       "</table>\n",
       "</div>"
      ],
      "text/plain": [
       "income_quantile  lowest income  middle low  median  middle high  \\\n",
       "effect_quantile                                                   \n",
       "lowest effect             17.1        10.4    16.1         30.6   \n",
       "middle low                15.0        22.8    26.6         24.9   \n",
       "median                    23.3        29.0    23.4         13.5   \n",
       "middle high               20.7        23.3    13.5         14.0   \n",
       "highest effect            23.8        14.5    20.3         17.1   \n",
       "\n",
       "income_quantile  highest income  \n",
       "effect_quantile                  \n",
       "lowest effect              25.9  \n",
       "middle low                 10.9  \n",
       "median                     10.4  \n",
       "middle high                28.5  \n",
       "highest effect             24.4  "
      ]
     },
     "execution_count": 44,
     "metadata": {},
     "output_type": "execute_result"
    }
   ],
   "source": [
    "gdf_temp = gdf_groupby_geo_id.pivot_table(\n",
    "    index=\"effect_quantile\", columns=\"income_quantile\", aggfunc=\"count\", observed=False\n",
    ")[\"median_income\"]\n",
    "df_income_quintile = prptn_to_pct(gdf_temp / gdf_temp.sum())\n",
    "df_income_quintile"
   ]
  },
  {
   "cell_type": "code",
   "execution_count": 45,
   "id": "86b04701-1612-488b-bd82-3b95bb316b1c",
   "metadata": {},
   "outputs": [
    {
     "data": {
      "text/html": [
       "\n",
       "<style>\n",
       "  #altair-viz-aa663311bf38483db968d3f2b6903380.vega-embed {\n",
       "    width: 100%;\n",
       "    display: flex;\n",
       "  }\n",
       "\n",
       "  #altair-viz-aa663311bf38483db968d3f2b6903380.vega-embed details,\n",
       "  #altair-viz-aa663311bf38483db968d3f2b6903380.vega-embed details summary {\n",
       "    position: relative;\n",
       "  }\n",
       "</style>\n",
       "<div id=\"altair-viz-aa663311bf38483db968d3f2b6903380\"></div>\n",
       "<script type=\"text/javascript\">\n",
       "  var VEGA_DEBUG = (typeof VEGA_DEBUG == \"undefined\") ? {} : VEGA_DEBUG;\n",
       "  (function(spec, embedOpt){\n",
       "    let outputDiv = document.currentScript.previousElementSibling;\n",
       "    if (outputDiv.id !== \"altair-viz-aa663311bf38483db968d3f2b6903380\") {\n",
       "      outputDiv = document.getElementById(\"altair-viz-aa663311bf38483db968d3f2b6903380\");\n",
       "    }\n",
       "    const paths = {\n",
       "      \"vega\": \"https://cdn.jsdelivr.net/npm/vega@5?noext\",\n",
       "      \"vega-lib\": \"https://cdn.jsdelivr.net/npm/vega-lib?noext\",\n",
       "      \"vega-lite\": \"https://cdn.jsdelivr.net/npm/vega-lite@5.17.0?noext\",\n",
       "      \"vega-embed\": \"https://cdn.jsdelivr.net/npm/vega-embed@6?noext\",\n",
       "    };\n",
       "\n",
       "    function maybeLoadScript(lib, version) {\n",
       "      var key = `${lib.replace(\"-\", \"\")}_version`;\n",
       "      return (VEGA_DEBUG[key] == version) ?\n",
       "        Promise.resolve(paths[lib]) :\n",
       "        new Promise(function(resolve, reject) {\n",
       "          var s = document.createElement('script');\n",
       "          document.getElementsByTagName(\"head\")[0].appendChild(s);\n",
       "          s.async = true;\n",
       "          s.onload = () => {\n",
       "            VEGA_DEBUG[key] = version;\n",
       "            return resolve(paths[lib]);\n",
       "          };\n",
       "          s.onerror = () => reject(`Error loading script: ${paths[lib]}`);\n",
       "          s.src = paths[lib];\n",
       "        });\n",
       "    }\n",
       "\n",
       "    function showError(err) {\n",
       "      outputDiv.innerHTML = `<div class=\"error\" style=\"color:red;\">${err}</div>`;\n",
       "      throw err;\n",
       "    }\n",
       "\n",
       "    function displayChart(vegaEmbed) {\n",
       "      vegaEmbed(outputDiv, spec, embedOpt)\n",
       "        .catch(err => showError(`Javascript Error: ${err.message}<br>This usually means there's a typo in your chart specification. See the javascript console for the full traceback.`));\n",
       "    }\n",
       "\n",
       "    if(typeof define === \"function\" && define.amd) {\n",
       "      requirejs.config({paths});\n",
       "      require([\"vega-embed\"], displayChart, err => showError(`Error loading script: ${err.message}`));\n",
       "    } else {\n",
       "      maybeLoadScript(\"vega\", \"5\")\n",
       "        .then(() => maybeLoadScript(\"vega-lite\", \"5.17.0\"))\n",
       "        .then(() => maybeLoadScript(\"vega-embed\", \"6\"))\n",
       "        .catch(showError)\n",
       "        .then(() => displayChart(vegaEmbed));\n",
       "    }\n",
       "  })({\"config\": {\"view\": {\"continuousWidth\": 300, \"continuousHeight\": 300}}, \"data\": {\"name\": \"data-e25baff669c262dc11c0ed44310a3375\"}, \"mark\": {\"type\": \"bar\"}, \"encoding\": {\"color\": {\"field\": \"Effect quintile\", \"sort\": [\"lowest effect\", \"middle low\", \"median\", \"middle high\", \"highest effect\"], \"type\": \"ordinal\"}, \"order\": {\"field\": \"color_Effect_quintile_sort_index\", \"type\": \"quantitative\"}, \"x\": {\"field\": \"Percent\", \"type\": \"quantitative\"}, \"y\": {\"field\": \"Income group\", \"sort\": [\"Lowest\", \"Lower middle\", \"Median\", \"Upper middle\", \"Highest\"], \"type\": \"nominal\"}}, \"height\": 500, \"title\": \"Allstate\", \"width\": 500, \"$schema\": \"https://vega.github.io/schema/vega-lite/v5.17.0.json\", \"datasets\": {\"data-e25baff669c262dc11c0ed44310a3375\": [{\"Effect quintile\": \"lowest effect\", \"Income group\": \"Lowest\", \"Percent\": 17.0984455958549}, {\"Effect quintile\": \"middle low\", \"Income group\": \"Lowest\", \"Percent\": 15.025906735751299}, {\"Effect quintile\": \"median\", \"Income group\": \"Lowest\", \"Percent\": 23.3160621761658}, {\"Effect quintile\": \"middle high\", \"Income group\": \"Lowest\", \"Percent\": 20.7253886010363}, {\"Effect quintile\": \"highest effect\", \"Income group\": \"Lowest\", \"Percent\": 23.8341968911917}, {\"Effect quintile\": \"lowest effect\", \"Income group\": \"Lower middle\", \"Percent\": 10.362694300518099}, {\"Effect quintile\": \"middle low\", \"Income group\": \"Lower middle\", \"Percent\": 22.7979274611399}, {\"Effect quintile\": \"median\", \"Income group\": \"Lower middle\", \"Percent\": 29.015544041450802}, {\"Effect quintile\": \"middle high\", \"Income group\": \"Lower middle\", \"Percent\": 23.3160621761658}, {\"Effect quintile\": \"highest effect\", \"Income group\": \"Lower middle\", \"Percent\": 14.507772020725401}, {\"Effect quintile\": \"lowest effect\", \"Income group\": \"Median\", \"Percent\": 16.1458333333333}, {\"Effect quintile\": \"middle low\", \"Income group\": \"Median\", \"Percent\": 26.5625}, {\"Effect quintile\": \"median\", \"Income group\": \"Median\", \"Percent\": 23.4375}, {\"Effect quintile\": \"middle high\", \"Income group\": \"Median\", \"Percent\": 13.5416666666667}, {\"Effect quintile\": \"highest effect\", \"Income group\": \"Median\", \"Percent\": 20.3125}, {\"Effect quintile\": \"lowest effect\", \"Income group\": \"Upper middle\", \"Percent\": 30.5699481865285}, {\"Effect quintile\": \"middle low\", \"Income group\": \"Upper middle\", \"Percent\": 24.8704663212435}, {\"Effect quintile\": \"median\", \"Income group\": \"Upper middle\", \"Percent\": 13.471502590673602}, {\"Effect quintile\": \"middle high\", \"Income group\": \"Upper middle\", \"Percent\": 13.989637305699501}, {\"Effect quintile\": \"highest effect\", \"Income group\": \"Upper middle\", \"Percent\": 17.0984455958549}, {\"Effect quintile\": \"lowest effect\", \"Income group\": \"Highest\", \"Percent\": 25.9067357512953}, {\"Effect quintile\": \"middle low\", \"Income group\": \"Highest\", \"Percent\": 10.880829015544}, {\"Effect quintile\": \"median\", \"Income group\": \"Highest\", \"Percent\": 10.362694300518099}, {\"Effect quintile\": \"middle high\", \"Income group\": \"Highest\", \"Percent\": 28.4974093264249}, {\"Effect quintile\": \"highest effect\", \"Income group\": \"Highest\", \"Percent\": 24.3523316062176}]}}, {\"mode\": \"vega-lite\"});\n",
       "</script>"
      ],
      "text/plain": [
       "alt.Chart(...)"
      ]
     },
     "execution_count": 45,
     "metadata": {},
     "output_type": "execute_result"
    }
   ],
   "source": [
    "%run ../00_misc/helper-func-notebook.ipynb\n",
    "df_income_quintile = prptn_to_pct(gdf_temp / gdf_temp.sum(), 15)\n",
    "income_hbar = stacked_income_hbar(df_income_quintile, title=\"Allstate\")\n",
    "income_hbar.save(\"../00_misc/charts/allstate_income_quintile.png\")\n",
    "income_hbar"
   ]
  },
  {
   "cell_type": "markdown",
   "id": "1f9f58b7-1dae-4eb0-8e3f-9fa80846a245",
   "metadata": {},
   "source": [
    "## Export data\n",
    "\n",
    "This data is used to generate Datawrapper charts."
   ]
  },
  {
   "cell_type": "code",
   "execution_count": 46,
   "id": "667fb3c0-b2b8-4b32-8cc9-84092010c3e3",
   "metadata": {},
   "outputs": [
    {
     "data": {
      "text/html": [
       "<div>\n",
       "<style scoped>\n",
       "    .dataframe tbody tr th:only-of-type {\n",
       "        vertical-align: middle;\n",
       "    }\n",
       "\n",
       "    .dataframe tbody tr th {\n",
       "        vertical-align: top;\n",
       "    }\n",
       "\n",
       "    .dataframe thead th {\n",
       "        text-align: right;\n",
       "    }\n",
       "</style>\n",
       "<table border=\"1\" class=\"dataframe\">\n",
       "  <thead>\n",
       "    <tr style=\"text-align: right;\">\n",
       "      <th>race</th>\n",
       "      <th>lowest effect</th>\n",
       "      <th>middle low</th>\n",
       "      <th>median</th>\n",
       "      <th>middle high</th>\n",
       "      <th>highest effect</th>\n",
       "      <th>Insurer</th>\n",
       "    </tr>\n",
       "  </thead>\n",
       "  <tbody>\n",
       "    <tr>\n",
       "      <th>Black</th>\n",
       "      <td>8.0</td>\n",
       "      <td>4.6</td>\n",
       "      <td>8.6</td>\n",
       "      <td>9.9</td>\n",
       "      <td>68.9</td>\n",
       "      <td>Allstate</td>\n",
       "    </tr>\n",
       "    <tr>\n",
       "      <th>White</th>\n",
       "      <td>20.8</td>\n",
       "      <td>14.4</td>\n",
       "      <td>16.3</td>\n",
       "      <td>20.1</td>\n",
       "      <td>28.3</td>\n",
       "      <td>Allstate</td>\n",
       "    </tr>\n",
       "    <tr>\n",
       "      <th>Total</th>\n",
       "      <td>19.0</td>\n",
       "      <td>12.8</td>\n",
       "      <td>15.3</td>\n",
       "      <td>18.4</td>\n",
       "      <td>34.4</td>\n",
       "      <td>Allstate</td>\n",
       "    </tr>\n",
       "  </tbody>\n",
       "</table>\n",
       "</div>"
      ],
      "text/plain": [
       "race   lowest effect  middle low  median  middle high  highest effect  \\\n",
       "Black            8.0         4.6     8.6          9.9            68.9   \n",
       "White           20.8        14.4    16.3         20.1            28.3   \n",
       "Total           19.0        12.8    15.3         18.4            34.4   \n",
       "\n",
       "race    Insurer  \n",
       "Black  Allstate  \n",
       "White  Allstate  \n",
       "Total  Allstate  "
      ]
     },
     "execution_count": 46,
     "metadata": {},
     "output_type": "execute_result"
    }
   ],
   "source": [
    "%run ../00_misc/helper-func-notebook.ipynb\n",
    "df_export = datawrapper_race_distribution(df_distribution, \"Allstate\")\n",
    "df_export.to_csv(\"./outputs/allstate_race_chart_data.csv\")\n",
    "df_export"
   ]
  },
  {
   "cell_type": "code",
   "execution_count": 47,
   "id": "a507a27c-d070-46e5-b853-521a7e222298",
   "metadata": {},
   "outputs": [
    {
     "data": {
      "text/html": [
       "<div>\n",
       "<style scoped>\n",
       "    .dataframe tbody tr th:only-of-type {\n",
       "        vertical-align: middle;\n",
       "    }\n",
       "\n",
       "    .dataframe tbody tr th {\n",
       "        vertical-align: top;\n",
       "    }\n",
       "\n",
       "    .dataframe thead th {\n",
       "        text-align: right;\n",
       "    }\n",
       "</style>\n",
       "<table border=\"1\" class=\"dataframe\">\n",
       "  <thead>\n",
       "    <tr style=\"text-align: right;\">\n",
       "      <th>income</th>\n",
       "      <th>lowest effect</th>\n",
       "      <th>middle low</th>\n",
       "      <th>median</th>\n",
       "      <th>middle high</th>\n",
       "      <th>highest effect</th>\n",
       "      <th>Insurer</th>\n",
       "    </tr>\n",
       "  </thead>\n",
       "  <tbody>\n",
       "    <tr>\n",
       "      <th>Lowest income</th>\n",
       "      <td>17.098446</td>\n",
       "      <td>15.025907</td>\n",
       "      <td>23.316062</td>\n",
       "      <td>20.725389</td>\n",
       "      <td>23.834197</td>\n",
       "      <td>Allstate</td>\n",
       "    </tr>\n",
       "    <tr>\n",
       "      <th>Lower income</th>\n",
       "      <td>10.362694</td>\n",
       "      <td>22.797927</td>\n",
       "      <td>29.015544</td>\n",
       "      <td>23.316062</td>\n",
       "      <td>14.507772</td>\n",
       "      <td>Allstate</td>\n",
       "    </tr>\n",
       "    <tr>\n",
       "      <th>Middle income</th>\n",
       "      <td>16.145833</td>\n",
       "      <td>26.562500</td>\n",
       "      <td>23.437500</td>\n",
       "      <td>13.541667</td>\n",
       "      <td>20.312500</td>\n",
       "      <td>Allstate</td>\n",
       "    </tr>\n",
       "    <tr>\n",
       "      <th>Higher income</th>\n",
       "      <td>30.569948</td>\n",
       "      <td>24.870466</td>\n",
       "      <td>13.471503</td>\n",
       "      <td>13.989637</td>\n",
       "      <td>17.098446</td>\n",
       "      <td>Allstate</td>\n",
       "    </tr>\n",
       "    <tr>\n",
       "      <th>Highest incomes</th>\n",
       "      <td>25.906736</td>\n",
       "      <td>10.880829</td>\n",
       "      <td>10.362694</td>\n",
       "      <td>28.497409</td>\n",
       "      <td>24.352332</td>\n",
       "      <td>Allstate</td>\n",
       "    </tr>\n",
       "  </tbody>\n",
       "</table>\n",
       "</div>"
      ],
      "text/plain": [
       "income           lowest effect  middle low     median  middle high  \\\n",
       "Lowest income        17.098446   15.025907  23.316062    20.725389   \n",
       "Lower income         10.362694   22.797927  29.015544    23.316062   \n",
       "Middle income        16.145833   26.562500  23.437500    13.541667   \n",
       "Higher income        30.569948   24.870466  13.471503    13.989637   \n",
       "Highest incomes      25.906736   10.880829  10.362694    28.497409   \n",
       "\n",
       "income           highest effect   Insurer  \n",
       "Lowest income         23.834197  Allstate  \n",
       "Lower income          14.507772  Allstate  \n",
       "Middle income         20.312500  Allstate  \n",
       "Higher income         17.098446  Allstate  \n",
       "Highest incomes       24.352332  Allstate  "
      ]
     },
     "execution_count": 47,
     "metadata": {},
     "output_type": "execute_result"
    }
   ],
   "source": [
    "%run ../00_misc/helper-func-notebook.ipynb\n",
    "df_export = datawrapper_income_distribution(df_income_quintile, \"Allstate\")\n",
    "df_export.to_csv(\"./outputs/allstate_income_chart_data.csv\")\n",
    "df_export"
   ]
  },
  {
   "cell_type": "code",
   "execution_count": 48,
   "id": "88806666-c5ee-44de-9842-04ffa11435f7",
   "metadata": {},
   "outputs": [
    {
     "data": {
      "text/html": [
       "<div>\n",
       "<style scoped>\n",
       "    .dataframe tbody tr th:only-of-type {\n",
       "        vertical-align: middle;\n",
       "    }\n",
       "\n",
       "    .dataframe tbody tr th {\n",
       "        vertical-align: top;\n",
       "    }\n",
       "\n",
       "    .dataframe thead th {\n",
       "        text-align: right;\n",
       "    }\n",
       "</style>\n",
       "<table border=\"1\" class=\"dataframe\">\n",
       "  <thead>\n",
       "    <tr style=\"text-align: right;\">\n",
       "      <th>race</th>\n",
       "      <th>lowest density</th>\n",
       "      <th>middle low</th>\n",
       "      <th>median</th>\n",
       "      <th>middle high</th>\n",
       "      <th>highest density</th>\n",
       "      <th>Insurer</th>\n",
       "    </tr>\n",
       "  </thead>\n",
       "  <tbody>\n",
       "    <tr>\n",
       "      <th>Black</th>\n",
       "      <td>0.0</td>\n",
       "      <td>0.0</td>\n",
       "      <td>1.0</td>\n",
       "      <td>14.0</td>\n",
       "      <td>84.0</td>\n",
       "      <td>Allstate</td>\n",
       "    </tr>\n",
       "    <tr>\n",
       "      <th>White</th>\n",
       "      <td>3.0</td>\n",
       "      <td>8.0</td>\n",
       "      <td>15.0</td>\n",
       "      <td>34.0</td>\n",
       "      <td>39.0</td>\n",
       "      <td>Allstate</td>\n",
       "    </tr>\n",
       "    <tr>\n",
       "      <th>Total</th>\n",
       "      <td>3.0</td>\n",
       "      <td>7.0</td>\n",
       "      <td>13.0</td>\n",
       "      <td>31.0</td>\n",
       "      <td>48.0</td>\n",
       "      <td>Allstate</td>\n",
       "    </tr>\n",
       "  </tbody>\n",
       "</table>\n",
       "</div>"
      ],
      "text/plain": [
       "race   lowest density  middle low  median  middle high  highest density  \\\n",
       "Black             0.0         0.0     1.0         14.0             84.0   \n",
       "White             3.0         8.0    15.0         34.0             39.0   \n",
       "Total             3.0         7.0    13.0         31.0             48.0   \n",
       "\n",
       "race    Insurer  \n",
       "Black  Allstate  \n",
       "White  Allstate  \n",
       "Total  Allstate  "
      ]
     },
     "execution_count": 48,
     "metadata": {},
     "output_type": "execute_result"
    }
   ],
   "source": [
    "%run ../00_misc/helper-func-notebook.ipynb\n",
    "df_export = datawrapper_race_distribution(df_density_distribution, \"Allstate\")\n",
    "df_export.to_csv(\"./outputs/allstate_race_density_chart_data.csv\")\n",
    "df_export"
   ]
  },
  {
   "cell_type": "code",
   "execution_count": 49,
   "id": "61c68e91-d2d7-4485-8424-0e6875ae9c09",
   "metadata": {},
   "outputs": [
    {
     "data": {
      "text/html": [
       "<div>\n",
       "<style scoped>\n",
       "    .dataframe tbody tr th:only-of-type {\n",
       "        vertical-align: middle;\n",
       "    }\n",
       "\n",
       "    .dataframe tbody tr th {\n",
       "        vertical-align: top;\n",
       "    }\n",
       "\n",
       "    .dataframe thead th {\n",
       "        text-align: right;\n",
       "    }\n",
       "</style>\n",
       "<table border=\"1\" class=\"dataframe\">\n",
       "  <thead>\n",
       "    <tr style=\"text-align: right;\">\n",
       "      <th>Population density</th>\n",
       "      <th>lowest effect</th>\n",
       "      <th>middle low</th>\n",
       "      <th>median</th>\n",
       "      <th>middle high</th>\n",
       "      <th>highest effect</th>\n",
       "      <th>Insurer</th>\n",
       "    </tr>\n",
       "  </thead>\n",
       "  <tbody>\n",
       "    <tr>\n",
       "      <th>Lowest density</th>\n",
       "      <td>15.5</td>\n",
       "      <td>28.5</td>\n",
       "      <td>25.9</td>\n",
       "      <td>28.0</td>\n",
       "      <td>2.1</td>\n",
       "      <td>Allstate</td>\n",
       "    </tr>\n",
       "    <tr>\n",
       "      <th>Lower density</th>\n",
       "      <td>17.6</td>\n",
       "      <td>24.4</td>\n",
       "      <td>29.5</td>\n",
       "      <td>19.7</td>\n",
       "      <td>8.8</td>\n",
       "      <td>Allstate</td>\n",
       "    </tr>\n",
       "    <tr>\n",
       "      <th>Middle density</th>\n",
       "      <td>25.0</td>\n",
       "      <td>27.6</td>\n",
       "      <td>21.9</td>\n",
       "      <td>12.0</td>\n",
       "      <td>13.5</td>\n",
       "      <td>Allstate</td>\n",
       "    </tr>\n",
       "    <tr>\n",
       "      <th>Higher density</th>\n",
       "      <td>33.7</td>\n",
       "      <td>13.5</td>\n",
       "      <td>13.5</td>\n",
       "      <td>23.3</td>\n",
       "      <td>16.1</td>\n",
       "      <td>Allstate</td>\n",
       "    </tr>\n",
       "    <tr>\n",
       "      <th>Highest density</th>\n",
       "      <td>8.3</td>\n",
       "      <td>6.2</td>\n",
       "      <td>8.8</td>\n",
       "      <td>17.1</td>\n",
       "      <td>59.6</td>\n",
       "      <td>Allstate</td>\n",
       "    </tr>\n",
       "  </tbody>\n",
       "</table>\n",
       "</div>"
      ],
      "text/plain": [
       "Population density  lowest effect  middle low  median  middle high  \\\n",
       "Lowest density               15.5        28.5    25.9         28.0   \n",
       "Lower density                17.6        24.4    29.5         19.7   \n",
       "Middle density               25.0        27.6    21.9         12.0   \n",
       "Higher density               33.7        13.5    13.5         23.3   \n",
       "Highest density               8.3         6.2     8.8         17.1   \n",
       "\n",
       "Population density  highest effect   Insurer  \n",
       "Lowest density                 2.1  Allstate  \n",
       "Lower density                  8.8  Allstate  \n",
       "Middle density                13.5  Allstate  \n",
       "Higher density                16.1  Allstate  \n",
       "Highest density               59.6  Allstate  "
      ]
     },
     "execution_count": 49,
     "metadata": {},
     "output_type": "execute_result"
    }
   ],
   "source": [
    "%run ../00_misc/helper-func-notebook.ipynb\n",
    "df_export = datawrapper_pop_density_distribution(df_density_quintile, \"Allstate\")\n",
    "df_export.to_csv(\"./outputs/allstate_pop_density_chart_data.csv\")\n",
    "df_export"
   ]
  },
  {
   "cell_type": "markdown",
   "id": "9a277d0e-0c7b-4cc3-a537-218e5690d72e",
   "metadata": {},
   "source": [
    "## Exclude Detroit\n",
    "\n",
    "Rerun the quintile analysis without Detroit"
   ]
  },
  {
   "cell_type": "code",
   "execution_count": 50,
   "id": "6cec5a0b-3000-4338-a39f-eecf61818050",
   "metadata": {},
   "outputs": [],
   "source": [
    "gdf_groupby_geo_id = (\n",
    "    gdf[~gdf[\"is_in_detroit\"]].groupby(\"geo_id\")[GEOID_GROUP_BY_COLS].mean()\n",
    ")\n",
    "gdf_groupby_geo_id[\"income_quantile\"] = pd.qcut(\n",
    "    gdf_groupby_geo_id[\"median_income\"],\n",
    "    q=len(INCOME_Q_LABELS),\n",
    "    labels=INCOME_Q_LABELS,\n",
    ")\n",
    "gdf_groupby_geo_id[\"effect_quantile\"] = pd.qcut(\n",
    "    gdf_groupby_geo_id[\"generic_location_based_premium\"],\n",
    "    q=len(RATE_Q_LABELS),\n",
    "    labels=RATE_Q_LABELS,\n",
    ")\n",
    "gdf_groupby_geo_id[\"effect_quantile\"] = pd.qcut(\n",
    "    gdf_groupby_geo_id[\"generic_location_based_premium\"],\n",
    "    q=len(RATE_Q_LABELS),\n",
    "    labels=RATE_Q_LABELS,\n",
    ")\n",
    "gdf_groupby_geo_id[\"density_quantile\"] = pd.qcut(\n",
    "    gdf_groupby_geo_id[\"density\"], q=len(DENSITY_Q_LABELS), labels=DENSITY_Q_LABELS\n",
    ")"
   ]
  },
  {
   "cell_type": "markdown",
   "id": "cc34ede8-586c-429b-bc0d-e18dd02bb6c3",
   "metadata": {},
   "source": [
    "This calculates (subset in quantile / total in quantile)\n",
    "\n",
    "For example: TK% of people living in a top quarter of rates are Black."
   ]
  },
  {
   "cell_type": "code",
   "execution_count": 51,
   "id": "664f0da8-0696-4689-aaa0-38ada9c587f2",
   "metadata": {},
   "outputs": [
    {
     "name": "stdout",
     "output_type": "stream",
     "text": [
      "This calculates (group subset in quantile / total group population)\n"
     ]
    },
    {
     "data": {
      "text/html": [
       "<div>\n",
       "<style scoped>\n",
       "    .dataframe tbody tr th:only-of-type {\n",
       "        vertical-align: middle;\n",
       "    }\n",
       "\n",
       "    .dataframe tbody tr th {\n",
       "        vertical-align: top;\n",
       "    }\n",
       "\n",
       "    .dataframe thead th {\n",
       "        text-align: right;\n",
       "    }\n",
       "</style>\n",
       "<table border=\"1\" class=\"dataframe\">\n",
       "  <thead>\n",
       "    <tr style=\"text-align: right;\">\n",
       "      <th></th>\n",
       "      <th>black_tot</th>\n",
       "      <th>white_tot</th>\n",
       "      <th>total_pop</th>\n",
       "    </tr>\n",
       "    <tr>\n",
       "      <th>effect_quantile</th>\n",
       "      <th></th>\n",
       "      <th></th>\n",
       "      <th></th>\n",
       "    </tr>\n",
       "  </thead>\n",
       "  <tbody>\n",
       "    <tr>\n",
       "      <th>lowest effect</th>\n",
       "      <td>12.2</td>\n",
       "      <td>20.8</td>\n",
       "      <td>20.0</td>\n",
       "    </tr>\n",
       "    <tr>\n",
       "      <th>middle low</th>\n",
       "      <td>6.7</td>\n",
       "      <td>13.7</td>\n",
       "      <td>12.8</td>\n",
       "    </tr>\n",
       "    <tr>\n",
       "      <th>median</th>\n",
       "      <td>13.3</td>\n",
       "      <td>16.5</td>\n",
       "      <td>16.5</td>\n",
       "    </tr>\n",
       "    <tr>\n",
       "      <th>middle high</th>\n",
       "      <td>13.9</td>\n",
       "      <td>18.0</td>\n",
       "      <td>17.4</td>\n",
       "    </tr>\n",
       "    <tr>\n",
       "      <th>highest effect</th>\n",
       "      <td>53.9</td>\n",
       "      <td>31.0</td>\n",
       "      <td>33.3</td>\n",
       "    </tr>\n",
       "  </tbody>\n",
       "</table>\n",
       "</div>"
      ],
      "text/plain": [
       "                 black_tot  white_tot  total_pop\n",
       "effect_quantile                                 \n",
       "lowest effect         12.2       20.8       20.0\n",
       "middle low             6.7       13.7       12.8\n",
       "median                13.3       16.5       16.5\n",
       "middle high           13.9       18.0       17.4\n",
       "highest effect        53.9       31.0       33.3"
      ]
     },
     "execution_count": 51,
     "metadata": {},
     "output_type": "execute_result"
    }
   ],
   "source": [
    "gdf_groupby_quantiles = gdf_groupby_geo_id.groupby(\"effect_quantile\", observed=False)[\n",
    "    QUANTILE_GROUP_BY_COLS\n",
    "].sum()\n",
    "\n",
    "\n",
    "print(\"This calculates (group subset in quantile / total group population)\")\n",
    "df_distribution = prptn_to_pct(\n",
    "    gdf_groupby_quantiles.div(gdf_groupby_quantiles.sum(axis=0), axis=1)\n",
    ")\n",
    "df_distribution"
   ]
  },
  {
   "cell_type": "markdown",
   "id": "1a57a971-c078-4673-ab14-6cbab6ab2eae",
   "metadata": {},
   "source": [
    "## Neighboring tracts\n",
    "\n",
    "> However, when we identified the territory borders across which there were major adjustment differences, 84 percent lined up with ZCTA boundaries. **Only 55 percent were along census tract lines.**"
   ]
  },
  {
   "cell_type": "code",
   "execution_count": 52,
   "id": "78c9df33-6a29-41fd-8ef0-de27e22e075d",
   "metadata": {
    "tags": []
   },
   "outputs": [],
   "source": [
    "GDF_TRACTS = gpd.read_file(TRACT_GIS_FP)\n",
    "GDF_TRACTS = GDF_TRACTS[GDF_TRACTS[\"total_pop\"] > 0]\n",
    "gdf_tracts = GDF_TRACTS[TRACT_COLS].copy()\n",
    "\n",
    "gdf_tract_test = gdf[RATE_EFFECT_COLUMNS].to_crs(gdf_tracts.crs).copy()\n",
    "\n",
    "gdf_tracts_join = gdf_tract_test.sjoin(gdf_tracts, how=\"inner\", predicate=\"intersects\")"
   ]
  },
  {
   "cell_type": "code",
   "execution_count": 53,
   "id": "db62192e-0723-48fc-b7d9-2cb3bd2c5f3d",
   "metadata": {},
   "outputs": [],
   "source": [
    "gdf_tract_nn = gdf_tracts_join.copy()\n",
    "gdf_tract_nn = gdf_tract_nn.to_crs(GEOGRAPHIC_CRS)\n",
    "n_nearest_neighbors(gdf_tract_nn, NEAREST_NEIGHBOR_COUNT)\n",
    "\n",
    "div_cols = list(map(\"NEIGHBOR_DIV_{}\".format, range(1, NEAREST_NEIGHBOR_COUNT + 1)))\n",
    "nn_cols = list(map(\"NEIGHBOR_RATE_{}\".format, range(1, NEAREST_NEIGHBOR_COUNT + 1)))\n",
    "\n",
    "gdf_tract_nn[\"loc_rate_div_min_nn\"] = round(gdf_tract_nn[div_cols].max(axis=1), 2)\n",
    "gdf_tract_nn[\"nn_min_val\"] = gdf_tract_nn[nn_cols].min(axis=1)\n",
    "gdf_tract_nn[\"is_tract_border\"] = (gdf_tract_nn[\"neighbors_geo_id\"].apply(len) > 1) & (\n",
    "    gdf_tract_nn[\"neighbors_geo_id\"].apply(len) > 1\n",
    ")"
   ]
  },
  {
   "cell_type": "code",
   "execution_count": 54,
   "id": "31c6887d-9c13-4526-a00e-8f278732382b",
   "metadata": {},
   "outputs": [
    {
     "data": {
      "text/plain": [
       "'When we filtered for where an adjacent territory increased the location effect by at least 10 percent,\\n55.00000000000001 percent of those territories were along a tract boundary.'"
      ]
     },
     "execution_count": 54,
     "metadata": {},
     "output_type": "execute_result"
    }
   ],
   "source": [
    "ASSERTED_PCT = 55\n",
    "points_above_ratio_count = len(gdf_tract_nn[gdf_tract_nn[\"loc_rate_div_min_nn\"] > 1.1])\n",
    "border_points_above_ratio_count = gdf_tract_nn[\n",
    "    gdf_tract_nn[\"loc_rate_div_min_nn\"] > 1.1\n",
    "][\"is_tract_border\"].sum()\n",
    "observed_pct = prptn_to_pct(\n",
    "    border_points_above_ratio_count / points_above_ratio_count, 2\n",
    ")\n",
    "assert ASSERTED_PCT == round(observed_pct)\n",
    "f\"\"\"When we filtered for where an adjacent territory increased the location effect by at least 10 percent,\n",
    "{observed_pct} percent of those territories were along a tract boundary.\"\"\""
   ]
  },
  {
   "cell_type": "markdown",
   "id": "15c8c94a-d6be-46e6-8bc7-9558e98a3721",
   "metadata": {},
   "source": [
    "## Different quantile approaches\n",
    "\n",
    "These are the results for different approaches to categorizing and analyzing the data into quantiles."
   ]
  },
  {
   "cell_type": "markdown",
   "id": "d7e8a15e-7164-455e-9d4b-5a5d4e856b5a",
   "metadata": {},
   "source": [
    "### Drop quantile duplicate entries\n",
    "\n",
    "- Drop duplicated within each quantile but retain any duplicates across quantiles"
   ]
  },
  {
   "cell_type": "code",
   "execution_count": 55,
   "id": "5522e187-ff5f-496a-b0e5-f5b5786b2780",
   "metadata": {},
   "outputs": [
    {
     "name": "stdout",
     "output_type": "stream",
     "text": [
      "After dropping duplicates within the quantiles, 0.7282157676348547 percent ZCTAs are categorized in to multiple quantiles\n"
     ]
    }
   ],
   "source": [
    "gdf[\"effect_quantile\"] = pd.qcut(\n",
    "    gdf[\"generic_location_based_premium\"], q=len(RATE_Q_LABELS), labels=RATE_Q_LABELS\n",
    ")\n",
    "gdf_temp = gdf[QUANTILE_ANALYSIS_COLS]\n",
    "gdf_temp = gdf_temp.drop_duplicates([\"geo_id\", \"effect_quantile\"])\n",
    "duplicated_pct = gdf_temp[\"geo_id\"].duplicated().sum() / gdf_temp[\"geo_id\"].nunique()\n",
    "print(\n",
    "    f\"After dropping duplicates within the quantiles, {duplicated_pct} percent ZCTAs are categorized in to multiple quantiles\"\n",
    ")"
   ]
  },
  {
   "cell_type": "code",
   "execution_count": 56,
   "id": "3faf4a7e-9d80-48dc-a49c-850fcfde5432",
   "metadata": {},
   "outputs": [
    {
     "data": {
      "text/html": [
       "<div>\n",
       "<style scoped>\n",
       "    .dataframe tbody tr th:only-of-type {\n",
       "        vertical-align: middle;\n",
       "    }\n",
       "\n",
       "    .dataframe tbody tr th {\n",
       "        vertical-align: top;\n",
       "    }\n",
       "\n",
       "    .dataframe thead th {\n",
       "        text-align: right;\n",
       "    }\n",
       "</style>\n",
       "<table border=\"1\" class=\"dataframe\">\n",
       "  <thead>\n",
       "    <tr style=\"text-align: right;\">\n",
       "      <th></th>\n",
       "      <th>black_tot</th>\n",
       "      <th>white_tot</th>\n",
       "      <th>total_pop</th>\n",
       "    </tr>\n",
       "    <tr>\n",
       "      <th>effect_quantile</th>\n",
       "      <th></th>\n",
       "      <th></th>\n",
       "      <th></th>\n",
       "    </tr>\n",
       "  </thead>\n",
       "  <tbody>\n",
       "    <tr>\n",
       "      <th>lowest effect</th>\n",
       "      <td>0.076326</td>\n",
       "      <td>0.168691</td>\n",
       "      <td>0.158666</td>\n",
       "    </tr>\n",
       "    <tr>\n",
       "      <th>middle low</th>\n",
       "      <td>0.072386</td>\n",
       "      <td>0.164563</td>\n",
       "      <td>0.152580</td>\n",
       "    </tr>\n",
       "    <tr>\n",
       "      <th>median</th>\n",
       "      <td>0.097630</td>\n",
       "      <td>0.190978</td>\n",
       "      <td>0.180251</td>\n",
       "    </tr>\n",
       "    <tr>\n",
       "      <th>middle high</th>\n",
       "      <td>0.085838</td>\n",
       "      <td>0.162484</td>\n",
       "      <td>0.152853</td>\n",
       "    </tr>\n",
       "    <tr>\n",
       "      <th>highest effect</th>\n",
       "      <td>0.667819</td>\n",
       "      <td>0.313284</td>\n",
       "      <td>0.355651</td>\n",
       "    </tr>\n",
       "  </tbody>\n",
       "</table>\n",
       "</div>"
      ],
      "text/plain": [
       "                 black_tot  white_tot  total_pop\n",
       "effect_quantile                                 \n",
       "lowest effect     0.076326   0.168691   0.158666\n",
       "middle low        0.072386   0.164563   0.152580\n",
       "median            0.097630   0.190978   0.180251\n",
       "middle high       0.085838   0.162484   0.152853\n",
       "highest effect    0.667819   0.313284   0.355651"
      ]
     },
     "execution_count": 56,
     "metadata": {},
     "output_type": "execute_result"
    }
   ],
   "source": [
    "gdf_temp = gdf_temp.groupby(\"effect_quantile\", observed=False)[\n",
    "    QUANTILE_GROUP_BY_COLS\n",
    "].sum()\n",
    "\n",
    "gdf_temp.div(gdf_temp.sum(axis=0), axis=1)"
   ]
  },
  {
   "cell_type": "markdown",
   "id": "f9f2060d-8b3b-4dd8-af55-5cca200ae574",
   "metadata": {},
   "source": [
    "### Drop all duplicates"
   ]
  },
  {
   "cell_type": "code",
   "execution_count": 57,
   "id": "42a96171-3e97-45aa-b271-1df22fda52a3",
   "metadata": {},
   "outputs": [
    {
     "name": "stdout",
     "output_type": "stream",
     "text": [
      "After dropping duplicates within the quantiles, 0.0 percent ZCTAs are categorized in to multiple quantiles\n"
     ]
    }
   ],
   "source": [
    "gdf[\"effect_quantile\"] = pd.qcut(\n",
    "    gdf[\"generic_location_based_premium\"], q=len(RATE_Q_LABELS), labels=RATE_Q_LABELS\n",
    ")\n",
    "gdf_temp = gdf[QUANTILE_ANALYSIS_COLS]\n",
    "gdf_temp = gdf_temp.sort_values([\"generic_location_based_premium\"])\n",
    "gdf_temp = gdf_temp.drop_duplicates([\"geo_id\"])\n",
    "duplicated_pct = gdf_temp[\"geo_id\"].duplicated().sum() / gdf_temp[\"geo_id\"].nunique()\n",
    "print(\n",
    "    f\"After dropping duplicates within the quantiles, {duplicated_pct} percent ZCTAs are categorized in to multiple quantiles\"\n",
    ")"
   ]
  },
  {
   "cell_type": "code",
   "execution_count": 58,
   "id": "f41f8e5a-7d33-4d55-8dba-89a7ff0cbbdb",
   "metadata": {},
   "outputs": [
    {
     "data": {
      "text/html": [
       "<div>\n",
       "<style scoped>\n",
       "    .dataframe tbody tr th:only-of-type {\n",
       "        vertical-align: middle;\n",
       "    }\n",
       "\n",
       "    .dataframe tbody tr th {\n",
       "        vertical-align: top;\n",
       "    }\n",
       "\n",
       "    .dataframe thead th {\n",
       "        text-align: right;\n",
       "    }\n",
       "</style>\n",
       "<table border=\"1\" class=\"dataframe\">\n",
       "  <thead>\n",
       "    <tr style=\"text-align: right;\">\n",
       "      <th></th>\n",
       "      <th>black_tot</th>\n",
       "      <th>white_tot</th>\n",
       "      <th>total_pop</th>\n",
       "    </tr>\n",
       "    <tr>\n",
       "      <th>effect_quantile</th>\n",
       "      <th></th>\n",
       "      <th></th>\n",
       "      <th></th>\n",
       "    </tr>\n",
       "  </thead>\n",
       "  <tbody>\n",
       "    <tr>\n",
       "      <th>lowest effect</th>\n",
       "      <td>0.089719</td>\n",
       "      <td>0.263043</td>\n",
       "      <td>0.236550</td>\n",
       "    </tr>\n",
       "    <tr>\n",
       "      <th>middle low</th>\n",
       "      <td>0.067376</td>\n",
       "      <td>0.143097</td>\n",
       "      <td>0.131554</td>\n",
       "    </tr>\n",
       "    <tr>\n",
       "      <th>median</th>\n",
       "      <td>0.043935</td>\n",
       "      <td>0.110248</td>\n",
       "      <td>0.099988</td>\n",
       "    </tr>\n",
       "    <tr>\n",
       "      <th>middle high</th>\n",
       "      <td>0.062169</td>\n",
       "      <td>0.092046</td>\n",
       "      <td>0.090318</td>\n",
       "    </tr>\n",
       "    <tr>\n",
       "      <th>highest effect</th>\n",
       "      <td>0.736802</td>\n",
       "      <td>0.391567</td>\n",
       "      <td>0.441590</td>\n",
       "    </tr>\n",
       "  </tbody>\n",
       "</table>\n",
       "</div>"
      ],
      "text/plain": [
       "                 black_tot  white_tot  total_pop\n",
       "effect_quantile                                 \n",
       "lowest effect     0.089719   0.263043   0.236550\n",
       "middle low        0.067376   0.143097   0.131554\n",
       "median            0.043935   0.110248   0.099988\n",
       "middle high       0.062169   0.092046   0.090318\n",
       "highest effect    0.736802   0.391567   0.441590"
      ]
     },
     "execution_count": 58,
     "metadata": {},
     "output_type": "execute_result"
    }
   ],
   "source": [
    "gdf_temp = gdf_temp.groupby(\"effect_quantile\", observed=False)[\n",
    "    QUANTILE_GROUP_BY_COLS\n",
    "].sum()\n",
    "gdf_temp.div(gdf_temp.sum(axis=0), axis=1)"
   ]
  },
  {
   "cell_type": "code",
   "execution_count": null,
   "id": "c9d6865d-b0b8-4ada-ae0d-e2f31660d67e",
   "metadata": {},
   "outputs": [],
   "source": []
  }
 ],
 "metadata": {
  "kernelspec": {
   "display_name": "Python 3 (ipykernel)",
   "language": "python",
   "name": "python3"
  },
  "language_info": {
   "codemirror_mode": {
    "name": "ipython",
    "version": 3
   },
   "file_extension": ".py",
   "mimetype": "text/x-python",
   "name": "python",
   "nbconvert_exporter": "python",
   "pygments_lexer": "ipython3",
   "version": "3.11.9"
  }
 },
 "nbformat": 4,
 "nbformat_minor": 5
}
