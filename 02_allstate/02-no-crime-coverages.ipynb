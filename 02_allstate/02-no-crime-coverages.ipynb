{
 "cells": [
  {
   "cell_type": "markdown",
   "id": "7c1e7e71-0d80-42e5-9766-4449511c6147",
   "metadata": {},
   "source": [
    "# No crime related coverages analysis\n",
    "\n",
    "Author: Mo Al Elew\n",
    "\n",
    "**What notebook does/produces:**\n",
    "\n",
    "Rerun our quintile racial distribution analysis factoring out insurance coverage types that could pay out following a car theft or break-in to investigate whether the racial gaps could be related to differences in rates of vehicular crimes\n",
    "\n",
    "**Approach:**\n",
    "\n",
    "The general pattern includes:\n",
    "1. Identify coverages that could pay out following a car theft or break-in\n",
    "2. Filter out those coverages and calculate a generic base rate premium excluding crime-related coverages\n",
    "3. Recalculate the location effect using the noncrime generic base rate premium\n",
    "4. Sort the non-crime premium data into quintiles\n",
    "5. Rerun the racial population distribution analysis with noncrime premium data\n",
    "6. Compare to the crime coverage inclusive population distribution to the noncrime population distribution\n",
    "\n",
    "**Conclusion**\n",
    "\n",
    "Little to no change in population distribution"
   ]
  },
  {
   "cell_type": "code",
   "execution_count": 1,
   "id": "3df351cf-9039-4508-baf8-ae6746153b91",
   "metadata": {},
   "outputs": [],
   "source": [
    "import geopandas as gpd\n",
    "import pandas as pd"
   ]
  },
  {
   "cell_type": "markdown",
   "id": "35c7c2d5-77c7-4869-9975-6eb40929c645",
   "metadata": {},
   "source": [
    "# Constants and helper functions"
   ]
  },
  {
   "cell_type": "code",
   "execution_count": 2,
   "id": "bd3e2f62-9a10-41d0-8d82-ffda973fd4eb",
   "metadata": {},
   "outputs": [],
   "source": [
    "DATA_FP = \"./outputs/allstate_auto_gis.geojson\""
   ]
  },
  {
   "cell_type": "code",
   "execution_count": 3,
   "id": "1976c706-da59-47df-bb62-b66d7129ad90",
   "metadata": {},
   "outputs": [],
   "source": [
    "CRIME_RELATED_COVERAGES = [\n",
    "    \"rate_comprehensive\",\n",
    "]\n",
    "\n",
    "RATE_Q_LABELS = [\n",
    "    \"lowest effect\",\n",
    "    \"middle low\",\n",
    "    \"median\",\n",
    "    \"middle high\",\n",
    "    \"highest effect\",\n",
    "]\n",
    "\n",
    "GEOID_GROUP_BY_COLS = [\n",
    "    \"generic_location_based_premium\",\n",
    "    \"non_crime_generic_premium\",\n",
    "    \"white_tot\",\n",
    "    \"black_tot\",\n",
    "    \"tot_pop\",\n",
    "    \"density\",\n",
    "    \"median_income\",\n",
    "]\n",
    "\n",
    "QUANTILE_GROUP_BY_COLS = [\"black_tot\", \"white_tot\", \"tot_pop\"]"
   ]
  },
  {
   "cell_type": "code",
   "execution_count": 4,
   "id": "9d65f3d4-ee31-4751-9c96-e175e1a3a60c",
   "metadata": {},
   "outputs": [],
   "source": [
    "ROUNDING_PRECISION = 2"
   ]
  },
  {
   "cell_type": "code",
   "execution_count": 5,
   "id": "2ad77793-62d3-4a2d-89d5-b8b7671b92c1",
   "metadata": {},
   "outputs": [],
   "source": [
    "def get_rate_columns(df_rate_table):\n",
    "    RATE_PREFIX = \"rate_\"\n",
    "    return [col for col in df_rate_table.columns if col.startswith(RATE_PREFIX)]\n",
    "\n",
    "\n",
    "def prptn_to_pct(val, precision=ROUNDING_PRECISION):\n",
    "    return round(val, precision) * 100"
   ]
  },
  {
   "cell_type": "markdown",
   "id": "b418670a-4578-4436-9ad8-923f19db77d5",
   "metadata": {},
   "source": [
    "# Read data"
   ]
  },
  {
   "cell_type": "code",
   "execution_count": 6,
   "id": "deda47cb-1b1f-45d8-afe0-afcd98700cc2",
   "metadata": {},
   "outputs": [],
   "source": [
    "GDF = gpd.read_file(DATA_FP)\n",
    "GDF[\"tot_pop\"] = GDF[\"total_pop\"]"
   ]
  },
  {
   "cell_type": "markdown",
   "id": "05bf67cb-fb4b-4124-88c9-7389f8b2022b",
   "metadata": {},
   "source": [
    "# Process"
   ]
  },
  {
   "cell_type": "markdown",
   "id": "6961ff32-e73e-4156-92cf-4fff7a547949",
   "metadata": {},
   "source": [
    "## Factor out crime related coverages"
   ]
  },
  {
   "cell_type": "code",
   "execution_count": 7,
   "id": "e31ae46d-4863-4903-b611-a68273bd7267",
   "metadata": {},
   "outputs": [],
   "source": [
    "non_crime_coverages = [\n",
    "    col for col in get_rate_columns(GDF) if col not in CRIME_RELATED_COVERAGES\n",
    "]\n",
    "gdf = GDF.copy()"
   ]
  },
  {
   "cell_type": "markdown",
   "id": "fbaa869a-c070-48ef-ad6c-cf8c344a6362",
   "metadata": {},
   "source": [
    "## Recalculate location effect"
   ]
  },
  {
   "cell_type": "code",
   "execution_count": 8,
   "id": "ee7844fc-a0e6-4fd1-b3a8-328b07590896",
   "metadata": {},
   "outputs": [],
   "source": [
    "gdf[\"non_crime_generic_premium\"] = round(gdf[non_crime_coverages].sum(axis=1))\n",
    "\n",
    "gdf[\"non_crime_location_effect\"] = round(\n",
    "    gdf[\"non_crime_generic_premium\"] / gdf[\"non_crime_generic_premium\"].median(),\n",
    "    ROUNDING_PRECISION,\n",
    ")"
   ]
  },
  {
   "cell_type": "markdown",
   "id": "b2350121-f8ff-4529-ac15-395d3378fec5",
   "metadata": {},
   "source": [
    "# Analysis"
   ]
  },
  {
   "attachments": {},
   "cell_type": "markdown",
   "id": "120b3262-09a7-4c19-b7f5-e61e3d91dd1b",
   "metadata": {},
   "source": [
    "## Rate quantiles\n",
    "\n",
    "I average the generic rate for each ZCTA `geo_id`. I average the rates by geographic id to avoid double counting geographies."
   ]
  },
  {
   "cell_type": "code",
   "execution_count": 9,
   "id": "a87ccaa0-ea45-4133-9e03-07e07a6ff25c",
   "metadata": {},
   "outputs": [],
   "source": [
    "gdf_groupby_geo_id = gdf.groupby(\"geo_id\")[GEOID_GROUP_BY_COLS].mean()\n",
    "\n",
    "gdf_groupby_geo_id[\"effect_quantile\"] = pd.qcut(\n",
    "    gdf_groupby_geo_id[\"generic_location_based_premium\"],\n",
    "    q=len(RATE_Q_LABELS),\n",
    "    labels=RATE_Q_LABELS,\n",
    ")\n",
    "gdf_groupby_geo_id[\"non_crime_effect_quantile\"] = pd.qcut(\n",
    "    gdf_groupby_geo_id[\"non_crime_generic_premium\"],\n",
    "    q=len(RATE_Q_LABELS),\n",
    "    labels=RATE_Q_LABELS,\n",
    ")"
   ]
  },
  {
   "cell_type": "code",
   "execution_count": 10,
   "id": "0a011819-390c-4c10-80ba-0994c4ec00a3",
   "metadata": {},
   "outputs": [
    {
     "name": "stdout",
     "output_type": "stream",
     "text": [
      "This calculates (group subset in quantile / total group population)\n"
     ]
    },
    {
     "data": {
      "text/html": [
       "<div>\n",
       "<style scoped>\n",
       "    .dataframe tbody tr th:only-of-type {\n",
       "        vertical-align: middle;\n",
       "    }\n",
       "\n",
       "    .dataframe tbody tr th {\n",
       "        vertical-align: top;\n",
       "    }\n",
       "\n",
       "    .dataframe thead th {\n",
       "        text-align: right;\n",
       "    }\n",
       "</style>\n",
       "<table border=\"1\" class=\"dataframe\">\n",
       "  <thead>\n",
       "    <tr style=\"text-align: right;\">\n",
       "      <th></th>\n",
       "      <th>black_tot</th>\n",
       "      <th>white_tot</th>\n",
       "      <th>tot_pop</th>\n",
       "    </tr>\n",
       "    <tr>\n",
       "      <th>effect_quantile</th>\n",
       "      <th></th>\n",
       "      <th></th>\n",
       "      <th></th>\n",
       "    </tr>\n",
       "  </thead>\n",
       "  <tbody>\n",
       "    <tr>\n",
       "      <th>lowest effect</th>\n",
       "      <td>8.0</td>\n",
       "      <td>20.8</td>\n",
       "      <td>19.0</td>\n",
       "    </tr>\n",
       "    <tr>\n",
       "      <th>middle low</th>\n",
       "      <td>4.6</td>\n",
       "      <td>14.4</td>\n",
       "      <td>12.8</td>\n",
       "    </tr>\n",
       "    <tr>\n",
       "      <th>median</th>\n",
       "      <td>8.6</td>\n",
       "      <td>16.3</td>\n",
       "      <td>15.3</td>\n",
       "    </tr>\n",
       "    <tr>\n",
       "      <th>middle high</th>\n",
       "      <td>9.9</td>\n",
       "      <td>20.1</td>\n",
       "      <td>18.4</td>\n",
       "    </tr>\n",
       "    <tr>\n",
       "      <th>highest effect</th>\n",
       "      <td>68.9</td>\n",
       "      <td>28.3</td>\n",
       "      <td>34.4</td>\n",
       "    </tr>\n",
       "  </tbody>\n",
       "</table>\n",
       "</div>"
      ],
      "text/plain": [
       "                 black_tot  white_tot  tot_pop\n",
       "effect_quantile                               \n",
       "lowest effect          8.0       20.8     19.0\n",
       "middle low             4.6       14.4     12.8\n",
       "median                 8.6       16.3     15.3\n",
       "middle high            9.9       20.1     18.4\n",
       "highest effect        68.9       28.3     34.4"
      ]
     },
     "execution_count": 10,
     "metadata": {},
     "output_type": "execute_result"
    }
   ],
   "source": [
    "gdf_groupby_quantiles = gdf_groupby_geo_id.groupby(\"effect_quantile\", observed=False)[\n",
    "    QUANTILE_GROUP_BY_COLS\n",
    "].sum()\n",
    "\n",
    "\n",
    "print(\"This calculates (group subset in quantile / total group population)\")\n",
    "df_distribution = prptn_to_pct(\n",
    "    gdf_groupby_quantiles.div(gdf_groupby_quantiles.sum(axis=0), axis=1), 3\n",
    ")\n",
    "df_distribution"
   ]
  },
  {
   "cell_type": "code",
   "execution_count": 11,
   "id": "78a4a05e-6630-4fec-ae8e-f21b159c7fbe",
   "metadata": {},
   "outputs": [
    {
     "name": "stdout",
     "output_type": "stream",
     "text": [
      "This calculates (group subset in quantile / total group population)\n"
     ]
    },
    {
     "data": {
      "text/html": [
       "<div>\n",
       "<style scoped>\n",
       "    .dataframe tbody tr th:only-of-type {\n",
       "        vertical-align: middle;\n",
       "    }\n",
       "\n",
       "    .dataframe tbody tr th {\n",
       "        vertical-align: top;\n",
       "    }\n",
       "\n",
       "    .dataframe thead th {\n",
       "        text-align: right;\n",
       "    }\n",
       "</style>\n",
       "<table border=\"1\" class=\"dataframe\">\n",
       "  <thead>\n",
       "    <tr style=\"text-align: right;\">\n",
       "      <th></th>\n",
       "      <th>black_tot</th>\n",
       "      <th>white_tot</th>\n",
       "      <th>tot_pop</th>\n",
       "    </tr>\n",
       "    <tr>\n",
       "      <th>non_crime_effect_quantile</th>\n",
       "      <th></th>\n",
       "      <th></th>\n",
       "      <th></th>\n",
       "    </tr>\n",
       "  </thead>\n",
       "  <tbody>\n",
       "    <tr>\n",
       "      <th>lowest effect</th>\n",
       "      <td>8.0</td>\n",
       "      <td>20.8</td>\n",
       "      <td>19.0</td>\n",
       "    </tr>\n",
       "    <tr>\n",
       "      <th>middle low</th>\n",
       "      <td>4.6</td>\n",
       "      <td>14.4</td>\n",
       "      <td>12.9</td>\n",
       "    </tr>\n",
       "    <tr>\n",
       "      <th>median</th>\n",
       "      <td>8.5</td>\n",
       "      <td>16.0</td>\n",
       "      <td>15.1</td>\n",
       "    </tr>\n",
       "    <tr>\n",
       "      <th>middle high</th>\n",
       "      <td>9.7</td>\n",
       "      <td>20.0</td>\n",
       "      <td>18.3</td>\n",
       "    </tr>\n",
       "    <tr>\n",
       "      <th>highest effect</th>\n",
       "      <td>69.2</td>\n",
       "      <td>28.8</td>\n",
       "      <td>34.9</td>\n",
       "    </tr>\n",
       "  </tbody>\n",
       "</table>\n",
       "</div>"
      ],
      "text/plain": [
       "                           black_tot  white_tot  tot_pop\n",
       "non_crime_effect_quantile                               \n",
       "lowest effect                    8.0       20.8     19.0\n",
       "middle low                       4.6       14.4     12.9\n",
       "median                           8.5       16.0     15.1\n",
       "middle high                      9.7       20.0     18.3\n",
       "highest effect                  69.2       28.8     34.9"
      ]
     },
     "execution_count": 11,
     "metadata": {},
     "output_type": "execute_result"
    }
   ],
   "source": [
    "gdf_groupby_quantiles = gdf_groupby_geo_id.groupby(\n",
    "    \"non_crime_effect_quantile\", observed=False\n",
    ")[QUANTILE_GROUP_BY_COLS].sum()\n",
    "\n",
    "\n",
    "print(\"This calculates (group subset in quantile / total group population)\")\n",
    "df_non_crime_distribution = prptn_to_pct(\n",
    "    gdf_groupby_quantiles.div(gdf_groupby_quantiles.sum(axis=0), axis=1), 3\n",
    ")\n",
    "df_non_crime_distribution"
   ]
  },
  {
   "cell_type": "code",
   "execution_count": 12,
   "id": "3ef86e29-df24-40fa-9ce8-75fbf50081d4",
   "metadata": {},
   "outputs": [
    {
     "data": {
      "text/html": [
       "<div>\n",
       "<style scoped>\n",
       "    .dataframe tbody tr th:only-of-type {\n",
       "        vertical-align: middle;\n",
       "    }\n",
       "\n",
       "    .dataframe tbody tr th {\n",
       "        vertical-align: top;\n",
       "    }\n",
       "\n",
       "    .dataframe thead th {\n",
       "        text-align: right;\n",
       "    }\n",
       "</style>\n",
       "<table border=\"1\" class=\"dataframe\">\n",
       "  <thead>\n",
       "    <tr style=\"text-align: right;\">\n",
       "      <th></th>\n",
       "      <th>black_tot</th>\n",
       "      <th>white_tot</th>\n",
       "      <th>tot_pop</th>\n",
       "    </tr>\n",
       "    <tr>\n",
       "      <th>non_crime_effect_quantile</th>\n",
       "      <th></th>\n",
       "      <th></th>\n",
       "      <th></th>\n",
       "    </tr>\n",
       "  </thead>\n",
       "  <tbody>\n",
       "    <tr>\n",
       "      <th>lowest effect</th>\n",
       "      <td>0.0</td>\n",
       "      <td>0.0</td>\n",
       "      <td>0.0</td>\n",
       "    </tr>\n",
       "    <tr>\n",
       "      <th>middle low</th>\n",
       "      <td>0.0</td>\n",
       "      <td>0.0</td>\n",
       "      <td>0.1</td>\n",
       "    </tr>\n",
       "    <tr>\n",
       "      <th>median</th>\n",
       "      <td>-0.1</td>\n",
       "      <td>-0.3</td>\n",
       "      <td>-0.2</td>\n",
       "    </tr>\n",
       "    <tr>\n",
       "      <th>middle high</th>\n",
       "      <td>-0.2</td>\n",
       "      <td>-0.1</td>\n",
       "      <td>-0.1</td>\n",
       "    </tr>\n",
       "    <tr>\n",
       "      <th>highest effect</th>\n",
       "      <td>0.3</td>\n",
       "      <td>0.5</td>\n",
       "      <td>0.5</td>\n",
       "    </tr>\n",
       "  </tbody>\n",
       "</table>\n",
       "</div>"
      ],
      "text/plain": [
       "                           black_tot  white_tot  tot_pop\n",
       "non_crime_effect_quantile                               \n",
       "lowest effect                    0.0        0.0      0.0\n",
       "middle low                       0.0        0.0      0.1\n",
       "median                          -0.1       -0.3     -0.2\n",
       "middle high                     -0.2       -0.1     -0.1\n",
       "highest effect                   0.3        0.5      0.5"
      ]
     },
     "execution_count": 12,
     "metadata": {},
     "output_type": "execute_result"
    }
   ],
   "source": [
    "df_diff = df_non_crime_distribution - df_distribution\n",
    "df_diff"
   ]
  },
  {
   "cell_type": "markdown",
   "id": "4292374e-d2c9-4d97-9dce-4fc2194c8b83",
   "metadata": {},
   "source": [
    "## Detroit"
   ]
  },
  {
   "cell_type": "code",
   "execution_count": 13,
   "id": "84197d34-d181-43bd-93af-439e8f798bbf",
   "metadata": {},
   "outputs": [],
   "source": [
    "gdf[\"effect_quantile\"] = pd.qcut(\n",
    "    gdf[\"generic_location_based_premium\"],\n",
    "    q=len(RATE_Q_LABELS),\n",
    "    labels=RATE_Q_LABELS,\n",
    ")\n",
    "gdf[\"non_crime_effect_quantile\"] = pd.qcut(\n",
    "    gdf[\"non_crime_generic_premium\"],\n",
    "    q=len(RATE_Q_LABELS),\n",
    "    labels=RATE_Q_LABELS,\n",
    ")"
   ]
  },
  {
   "cell_type": "code",
   "execution_count": 14,
   "id": "22483bc8-43c2-4c6b-8d36-136741695ff6",
   "metadata": {},
   "outputs": [
    {
     "data": {
      "text/plain": [
       "non_crime_effect_quantile\n",
       "highest effect    189\n",
       "lowest effect       0\n",
       "middle low          0\n",
       "median              0\n",
       "middle high         0\n",
       "Name: count, dtype: int64"
      ]
     },
     "execution_count": 14,
     "metadata": {},
     "output_type": "execute_result"
    }
   ],
   "source": [
    "gdf[gdf[\"is_in_detroit\"]][\"non_crime_effect_quantile\"].value_counts()"
   ]
  },
  {
   "cell_type": "code",
   "execution_count": 15,
   "id": "33d8485c-a3cb-44a3-b0d4-db8e984f4004",
   "metadata": {},
   "outputs": [
    {
     "data": {
      "text/plain": [
       "effect_quantile\n",
       "highest effect    189\n",
       "lowest effect       0\n",
       "middle low          0\n",
       "median              0\n",
       "middle high         0\n",
       "Name: count, dtype: int64"
      ]
     },
     "execution_count": 15,
     "metadata": {},
     "output_type": "execute_result"
    }
   ],
   "source": [
    "gdf[gdf[\"is_in_detroit\"]][\"effect_quantile\"].value_counts()"
   ]
  },
  {
   "cell_type": "code",
   "execution_count": null,
   "id": "90420b63-5e7d-4727-9324-b660c6df3c67",
   "metadata": {},
   "outputs": [],
   "source": []
  }
 ],
 "metadata": {
  "kernelspec": {
   "display_name": "Python 3 (ipykernel)",
   "language": "python",
   "name": "python3"
  },
  "language_info": {
   "codemirror_mode": {
    "name": "ipython",
    "version": 3
   },
   "file_extension": ".py",
   "mimetype": "text/x-python",
   "name": "python",
   "nbconvert_exporter": "python",
   "pygments_lexer": "ipython3",
   "version": "3.11.9"
  }
 },
 "nbformat": 4,
 "nbformat_minor": 5
}
