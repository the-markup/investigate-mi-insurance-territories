{
 "cells": [
  {
   "cell_type": "markdown",
   "id": "b4b812a7-ddf0-4bb3-a3fd-4783a06ab611",
   "metadata": {},
   "source": [
    "# Auto Club analysis\n",
    "\n",
    "Author: Mo Al Elew\n",
    "\n",
    "**What notebook does/produces:**\n",
    "\n",
    "Replicates and fact checks the data findings used in publication\n",
    "\n",
    "**Approach:**\n",
    "\n",
    "The general pattern includes:\n",
    "1. Quote the relevant text\n",
    "2. Determine asserted figure to reproduce\n",
    "3. Run the operations to reproduce relevant figure\n",
    "4. Assert expected value against actual value\n",
    "5. Print the relevant text with the actual value templated in\n",
    "\n",
    "Some findings cannot be directly tested using an assertion against a single value. In those cases, I display the relevant data slice, chart, or other presentation."
   ]
  },
  {
   "cell_type": "code",
   "execution_count": 1,
   "id": "398706c9-cf72-4c45-91ce-024f6ad2e4f7",
   "metadata": {},
   "outputs": [],
   "source": [
    "import altair as alt\n",
    "import geopandas as gpd\n",
    "import pandas as pd"
   ]
  },
  {
   "cell_type": "markdown",
   "id": "d7d2a43a-342b-4d3f-9357-c275a9a954fb",
   "metadata": {},
   "source": [
    "# Constants"
   ]
  },
  {
   "cell_type": "code",
   "execution_count": 2,
   "id": "1749bb3e-b44f-4181-8c4f-d58fd5481b5f",
   "metadata": {},
   "outputs": [],
   "source": [
    "DATA_FP = \"./outputs/autoclub_auto_clean.geojson\"\n",
    "\n",
    "WAYNE_COUNTY_FIPS = \"26163\"\n",
    "PROJECTED_CRS = \"EPSG:3078\"\n",
    "\n",
    "CORRELATION_COLS = [\n",
    "    \"generic_location_based_premium\",\n",
    "    \"black_pct\",\n",
    "    \"white_pct\",\n",
    "    \"density\",\n",
    "    \"generic_location_based_premium\",\n",
    "]\n",
    "\n",
    "RATE_Q_LABELS = [\n",
    "    \"lowest effect\",\n",
    "    \"middle low\",\n",
    "    \"median\",\n",
    "    \"middle high\",\n",
    "    \"highest effect\",\n",
    "]\n",
    "DENSITY_Q_LABELS = [\n",
    "    \"lowest density\",\n",
    "    \"middle low\",\n",
    "    \"median\",\n",
    "    \"middle high\",\n",
    "    \"highest density\",\n",
    "]\n",
    "\n",
    "QUANTILE_GROUP_BY_COLS = [\"black_tot\", \"white_tot\", \"tot_pop\"]\n",
    "ROUNDING_PRECISION = 3\n",
    "\n",
    "INSURER = \"Auto Club\"\n",
    "\n",
    "\n",
    "def prptn_to_pct(val, precision=ROUNDING_PRECISION):\n",
    "    return round(val, precision) * 100\n",
    "\n",
    "\n",
    "def calculate_racial_demograhics(df, area_name=\"This region\"):\n",
    "    white_pct = prptn_to_pct(df[\"white_tot\"].sum() / df[\"tot_pop\"].sum())\n",
    "    black_pct = prptn_to_pct(df[\"black_tot\"].sum() / df[\"tot_pop\"].sum())\n",
    "    print(\n",
    "        f\"{area_name} is {white_pct}% ({df['white_tot'].sum()} / {df['tot_pop'].sum()}) White and {black_pct}% ({df['black_tot'].sum()} / {df['tot_pop'].sum()}) Black.\"\n",
    "    )"
   ]
  },
  {
   "cell_type": "markdown",
   "id": "4d457a56-670d-4fb8-a8d5-27308ea49360",
   "metadata": {},
   "source": [
    "# Read data"
   ]
  },
  {
   "cell_type": "code",
   "execution_count": 3,
   "id": "217037be-802a-4404-942f-0b6122e89fef",
   "metadata": {},
   "outputs": [
    {
     "data": {
      "text/html": [
       "<div>\n",
       "<style scoped>\n",
       "    .dataframe tbody tr th:only-of-type {\n",
       "        vertical-align: middle;\n",
       "    }\n",
       "\n",
       "    .dataframe tbody tr th {\n",
       "        vertical-align: top;\n",
       "    }\n",
       "\n",
       "    .dataframe thead th {\n",
       "        text-align: right;\n",
       "    }\n",
       "</style>\n",
       "<table border=\"1\" class=\"dataframe\">\n",
       "  <thead>\n",
       "    <tr style=\"text-align: right;\">\n",
       "      <th></th>\n",
       "      <th>geo_id</th>\n",
       "      <th>geo_name</th>\n",
       "      <th>tot_pop</th>\n",
       "      <th>white_pct</th>\n",
       "      <th>black_pct</th>\n",
       "      <th>white_tot</th>\n",
       "      <th>black_tot</th>\n",
       "      <th>generic_location_based_premium</th>\n",
       "      <th>location_effect</th>\n",
       "      <th>is_in_detroit</th>\n",
       "      <th>geometry</th>\n",
       "    </tr>\n",
       "  </thead>\n",
       "  <tbody>\n",
       "    <tr>\n",
       "      <th>0</th>\n",
       "      <td>26001000100</td>\n",
       "      <td>Census Tract 1</td>\n",
       "      <td>1667.0</td>\n",
       "      <td>0.930</td>\n",
       "      <td>0.005</td>\n",
       "      <td>1550.0</td>\n",
       "      <td>8.0</td>\n",
       "      <td>5477.0</td>\n",
       "      <td>0.74</td>\n",
       "      <td>False</td>\n",
       "      <td>POLYGON ((-83.45500 44.85888, -83.45031 44.858...</td>\n",
       "    </tr>\n",
       "    <tr>\n",
       "      <th>1</th>\n",
       "      <td>26001970100</td>\n",
       "      <td>Census Tract 9701</td>\n",
       "      <td>2437.0</td>\n",
       "      <td>0.929</td>\n",
       "      <td>0.004</td>\n",
       "      <td>2263.0</td>\n",
       "      <td>9.0</td>\n",
       "      <td>5483.0</td>\n",
       "      <td>0.74</td>\n",
       "      <td>False</td>\n",
       "      <td>POLYGON ((-83.38377 44.68523, -83.38578 44.685...</td>\n",
       "    </tr>\n",
       "    <tr>\n",
       "      <th>2</th>\n",
       "      <td>26001970400</td>\n",
       "      <td>Census Tract 9704</td>\n",
       "      <td>2789.0</td>\n",
       "      <td>0.954</td>\n",
       "      <td>0.007</td>\n",
       "      <td>2661.0</td>\n",
       "      <td>20.0</td>\n",
       "      <td>5483.0</td>\n",
       "      <td>0.74</td>\n",
       "      <td>False</td>\n",
       "      <td>POLYGON ((-83.38377 44.68523, -83.38324 44.685...</td>\n",
       "    </tr>\n",
       "    <tr>\n",
       "      <th>3</th>\n",
       "      <td>26001970500</td>\n",
       "      <td>Census Tract 9705</td>\n",
       "      <td>2057.0</td>\n",
       "      <td>0.927</td>\n",
       "      <td>0.001</td>\n",
       "      <td>1907.0</td>\n",
       "      <td>3.0</td>\n",
       "      <td>5530.0</td>\n",
       "      <td>0.74</td>\n",
       "      <td>False</td>\n",
       "      <td>POLYGON ((-83.58914 44.80520, -83.58910 44.805...</td>\n",
       "    </tr>\n",
       "    <tr>\n",
       "      <th>4</th>\n",
       "      <td>26001970600</td>\n",
       "      <td>Census Tract 9706</td>\n",
       "      <td>1288.0</td>\n",
       "      <td>0.949</td>\n",
       "      <td>0.003</td>\n",
       "      <td>1222.0</td>\n",
       "      <td>4.0</td>\n",
       "      <td>5483.0</td>\n",
       "      <td>0.74</td>\n",
       "      <td>False</td>\n",
       "      <td>POLYGON ((-83.30565 44.53599, -83.30817 44.529...</td>\n",
       "    </tr>\n",
       "    <tr>\n",
       "      <th>...</th>\n",
       "      <td>...</td>\n",
       "      <td>...</td>\n",
       "      <td>...</td>\n",
       "      <td>...</td>\n",
       "      <td>...</td>\n",
       "      <td>...</td>\n",
       "      <td>...</td>\n",
       "      <td>...</td>\n",
       "      <td>...</td>\n",
       "      <td>...</td>\n",
       "      <td>...</td>\n",
       "    </tr>\n",
       "    <tr>\n",
       "      <th>2808</th>\n",
       "      <td>26105990000</td>\n",
       "      <td>Census Tract 9900</td>\n",
       "      <td>0.0</td>\n",
       "      <td>0.000</td>\n",
       "      <td>0.000</td>\n",
       "      <td>0.0</td>\n",
       "      <td>0.0</td>\n",
       "      <td>5651.0</td>\n",
       "      <td>0.76</td>\n",
       "      <td>False</td>\n",
       "      <td>POLYGON ((-86.39987 44.17884, -86.40758 44.164...</td>\n",
       "    </tr>\n",
       "    <tr>\n",
       "      <th>2809</th>\n",
       "      <td>26101990000</td>\n",
       "      <td>Census Tract 9900</td>\n",
       "      <td>0.0</td>\n",
       "      <td>0.000</td>\n",
       "      <td>0.000</td>\n",
       "      <td>0.0</td>\n",
       "      <td>0.0</td>\n",
       "      <td>5651.0</td>\n",
       "      <td>0.76</td>\n",
       "      <td>False</td>\n",
       "      <td>POLYGON ((-86.84693 44.51943, -86.75014 44.519...</td>\n",
       "    </tr>\n",
       "    <tr>\n",
       "      <th>2810</th>\n",
       "      <td>26029990000</td>\n",
       "      <td>Census Tract 9900</td>\n",
       "      <td>0.0</td>\n",
       "      <td>0.000</td>\n",
       "      <td>0.000</td>\n",
       "      <td>0.0</td>\n",
       "      <td>0.0</td>\n",
       "      <td>6353.0</td>\n",
       "      <td>0.86</td>\n",
       "      <td>False</td>\n",
       "      <td>POLYGON ((-85.45890 45.20657, -85.45918 45.206...</td>\n",
       "    </tr>\n",
       "    <tr>\n",
       "      <th>2811</th>\n",
       "      <td>26161421900</td>\n",
       "      <td>Census Tract 4219</td>\n",
       "      <td>1555.0</td>\n",
       "      <td>0.392</td>\n",
       "      <td>0.483</td>\n",
       "      <td>609.0</td>\n",
       "      <td>751.0</td>\n",
       "      <td>6834.0</td>\n",
       "      <td>0.92</td>\n",
       "      <td>False</td>\n",
       "      <td>POLYGON ((-83.67244 42.08520, -83.67280 42.085...</td>\n",
       "    </tr>\n",
       "    <tr>\n",
       "      <th>2812</th>\n",
       "      <td>26161422900</td>\n",
       "      <td>Census Tract 4229</td>\n",
       "      <td>1845.0</td>\n",
       "      <td>0.547</td>\n",
       "      <td>0.311</td>\n",
       "      <td>1010.0</td>\n",
       "      <td>573.0</td>\n",
       "      <td>7476.0</td>\n",
       "      <td>1.01</td>\n",
       "      <td>False</td>\n",
       "      <td>POLYGON ((-83.69749 42.16381, -83.69762 42.167...</td>\n",
       "    </tr>\n",
       "  </tbody>\n",
       "</table>\n",
       "<p>2813 rows × 11 columns</p>\n",
       "</div>"
      ],
      "text/plain": [
       "           geo_id           geo_name  tot_pop  white_pct  black_pct  \\\n",
       "0     26001000100     Census Tract 1   1667.0      0.930      0.005   \n",
       "1     26001970100  Census Tract 9701   2437.0      0.929      0.004   \n",
       "2     26001970400  Census Tract 9704   2789.0      0.954      0.007   \n",
       "3     26001970500  Census Tract 9705   2057.0      0.927      0.001   \n",
       "4     26001970600  Census Tract 9706   1288.0      0.949      0.003   \n",
       "...           ...                ...      ...        ...        ...   \n",
       "2808  26105990000  Census Tract 9900      0.0      0.000      0.000   \n",
       "2809  26101990000  Census Tract 9900      0.0      0.000      0.000   \n",
       "2810  26029990000  Census Tract 9900      0.0      0.000      0.000   \n",
       "2811  26161421900  Census Tract 4219   1555.0      0.392      0.483   \n",
       "2812  26161422900  Census Tract 4229   1845.0      0.547      0.311   \n",
       "\n",
       "      white_tot  black_tot  generic_location_based_premium  location_effect  \\\n",
       "0        1550.0        8.0                          5477.0             0.74   \n",
       "1        2263.0        9.0                          5483.0             0.74   \n",
       "2        2661.0       20.0                          5483.0             0.74   \n",
       "3        1907.0        3.0                          5530.0             0.74   \n",
       "4        1222.0        4.0                          5483.0             0.74   \n",
       "...         ...        ...                             ...              ...   \n",
       "2808        0.0        0.0                          5651.0             0.76   \n",
       "2809        0.0        0.0                          5651.0             0.76   \n",
       "2810        0.0        0.0                          6353.0             0.86   \n",
       "2811      609.0      751.0                          6834.0             0.92   \n",
       "2812     1010.0      573.0                          7476.0             1.01   \n",
       "\n",
       "      is_in_detroit                                           geometry  \n",
       "0             False  POLYGON ((-83.45500 44.85888, -83.45031 44.858...  \n",
       "1             False  POLYGON ((-83.38377 44.68523, -83.38578 44.685...  \n",
       "2             False  POLYGON ((-83.38377 44.68523, -83.38324 44.685...  \n",
       "3             False  POLYGON ((-83.58914 44.80520, -83.58910 44.805...  \n",
       "4             False  POLYGON ((-83.30565 44.53599, -83.30817 44.529...  \n",
       "...             ...                                                ...  \n",
       "2808          False  POLYGON ((-86.39987 44.17884, -86.40758 44.164...  \n",
       "2809          False  POLYGON ((-86.84693 44.51943, -86.75014 44.519...  \n",
       "2810          False  POLYGON ((-85.45890 45.20657, -85.45918 45.206...  \n",
       "2811          False  POLYGON ((-83.67244 42.08520, -83.67280 42.085...  \n",
       "2812          False  POLYGON ((-83.69749 42.16381, -83.69762 42.167...  \n",
       "\n",
       "[2813 rows x 11 columns]"
      ]
     },
     "execution_count": 3,
     "metadata": {},
     "output_type": "execute_result"
    }
   ],
   "source": [
    "GDF_DATA = gpd.read_file(DATA_FP)\n",
    "GDF_DATA"
   ]
  },
  {
   "cell_type": "markdown",
   "id": "1792c606-d62e-4f4a-91be-74cac5c06f69",
   "metadata": {},
   "source": [
    "# Preprocess"
   ]
  },
  {
   "cell_type": "code",
   "execution_count": 4,
   "id": "85821861-1e66-41b3-840f-de3442ddb044",
   "metadata": {},
   "outputs": [],
   "source": [
    "assert GDF_DATA[\"geo_id\"].isna().sum() == 0"
   ]
  },
  {
   "cell_type": "code",
   "execution_count": 5,
   "id": "edec9b34-3d3f-42e3-a3c2-688dc6bd83f6",
   "metadata": {},
   "outputs": [],
   "source": [
    "gdf = GDF_DATA.copy()\n",
    "assert (gdf[\"white_pct\"] <= 1).all()\n",
    "gdf[\"is_maj_white\"] = gdf[\"white_pct\"] > 0.49\n",
    "gdf[\"is_maj_black\"] = gdf[\"black_pct\"] > 0.49\n",
    "\n",
    "gdf[\"density\"] = gdf[\"tot_pop\"] / gdf.to_crs(PROJECTED_CRS).area"
   ]
  },
  {
   "cell_type": "markdown",
   "id": "0fa45136-8ded-4827-8bc9-99a7e0eee93a",
   "metadata": {},
   "source": [
    "# Location effect and race correlation\n",
    "\n",
    "Correlation coefficients ranging between 0.40-0.70 are [categorized as strong for social sciences](https://www.ncbi.nlm.nih.gov/pmc/articles/PMC6107969/)."
   ]
  },
  {
   "cell_type": "markdown",
   "id": "e746a38a-da7c-467a-a184-21cbd5092203",
   "metadata": {},
   "source": [
    "## Statewide\n",
    "\n",
    "> As the proportion of Black residents increased in an Auto Club territory, so did its location effect. Conversely, as the proportion of White residents increased in a territory, its location effect decreased."
   ]
  },
  {
   "cell_type": "code",
   "execution_count": 6,
   "id": "06291c04-83e7-4647-a858-cf5c1ec7db28",
   "metadata": {},
   "outputs": [
    {
     "data": {
      "text/html": [
       "<div>\n",
       "<style scoped>\n",
       "    .dataframe tbody tr th:only-of-type {\n",
       "        vertical-align: middle;\n",
       "    }\n",
       "\n",
       "    .dataframe tbody tr th {\n",
       "        vertical-align: top;\n",
       "    }\n",
       "\n",
       "    .dataframe thead th {\n",
       "        text-align: right;\n",
       "    }\n",
       "</style>\n",
       "<table border=\"1\" class=\"dataframe\">\n",
       "  <thead>\n",
       "    <tr style=\"text-align: right;\">\n",
       "      <th></th>\n",
       "      <th>generic_location_based_premium</th>\n",
       "      <th>black_pct</th>\n",
       "      <th>white_pct</th>\n",
       "      <th>density</th>\n",
       "      <th>generic_location_based_premium</th>\n",
       "    </tr>\n",
       "  </thead>\n",
       "  <tbody>\n",
       "    <tr>\n",
       "      <th>generic_location_based_premium</th>\n",
       "      <td>1.000000</td>\n",
       "      <td>0.498081</td>\n",
       "      <td>-0.421406</td>\n",
       "      <td>0.405983</td>\n",
       "      <td>1.000000</td>\n",
       "    </tr>\n",
       "    <tr>\n",
       "      <th>black_pct</th>\n",
       "      <td>0.498081</td>\n",
       "      <td>1.000000</td>\n",
       "      <td>-0.772490</td>\n",
       "      <td>0.653840</td>\n",
       "      <td>0.498081</td>\n",
       "    </tr>\n",
       "    <tr>\n",
       "      <th>white_pct</th>\n",
       "      <td>-0.421406</td>\n",
       "      <td>-0.772490</td>\n",
       "      <td>1.000000</td>\n",
       "      <td>-0.534607</td>\n",
       "      <td>-0.421406</td>\n",
       "    </tr>\n",
       "    <tr>\n",
       "      <th>density</th>\n",
       "      <td>0.405983</td>\n",
       "      <td>0.653840</td>\n",
       "      <td>-0.534607</td>\n",
       "      <td>1.000000</td>\n",
       "      <td>0.405983</td>\n",
       "    </tr>\n",
       "    <tr>\n",
       "      <th>generic_location_based_premium</th>\n",
       "      <td>1.000000</td>\n",
       "      <td>0.498081</td>\n",
       "      <td>-0.421406</td>\n",
       "      <td>0.405983</td>\n",
       "      <td>1.000000</td>\n",
       "    </tr>\n",
       "  </tbody>\n",
       "</table>\n",
       "</div>"
      ],
      "text/plain": [
       "                                generic_location_based_premium  black_pct  \\\n",
       "generic_location_based_premium                        1.000000   0.498081   \n",
       "black_pct                                             0.498081   1.000000   \n",
       "white_pct                                            -0.421406  -0.772490   \n",
       "density                                               0.405983   0.653840   \n",
       "generic_location_based_premium                        1.000000   0.498081   \n",
       "\n",
       "                                white_pct   density  \\\n",
       "generic_location_based_premium  -0.421406  0.405983   \n",
       "black_pct                       -0.772490  0.653840   \n",
       "white_pct                        1.000000 -0.534607   \n",
       "density                         -0.534607  1.000000   \n",
       "generic_location_based_premium  -0.421406  0.405983   \n",
       "\n",
       "                                generic_location_based_premium  \n",
       "generic_location_based_premium                        1.000000  \n",
       "black_pct                                             0.498081  \n",
       "white_pct                                            -0.421406  \n",
       "density                                               0.405983  \n",
       "generic_location_based_premium                        1.000000  "
      ]
     },
     "execution_count": 6,
     "metadata": {},
     "output_type": "execute_result"
    },
    {
     "data": {
      "image/png": "[encoded data removed]",
      "text/plain": [
       "<Figure size 1000x600 with 2 Axes>"
      ]
     },
     "metadata": {},
     "output_type": "display_data"
    }
   ],
   "source": [
    "%run ../00_misc/helper-func-notebook.ipynb\n",
    "display_correlation(gdf[CORRELATION_COLS], method=\"spearman\")"
   ]
  },
  {
   "cell_type": "code",
   "execution_count": 7,
   "id": "faf8c8aa-b8e4-4020-9b41-ccdbc8523904",
   "metadata": {},
   "outputs": [
    {
     "data": {
      "text/plain": [
       "'The correlation coefficient between the Black population percentage and the location baed premium is 0.774'"
      ]
     },
     "execution_count": 7,
     "metadata": {},
     "output_type": "execute_result"
    }
   ],
   "source": [
    "def calculate_correlation_coeff(df, method=\"pearson\"):\n",
    "    CORR_COEFF_ROUNDING_PRECISION = 3\n",
    "    return round(\n",
    "        df.corr(method=method).iloc[0, 1],\n",
    "        CORR_COEFF_ROUNDING_PRECISION,\n",
    "    )\n",
    "\n",
    "\n",
    "ASSERTED_FIGURE_MIN = 0.2  # min for a non-negligible correlation coeff\n",
    "ASSERTED_FIGURE_MIN_STRONG_CORR = 0.4  # min for a strong correlation coeff\n",
    "black_pct_rate_corr_coeff = calculate_correlation_coeff(\n",
    "    gdf[[\"generic_location_based_premium\", \"black_pct\"]]\n",
    ")\n",
    "assert black_pct_rate_corr_coeff > ASSERTED_FIGURE_MIN\n",
    "assert black_pct_rate_corr_coeff > ASSERTED_FIGURE_MIN_STRONG_CORR\n",
    "f\"The correlation coefficient between the Black population percentage and the location baed premium is {black_pct_rate_corr_coeff}\""
   ]
  },
  {
   "cell_type": "code",
   "execution_count": 8,
   "id": "910b938e-e890-457e-a44d-e02803f92fe9",
   "metadata": {},
   "outputs": [
    {
     "data": {
      "text/plain": [
       "'The correlation coefficient between the White population percentage and the location based premium is -0.692'"
      ]
     },
     "execution_count": 8,
     "metadata": {},
     "output_type": "execute_result"
    }
   ],
   "source": [
    "white_pct_rate_corr_coeff = calculate_correlation_coeff(\n",
    "    gdf[[\"generic_location_based_premium\", \"white_pct\"]]\n",
    ")\n",
    "assert white_pct_rate_corr_coeff < -1 * ASSERTED_FIGURE_MIN\n",
    "assert white_pct_rate_corr_coeff < -1 * ASSERTED_FIGURE_MIN_STRONG_CORR\n",
    "f\"The correlation coefficient between the White population percentage and the location based premium is {white_pct_rate_corr_coeff}\""
   ]
  },
  {
   "cell_type": "markdown",
   "id": "90265e05-7ba2-42e3-8c05-d6f1142a1003",
   "metadata": {},
   "source": [
    "## Wayne County\n",
    "\n",
    "> Wayne County roughly matched the statewide trend of higher location effects in tracts with a higher population of Black residents. The county also had a significantly stronger trend of White tracts with lower location effects than the state as a whole."
   ]
  },
  {
   "cell_type": "code",
   "execution_count": 9,
   "id": "36a819a4-4672-41ef-9977-20515686e221",
   "metadata": {},
   "outputs": [],
   "source": [
    "gdf_wayne = gdf[gdf[\"geo_id\"].str.startswith(WAYNE_COUNTY_FIPS)]"
   ]
  },
  {
   "cell_type": "code",
   "execution_count": 10,
   "id": "e40fdf70-0f31-4f1a-9b87-9f367becb64e",
   "metadata": {},
   "outputs": [
    {
     "data": {
      "text/html": [
       "<div>\n",
       "<style scoped>\n",
       "    .dataframe tbody tr th:only-of-type {\n",
       "        vertical-align: middle;\n",
       "    }\n",
       "\n",
       "    .dataframe tbody tr th {\n",
       "        vertical-align: top;\n",
       "    }\n",
       "\n",
       "    .dataframe thead th {\n",
       "        text-align: right;\n",
       "    }\n",
       "</style>\n",
       "<table border=\"1\" class=\"dataframe\">\n",
       "  <thead>\n",
       "    <tr style=\"text-align: right;\">\n",
       "      <th></th>\n",
       "      <th>generic_location_based_premium</th>\n",
       "      <th>black_pct</th>\n",
       "      <th>white_pct</th>\n",
       "      <th>density</th>\n",
       "      <th>generic_location_based_premium</th>\n",
       "    </tr>\n",
       "  </thead>\n",
       "  <tbody>\n",
       "    <tr>\n",
       "      <th>generic_location_based_premium</th>\n",
       "      <td>1.000000</td>\n",
       "      <td>0.692056</td>\n",
       "      <td>-0.767344</td>\n",
       "      <td>0.237215</td>\n",
       "      <td>1.000000</td>\n",
       "    </tr>\n",
       "    <tr>\n",
       "      <th>black_pct</th>\n",
       "      <td>0.692056</td>\n",
       "      <td>1.000000</td>\n",
       "      <td>-0.851451</td>\n",
       "      <td>0.168300</td>\n",
       "      <td>0.692056</td>\n",
       "    </tr>\n",
       "    <tr>\n",
       "      <th>white_pct</th>\n",
       "      <td>-0.767344</td>\n",
       "      <td>-0.851451</td>\n",
       "      <td>1.000000</td>\n",
       "      <td>-0.140501</td>\n",
       "      <td>-0.767344</td>\n",
       "    </tr>\n",
       "    <tr>\n",
       "      <th>density</th>\n",
       "      <td>0.237215</td>\n",
       "      <td>0.168300</td>\n",
       "      <td>-0.140501</td>\n",
       "      <td>1.000000</td>\n",
       "      <td>0.237215</td>\n",
       "    </tr>\n",
       "    <tr>\n",
       "      <th>generic_location_based_premium</th>\n",
       "      <td>1.000000</td>\n",
       "      <td>0.692056</td>\n",
       "      <td>-0.767344</td>\n",
       "      <td>0.237215</td>\n",
       "      <td>1.000000</td>\n",
       "    </tr>\n",
       "  </tbody>\n",
       "</table>\n",
       "</div>"
      ],
      "text/plain": [
       "                                generic_location_based_premium  black_pct  \\\n",
       "generic_location_based_premium                        1.000000   0.692056   \n",
       "black_pct                                             0.692056   1.000000   \n",
       "white_pct                                            -0.767344  -0.851451   \n",
       "density                                               0.237215   0.168300   \n",
       "generic_location_based_premium                        1.000000   0.692056   \n",
       "\n",
       "                                white_pct   density  \\\n",
       "generic_location_based_premium  -0.767344  0.237215   \n",
       "black_pct                       -0.851451  0.168300   \n",
       "white_pct                        1.000000 -0.140501   \n",
       "density                         -0.140501  1.000000   \n",
       "generic_location_based_premium  -0.767344  0.237215   \n",
       "\n",
       "                                generic_location_based_premium  \n",
       "generic_location_based_premium                        1.000000  \n",
       "black_pct                                             0.692056  \n",
       "white_pct                                            -0.767344  \n",
       "density                                               0.237215  \n",
       "generic_location_based_premium                        1.000000  "
      ]
     },
     "execution_count": 10,
     "metadata": {},
     "output_type": "execute_result"
    },
    {
     "data": {
      "image/png": "[encoded data removed]",
      "text/plain": [
       "<Figure size 1000x600 with 2 Axes>"
      ]
     },
     "metadata": {},
     "output_type": "display_data"
    }
   ],
   "source": [
    "%run ../00_misc/helper-func-notebook.ipynb\n",
    "display_correlation(gdf_wayne[CORRELATION_COLS], method=\"spearman\")"
   ]
  },
  {
   "cell_type": "code",
   "execution_count": 11,
   "id": "bd745150-8b52-4bfe-808e-47d9e34a6bfe",
   "metadata": {},
   "outputs": [
    {
     "data": {
      "text/plain": [
       "'The difference between the state Spearman correlation and the one for Wayne County is 0.029000000000000026'"
      ]
     },
     "execution_count": 11,
     "metadata": {},
     "output_type": "execute_result"
    }
   ],
   "source": [
    "ASSERTED_FIGURE_DIFF = 0.1  # i want a difference less than 0.1\n",
    "wayne_black_pct_rate_corr_coeff = calculate_correlation_coeff(\n",
    "    gdf_wayne[[\"generic_location_based_premium\", \"black_pct\"]]\n",
    ")\n",
    "diff = abs(wayne_black_pct_rate_corr_coeff - black_pct_rate_corr_coeff)\n",
    "assert diff < ASSERTED_FIGURE_DIFF\n",
    "f\"The difference between the state Spearman correlation and the one for Wayne County is {diff}\""
   ]
  },
  {
   "cell_type": "code",
   "execution_count": 12,
   "id": "382b1e6a-4962-4301-843c-4b3f3fd07cd6",
   "metadata": {},
   "outputs": [
    {
     "data": {
      "text/plain": [
       "'The difference between the state correlation and the one for Wayne County is 0.136'"
      ]
     },
     "execution_count": 12,
     "metadata": {},
     "output_type": "execute_result"
    }
   ],
   "source": [
    "ASSERTED_FIGURE_DIFF = 0.1  # i want a difference more than 0.1\n",
    "wayne_white_pct_rate_corr_coeff = calculate_correlation_coeff(\n",
    "    gdf_wayne[[\"generic_location_based_premium\", \"white_pct\"]]\n",
    ")\n",
    "diff = abs(wayne_white_pct_rate_corr_coeff - white_pct_rate_corr_coeff)\n",
    "assert diff > ASSERTED_FIGURE_DIFF\n",
    "f\"The difference between the state correlation and the one for Wayne County is {diff}\""
   ]
  },
  {
   "cell_type": "markdown",
   "id": "3c53bfcb-13d9-48b8-a046-cc9b730f45f7",
   "metadata": {},
   "source": [
    "# Rate quantiles"
   ]
  },
  {
   "cell_type": "code",
   "execution_count": 13,
   "id": "c8793985-6fb2-4ab8-bd92-1b4638767802",
   "metadata": {},
   "outputs": [],
   "source": [
    "gdf[\"effect_quantile\"] = pd.qcut(\n",
    "    gdf[\"location_effect\"], q=len(RATE_Q_LABELS), labels=RATE_Q_LABELS\n",
    ")\n",
    "gdf[\"density_quantile\"] = pd.qcut(\n",
    "    gdf[\"density\"], q=len(DENSITY_Q_LABELS), labels=DENSITY_Q_LABELS\n",
    ")"
   ]
  },
  {
   "cell_type": "markdown",
   "id": "d4dfc6c2-f781-4828-a036-61ea96d9cbc8",
   "metadata": {},
   "source": [
    "## Race\n",
    "\n",
    "> Fifteen percent of Michigan residents lived in territories showing location effects among the highest quintile in the state. About seven percent of White Michiganders and 58 percent of Black Michiganders lived in these territories."
   ]
  },
  {
   "cell_type": "code",
   "execution_count": 14,
   "id": "0c452a70-5e31-49cf-af4d-6722f6f725a4",
   "metadata": {},
   "outputs": [
    {
     "name": "stderr",
     "output_type": "stream",
     "text": [
      "/tmp/ipykernel_8528/1990553760.py:1: FutureWarning: The default of observed=False is deprecated and will be changed to True in a future version of pandas. Pass observed=False to retain current behavior or observed=True to adopt the future default and silence this warning.\n",
      "  gdf_groupby_quantiles = gdf.groupby(\"effect_quantile\")[QUANTILE_GROUP_BY_COLS].sum()\n"
     ]
    },
    {
     "data": {
      "text/html": [
       "<div>\n",
       "<style scoped>\n",
       "    .dataframe tbody tr th:only-of-type {\n",
       "        vertical-align: middle;\n",
       "    }\n",
       "\n",
       "    .dataframe tbody tr th {\n",
       "        vertical-align: top;\n",
       "    }\n",
       "\n",
       "    .dataframe thead th {\n",
       "        text-align: right;\n",
       "    }\n",
       "</style>\n",
       "<table border=\"1\" class=\"dataframe\">\n",
       "  <thead>\n",
       "    <tr style=\"text-align: right;\">\n",
       "      <th></th>\n",
       "      <th>black_tot</th>\n",
       "      <th>white_tot</th>\n",
       "      <th>tot_pop</th>\n",
       "    </tr>\n",
       "    <tr>\n",
       "      <th>effect_quantile</th>\n",
       "      <th></th>\n",
       "      <th></th>\n",
       "      <th></th>\n",
       "    </tr>\n",
       "  </thead>\n",
       "  <tbody>\n",
       "    <tr>\n",
       "      <th>lowest effect</th>\n",
       "      <td>6.8</td>\n",
       "      <td>24.7</td>\n",
       "      <td>21.8</td>\n",
       "    </tr>\n",
       "    <tr>\n",
       "      <th>middle low</th>\n",
       "      <td>10.5</td>\n",
       "      <td>25.5</td>\n",
       "      <td>23.7</td>\n",
       "    </tr>\n",
       "    <tr>\n",
       "      <th>median</th>\n",
       "      <td>9.4</td>\n",
       "      <td>23.5</td>\n",
       "      <td>21.2</td>\n",
       "    </tr>\n",
       "    <tr>\n",
       "      <th>middle high</th>\n",
       "      <td>15.1</td>\n",
       "      <td>19.7</td>\n",
       "      <td>18.6</td>\n",
       "    </tr>\n",
       "    <tr>\n",
       "      <th>highest effect</th>\n",
       "      <td>58.3</td>\n",
       "      <td>6.6</td>\n",
       "      <td>14.7</td>\n",
       "    </tr>\n",
       "  </tbody>\n",
       "</table>\n",
       "</div>"
      ],
      "text/plain": [
       "                 black_tot  white_tot  tot_pop\n",
       "effect_quantile                               \n",
       "lowest effect          6.8       24.7     21.8\n",
       "middle low            10.5       25.5     23.7\n",
       "median                 9.4       23.5     21.2\n",
       "middle high           15.1       19.7     18.6\n",
       "highest effect        58.3        6.6     14.7"
      ]
     },
     "execution_count": 14,
     "metadata": {},
     "output_type": "execute_result"
    }
   ],
   "source": [
    "gdf_groupby_quantiles = gdf.groupby(\"effect_quantile\")[QUANTILE_GROUP_BY_COLS].sum()\n",
    "column_sums = gdf_groupby_quantiles.sum(axis=0)\n",
    "df_distribution = prptn_to_pct(gdf_groupby_quantiles.div(column_sums, axis=1), 3)\n",
    "df_distribution"
   ]
  },
  {
   "cell_type": "code",
   "execution_count": 15,
   "id": "874bd024-4def-4162-af01-e18a125e0bf7",
   "metadata": {},
   "outputs": [
    {
     "data": {
      "text/html": [
       "\n",
       "<style>\n",
       "  #altair-viz-0b6f3baafc7a4680b568893908ab0e8a.vega-embed {\n",
       "    width: 100%;\n",
       "    display: flex;\n",
       "  }\n",
       "\n",
       "  #altair-viz-0b6f3baafc7a4680b568893908ab0e8a.vega-embed details,\n",
       "  #altair-viz-0b6f3baafc7a4680b568893908ab0e8a.vega-embed details summary {\n",
       "    position: relative;\n",
       "  }\n",
       "</style>\n",
       "<div id=\"altair-viz-0b6f3baafc7a4680b568893908ab0e8a\"></div>\n",
       "<script type=\"text/javascript\">\n",
       "  var VEGA_DEBUG = (typeof VEGA_DEBUG == \"undefined\") ? {} : VEGA_DEBUG;\n",
       "  (function(spec, embedOpt){\n",
       "    let outputDiv = document.currentScript.previousElementSibling;\n",
       "    if (outputDiv.id !== \"altair-viz-0b6f3baafc7a4680b568893908ab0e8a\") {\n",
       "      outputDiv = document.getElementById(\"altair-viz-0b6f3baafc7a4680b568893908ab0e8a\");\n",
       "    }\n",
       "    const paths = {\n",
       "      \"vega\": \"https://cdn.jsdelivr.net/npm/vega@5?noext\",\n",
       "      \"vega-lib\": \"https://cdn.jsdelivr.net/npm/vega-lib?noext\",\n",
       "      \"vega-lite\": \"https://cdn.jsdelivr.net/npm/vega-lite@5.17.0?noext\",\n",
       "      \"vega-embed\": \"https://cdn.jsdelivr.net/npm/vega-embed@6?noext\",\n",
       "    };\n",
       "\n",
       "    function maybeLoadScript(lib, version) {\n",
       "      var key = `${lib.replace(\"-\", \"\")}_version`;\n",
       "      return (VEGA_DEBUG[key] == version) ?\n",
       "        Promise.resolve(paths[lib]) :\n",
       "        new Promise(function(resolve, reject) {\n",
       "          var s = document.createElement('script');\n",
       "          document.getElementsByTagName(\"head\")[0].appendChild(s);\n",
       "          s.async = true;\n",
       "          s.onload = () => {\n",
       "            VEGA_DEBUG[key] = version;\n",
       "            return resolve(paths[lib]);\n",
       "          };\n",
       "          s.onerror = () => reject(`Error loading script: ${paths[lib]}`);\n",
       "          s.src = paths[lib];\n",
       "        });\n",
       "    }\n",
       "\n",
       "    function showError(err) {\n",
       "      outputDiv.innerHTML = `<div class=\"error\" style=\"color:red;\">${err}</div>`;\n",
       "      throw err;\n",
       "    }\n",
       "\n",
       "    function displayChart(vegaEmbed) {\n",
       "      vegaEmbed(outputDiv, spec, embedOpt)\n",
       "        .catch(err => showError(`Javascript Error: ${err.message}<br>This usually means there's a typo in your chart specification. See the javascript console for the full traceback.`));\n",
       "    }\n",
       "\n",
       "    if(typeof define === \"function\" && define.amd) {\n",
       "      requirejs.config({paths});\n",
       "      require([\"vega-embed\"], displayChart, err => showError(`Error loading script: ${err.message}`));\n",
       "    } else {\n",
       "      maybeLoadScript(\"vega\", \"5\")\n",
       "        .then(() => maybeLoadScript(\"vega-lite\", \"5.17.0\"))\n",
       "        .then(() => maybeLoadScript(\"vega-embed\", \"6\"))\n",
       "        .catch(showError)\n",
       "        .then(() => displayChart(vegaEmbed));\n",
       "    }\n",
       "  })({\"config\": {\"view\": {\"continuousWidth\": 300, \"continuousHeight\": 300}}, \"data\": {\"name\": \"data-bb9b59a54419d57929d42805b7cc0cde\"}, \"mark\": {\"type\": \"bar\"}, \"encoding\": {\"color\": {\"field\": \"Effect quintile\", \"sort\": [\"lowest effect\", \"middle low\", \"median\", \"middle high\", \"highest effect\"], \"type\": \"ordinal\"}, \"order\": {\"field\": \"color_Effect_quintile_sort_index\", \"type\": \"quantitative\"}, \"x\": {\"field\": \"Percent\", \"type\": \"quantitative\"}, \"y\": {\"field\": \"Population group\", \"sort\": [\"Total population\", \"White population\", \"Black population\"], \"type\": \"nominal\"}}, \"height\": 500, \"title\": \"Auto Club\", \"width\": 500, \"$schema\": \"https://vega.github.io/schema/vega-lite/v5.17.0.json\", \"datasets\": {\"data-bb9b59a54419d57929d42805b7cc0cde\": [{\"Effect quintile\": \"lowest effect\", \"Population group\": \"Black population\", \"Percent\": 6.766}, {\"Effect quintile\": \"middle low\", \"Population group\": \"Black population\", \"Percent\": 10.453999999999999}, {\"Effect quintile\": \"median\", \"Population group\": \"Black population\", \"Percent\": 9.415999999999999}, {\"Effect quintile\": \"middle high\", \"Population group\": \"Black population\", \"Percent\": 15.095}, {\"Effect quintile\": \"highest effect\", \"Population group\": \"Black population\", \"Percent\": 58.269000000000005}, {\"Effect quintile\": \"lowest effect\", \"Population group\": \"White population\", \"Percent\": 24.689}, {\"Effect quintile\": \"middle low\", \"Population group\": \"White population\", \"Percent\": 25.507}, {\"Effect quintile\": \"median\", \"Population group\": \"White population\", \"Percent\": 23.474}, {\"Effect quintile\": \"middle high\", \"Population group\": \"White population\", \"Percent\": 19.698}, {\"Effect quintile\": \"highest effect\", \"Population group\": \"White population\", \"Percent\": 6.630999999999999}, {\"Effect quintile\": \"lowest effect\", \"Population group\": \"Total population\", \"Percent\": 21.820999999999998}, {\"Effect quintile\": \"middle low\", \"Population group\": \"Total population\", \"Percent\": 23.657}, {\"Effect quintile\": \"median\", \"Population group\": \"Total population\", \"Percent\": 21.211}, {\"Effect quintile\": \"middle high\", \"Population group\": \"Total population\", \"Percent\": 18.631}, {\"Effect quintile\": \"highest effect\", \"Population group\": \"Total population\", \"Percent\": 14.680000000000001}]}}, {\"mode\": \"vega-lite\"});\n",
       "</script>"
      ],
      "text/plain": [
       "alt.Chart(...)"
      ]
     },
     "execution_count": 15,
     "metadata": {},
     "output_type": "execute_result"
    }
   ],
   "source": [
    "%run ../00_misc/helper-func-notebook.ipynb\n",
    "df_distribution = prptn_to_pct(gdf_groupby_quantiles.div(column_sums, axis=1), 5)\n",
    "stacked_quintile_chart = stacked_race_hbar(df_distribution, \"Auto Club\")\n",
    "stacked_quintile_chart.save(\"../00_misc/charts/auto_club_population_quintile.png\")\n",
    "stacked_quintile_chart"
   ]
  },
  {
   "cell_type": "markdown",
   "id": "c97e427d-dda6-465c-a9bf-36f4738e76a1",
   "metadata": {},
   "source": [
    "# Highest effect\n",
    "\n",
    "> We found the highest location effect in Michigan within four territories in the southwest corner of Detroit near Dearborn. These territories, showing a location effect of nearly triple the statewide median, spanned the Joy Community, Garden View, and Fiskhorn neighborhoods. The Joy Community and Garden View tracts were over 90 percent Black, and the Fiskhorn tract was 78 percent Black."
   ]
  },
  {
   "cell_type": "code",
   "execution_count": 16,
   "id": "406f1fec-9eef-4253-aba8-838ef2b957d1",
   "metadata": {},
   "outputs": [
    {
     "data": {
      "text/plain": [
       "\"The highest location effect was 2.81 times the state median for four tracts ['26163535500', '26163545100', '26163545200', '26163545400'] in the southwest corner of Detroit near Dearborn.\""
      ]
     },
     "execution_count": 16,
     "metadata": {},
     "output_type": "execute_result"
    }
   ],
   "source": [
    "ASSERTED_FIGURE = 3\n",
    "max_effect = gdf[\"location_effect\"].max()\n",
    "gdf_max_effect = gdf[gdf[\"location_effect\"] == max_effect]\n",
    "max_effect_tracts = list(gdf_max_effect[\"geo_id\"])\n",
    "assert ASSERTED_FIGURE == round(max_effect)\n",
    "f\"The highest location effect was {max_effect} times the state median for four tracts {max_effect_tracts} in the southwest corner of Detroit near Dearborn.\""
   ]
  },
  {
   "cell_type": "markdown",
   "id": "6d8ed2a0-192d-462c-ba53-9697d41b8d18",
   "metadata": {},
   "source": [
    "Display the tracts for visual confirmation of the demographic statistic"
   ]
  },
  {
   "cell_type": "code",
   "execution_count": 17,
   "id": "8936f5bd-612e-43d7-bbbb-f7119a2ab0af",
   "metadata": {},
   "outputs": [
    {
     "data": {
      "text/html": [
       "<div>\n",
       "<style scoped>\n",
       "    .dataframe tbody tr th:only-of-type {\n",
       "        vertical-align: middle;\n",
       "    }\n",
       "\n",
       "    .dataframe tbody tr th {\n",
       "        vertical-align: top;\n",
       "    }\n",
       "\n",
       "    .dataframe thead th {\n",
       "        text-align: right;\n",
       "    }\n",
       "</style>\n",
       "<table border=\"1\" class=\"dataframe\">\n",
       "  <thead>\n",
       "    <tr style=\"text-align: right;\">\n",
       "      <th></th>\n",
       "      <th>geo_id</th>\n",
       "      <th>geo_name</th>\n",
       "      <th>tot_pop</th>\n",
       "      <th>white_pct</th>\n",
       "      <th>black_pct</th>\n",
       "      <th>white_tot</th>\n",
       "      <th>black_tot</th>\n",
       "      <th>generic_location_based_premium</th>\n",
       "      <th>location_effect</th>\n",
       "      <th>is_in_detroit</th>\n",
       "      <th>geometry</th>\n",
       "      <th>is_maj_white</th>\n",
       "      <th>is_maj_black</th>\n",
       "      <th>density</th>\n",
       "      <th>effect_quantile</th>\n",
       "      <th>density_quantile</th>\n",
       "    </tr>\n",
       "  </thead>\n",
       "  <tbody>\n",
       "    <tr>\n",
       "      <th>2272</th>\n",
       "      <td>26163535500</td>\n",
       "      <td>Census Tract 5355</td>\n",
       "      <td>2789.0</td>\n",
       "      <td>0.031</td>\n",
       "      <td>0.778</td>\n",
       "      <td>86.0</td>\n",
       "      <td>2170.0</td>\n",
       "      <td>20890.0</td>\n",
       "      <td>2.81</td>\n",
       "      <td>True</td>\n",
       "      <td>POLYGON ((-83.18193 42.35118, -83.18207 42.351...</td>\n",
       "      <td>False</td>\n",
       "      <td>True</td>\n",
       "      <td>0.002853</td>\n",
       "      <td>highest effect</td>\n",
       "      <td>highest density</td>\n",
       "    </tr>\n",
       "    <tr>\n",
       "      <th>2340</th>\n",
       "      <td>26163545100</td>\n",
       "      <td>Census Tract 5451</td>\n",
       "      <td>623.0</td>\n",
       "      <td>0.016</td>\n",
       "      <td>0.937</td>\n",
       "      <td>10.0</td>\n",
       "      <td>584.0</td>\n",
       "      <td>20890.0</td>\n",
       "      <td>2.81</td>\n",
       "      <td>True</td>\n",
       "      <td>POLYGON ((-83.20238 42.37922, -83.20206 42.379...</td>\n",
       "      <td>False</td>\n",
       "      <td>True</td>\n",
       "      <td>0.000542</td>\n",
       "      <td>highest effect</td>\n",
       "      <td>median</td>\n",
       "    </tr>\n",
       "    <tr>\n",
       "      <th>2341</th>\n",
       "      <td>26163545200</td>\n",
       "      <td>Census Tract 5452</td>\n",
       "      <td>2309.0</td>\n",
       "      <td>0.010</td>\n",
       "      <td>0.990</td>\n",
       "      <td>24.0</td>\n",
       "      <td>2285.0</td>\n",
       "      <td>20890.0</td>\n",
       "      <td>2.81</td>\n",
       "      <td>True</td>\n",
       "      <td>POLYGON ((-83.20570 42.36524, -83.20696 42.365...</td>\n",
       "      <td>False</td>\n",
       "      <td>True</td>\n",
       "      <td>0.001842</td>\n",
       "      <td>highest effect</td>\n",
       "      <td>highest density</td>\n",
       "    </tr>\n",
       "    <tr>\n",
       "      <th>2694</th>\n",
       "      <td>26163545400</td>\n",
       "      <td>Census Tract 5454</td>\n",
       "      <td>1668.0</td>\n",
       "      <td>0.031</td>\n",
       "      <td>0.955</td>\n",
       "      <td>52.0</td>\n",
       "      <td>1593.0</td>\n",
       "      <td>20890.0</td>\n",
       "      <td>2.81</td>\n",
       "      <td>True</td>\n",
       "      <td>POLYGON ((-83.21594 42.35062, -83.21627 42.350...</td>\n",
       "      <td>False</td>\n",
       "      <td>True</td>\n",
       "      <td>0.001278</td>\n",
       "      <td>highest effect</td>\n",
       "      <td>middle high</td>\n",
       "    </tr>\n",
       "  </tbody>\n",
       "</table>\n",
       "</div>"
      ],
      "text/plain": [
       "           geo_id           geo_name  tot_pop  white_pct  black_pct  \\\n",
       "2272  26163535500  Census Tract 5355   2789.0      0.031      0.778   \n",
       "2340  26163545100  Census Tract 5451    623.0      0.016      0.937   \n",
       "2341  26163545200  Census Tract 5452   2309.0      0.010      0.990   \n",
       "2694  26163545400  Census Tract 5454   1668.0      0.031      0.955   \n",
       "\n",
       "      white_tot  black_tot  generic_location_based_premium  location_effect  \\\n",
       "2272       86.0     2170.0                         20890.0             2.81   \n",
       "2340       10.0      584.0                         20890.0             2.81   \n",
       "2341       24.0     2285.0                         20890.0             2.81   \n",
       "2694       52.0     1593.0                         20890.0             2.81   \n",
       "\n",
       "      is_in_detroit                                           geometry  \\\n",
       "2272           True  POLYGON ((-83.18193 42.35118, -83.18207 42.351...   \n",
       "2340           True  POLYGON ((-83.20238 42.37922, -83.20206 42.379...   \n",
       "2341           True  POLYGON ((-83.20570 42.36524, -83.20696 42.365...   \n",
       "2694           True  POLYGON ((-83.21594 42.35062, -83.21627 42.350...   \n",
       "\n",
       "      is_maj_white  is_maj_black   density effect_quantile density_quantile  \n",
       "2272         False          True  0.002853  highest effect  highest density  \n",
       "2340         False          True  0.000542  highest effect           median  \n",
       "2341         False          True  0.001842  highest effect  highest density  \n",
       "2694         False          True  0.001278  highest effect      middle high  "
      ]
     },
     "execution_count": 17,
     "metadata": {},
     "output_type": "execute_result"
    }
   ],
   "source": [
    "gdf_max_effect"
   ]
  },
  {
   "cell_type": "markdown",
   "id": "9ed4927c-c2c7-4945-8a7e-0e330f74f9af",
   "metadata": {},
   "source": [
    "# Neighboring tracts\n"
   ]
  },
  {
   "cell_type": "code",
   "execution_count": 18,
   "id": "b043c329-c37e-4fe8-85d3-50750a7ca773",
   "metadata": {},
   "outputs": [],
   "source": [
    "def filter_for_neighbors(neighbors, gdf=gdf):\n",
    "    return gdf[gdf[\"geo_id\"].isin(neighbors)]"
   ]
  },
  {
   "cell_type": "code",
   "execution_count": 19,
   "id": "5b69968c-1a60-4426-ad5f-b61e90ee5573",
   "metadata": {},
   "outputs": [],
   "source": [
    "def filter_neighoring_rate(row, filter_func):\n",
    "    gdf_neighbors = filter_for_neighbors(row, gdf=gdf)\n",
    "    val = filter_func(gdf_neighbors[\"generic_location_based_premium\"])\n",
    "    geo_id = list(\n",
    "        gdf_neighbors[gdf_neighbors[\"generic_location_based_premium\"] == val][\"geo_id\"]\n",
    "    )\n",
    "    return geo_id, val"
   ]
  },
  {
   "cell_type": "code",
   "execution_count": 20,
   "id": "02325e0d-9975-42ac-a3e8-a8ea93bea8f4",
   "metadata": {},
   "outputs": [],
   "source": [
    "def min_neighboring_rate(row):\n",
    "    return filter_neighoring_rate(row[\"NEIGHBORS\"], min)"
   ]
  },
  {
   "cell_type": "code",
   "execution_count": 21,
   "id": "a2d3c909-7a48-421b-83c7-c631501cb2d9",
   "metadata": {},
   "outputs": [],
   "source": [
    "def neighboring_polygons(gdf):\n",
    "    # add NEIGHBORS column\n",
    "    gdf[\"NEIGHBORS\"] = None\n",
    "\n",
    "    for index, row in gdf.iterrows():\n",
    "\n",
    "        # get 'not disjoint' geometries\n",
    "        neighbors = gdf[~gdf.geometry.disjoint(row.geometry)].geo_id.tolist()\n",
    "\n",
    "        # remove self id\n",
    "        neighbors = [geo_id for geo_id in neighbors if row.geo_id != geo_id]\n",
    "\n",
    "        # add names of neighbors as NEIGHBORS value\n",
    "        gdf.at[index, \"NEIGHBORS\"] = neighbors  # \", \".join(neighbors)"
   ]
  },
  {
   "cell_type": "code",
   "execution_count": 22,
   "id": "cc9d7843-cf4d-42a2-bee2-ea10fbcf43cc",
   "metadata": {},
   "outputs": [],
   "source": [
    "gdf_neighbors = gdf.copy()\n",
    "neighboring_polygons(gdf_neighbors)"
   ]
  },
  {
   "cell_type": "code",
   "execution_count": 23,
   "id": "46d8d065-a052-4ab0-bdbe-5072f69e56d1",
   "metadata": {},
   "outputs": [],
   "source": [
    "neighboring_min = gdf_neighbors.apply(min_neighboring_rate, axis=1)\n",
    "\n",
    "gdf_neighbors[\"min_geo_id\"] = neighboring_min.map(lambda x: \",\".join(x[0]))\n",
    "gdf_neighbors[\"neighboring_min\"] = neighboring_min.map(lambda x: x[1])\n",
    "gdf_neighbors[\"loc_rate_div_min\"] = round(\n",
    "    gdf_neighbors[\"generic_location_based_premium\"] / gdf_neighbors[\"neighboring_min\"],\n",
    "    2,\n",
    ")"
   ]
  },
  {
   "attachments": {},
   "cell_type": "markdown",
   "id": "5252f1d9-e2e0-4704-9632-e8833b6faecb",
   "metadata": {},
   "source": [
    "## Largest neighboring tract gap\n",
    "\n",
    "> We found the largest gap in location effects in the state between those four territories and another territory enclosing Stoepel Park and Erma Henderson Academy. The Stoepel Park territory is 86 percent Black and was a major outlier in Detroit, with an effect on par with the statewide median. It is not clear why that territory is an outlier when compared to its neighboring territories with similar demographic profiles.\n",
    "\n",
    "Display the tracts with the largest neighboring rate gap and the highest effect for visual confirmation"
   ]
  },
  {
   "cell_type": "code",
   "execution_count": 24,
   "id": "f47354cf-127d-4301-aa3d-fad4a65adb3a",
   "metadata": {},
   "outputs": [
    {
     "data": {
      "text/html": [
       "<div>\n",
       "<style scoped>\n",
       "    .dataframe tbody tr th:only-of-type {\n",
       "        vertical-align: middle;\n",
       "    }\n",
       "\n",
       "    .dataframe tbody tr th {\n",
       "        vertical-align: top;\n",
       "    }\n",
       "\n",
       "    .dataframe thead th {\n",
       "        text-align: right;\n",
       "    }\n",
       "</style>\n",
       "<table border=\"1\" class=\"dataframe\">\n",
       "  <thead>\n",
       "    <tr style=\"text-align: right;\">\n",
       "      <th></th>\n",
       "      <th>geo_id</th>\n",
       "      <th>geo_name</th>\n",
       "      <th>tot_pop</th>\n",
       "      <th>white_pct</th>\n",
       "      <th>black_pct</th>\n",
       "      <th>white_tot</th>\n",
       "      <th>black_tot</th>\n",
       "      <th>generic_location_based_premium</th>\n",
       "      <th>location_effect</th>\n",
       "      <th>is_in_detroit</th>\n",
       "      <th>geometry</th>\n",
       "      <th>is_maj_white</th>\n",
       "      <th>is_maj_black</th>\n",
       "      <th>density</th>\n",
       "      <th>effect_quantile</th>\n",
       "      <th>density_quantile</th>\n",
       "      <th>NEIGHBORS</th>\n",
       "      <th>min_geo_id</th>\n",
       "      <th>neighboring_min</th>\n",
       "      <th>loc_rate_div_min</th>\n",
       "    </tr>\n",
       "  </thead>\n",
       "  <tbody>\n",
       "    <tr>\n",
       "      <th>2272</th>\n",
       "      <td>26163535500</td>\n",
       "      <td>Census Tract 5355</td>\n",
       "      <td>2789.0</td>\n",
       "      <td>0.031</td>\n",
       "      <td>0.778</td>\n",
       "      <td>86.0</td>\n",
       "      <td>2170.0</td>\n",
       "      <td>20890.0</td>\n",
       "      <td>2.81</td>\n",
       "      <td>True</td>\n",
       "      <td>POLYGON ((-83.18193 42.35118, -83.18207 42.351...</td>\n",
       "      <td>False</td>\n",
       "      <td>True</td>\n",
       "      <td>0.002853</td>\n",
       "      <td>highest effect</td>\n",
       "      <td>highest density</td>\n",
       "      <td>[26163535000, 26163535400, 26163545300, 261635...</td>\n",
       "      <td>26163545300</td>\n",
       "      <td>7386.0</td>\n",
       "      <td>2.83</td>\n",
       "    </tr>\n",
       "    <tr>\n",
       "      <th>2341</th>\n",
       "      <td>26163545200</td>\n",
       "      <td>Census Tract 5452</td>\n",
       "      <td>2309.0</td>\n",
       "      <td>0.010</td>\n",
       "      <td>0.990</td>\n",
       "      <td>24.0</td>\n",
       "      <td>2285.0</td>\n",
       "      <td>20890.0</td>\n",
       "      <td>2.81</td>\n",
       "      <td>True</td>\n",
       "      <td>POLYGON ((-83.20570 42.36524, -83.20696 42.365...</td>\n",
       "      <td>False</td>\n",
       "      <td>True</td>\n",
       "      <td>0.001842</td>\n",
       "      <td>highest effect</td>\n",
       "      <td>highest density</td>\n",
       "      <td>[26163535300, 26163535400, 26163545100, 261635...</td>\n",
       "      <td>26163545300</td>\n",
       "      <td>7386.0</td>\n",
       "      <td>2.83</td>\n",
       "    </tr>\n",
       "    <tr>\n",
       "      <th>2694</th>\n",
       "      <td>26163545400</td>\n",
       "      <td>Census Tract 5454</td>\n",
       "      <td>1668.0</td>\n",
       "      <td>0.031</td>\n",
       "      <td>0.955</td>\n",
       "      <td>52.0</td>\n",
       "      <td>1593.0</td>\n",
       "      <td>20890.0</td>\n",
       "      <td>2.81</td>\n",
       "      <td>True</td>\n",
       "      <td>POLYGON ((-83.21594 42.35062, -83.21627 42.350...</td>\n",
       "      <td>False</td>\n",
       "      <td>True</td>\n",
       "      <td>0.001278</td>\n",
       "      <td>highest effect</td>\n",
       "      <td>middle high</td>\n",
       "      <td>[26163535400, 26163535500, 26163545300, 261635...</td>\n",
       "      <td>26163545300</td>\n",
       "      <td>7386.0</td>\n",
       "      <td>2.83</td>\n",
       "    </tr>\n",
       "  </tbody>\n",
       "</table>\n",
       "</div>"
      ],
      "text/plain": [
       "           geo_id           geo_name  tot_pop  white_pct  black_pct  \\\n",
       "2272  26163535500  Census Tract 5355   2789.0      0.031      0.778   \n",
       "2341  26163545200  Census Tract 5452   2309.0      0.010      0.990   \n",
       "2694  26163545400  Census Tract 5454   1668.0      0.031      0.955   \n",
       "\n",
       "      white_tot  black_tot  generic_location_based_premium  location_effect  \\\n",
       "2272       86.0     2170.0                         20890.0             2.81   \n",
       "2341       24.0     2285.0                         20890.0             2.81   \n",
       "2694       52.0     1593.0                         20890.0             2.81   \n",
       "\n",
       "      is_in_detroit                                           geometry  \\\n",
       "2272           True  POLYGON ((-83.18193 42.35118, -83.18207 42.351...   \n",
       "2341           True  POLYGON ((-83.20570 42.36524, -83.20696 42.365...   \n",
       "2694           True  POLYGON ((-83.21594 42.35062, -83.21627 42.350...   \n",
       "\n",
       "      is_maj_white  is_maj_black   density effect_quantile density_quantile  \\\n",
       "2272         False          True  0.002853  highest effect  highest density   \n",
       "2341         False          True  0.001842  highest effect  highest density   \n",
       "2694         False          True  0.001278  highest effect      middle high   \n",
       "\n",
       "                                              NEIGHBORS   min_geo_id  \\\n",
       "2272  [26163535000, 26163535400, 26163545300, 261635...  26163545300   \n",
       "2341  [26163535300, 26163535400, 26163545100, 261635...  26163545300   \n",
       "2694  [26163535400, 26163535500, 26163545300, 261635...  26163545300   \n",
       "\n",
       "      neighboring_min  loc_rate_div_min  \n",
       "2272           7386.0              2.83  \n",
       "2341           7386.0              2.83  \n",
       "2694           7386.0              2.83  "
      ]
     },
     "metadata": {},
     "output_type": "display_data"
    },
    {
     "data": {
      "text/html": [
       "<div>\n",
       "<style scoped>\n",
       "    .dataframe tbody tr th:only-of-type {\n",
       "        vertical-align: middle;\n",
       "    }\n",
       "\n",
       "    .dataframe tbody tr th {\n",
       "        vertical-align: top;\n",
       "    }\n",
       "\n",
       "    .dataframe thead th {\n",
       "        text-align: right;\n",
       "    }\n",
       "</style>\n",
       "<table border=\"1\" class=\"dataframe\">\n",
       "  <thead>\n",
       "    <tr style=\"text-align: right;\">\n",
       "      <th></th>\n",
       "      <th>geo_id</th>\n",
       "      <th>geo_name</th>\n",
       "      <th>tot_pop</th>\n",
       "      <th>white_pct</th>\n",
       "      <th>black_pct</th>\n",
       "      <th>white_tot</th>\n",
       "      <th>black_tot</th>\n",
       "      <th>generic_location_based_premium</th>\n",
       "      <th>location_effect</th>\n",
       "      <th>is_in_detroit</th>\n",
       "      <th>geometry</th>\n",
       "      <th>is_maj_white</th>\n",
       "      <th>is_maj_black</th>\n",
       "      <th>density</th>\n",
       "      <th>effect_quantile</th>\n",
       "      <th>density_quantile</th>\n",
       "      <th>NEIGHBORS</th>\n",
       "      <th>min_geo_id</th>\n",
       "      <th>neighboring_min</th>\n",
       "      <th>loc_rate_div_min</th>\n",
       "    </tr>\n",
       "  </thead>\n",
       "  <tbody>\n",
       "    <tr>\n",
       "      <th>2342</th>\n",
       "      <td>26163545300</td>\n",
       "      <td>Census Tract 5453</td>\n",
       "      <td>2184.0</td>\n",
       "      <td>0.077</td>\n",
       "      <td>0.859</td>\n",
       "      <td>169.0</td>\n",
       "      <td>1877.0</td>\n",
       "      <td>7386.0</td>\n",
       "      <td>0.99</td>\n",
       "      <td>True</td>\n",
       "      <td>POLYGON ((-83.21607 42.35786, -83.21640 42.357...</td>\n",
       "      <td>False</td>\n",
       "      <td>True</td>\n",
       "      <td>0.001703</td>\n",
       "      <td>median</td>\n",
       "      <td>middle high</td>\n",
       "      <td>[26163535300, 26163535400, 26163535500, 261635...</td>\n",
       "      <td>26163546900</td>\n",
       "      <td>11492.0</td>\n",
       "      <td>0.64</td>\n",
       "    </tr>\n",
       "  </tbody>\n",
       "</table>\n",
       "</div>"
      ],
      "text/plain": [
       "           geo_id           geo_name  tot_pop  white_pct  black_pct  \\\n",
       "2342  26163545300  Census Tract 5453   2184.0      0.077      0.859   \n",
       "\n",
       "      white_tot  black_tot  generic_location_based_premium  location_effect  \\\n",
       "2342      169.0     1877.0                          7386.0             0.99   \n",
       "\n",
       "      is_in_detroit                                           geometry  \\\n",
       "2342           True  POLYGON ((-83.21607 42.35786, -83.21640 42.357...   \n",
       "\n",
       "      is_maj_white  is_maj_black   density effect_quantile density_quantile  \\\n",
       "2342         False          True  0.001703          median      middle high   \n",
       "\n",
       "                                              NEIGHBORS   min_geo_id  \\\n",
       "2342  [26163535300, 26163535400, 26163535500, 261635...  26163546900   \n",
       "\n",
       "      neighboring_min  loc_rate_div_min  \n",
       "2342          11492.0              0.64  "
      ]
     },
     "metadata": {},
     "output_type": "display_data"
    },
    {
     "data": {
      "text/html": [
       "<div>\n",
       "<style scoped>\n",
       "    .dataframe tbody tr th:only-of-type {\n",
       "        vertical-align: middle;\n",
       "    }\n",
       "\n",
       "    .dataframe tbody tr th {\n",
       "        vertical-align: top;\n",
       "    }\n",
       "\n",
       "    .dataframe thead th {\n",
       "        text-align: right;\n",
       "    }\n",
       "</style>\n",
       "<table border=\"1\" class=\"dataframe\">\n",
       "  <thead>\n",
       "    <tr style=\"text-align: right;\">\n",
       "      <th></th>\n",
       "      <th>geo_id</th>\n",
       "      <th>geo_name</th>\n",
       "      <th>tot_pop</th>\n",
       "      <th>white_pct</th>\n",
       "      <th>black_pct</th>\n",
       "      <th>white_tot</th>\n",
       "      <th>black_tot</th>\n",
       "      <th>generic_location_based_premium</th>\n",
       "      <th>location_effect</th>\n",
       "      <th>is_in_detroit</th>\n",
       "      <th>geometry</th>\n",
       "      <th>is_maj_white</th>\n",
       "      <th>is_maj_black</th>\n",
       "      <th>density</th>\n",
       "      <th>effect_quantile</th>\n",
       "      <th>density_quantile</th>\n",
       "    </tr>\n",
       "  </thead>\n",
       "  <tbody>\n",
       "    <tr>\n",
       "      <th>2272</th>\n",
       "      <td>26163535500</td>\n",
       "      <td>Census Tract 5355</td>\n",
       "      <td>2789.0</td>\n",
       "      <td>0.031</td>\n",
       "      <td>0.778</td>\n",
       "      <td>86.0</td>\n",
       "      <td>2170.0</td>\n",
       "      <td>20890.0</td>\n",
       "      <td>2.81</td>\n",
       "      <td>True</td>\n",
       "      <td>POLYGON ((-83.18193 42.35118, -83.18207 42.351...</td>\n",
       "      <td>False</td>\n",
       "      <td>True</td>\n",
       "      <td>0.002853</td>\n",
       "      <td>highest effect</td>\n",
       "      <td>highest density</td>\n",
       "    </tr>\n",
       "    <tr>\n",
       "      <th>2340</th>\n",
       "      <td>26163545100</td>\n",
       "      <td>Census Tract 5451</td>\n",
       "      <td>623.0</td>\n",
       "      <td>0.016</td>\n",
       "      <td>0.937</td>\n",
       "      <td>10.0</td>\n",
       "      <td>584.0</td>\n",
       "      <td>20890.0</td>\n",
       "      <td>2.81</td>\n",
       "      <td>True</td>\n",
       "      <td>POLYGON ((-83.20238 42.37922, -83.20206 42.379...</td>\n",
       "      <td>False</td>\n",
       "      <td>True</td>\n",
       "      <td>0.000542</td>\n",
       "      <td>highest effect</td>\n",
       "      <td>median</td>\n",
       "    </tr>\n",
       "    <tr>\n",
       "      <th>2341</th>\n",
       "      <td>26163545200</td>\n",
       "      <td>Census Tract 5452</td>\n",
       "      <td>2309.0</td>\n",
       "      <td>0.010</td>\n",
       "      <td>0.990</td>\n",
       "      <td>24.0</td>\n",
       "      <td>2285.0</td>\n",
       "      <td>20890.0</td>\n",
       "      <td>2.81</td>\n",
       "      <td>True</td>\n",
       "      <td>POLYGON ((-83.20570 42.36524, -83.20696 42.365...</td>\n",
       "      <td>False</td>\n",
       "      <td>True</td>\n",
       "      <td>0.001842</td>\n",
       "      <td>highest effect</td>\n",
       "      <td>highest density</td>\n",
       "    </tr>\n",
       "    <tr>\n",
       "      <th>2694</th>\n",
       "      <td>26163545400</td>\n",
       "      <td>Census Tract 5454</td>\n",
       "      <td>1668.0</td>\n",
       "      <td>0.031</td>\n",
       "      <td>0.955</td>\n",
       "      <td>52.0</td>\n",
       "      <td>1593.0</td>\n",
       "      <td>20890.0</td>\n",
       "      <td>2.81</td>\n",
       "      <td>True</td>\n",
       "      <td>POLYGON ((-83.21594 42.35062, -83.21627 42.350...</td>\n",
       "      <td>False</td>\n",
       "      <td>True</td>\n",
       "      <td>0.001278</td>\n",
       "      <td>highest effect</td>\n",
       "      <td>middle high</td>\n",
       "    </tr>\n",
       "  </tbody>\n",
       "</table>\n",
       "</div>"
      ],
      "text/plain": [
       "           geo_id           geo_name  tot_pop  white_pct  black_pct  \\\n",
       "2272  26163535500  Census Tract 5355   2789.0      0.031      0.778   \n",
       "2340  26163545100  Census Tract 5451    623.0      0.016      0.937   \n",
       "2341  26163545200  Census Tract 5452   2309.0      0.010      0.990   \n",
       "2694  26163545400  Census Tract 5454   1668.0      0.031      0.955   \n",
       "\n",
       "      white_tot  black_tot  generic_location_based_premium  location_effect  \\\n",
       "2272       86.0     2170.0                         20890.0             2.81   \n",
       "2340       10.0      584.0                         20890.0             2.81   \n",
       "2341       24.0     2285.0                         20890.0             2.81   \n",
       "2694       52.0     1593.0                         20890.0             2.81   \n",
       "\n",
       "      is_in_detroit                                           geometry  \\\n",
       "2272           True  POLYGON ((-83.18193 42.35118, -83.18207 42.351...   \n",
       "2340           True  POLYGON ((-83.20238 42.37922, -83.20206 42.379...   \n",
       "2341           True  POLYGON ((-83.20570 42.36524, -83.20696 42.365...   \n",
       "2694           True  POLYGON ((-83.21594 42.35062, -83.21627 42.350...   \n",
       "\n",
       "      is_maj_white  is_maj_black   density effect_quantile density_quantile  \n",
       "2272         False          True  0.002853  highest effect  highest density  \n",
       "2340         False          True  0.000542  highest effect           median  \n",
       "2341         False          True  0.001842  highest effect  highest density  \n",
       "2694         False          True  0.001278  highest effect      middle high  "
      ]
     },
     "execution_count": 24,
     "metadata": {},
     "output_type": "execute_result"
    }
   ],
   "source": [
    "gdf_neighbors[\"loc_rate_div_min\"].max()\n",
    "gdf_neighbors_largest_gap = gdf_neighbors[\n",
    "    gdf_neighbors[\"loc_rate_div_min\"] == gdf_neighbors[\"loc_rate_div_min\"].max()\n",
    "]\n",
    "gdf_largest_gap_min_neighbor = gdf_neighbors[\n",
    "    gdf_neighbors[\"geo_id\"].isin(gdf_neighbors_largest_gap[\"min_geo_id\"])\n",
    "]\n",
    "display(gdf_neighbors_largest_gap)\n",
    "display(gdf_largest_gap_min_neighbor)\n",
    "gdf_max_effect"
   ]
  },
  {
   "cell_type": "code",
   "execution_count": 25,
   "id": "0b38469d-1f4a-44dc-84b8-22210a6bed21",
   "metadata": {},
   "outputs": [
    {
     "data": {
      "text/plain": [
       "'The Stoepel Park territory is 85.9% Black and was a major outlier in Detroit, with an effect 0.99 times the statewide median'"
      ]
     },
     "execution_count": 25,
     "metadata": {},
     "output_type": "execute_result"
    }
   ],
   "source": [
    "temp_black_pct = prptn_to_pct(gdf_largest_gap_min_neighbor.iloc[0][\"black_pct\"])\n",
    "temp_effect = gdf_largest_gap_min_neighbor.iloc[0][\"location_effect\"]\n",
    "f\"The Stoepel Park territory is {temp_black_pct}% Black and was a major outlier in Detroit, with an effect {temp_effect} times the statewide median\""
   ]
  },
  {
   "cell_type": "code",
   "execution_count": 26,
   "id": "a9673d6d-31eb-4f02-92a1-629cec05c629",
   "metadata": {},
   "outputs": [
    {
     "data": {
      "text/plain": [
       "<Axes: >"
      ]
     },
     "execution_count": 26,
     "metadata": {},
     "output_type": "execute_result"
    },
    {
     "data": {
      "image/png": "[encoded data removed]",
      "text/plain": [
       "<Figure size 640x480 with 1 Axes>"
      ]
     },
     "metadata": {},
     "output_type": "display_data"
    }
   ],
   "source": [
    "gdf_neighbors_largest_gap.plot()"
   ]
  },
  {
   "cell_type": "markdown",
   "id": "5f18642d-c716-4137-a4a1-58f40f6e7d79",
   "metadata": {},
   "source": [
    "### Compare min to Detroit\n",
    "\n",
    "> All other Auto Club territories in Detroit showed location effects at least 40 percent higher than the state median. "
   ]
  },
  {
   "cell_type": "code",
   "execution_count": 27,
   "id": "e2086590-0ae7-47f0-8c37-934aa49a8bce",
   "metadata": {},
   "outputs": [
    {
     "name": "stdout",
     "output_type": "stream",
     "text": [
      "All other Auto Club territories in Detroit showed location effects at least 1.44 times the state median. \n"
     ]
    }
   ],
   "source": [
    "exclude_min_geo_id = ~(gdf[\"geo_id\"].isin(gdf_neighbors_largest_gap[\"min_geo_id\"]))\n",
    "gdf_detroit_minus_min = gdf[exclude_min_geo_id & gdf[\"is_in_detroit\"]]\n",
    "next_lowest_min = gdf_detroit_minus_min[\"location_effect\"].min()\n",
    "print(\n",
    "    f\"All other Auto Club territories in Detroit showed location effects at least {next_lowest_min} times the state median. \"\n",
    ")"
   ]
  },
  {
   "cell_type": "markdown",
   "id": "3fa408c5-81c4-4e81-bacc-80c1f44a6152",
   "metadata": {},
   "source": [
    "## Detroit x Grosse Pointe Park\n",
    "\n",
    "> At the eastern end of Detroit, the territories containing the Jefferson Chalmers and Morningside neighborhoods showed location effects that were double that of Grosse Pointe Park, which sits outside Detroit’s borders. The Detroit territories ranged from 75 to 91 percent Black, while Grosse Pointe Park was 84 percent White. Median household income in the Detroit neighborhoods ranged from 25 percent of the state median to just below the state median. Median household income in Grosse Pointe Park was nearly double the state median. A five-minute drive separates these areas."
   ]
  },
  {
   "cell_type": "code",
   "execution_count": 28,
   "id": "62cdbcec-681c-47ba-965f-50f3454ad5d6",
   "metadata": {},
   "outputs": [
    {
     "name": "stdout",
     "output_type": "stream",
     "text": [
      "The territories containing the Jefferson Chalmers and Morningside ['26163502000', '26163512600', '26163512900', '26163513200', '26163513300'] neighborhoods showed location effects\n",
      "that were 2.08-2.38 times that of Grosse Pointe Park\n"
     ]
    }
   ],
   "source": [
    "# these are the Detroit tracts bordering Grosse Pointe Park that i use for this finding\n",
    "DETROIT_TRACTS = [\n",
    "    \"26163502000\",\n",
    "    \"26163512600\",\n",
    "    \"26163512900\",\n",
    "    \"26163513200\",\n",
    "    \"26163513300\",\n",
    "]\n",
    "\n",
    "gdf_detroit_gpp = gdf_neighbors[gdf_neighbors[\"geo_id\"].isin(DETROIT_TRACTS)]\n",
    "assert (gdf_detroit_gpp[\"loc_rate_div_min\"] > 2).all()\n",
    "gdf_detroit_gpp[\"loc_rate_div_min\"]\n",
    "print(\n",
    "    f\"\"\"The territories containing the Jefferson Chalmers and Morningside {DETROIT_TRACTS} neighborhoods showed location effects\n",
    "that were {gdf_detroit_gpp[\"loc_rate_div_min\"].min()}-{gdf_detroit_gpp[\"loc_rate_div_min\"].max()} times that of Grosse Pointe Park\"\"\"\n",
    ")"
   ]
  },
  {
   "cell_type": "code",
   "execution_count": 29,
   "id": "9bc8e59b-fd61-4798-bb21-470587de874a",
   "metadata": {},
   "outputs": [
    {
     "name": "stdout",
     "output_type": "stream",
     "text": [
      "The Detroit territories ['26163502000', '26163512600', '26163512900', '26163513200', '26163513300'] ranged from 75.5 to 91.2 percent Black\n"
     ]
    }
   ],
   "source": [
    "temp_back_pct_min = prptn_to_pct(gdf_detroit_gpp[\"black_pct\"].min())\n",
    "temp_back_pct_max = prptn_to_pct(gdf_detroit_gpp[\"black_pct\"].max())\n",
    "print(\n",
    "    f\"\"\"The Detroit territories {DETROIT_TRACTS} ranged from {temp_back_pct_min} to {temp_back_pct_max} percent Black\"\"\"\n",
    ")"
   ]
  },
  {
   "cell_type": "markdown",
   "id": "1aec0a23-83b1-442e-9d9f-5453f843af8c",
   "metadata": {},
   "source": [
    "Plot the relevant tracts to confirm min neighbor is Grosse Pointe Park"
   ]
  },
  {
   "cell_type": "code",
   "execution_count": 30,
   "id": "d18545fd-57c6-48ef-95fa-e9d80a88f324",
   "metadata": {},
   "outputs": [
    {
     "data": {
      "text/plain": [
       "<Axes: >"
      ]
     },
     "execution_count": 30,
     "metadata": {},
     "output_type": "execute_result"
    },
    {
     "data": {
      "image/png": "[encoded data removed]",
      "text/plain": [
       "<Figure size 640x480 with 1 Axes>"
      ]
     },
     "metadata": {},
     "output_type": "display_data"
    }
   ],
   "source": [
    "gdf_neighbors[\n",
    "    gdf_neighbors[\"geo_id\"].isin(DETROIT_TRACTS)\n",
    "    | gdf_neighbors[\"geo_id\"].isin(gdf_detroit_gpp[\"min_geo_id\"])\n",
    "].plot()"
   ]
  },
  {
   "cell_type": "markdown",
   "id": "1df5865c-597c-42ff-9a87-3d2fb23c9910",
   "metadata": {},
   "source": [
    "## Detroit's Cornerstone x Grosse Pointe Farms\n",
    "\n",
    "> A similar gap in location effect is observed about a mile north in Detroit’s Cornerstone Village. Cornerstone Village, which is 84 percent Black, showed a location effect 50 percent higher than that of Grosse Pointe Farms, the neighborhood directly bordering it outside Detroit city limits. Grosse Pointe Farms, home to the Detroit Country Club, was 90 percent White with a median household income of $156,000, more than double the state median. "
   ]
  },
  {
   "cell_type": "code",
   "execution_count": 31,
   "id": "87b92ea6-9949-4549-848c-7ebb494e57aa",
   "metadata": {},
   "outputs": [
    {
     "data": {
      "text/plain": [
       "\"Auto Club set territory-adjusted rates 1.6-1.7 times as high in Cornerstone Village ['26163501700', '26163501600', '26163501500'] than it did for their neighboring tracts in Grosse Pointe Farms.\""
      ]
     },
     "execution_count": 31,
     "metadata": {},
     "output_type": "execute_result"
    }
   ],
   "source": [
    "ASSERTED_FIGURE_MIN = 1.5\n",
    "CORNERSTONE_VILLAGE_TRACTS = [\"26163501700\", \"26163501600\", \"26163501500\"]\n",
    "\n",
    "# these are the Detroit tracts bordering Grosse Pointe Farms that i use for this finding\n",
    "DETROIT_TRACTS = CORNERSTONE_VILLAGE_TRACTS\n",
    "\n",
    "gdf_detroit_gpf = gdf_neighbors[gdf_neighbors[\"geo_id\"].isin(DETROIT_TRACTS)]\n",
    "assert (gdf_detroit_gpf[\"loc_rate_div_min\"] > ASSERTED_FIGURE_MIN).all()\n",
    "min_temp = round(gdf_detroit_gpf[\"loc_rate_div_min\"].min(), 1)\n",
    "max_temp = round(gdf_detroit_gpf[\"loc_rate_div_min\"].max(), 1)\n",
    "\n",
    "f\"Auto Club set territory-adjusted rates {min_temp}-{max_temp} times as high in Cornerstone Village {CORNERSTONE_VILLAGE_TRACTS} than it did for their neighboring tracts in Grosse Pointe Farms.\""
   ]
  },
  {
   "cell_type": "code",
   "execution_count": 32,
   "id": "3fc1f873-968a-43df-98c7-03b38757a329",
   "metadata": {},
   "outputs": [
    {
     "name": "stdout",
     "output_type": "stream",
     "text": [
      "Cornerstone Village is 11.200000000000001% (884.0 / 7927.0) White and 84.1% (6669.0 / 7927.0) Black.\n"
     ]
    }
   ],
   "source": [
    "calculate_racial_demograhics(gdf_detroit_gpf, \"Cornerstone Village\")"
   ]
  },
  {
   "cell_type": "code",
   "execution_count": 33,
   "id": "b1ca2b7a-dc48-48c9-b57d-f5d260ac37ad",
   "metadata": {},
   "outputs": [
    {
     "data": {
      "text/plain": [
       "<Axes: >"
      ]
     },
     "execution_count": 33,
     "metadata": {},
     "output_type": "execute_result"
    },
    {
     "data": {
      "image/png": "[encoded data removed]",
      "text/plain": [
       "<Figure size 640x480 with 1 Axes>"
      ]
     },
     "metadata": {},
     "output_type": "display_data"
    }
   ],
   "source": [
    "gdf_neighbors[\n",
    "    gdf_neighbors[\"geo_id\"].isin(DETROIT_TRACTS)\n",
    "    | gdf_neighbors[\"geo_id\"].isin(gdf_detroit_gpf[\"min_geo_id\"])\n",
    "].plot()"
   ]
  },
  {
   "cell_type": "markdown",
   "id": "c2ebed7e-ea16-41c6-9e31-16058816c8cc",
   "metadata": {},
   "source": [
    "## 8 Mile Rd.\n",
    "\n",
    "> Auto Club set location-adjusted base rates about twice as high in two westside territories, just south of 8 Mile Road, than it did for their neighboring territories in Hazel Park, just north of the road. The westside territories are 86 percent Black, while the Hazel Park’sare 71 percent White. The median household income in the Hazel Park tracts is about on par with the state median and 75 percent higher than the median income in the westside territories."
   ]
  },
  {
   "cell_type": "code",
   "execution_count": 34,
   "id": "ff891304-bedd-40c2-b412-eb612da59e54",
   "metadata": {},
   "outputs": [
    {
     "name": "stdout",
     "output_type": "stream",
     "text": [
      "Auto Club set territory-adjusted rates 1.8-1.9 times as high in two Westside census tracts ['26163508100', '26163507500'], \n",
      "just south of 8 Mile Road, than it did for their neighboring tracts in Hazel Park, \n",
      "just north of the road outside of Detroit.\n"
     ]
    }
   ],
   "source": [
    "ASSERTED_FIGURE = 2\n",
    "WESTSIDE_TRACTS = [\"26163508100\", \"26163507500\"]\n",
    "\n",
    "# these are the Detroit tracts bordering Grosse Pointe Farms that i use for this finding\n",
    "DETROIT_TRACTS = WESTSIDE_TRACTS\n",
    "\n",
    "gdf_8_mile = gdf_neighbors[gdf_neighbors[\"geo_id\"].isin(DETROIT_TRACTS)]\n",
    "assert (round(gdf_8_mile[\"loc_rate_div_min\"]) >= 2).all()\n",
    "min_temp = round(gdf_8_mile[\"loc_rate_div_min\"].min(), 1)\n",
    "max_temp = round(gdf_8_mile[\"loc_rate_div_min\"].max(), 1)\n",
    "\n",
    "print(\n",
    "    f\"\"\"Auto Club set territory-adjusted rates {min_temp}-{max_temp} times as high in two Westside census tracts {DETROIT_TRACTS}, \n",
    "just south of 8 Mile Road, than it did for their neighboring tracts in Hazel Park, \n",
    "just north of the road outside of Detroit.\"\"\"\n",
    ")"
   ]
  },
  {
   "cell_type": "code",
   "execution_count": 35,
   "id": "ab235e0e-e51e-49e4-84eb-aa5937299ec9",
   "metadata": {},
   "outputs": [
    {
     "name": "stdout",
     "output_type": "stream",
     "text": [
      "Westside is 2.4% (83.0 / 3516.0) White and 85.8% (3017.0 / 3516.0) Black.\n",
      "Hazel Park tracts is 70.8% (5567.0 / 7868.0) White and 12.4% (977.0 / 7868.0) Black.\n"
     ]
    }
   ],
   "source": [
    "gdf_temp = gdf_neighbors[gdf_neighbors[\"geo_id\"].isin(gdf_8_mile[\"min_geo_id\"])]\n",
    "calculate_racial_demograhics(gdf_8_mile, \"Westside\")\n",
    "calculate_racial_demograhics(gdf_temp, \"Hazel Park tracts\")"
   ]
  },
  {
   "cell_type": "markdown",
   "id": "26899284-a6db-4aa4-80aa-7fa00ebedc6e",
   "metadata": {},
   "source": [
    "Plot the tracts"
   ]
  },
  {
   "cell_type": "code",
   "execution_count": 36,
   "id": "7c4feb5b-e8f4-4b73-9539-0e3a0ca34f3c",
   "metadata": {},
   "outputs": [
    {
     "data": {
      "text/plain": [
       "<Axes: >"
      ]
     },
     "execution_count": 36,
     "metadata": {},
     "output_type": "execute_result"
    },
    {
     "data": {
      "image/png": "[encoded data removed]",
      "text/plain": [
       "<Figure size 640x480 with 1 Axes>"
      ]
     },
     "metadata": {},
     "output_type": "display_data"
    }
   ],
   "source": [
    "gdf_neighbors[\n",
    "    gdf_neighbors[\"geo_id\"].isin(DETROIT_TRACTS)\n",
    "    | gdf_neighbors[\"geo_id\"].isin(gdf_8_mile[\"min_geo_id\"])\n",
    "].plot()"
   ]
  },
  {
   "cell_type": "markdown",
   "id": "4667af90-d949-4a27-90d7-9356d4ea182f",
   "metadata": {},
   "source": [
    "Display tract entries in table"
   ]
  },
  {
   "cell_type": "code",
   "execution_count": 37,
   "id": "261c149e-c3d7-4f2a-a4a6-fe48be14a477",
   "metadata": {},
   "outputs": [
    {
     "data": {
      "text/html": [
       "<div>\n",
       "<style scoped>\n",
       "    .dataframe tbody tr th:only-of-type {\n",
       "        vertical-align: middle;\n",
       "    }\n",
       "\n",
       "    .dataframe tbody tr th {\n",
       "        vertical-align: top;\n",
       "    }\n",
       "\n",
       "    .dataframe thead th {\n",
       "        text-align: right;\n",
       "    }\n",
       "</style>\n",
       "<table border=\"1\" class=\"dataframe\">\n",
       "  <thead>\n",
       "    <tr style=\"text-align: right;\">\n",
       "      <th></th>\n",
       "      <th>geo_id</th>\n",
       "      <th>geo_name</th>\n",
       "      <th>tot_pop</th>\n",
       "      <th>white_pct</th>\n",
       "      <th>black_pct</th>\n",
       "      <th>white_tot</th>\n",
       "      <th>black_tot</th>\n",
       "      <th>generic_location_based_premium</th>\n",
       "      <th>location_effect</th>\n",
       "      <th>is_in_detroit</th>\n",
       "      <th>geometry</th>\n",
       "      <th>is_maj_white</th>\n",
       "      <th>is_maj_black</th>\n",
       "      <th>density</th>\n",
       "      <th>effect_quantile</th>\n",
       "      <th>density_quantile</th>\n",
       "      <th>NEIGHBORS</th>\n",
       "      <th>min_geo_id</th>\n",
       "      <th>neighboring_min</th>\n",
       "      <th>loc_rate_div_min</th>\n",
       "    </tr>\n",
       "  </thead>\n",
       "  <tbody>\n",
       "    <tr>\n",
       "      <th>1636</th>\n",
       "      <td>26125175200</td>\n",
       "      <td>Census Tract 1752</td>\n",
       "      <td>3627.0</td>\n",
       "      <td>0.657</td>\n",
       "      <td>0.122</td>\n",
       "      <td>2383.0</td>\n",
       "      <td>444.0</td>\n",
       "      <td>9135.0</td>\n",
       "      <td>1.23</td>\n",
       "      <td>False</td>\n",
       "      <td>POLYGON ((-83.09546 42.45480, -83.09570 42.455...</td>\n",
       "      <td>True</td>\n",
       "      <td>False</td>\n",
       "      <td>0.001966</td>\n",
       "      <td>highest effect</td>\n",
       "      <td>highest density</td>\n",
       "      <td>[26099263500, 26099263600, 26125175100, 261251...</td>\n",
       "      <td>26125175100</td>\n",
       "      <td>9012.0</td>\n",
       "      <td>1.01</td>\n",
       "    </tr>\n",
       "    <tr>\n",
       "      <th>1637</th>\n",
       "      <td>26125175300</td>\n",
       "      <td>Census Tract 1753</td>\n",
       "      <td>4241.0</td>\n",
       "      <td>0.751</td>\n",
       "      <td>0.126</td>\n",
       "      <td>3184.0</td>\n",
       "      <td>533.0</td>\n",
       "      <td>9309.0</td>\n",
       "      <td>1.25</td>\n",
       "      <td>False</td>\n",
       "      <td>POLYGON ((-83.09661 42.45642, -83.09659 42.456...</td>\n",
       "      <td>True</td>\n",
       "      <td>False</td>\n",
       "      <td>0.002548</td>\n",
       "      <td>highest effect</td>\n",
       "      <td>highest density</td>\n",
       "      <td>[26125173600, 26125175100, 26125175200, 261635...</td>\n",
       "      <td>26125175100</td>\n",
       "      <td>9012.0</td>\n",
       "      <td>1.03</td>\n",
       "    </tr>\n",
       "    <tr>\n",
       "      <th>2156</th>\n",
       "      <td>26163507500</td>\n",
       "      <td>Census Tract 5075</td>\n",
       "      <td>2060.0</td>\n",
       "      <td>0.028</td>\n",
       "      <td>0.954</td>\n",
       "      <td>57.0</td>\n",
       "      <td>1965.0</td>\n",
       "      <td>17537.0</td>\n",
       "      <td>2.36</td>\n",
       "      <td>True</td>\n",
       "      <td>POLYGON ((-83.08312 42.44014, -83.08355 42.440...</td>\n",
       "      <td>False</td>\n",
       "      <td>True</td>\n",
       "      <td>0.002307</td>\n",
       "      <td>highest effect</td>\n",
       "      <td>highest density</td>\n",
       "      <td>[26099263600, 26125175200, 26125175300, 261635...</td>\n",
       "      <td>26125175200</td>\n",
       "      <td>9135.0</td>\n",
       "      <td>1.92</td>\n",
       "    </tr>\n",
       "    <tr>\n",
       "      <th>2159</th>\n",
       "      <td>26163508100</td>\n",
       "      <td>Census Tract 5081</td>\n",
       "      <td>1456.0</td>\n",
       "      <td>0.018</td>\n",
       "      <td>0.723</td>\n",
       "      <td>26.0</td>\n",
       "      <td>1052.0</td>\n",
       "      <td>16934.0</td>\n",
       "      <td>2.28</td>\n",
       "      <td>True</td>\n",
       "      <td>POLYGON ((-83.10863 42.44199, -83.10881 42.442...</td>\n",
       "      <td>False</td>\n",
       "      <td>True</td>\n",
       "      <td>0.000925</td>\n",
       "      <td>highest effect</td>\n",
       "      <td>median</td>\n",
       "      <td>[26125173600, 26125175300, 26163507400, 261635...</td>\n",
       "      <td>26125175300</td>\n",
       "      <td>9309.0</td>\n",
       "      <td>1.82</td>\n",
       "    </tr>\n",
       "  </tbody>\n",
       "</table>\n",
       "</div>"
      ],
      "text/plain": [
       "           geo_id           geo_name  tot_pop  white_pct  black_pct  \\\n",
       "1636  26125175200  Census Tract 1752   3627.0      0.657      0.122   \n",
       "1637  26125175300  Census Tract 1753   4241.0      0.751      0.126   \n",
       "2156  26163507500  Census Tract 5075   2060.0      0.028      0.954   \n",
       "2159  26163508100  Census Tract 5081   1456.0      0.018      0.723   \n",
       "\n",
       "      white_tot  black_tot  generic_location_based_premium  location_effect  \\\n",
       "1636     2383.0      444.0                          9135.0             1.23   \n",
       "1637     3184.0      533.0                          9309.0             1.25   \n",
       "2156       57.0     1965.0                         17537.0             2.36   \n",
       "2159       26.0     1052.0                         16934.0             2.28   \n",
       "\n",
       "      is_in_detroit                                           geometry  \\\n",
       "1636          False  POLYGON ((-83.09546 42.45480, -83.09570 42.455...   \n",
       "1637          False  POLYGON ((-83.09661 42.45642, -83.09659 42.456...   \n",
       "2156           True  POLYGON ((-83.08312 42.44014, -83.08355 42.440...   \n",
       "2159           True  POLYGON ((-83.10863 42.44199, -83.10881 42.442...   \n",
       "\n",
       "      is_maj_white  is_maj_black   density effect_quantile density_quantile  \\\n",
       "1636          True         False  0.001966  highest effect  highest density   \n",
       "1637          True         False  0.002548  highest effect  highest density   \n",
       "2156         False          True  0.002307  highest effect  highest density   \n",
       "2159         False          True  0.000925  highest effect           median   \n",
       "\n",
       "                                              NEIGHBORS   min_geo_id  \\\n",
       "1636  [26099263500, 26099263600, 26125175100, 261251...  26125175100   \n",
       "1637  [26125173600, 26125175100, 26125175200, 261635...  26125175100   \n",
       "2156  [26099263600, 26125175200, 26125175300, 261635...  26125175200   \n",
       "2159  [26125173600, 26125175300, 26163507400, 261635...  26125175300   \n",
       "\n",
       "      neighboring_min  loc_rate_div_min  \n",
       "1636           9012.0              1.01  \n",
       "1637           9012.0              1.03  \n",
       "2156           9135.0              1.92  \n",
       "2159           9309.0              1.82  "
      ]
     },
     "execution_count": 37,
     "metadata": {},
     "output_type": "execute_result"
    }
   ],
   "source": [
    "gdf_neighbors[\n",
    "    gdf_neighbors[\"geo_id\"].isin(DETROIT_TRACTS)\n",
    "    | gdf_neighbors[\"geo_id\"].isin(gdf_8_mile[\"min_geo_id\"])\n",
    "]"
   ]
  },
  {
   "cell_type": "markdown",
   "id": "5cdad07a-c44a-4ba1-a152-492ff3bf2aa0",
   "metadata": {},
   "source": [
    "# Appendix"
   ]
  },
  {
   "cell_type": "markdown",
   "id": "bcaf178d-92f7-446a-b647-10c4ea4561ed",
   "metadata": {},
   "source": [
    "## Population density"
   ]
  },
  {
   "cell_type": "code",
   "execution_count": 38,
   "id": "004c7029-875c-4d1b-ac83-83c2bacacbed",
   "metadata": {},
   "outputs": [
    {
     "name": "stderr",
     "output_type": "stream",
     "text": [
      "/tmp/ipykernel_8528/425056241.py:1: FutureWarning: The default value of observed=False is deprecated and will change to observed=True in a future version of pandas. Specify observed=False to silence this warning and retain the current behavior\n",
      "  gdf_temp = gdf.pivot_table(\n"
     ]
    },
    {
     "data": {
      "text/html": [
       "<div>\n",
       "<style scoped>\n",
       "    .dataframe tbody tr th:only-of-type {\n",
       "        vertical-align: middle;\n",
       "    }\n",
       "\n",
       "    .dataframe tbody tr th {\n",
       "        vertical-align: top;\n",
       "    }\n",
       "\n",
       "    .dataframe thead th {\n",
       "        text-align: right;\n",
       "    }\n",
       "</style>\n",
       "<table border=\"1\" class=\"dataframe\">\n",
       "  <thead>\n",
       "    <tr style=\"text-align: right;\">\n",
       "      <th>density_quantile</th>\n",
       "      <th>lowest density</th>\n",
       "      <th>middle low</th>\n",
       "      <th>median</th>\n",
       "      <th>middle high</th>\n",
       "      <th>highest density</th>\n",
       "    </tr>\n",
       "    <tr>\n",
       "      <th>effect_quantile</th>\n",
       "      <th></th>\n",
       "      <th></th>\n",
       "      <th></th>\n",
       "      <th></th>\n",
       "      <th></th>\n",
       "    </tr>\n",
       "  </thead>\n",
       "  <tbody>\n",
       "    <tr>\n",
       "      <th>lowest effect</th>\n",
       "      <td>0.36</td>\n",
       "      <td>0.28</td>\n",
       "      <td>0.17</td>\n",
       "      <td>0.14</td>\n",
       "      <td>0.07</td>\n",
       "    </tr>\n",
       "    <tr>\n",
       "      <th>middle low</th>\n",
       "      <td>0.23</td>\n",
       "      <td>0.26</td>\n",
       "      <td>0.26</td>\n",
       "      <td>0.15</td>\n",
       "      <td>0.12</td>\n",
       "    </tr>\n",
       "    <tr>\n",
       "      <th>median</th>\n",
       "      <td>0.16</td>\n",
       "      <td>0.24</td>\n",
       "      <td>0.26</td>\n",
       "      <td>0.19</td>\n",
       "      <td>0.15</td>\n",
       "    </tr>\n",
       "    <tr>\n",
       "      <th>middle high</th>\n",
       "      <td>0.22</td>\n",
       "      <td>0.18</td>\n",
       "      <td>0.15</td>\n",
       "      <td>0.20</td>\n",
       "      <td>0.21</td>\n",
       "    </tr>\n",
       "    <tr>\n",
       "      <th>highest effect</th>\n",
       "      <td>0.03</td>\n",
       "      <td>0.04</td>\n",
       "      <td>0.16</td>\n",
       "      <td>0.32</td>\n",
       "      <td>0.44</td>\n",
       "    </tr>\n",
       "  </tbody>\n",
       "</table>\n",
       "</div>"
      ],
      "text/plain": [
       "density_quantile  lowest density  middle low  median  middle high  \\\n",
       "effect_quantile                                                     \n",
       "lowest effect               0.36        0.28    0.17         0.14   \n",
       "middle low                  0.23        0.26    0.26         0.15   \n",
       "median                      0.16        0.24    0.26         0.19   \n",
       "middle high                 0.22        0.18    0.15         0.20   \n",
       "highest effect              0.03        0.04    0.16         0.32   \n",
       "\n",
       "density_quantile  highest density  \n",
       "effect_quantile                    \n",
       "lowest effect                0.07  \n",
       "middle low                   0.12  \n",
       "median                       0.15  \n",
       "middle high                  0.21  \n",
       "highest effect               0.44  "
      ]
     },
     "execution_count": 38,
     "metadata": {},
     "output_type": "execute_result"
    }
   ],
   "source": [
    "gdf_temp = gdf.pivot_table(\n",
    "    index=\"effect_quantile\", columns=\"density_quantile\", aggfunc=\"count\"\n",
    ")[\"black_pct\"]\n",
    "df_density_quintile = round(gdf_temp / gdf_temp.sum(), 2)\n",
    "df_density_quintile"
   ]
  },
  {
   "cell_type": "code",
   "execution_count": 39,
   "id": "5d9d659a-0502-480b-b6a2-fdd62432f303",
   "metadata": {},
   "outputs": [
    {
     "data": {
      "text/html": [
       "\n",
       "<style>\n",
       "  #altair-viz-296d67fb082c41b4a005fa7a6297b209.vega-embed {\n",
       "    width: 100%;\n",
       "    display: flex;\n",
       "  }\n",
       "\n",
       "  #altair-viz-296d67fb082c41b4a005fa7a6297b209.vega-embed details,\n",
       "  #altair-viz-296d67fb082c41b4a005fa7a6297b209.vega-embed details summary {\n",
       "    position: relative;\n",
       "  }\n",
       "</style>\n",
       "<div id=\"altair-viz-296d67fb082c41b4a005fa7a6297b209\"></div>\n",
       "<script type=\"text/javascript\">\n",
       "  var VEGA_DEBUG = (typeof VEGA_DEBUG == \"undefined\") ? {} : VEGA_DEBUG;\n",
       "  (function(spec, embedOpt){\n",
       "    let outputDiv = document.currentScript.previousElementSibling;\n",
       "    if (outputDiv.id !== \"altair-viz-296d67fb082c41b4a005fa7a6297b209\") {\n",
       "      outputDiv = document.getElementById(\"altair-viz-296d67fb082c41b4a005fa7a6297b209\");\n",
       "    }\n",
       "    const paths = {\n",
       "      \"vega\": \"https://cdn.jsdelivr.net/npm/vega@5?noext\",\n",
       "      \"vega-lib\": \"https://cdn.jsdelivr.net/npm/vega-lib?noext\",\n",
       "      \"vega-lite\": \"https://cdn.jsdelivr.net/npm/vega-lite@5.17.0?noext\",\n",
       "      \"vega-embed\": \"https://cdn.jsdelivr.net/npm/vega-embed@6?noext\",\n",
       "    };\n",
       "\n",
       "    function maybeLoadScript(lib, version) {\n",
       "      var key = `${lib.replace(\"-\", \"\")}_version`;\n",
       "      return (VEGA_DEBUG[key] == version) ?\n",
       "        Promise.resolve(paths[lib]) :\n",
       "        new Promise(function(resolve, reject) {\n",
       "          var s = document.createElement('script');\n",
       "          document.getElementsByTagName(\"head\")[0].appendChild(s);\n",
       "          s.async = true;\n",
       "          s.onload = () => {\n",
       "            VEGA_DEBUG[key] = version;\n",
       "            return resolve(paths[lib]);\n",
       "          };\n",
       "          s.onerror = () => reject(`Error loading script: ${paths[lib]}`);\n",
       "          s.src = paths[lib];\n",
       "        });\n",
       "    }\n",
       "\n",
       "    function showError(err) {\n",
       "      outputDiv.innerHTML = `<div class=\"error\" style=\"color:red;\">${err}</div>`;\n",
       "      throw err;\n",
       "    }\n",
       "\n",
       "    function displayChart(vegaEmbed) {\n",
       "      vegaEmbed(outputDiv, spec, embedOpt)\n",
       "        .catch(err => showError(`Javascript Error: ${err.message}<br>This usually means there's a typo in your chart specification. See the javascript console for the full traceback.`));\n",
       "    }\n",
       "\n",
       "    if(typeof define === \"function\" && define.amd) {\n",
       "      requirejs.config({paths});\n",
       "      require([\"vega-embed\"], displayChart, err => showError(`Error loading script: ${err.message}`));\n",
       "    } else {\n",
       "      maybeLoadScript(\"vega\", \"5\")\n",
       "        .then(() => maybeLoadScript(\"vega-lite\", \"5.17.0\"))\n",
       "        .then(() => maybeLoadScript(\"vega-embed\", \"6\"))\n",
       "        .catch(showError)\n",
       "        .then(() => displayChart(vegaEmbed));\n",
       "    }\n",
       "  })({\"config\": {\"view\": {\"continuousWidth\": 300, \"continuousHeight\": 300}}, \"data\": {\"name\": \"data-9288da5062b7b3e89845d775d18e3a10\"}, \"mark\": {\"type\": \"bar\"}, \"encoding\": {\"color\": {\"field\": \"Effect quintile\", \"sort\": [\"lowest effect\", \"middle low\", \"median\", \"middle high\", \"highest effect\"], \"type\": \"ordinal\"}, \"order\": {\"field\": \"color_Effect_quintile_sort_index\", \"type\": \"quantitative\"}, \"x\": {\"field\": \"Percent\", \"type\": \"quantitative\"}, \"y\": {\"field\": \"Population density group\", \"sort\": [\"Lowest\", \"Lower middle\", \"Median\", \"Upper middle\", \"Highest\"], \"type\": \"nominal\"}}, \"height\": 500, \"title\": \"Auto Club\", \"width\": 500, \"$schema\": \"https://vega.github.io/schema/vega-lite/v5.17.0.json\", \"datasets\": {\"data-9288da5062b7b3e89845d775d18e3a10\": [{\"Effect quintile\": \"lowest effect\", \"Population density group\": \"Lowest\", \"Percent\": 0.3552}, {\"Effect quintile\": \"middle low\", \"Population density group\": \"Lowest\", \"Percent\": 0.2327}, {\"Effect quintile\": \"median\", \"Population density group\": \"Lowest\", \"Percent\": 0.1616}, {\"Effect quintile\": \"middle high\", \"Population density group\": \"Lowest\", \"Percent\": 0.2238}, {\"Effect quintile\": \"highest effect\", \"Population density group\": \"Lowest\", \"Percent\": 0.0266}, {\"Effect quintile\": \"lowest effect\", \"Population density group\": \"Lower middle\", \"Percent\": 0.2758}, {\"Effect quintile\": \"middle low\", \"Population density group\": \"Lower middle\", \"Percent\": 0.2633}, {\"Effect quintile\": \"median\", \"Population density group\": \"Lower middle\", \"Percent\": 0.2402}, {\"Effect quintile\": \"middle high\", \"Population density group\": \"Lower middle\", \"Percent\": 0.1815}, {\"Effect quintile\": \"highest effect\", \"Population density group\": \"Lower middle\", \"Percent\": 0.0391}, {\"Effect quintile\": \"lowest effect\", \"Population density group\": \"Median\", \"Percent\": 0.1741}, {\"Effect quintile\": \"middle low\", \"Population density group\": \"Median\", \"Percent\": 0.2611}, {\"Effect quintile\": \"median\", \"Population density group\": \"Median\", \"Percent\": 0.2575}, {\"Effect quintile\": \"middle high\", \"Population density group\": \"Median\", \"Percent\": 0.1456}, {\"Effect quintile\": \"highest effect\", \"Population density group\": \"Median\", \"Percent\": 0.1616}, {\"Effect quintile\": \"lowest effect\", \"Population density group\": \"Upper middle\", \"Percent\": 0.137}, {\"Effect quintile\": \"middle low\", \"Population density group\": \"Upper middle\", \"Percent\": 0.1548}, {\"Effect quintile\": \"median\", \"Population density group\": \"Upper middle\", \"Percent\": 0.1886}, {\"Effect quintile\": \"middle high\", \"Population density group\": \"Upper middle\", \"Percent\": 0.1957}, {\"Effect quintile\": \"highest effect\", \"Population density group\": \"Upper middle\", \"Percent\": 0.3238}, {\"Effect quintile\": \"lowest effect\", \"Population density group\": \"Highest\", \"Percent\": 0.0746}, {\"Effect quintile\": \"middle low\", \"Population density group\": \"Highest\", \"Percent\": 0.1243}, {\"Effect quintile\": \"median\", \"Population density group\": \"Highest\", \"Percent\": 0.1474}, {\"Effect quintile\": \"middle high\", \"Population density group\": \"Highest\", \"Percent\": 0.2114}, {\"Effect quintile\": \"highest effect\", \"Population density group\": \"Highest\", \"Percent\": 0.4423}]}}, {\"mode\": \"vega-lite\"});\n",
       "</script>"
      ],
      "text/plain": [
       "alt.Chart(...)"
      ]
     },
     "execution_count": 39,
     "metadata": {},
     "output_type": "execute_result"
    }
   ],
   "source": [
    "%run ../00_misc/helper-func-notebook.ipynb\n",
    "df_density_quintile = round(gdf_temp / gdf_temp.sum(), 4)\n",
    "density_hbar = stacked_population_density_hbar(df_density_quintile, title=\"Auto Club\")\n",
    "density_hbar"
   ]
  },
  {
   "cell_type": "code",
   "execution_count": 40,
   "id": "7ada35c7-790e-44b8-a6d0-02a0070ad45f",
   "metadata": {},
   "outputs": [
    {
     "name": "stderr",
     "output_type": "stream",
     "text": [
      "/tmp/ipykernel_8528/1373629883.py:1: FutureWarning: The default of observed=False is deprecated and will be changed to True in a future version of pandas. Pass observed=False to retain current behavior or observed=True to adopt the future default and silence this warning.\n",
      "  gdf_groupby_density_quantiles = gdf.groupby(\"density_quantile\")[\n"
     ]
    },
    {
     "data": {
      "text/html": [
       "<div>\n",
       "<style scoped>\n",
       "    .dataframe tbody tr th:only-of-type {\n",
       "        vertical-align: middle;\n",
       "    }\n",
       "\n",
       "    .dataframe tbody tr th {\n",
       "        vertical-align: top;\n",
       "    }\n",
       "\n",
       "    .dataframe thead th {\n",
       "        text-align: right;\n",
       "    }\n",
       "</style>\n",
       "<table border=\"1\" class=\"dataframe\">\n",
       "  <thead>\n",
       "    <tr style=\"text-align: right;\">\n",
       "      <th></th>\n",
       "      <th>black_tot</th>\n",
       "      <th>white_tot</th>\n",
       "      <th>tot_pop</th>\n",
       "    </tr>\n",
       "    <tr>\n",
       "      <th>density_quantile</th>\n",
       "      <th></th>\n",
       "      <th></th>\n",
       "      <th></th>\n",
       "    </tr>\n",
       "  </thead>\n",
       "  <tbody>\n",
       "    <tr>\n",
       "      <th>lowest density</th>\n",
       "      <td>2.0</td>\n",
       "      <td>21.0</td>\n",
       "      <td>17.0</td>\n",
       "    </tr>\n",
       "    <tr>\n",
       "      <th>middle low</th>\n",
       "      <td>5.0</td>\n",
       "      <td>27.0</td>\n",
       "      <td>23.0</td>\n",
       "    </tr>\n",
       "    <tr>\n",
       "      <th>median</th>\n",
       "      <td>18.0</td>\n",
       "      <td>21.0</td>\n",
       "      <td>21.0</td>\n",
       "    </tr>\n",
       "    <tr>\n",
       "      <th>middle high</th>\n",
       "      <td>30.0</td>\n",
       "      <td>17.0</td>\n",
       "      <td>19.0</td>\n",
       "    </tr>\n",
       "    <tr>\n",
       "      <th>highest density</th>\n",
       "      <td>45.0</td>\n",
       "      <td>14.0</td>\n",
       "      <td>20.0</td>\n",
       "    </tr>\n",
       "  </tbody>\n",
       "</table>\n",
       "</div>"
      ],
      "text/plain": [
       "                  black_tot  white_tot  tot_pop\n",
       "density_quantile                               \n",
       "lowest density          2.0       21.0     17.0\n",
       "middle low              5.0       27.0     23.0\n",
       "median                 18.0       21.0     21.0\n",
       "middle high            30.0       17.0     19.0\n",
       "highest density        45.0       14.0     20.0"
      ]
     },
     "execution_count": 40,
     "metadata": {},
     "output_type": "execute_result"
    }
   ],
   "source": [
    "gdf_groupby_density_quantiles = gdf.groupby(\"density_quantile\")[\n",
    "    QUANTILE_GROUP_BY_COLS\n",
    "].sum()\n",
    "column_sums = gdf_groupby_density_quantiles.sum(axis=0)\n",
    "df_density_distribution = prptn_to_pct(\n",
    "    gdf_groupby_density_quantiles.div(column_sums, axis=1), 2\n",
    ")\n",
    "df_density_distribution"
   ]
  },
  {
   "cell_type": "markdown",
   "id": "1acdb673-5a46-4d02-ac73-8c21499970b1",
   "metadata": {},
   "source": [
    "## Effect x density"
   ]
  },
  {
   "cell_type": "code",
   "execution_count": 41,
   "id": "01956ca5-2b67-4078-b665-2485b89419cc",
   "metadata": {},
   "outputs": [],
   "source": [
    "def pivot_effect_density_quantiles(\n",
    "    gdf, race_group, race_label=None, calculate_percent=True\n",
    "):\n",
    "    gdf_temp = gdf.pivot_table(\n",
    "        index=\"effect_quantile\",\n",
    "        columns=\"density_quantile\",\n",
    "        values=race_group,\n",
    "        aggfunc=\"sum\",\n",
    "        observed=False,\n",
    "    )\n",
    "    if calculate_percent:\n",
    "        gdf_temp = prptn_to_pct(gdf_temp / gdf_temp.sum().sum())\n",
    "    gdf_temp = gdf_temp.reset_index()\n",
    "    if race_label:\n",
    "        gdf_temp[\"race\"] = race_label\n",
    "    else:\n",
    "        gdf_temp[\"race\"] = race_group\n",
    "    gdf_temp[\"insurer\"] = INSURER\n",
    "    return gdf_temp\n",
    "\n",
    "\n",
    "def join_effect_density_quantiles_pivots(calculate_percent=True):\n",
    "    gdf_white = pivot_effect_density_quantiles(\n",
    "        gdf, \"white_tot\", \"White\", calculate_percent=calculate_percent\n",
    "    )\n",
    "    gdf_black = pivot_effect_density_quantiles(\n",
    "        gdf, \"black_tot\", \"Black\", calculate_percent=calculate_percent\n",
    "    )\n",
    "    return pd.concat([gdf_white, gdf_black], ignore_index=True)\n",
    "\n",
    "\n",
    "gdf_effect_density_quantiles_pivot = join_effect_density_quantiles_pivots()\n",
    "gdf_effect_density_quantiles_pivot.to_csv(\n",
    "    \"./outputs/effect_density_quantiles_pivot.csv\", index=False\n",
    ")\n",
    "gdf_effect_density_quantiles_pivot = join_effect_density_quantiles_pivots(False)\n",
    "gdf_effect_density_quantiles_pivot.to_csv(\n",
    "    \"./outputs/effect_density_quantiles_pivot_count.csv\", index=False\n",
    ")"
   ]
  },
  {
   "cell_type": "markdown",
   "id": "e25397d6-a5f3-46d6-b0c0-78ab7c51a29a",
   "metadata": {},
   "source": [
    "## Topline findings Section\n",
    "\n",
    "The relevant text from the opening section of the `Findings`section"
   ]
  },
  {
   "cell_type": "markdown",
   "id": "456a3d4d-6b31-4c16-b4e7-bf5c704d7497",
   "metadata": {},
   "source": [
    "### Correlation"
   ]
  },
  {
   "cell_type": "markdown",
   "id": "4ad11527-1f1b-4aa5-bac0-ba631a8799f1",
   "metadata": {},
   "source": [
    "> We observed a strong correlation between race and location effect for Auto Club and Citizens. For both insurers, as the number of Black residents in a territory increased, the location effect tended to increase. We saw a similar but opposing trend with Michigan’s White population: As the number of White residents in a territory increased, the location effect generally decreased.\n",
    "\n",
    "Correlation coefficients ranging between 0.40-0.70 are categorized as strong for social sciences. Results below match this."
   ]
  },
  {
   "cell_type": "code",
   "execution_count": 42,
   "id": "2db3e748-bda0-4dd4-9af2-f39fe82b5e4e",
   "metadata": {},
   "outputs": [
    {
     "data": {
      "text/html": [
       "<div>\n",
       "<style scoped>\n",
       "    .dataframe tbody tr th:only-of-type {\n",
       "        vertical-align: middle;\n",
       "    }\n",
       "\n",
       "    .dataframe tbody tr th {\n",
       "        vertical-align: top;\n",
       "    }\n",
       "\n",
       "    .dataframe thead th {\n",
       "        text-align: right;\n",
       "    }\n",
       "</style>\n",
       "<table border=\"1\" class=\"dataframe\">\n",
       "  <thead>\n",
       "    <tr style=\"text-align: right;\">\n",
       "      <th></th>\n",
       "      <th>generic_location_based_premium</th>\n",
       "      <th>black_pct</th>\n",
       "      <th>white_pct</th>\n",
       "      <th>density</th>\n",
       "      <th>generic_location_based_premium</th>\n",
       "    </tr>\n",
       "  </thead>\n",
       "  <tbody>\n",
       "    <tr>\n",
       "      <th>generic_location_based_premium</th>\n",
       "      <td>1.000000</td>\n",
       "      <td>0.498081</td>\n",
       "      <td>-0.421406</td>\n",
       "      <td>0.405983</td>\n",
       "      <td>1.000000</td>\n",
       "    </tr>\n",
       "    <tr>\n",
       "      <th>black_pct</th>\n",
       "      <td>0.498081</td>\n",
       "      <td>1.000000</td>\n",
       "      <td>-0.772490</td>\n",
       "      <td>0.653840</td>\n",
       "      <td>0.498081</td>\n",
       "    </tr>\n",
       "    <tr>\n",
       "      <th>white_pct</th>\n",
       "      <td>-0.421406</td>\n",
       "      <td>-0.772490</td>\n",
       "      <td>1.000000</td>\n",
       "      <td>-0.534607</td>\n",
       "      <td>-0.421406</td>\n",
       "    </tr>\n",
       "    <tr>\n",
       "      <th>density</th>\n",
       "      <td>0.405983</td>\n",
       "      <td>0.653840</td>\n",
       "      <td>-0.534607</td>\n",
       "      <td>1.000000</td>\n",
       "      <td>0.405983</td>\n",
       "    </tr>\n",
       "    <tr>\n",
       "      <th>generic_location_based_premium</th>\n",
       "      <td>1.000000</td>\n",
       "      <td>0.498081</td>\n",
       "      <td>-0.421406</td>\n",
       "      <td>0.405983</td>\n",
       "      <td>1.000000</td>\n",
       "    </tr>\n",
       "  </tbody>\n",
       "</table>\n",
       "</div>"
      ],
      "text/plain": [
       "                                generic_location_based_premium  black_pct  \\\n",
       "generic_location_based_premium                        1.000000   0.498081   \n",
       "black_pct                                             0.498081   1.000000   \n",
       "white_pct                                            -0.421406  -0.772490   \n",
       "density                                               0.405983   0.653840   \n",
       "generic_location_based_premium                        1.000000   0.498081   \n",
       "\n",
       "                                white_pct   density  \\\n",
       "generic_location_based_premium  -0.421406  0.405983   \n",
       "black_pct                       -0.772490  0.653840   \n",
       "white_pct                        1.000000 -0.534607   \n",
       "density                         -0.534607  1.000000   \n",
       "generic_location_based_premium  -0.421406  0.405983   \n",
       "\n",
       "                                generic_location_based_premium  \n",
       "generic_location_based_premium                        1.000000  \n",
       "black_pct                                             0.498081  \n",
       "white_pct                                            -0.421406  \n",
       "density                                               0.405983  \n",
       "generic_location_based_premium                        1.000000  "
      ]
     },
     "execution_count": 42,
     "metadata": {},
     "output_type": "execute_result"
    },
    {
     "data": {
      "image/png": "[encoded data removed]",
      "text/plain": [
       "<Figure size 1000x600 with 2 Axes>"
      ]
     },
     "metadata": {},
     "output_type": "display_data"
    }
   ],
   "source": [
    "%run ../00_misc/helper-func-notebook.ipynb\n",
    "display_correlation(gdf[CORRELATION_COLS], method=\"spearman\")"
   ]
  },
  {
   "cell_type": "markdown",
   "id": "4f4a4b8b-5cf3-4e87-acbb-f04bf559592b",
   "metadata": {},
   "source": [
    "### Rate quantiles"
   ]
  },
  {
   "cell_type": "markdown",
   "id": "0fb2e7fa-389d-4dd8-89ca-34e304e093b8",
   "metadata": {},
   "source": [
    "> For those two insurers, seven percent of White Michiganders lived in the top quintile of location effects."
   ]
  },
  {
   "cell_type": "code",
   "execution_count": 43,
   "id": "dce7ad23-be89-43ac-867b-8b90a0496503",
   "metadata": {},
   "outputs": [
    {
     "name": "stdout",
     "output_type": "stream",
     "text": [
      "7% of White Michiganders lived in the top quintile of location effects.\n"
     ]
    },
    {
     "data": {
      "text/html": [
       "<div>\n",
       "<style scoped>\n",
       "    .dataframe tbody tr th:only-of-type {\n",
       "        vertical-align: middle;\n",
       "    }\n",
       "\n",
       "    .dataframe tbody tr th {\n",
       "        vertical-align: top;\n",
       "    }\n",
       "\n",
       "    .dataframe thead th {\n",
       "        text-align: right;\n",
       "    }\n",
       "</style>\n",
       "<table border=\"1\" class=\"dataframe\">\n",
       "  <thead>\n",
       "    <tr style=\"text-align: right;\">\n",
       "      <th></th>\n",
       "      <th>black_tot</th>\n",
       "      <th>white_tot</th>\n",
       "      <th>tot_pop</th>\n",
       "    </tr>\n",
       "    <tr>\n",
       "      <th>effect_quantile</th>\n",
       "      <th></th>\n",
       "      <th></th>\n",
       "      <th></th>\n",
       "    </tr>\n",
       "  </thead>\n",
       "  <tbody>\n",
       "    <tr>\n",
       "      <th>lowest effect</th>\n",
       "      <td>6.766</td>\n",
       "      <td>24.689</td>\n",
       "      <td>21.821</td>\n",
       "    </tr>\n",
       "    <tr>\n",
       "      <th>middle low</th>\n",
       "      <td>10.454</td>\n",
       "      <td>25.507</td>\n",
       "      <td>23.657</td>\n",
       "    </tr>\n",
       "    <tr>\n",
       "      <th>median</th>\n",
       "      <td>9.416</td>\n",
       "      <td>23.474</td>\n",
       "      <td>21.211</td>\n",
       "    </tr>\n",
       "    <tr>\n",
       "      <th>middle high</th>\n",
       "      <td>15.095</td>\n",
       "      <td>19.698</td>\n",
       "      <td>18.631</td>\n",
       "    </tr>\n",
       "    <tr>\n",
       "      <th>highest effect</th>\n",
       "      <td>58.269</td>\n",
       "      <td>6.631</td>\n",
       "      <td>14.680</td>\n",
       "    </tr>\n",
       "  </tbody>\n",
       "</table>\n",
       "</div>"
      ],
      "text/plain": [
       "                 black_tot  white_tot  tot_pop\n",
       "effect_quantile                               \n",
       "lowest effect        6.766     24.689   21.821\n",
       "middle low          10.454     25.507   23.657\n",
       "median               9.416     23.474   21.211\n",
       "middle high         15.095     19.698   18.631\n",
       "highest effect      58.269      6.631   14.680"
      ]
     },
     "execution_count": 43,
     "metadata": {},
     "output_type": "execute_result"
    }
   ],
   "source": [
    "ASSERTED_VALUE = 7\n",
    "actual_value = round(df_distribution.loc[\"highest effect\"][\"white_tot\"])\n",
    "print(\n",
    "    f\"{actual_value}% of White Michiganders lived in the top quintile of location effects.\"\n",
    ")\n",
    "assert ASSERTED_VALUE == actual_value\n",
    "df_distribution"
   ]
  },
  {
   "cell_type": "markdown",
   "id": "3ccd5438-c767-49c8-8ad8-a330fa56b535",
   "metadata": {},
   "source": [
    "### Detroit range"
   ]
  },
  {
   "cell_type": "markdown",
   "id": "54b1f52d-0279-46c2-8dcd-66e03645a6e1",
   "metadata": {},
   "source": [
    "> Auto Club had the widest range of location effects within the city.\n",
    "\n",
    "No other insurer had a location effect in Detroit that fell anywhere near the median effect."
   ]
  },
  {
   "cell_type": "code",
   "execution_count": 44,
   "id": "5542dc25-c882-4db2-beee-ac62abd54a16",
   "metadata": {},
   "outputs": [
    {
     "name": "stdout",
     "output_type": "stream",
     "text": [
      "Auto Club range of location effects within Detroit: 0.99-2.81. The avg: 2.16\n",
      "The highest effect 2.81 is in Detroit\n"
     ]
    }
   ],
   "source": [
    "highest_effect = gdf[\"location_effect\"].max()\n",
    "detroit_loc_effects = gdf[gdf[\"is_in_detroit\"]][\"location_effect\"]\n",
    "detroit_min_loc_effects = detroit_loc_effects.min()\n",
    "detroit_max_loc_effects = detroit_loc_effects.max()\n",
    "detroit_avg_loc_effect = round(detroit_loc_effects.mean(), 2)\n",
    "assert highest_effect == detroit_max_loc_effects\n",
    "\n",
    "print(\n",
    "    f\"{INSURER} range of location effects within Detroit: {detroit_min_loc_effects}-{detroit_max_loc_effects}. The avg: {detroit_avg_loc_effect}\"\n",
    ")\n",
    "print(\n",
    "    f\"The highest effect {highest_effect} is in Detroit\"\n",
    ")"
   ]
  },
  {
   "cell_type": "markdown",
   "id": "aaa57a9a-d20f-465a-b283-49ce692e6f0b",
   "metadata": {},
   "source": [
    "### Location effect and race\n",
    "\n",
    "> Auto Club set higher location-related relativities in territories with a higher Black population and lower location-related relativities in territories with more White residents.\n",
    "\n",
    "Display the table of distributions below"
   ]
  },
  {
   "cell_type": "code",
   "execution_count": 45,
   "id": "70a2f166-e626-4e07-b634-5fcd2641dd86",
   "metadata": {},
   "outputs": [
    {
     "data": {
      "text/html": [
       "<div>\n",
       "<style scoped>\n",
       "    .dataframe tbody tr th:only-of-type {\n",
       "        vertical-align: middle;\n",
       "    }\n",
       "\n",
       "    .dataframe tbody tr th {\n",
       "        vertical-align: top;\n",
       "    }\n",
       "\n",
       "    .dataframe thead th {\n",
       "        text-align: right;\n",
       "    }\n",
       "</style>\n",
       "<table border=\"1\" class=\"dataframe\">\n",
       "  <thead>\n",
       "    <tr style=\"text-align: right;\">\n",
       "      <th></th>\n",
       "      <th>black_tot</th>\n",
       "      <th>white_tot</th>\n",
       "      <th>tot_pop</th>\n",
       "    </tr>\n",
       "    <tr>\n",
       "      <th>effect_quantile</th>\n",
       "      <th></th>\n",
       "      <th></th>\n",
       "      <th></th>\n",
       "    </tr>\n",
       "  </thead>\n",
       "  <tbody>\n",
       "    <tr>\n",
       "      <th>lowest effect</th>\n",
       "      <td>6.766</td>\n",
       "      <td>24.689</td>\n",
       "      <td>21.821</td>\n",
       "    </tr>\n",
       "    <tr>\n",
       "      <th>middle low</th>\n",
       "      <td>10.454</td>\n",
       "      <td>25.507</td>\n",
       "      <td>23.657</td>\n",
       "    </tr>\n",
       "    <tr>\n",
       "      <th>median</th>\n",
       "      <td>9.416</td>\n",
       "      <td>23.474</td>\n",
       "      <td>21.211</td>\n",
       "    </tr>\n",
       "    <tr>\n",
       "      <th>middle high</th>\n",
       "      <td>15.095</td>\n",
       "      <td>19.698</td>\n",
       "      <td>18.631</td>\n",
       "    </tr>\n",
       "    <tr>\n",
       "      <th>highest effect</th>\n",
       "      <td>58.269</td>\n",
       "      <td>6.631</td>\n",
       "      <td>14.680</td>\n",
       "    </tr>\n",
       "  </tbody>\n",
       "</table>\n",
       "</div>"
      ],
      "text/plain": [
       "                 black_tot  white_tot  tot_pop\n",
       "effect_quantile                               \n",
       "lowest effect        6.766     24.689   21.821\n",
       "middle low          10.454     25.507   23.657\n",
       "median               9.416     23.474   21.211\n",
       "middle high         15.095     19.698   18.631\n",
       "highest effect      58.269      6.631   14.680"
      ]
     },
     "execution_count": 45,
     "metadata": {},
     "output_type": "execute_result"
    }
   ],
   "source": [
    "df_distribution"
   ]
  },
  {
   "cell_type": "markdown",
   "id": "8a812cc2-7504-49fe-9e60-32da865a0b3e",
   "metadata": {},
   "source": [
    "## Count of Wayne tracts"
   ]
  },
  {
   "cell_type": "code",
   "execution_count": 46,
   "id": "2c437d6a-32b5-43ee-8084-c67044d52fcb",
   "metadata": {},
   "outputs": [
    {
     "name": "stdout",
     "output_type": "stream",
     "text": [
      "Wayne County had 611 tracts in the 2010 census maps\n"
     ]
    },
    {
     "data": {
      "text/plain": [
       "<Axes: >"
      ]
     },
     "execution_count": 46,
     "metadata": {},
     "output_type": "execute_result"
    },
    {
     "data": {
      "image/png": "[encoded data removed]",
      "text/plain": [
       "<Figure size 640x480 with 1 Axes>"
      ]
     },
     "metadata": {},
     "output_type": "display_data"
    }
   ],
   "source": [
    "wayne_2010_tract_count = len(gdf_wayne)\n",
    "print(f\"Wayne County had {wayne_2010_tract_count} tracts in the 2010 census maps\")\n",
    "gdf_wayne.plot()"
   ]
  },
  {
   "cell_type": "markdown",
   "id": "1c25044c-28af-4c7c-ac54-628aa8190432",
   "metadata": {},
   "source": [
    "## Lowest effect"
   ]
  },
  {
   "cell_type": "code",
   "execution_count": 47,
   "id": "50357e2d-4cee-4460-ac18-2638d0462213",
   "metadata": {},
   "outputs": [
    {
     "data": {
      "text/plain": [
       "<Axes: >"
      ]
     },
     "execution_count": 47,
     "metadata": {},
     "output_type": "execute_result"
    },
    {
     "data": {
      "image/png": "[encoded data removed]",
      "text/plain": [
       "<Figure size 640x480 with 1 Axes>"
      ]
     },
     "metadata": {},
     "output_type": "display_data"
    }
   ],
   "source": [
    "is_lowest_effect = gdf[\"location_effect\"] == gdf[\"location_effect\"].min()\n",
    "has_population = gdf[\"tot_pop\"] > 0\n",
    "gdf_min = gdf[is_lowest_effect & has_population]\n",
    "gdf_min.plot()"
   ]
  },
  {
   "cell_type": "code",
   "execution_count": 48,
   "id": "aef345e6-a318-4fff-b644-84bedc23749f",
   "metadata": {},
   "outputs": [
    {
     "data": {
      "text/plain": [
       "'The tracts with the lowest effect in the state and are 69.6% White.'"
      ]
     },
     "execution_count": 48,
     "metadata": {},
     "output_type": "execute_result"
    }
   ],
   "source": [
    "lowest_effect_pct_white = prptn_to_pct(\n",
    "    gdf_min[\"white_tot\"].sum() / gdf_min[\"tot_pop\"].sum()\n",
    ")\n",
    "f\"The tracts with the lowest effect in the state and are {lowest_effect_pct_white}% White.\""
   ]
  },
  {
   "cell_type": "markdown",
   "id": "8717219b-bdf0-42a5-819d-4c801486c4b9",
   "metadata": {},
   "source": [
    "## Effect in top quantile"
   ]
  },
  {
   "cell_type": "code",
   "execution_count": 49,
   "id": "00108005-a178-43c2-8dbc-3673e853c488",
   "metadata": {},
   "outputs": [
    {
     "name": "stdout",
     "output_type": "stream",
     "text": [
      "The location effect in the top quantile ranged from 1.19 to 2.81\n"
     ]
    }
   ],
   "source": [
    "gdf_highest_effects = gdf[gdf[\"effect_quantile\"] == \"highest effect\"]\n",
    "lowest_quantile_min_effect = gdf_highest_effects[\"location_effect\"].min()\n",
    "highest_quantile_max_effect = gdf_highest_effects[\"location_effect\"].max()\n",
    "\n",
    "print(\n",
    "    f\"The location effect in the top quantile ranged from {lowest_quantile_min_effect} to {highest_quantile_max_effect}\"\n",
    ")"
   ]
  },
  {
   "cell_type": "markdown",
   "id": "f48d16f8-eca7-4ddf-a4b9-0ae6014542e0",
   "metadata": {},
   "source": [
    "## Export data"
   ]
  },
  {
   "cell_type": "code",
   "execution_count": 50,
   "id": "b5fcc9a3-ddd1-4ab6-a477-8fb08b5e25d6",
   "metadata": {},
   "outputs": [],
   "source": [
    "%run ../00_misc/helper-func-notebook.ipynb\n",
    "df_export = datawrapper_race_distribution(df_distribution, \"Auto Club\")\n",
    "df_export.to_csv(\"./outputs/auto_club_race_chart_data.csv\")"
   ]
  },
  {
   "cell_type": "code",
   "execution_count": 51,
   "id": "2fd4abf1-58df-437b-80ce-b04ebcca1c84",
   "metadata": {},
   "outputs": [],
   "source": [
    "%run ../00_misc/helper-func-notebook.ipynb\n",
    "df_export = datawrapper_race_distribution(df_density_distribution, \"Auto Club\")\n",
    "df_export.to_csv(\"./outputs/auto_club_race_density_chart_data.csv\")"
   ]
  },
  {
   "cell_type": "code",
   "execution_count": 52,
   "id": "ef5ba3cf-53da-4f4d-9795-360213f55387",
   "metadata": {},
   "outputs": [
    {
     "data": {
      "text/html": [
       "<div>\n",
       "<style scoped>\n",
       "    .dataframe tbody tr th:only-of-type {\n",
       "        vertical-align: middle;\n",
       "    }\n",
       "\n",
       "    .dataframe tbody tr th {\n",
       "        vertical-align: top;\n",
       "    }\n",
       "\n",
       "    .dataframe thead th {\n",
       "        text-align: right;\n",
       "    }\n",
       "</style>\n",
       "<table border=\"1\" class=\"dataframe\">\n",
       "  <thead>\n",
       "    <tr style=\"text-align: right;\">\n",
       "      <th>Population density</th>\n",
       "      <th>lowest effect</th>\n",
       "      <th>middle low</th>\n",
       "      <th>median</th>\n",
       "      <th>middle high</th>\n",
       "      <th>highest effect</th>\n",
       "      <th>Insurer</th>\n",
       "    </tr>\n",
       "  </thead>\n",
       "  <tbody>\n",
       "    <tr>\n",
       "      <th>Lowest density</th>\n",
       "      <td>0.3552</td>\n",
       "      <td>0.2327</td>\n",
       "      <td>0.1616</td>\n",
       "      <td>0.2238</td>\n",
       "      <td>0.0266</td>\n",
       "      <td>Auto Club</td>\n",
       "    </tr>\n",
       "    <tr>\n",
       "      <th>Lower density</th>\n",
       "      <td>0.2758</td>\n",
       "      <td>0.2633</td>\n",
       "      <td>0.2402</td>\n",
       "      <td>0.1815</td>\n",
       "      <td>0.0391</td>\n",
       "      <td>Auto Club</td>\n",
       "    </tr>\n",
       "    <tr>\n",
       "      <th>Middle density</th>\n",
       "      <td>0.1741</td>\n",
       "      <td>0.2611</td>\n",
       "      <td>0.2575</td>\n",
       "      <td>0.1456</td>\n",
       "      <td>0.1616</td>\n",
       "      <td>Auto Club</td>\n",
       "    </tr>\n",
       "    <tr>\n",
       "      <th>Higher density</th>\n",
       "      <td>0.1370</td>\n",
       "      <td>0.1548</td>\n",
       "      <td>0.1886</td>\n",
       "      <td>0.1957</td>\n",
       "      <td>0.3238</td>\n",
       "      <td>Auto Club</td>\n",
       "    </tr>\n",
       "    <tr>\n",
       "      <th>Highest density</th>\n",
       "      <td>0.0746</td>\n",
       "      <td>0.1243</td>\n",
       "      <td>0.1474</td>\n",
       "      <td>0.2114</td>\n",
       "      <td>0.4423</td>\n",
       "      <td>Auto Club</td>\n",
       "    </tr>\n",
       "  </tbody>\n",
       "</table>\n",
       "</div>"
      ],
      "text/plain": [
       "Population density  lowest effect  middle low  median  middle high  \\\n",
       "Lowest density             0.3552      0.2327  0.1616       0.2238   \n",
       "Lower density              0.2758      0.2633  0.2402       0.1815   \n",
       "Middle density             0.1741      0.2611  0.2575       0.1456   \n",
       "Higher density             0.1370      0.1548  0.1886       0.1957   \n",
       "Highest density            0.0746      0.1243  0.1474       0.2114   \n",
       "\n",
       "Population density  highest effect    Insurer  \n",
       "Lowest density              0.0266  Auto Club  \n",
       "Lower density               0.0391  Auto Club  \n",
       "Middle density              0.1616  Auto Club  \n",
       "Higher density              0.3238  Auto Club  \n",
       "Highest density             0.4423  Auto Club  "
      ]
     },
     "execution_count": 52,
     "metadata": {},
     "output_type": "execute_result"
    }
   ],
   "source": [
    "%run ../00_misc/helper-func-notebook.ipynb\n",
    "df_export = datawrapper_pop_density_distribution(df_density_quintile, \"Auto Club\")\n",
    "df_export.to_csv(\"./outputs/auto_club_pop_density_chart_data.csv\")\n",
    "df_export"
   ]
  },
  {
   "cell_type": "markdown",
   "id": "d4933d7f-757b-47d8-820e-f2484c0a420b",
   "metadata": {},
   "source": [
    "## Exclude Detroit"
   ]
  },
  {
   "cell_type": "code",
   "execution_count": 53,
   "id": "d941986c-d52f-4b06-a5a5-78ab034dac95",
   "metadata": {},
   "outputs": [
    {
     "name": "stderr",
     "output_type": "stream",
     "text": [
      "/tmp/ipykernel_8528/3002305730.py:11: FutureWarning: The default of observed=False is deprecated and will be changed to True in a future version of pandas. Pass observed=False to retain current behavior or observed=True to adopt the future default and silence this warning.\n",
      "  gdf_groupby_quantiles = gdf_exclude_detroit.groupby(\"effect_quantile\")[\n"
     ]
    },
    {
     "data": {
      "text/html": [
       "<div>\n",
       "<style scoped>\n",
       "    .dataframe tbody tr th:only-of-type {\n",
       "        vertical-align: middle;\n",
       "    }\n",
       "\n",
       "    .dataframe tbody tr th {\n",
       "        vertical-align: top;\n",
       "    }\n",
       "\n",
       "    .dataframe thead th {\n",
       "        text-align: right;\n",
       "    }\n",
       "</style>\n",
       "<table border=\"1\" class=\"dataframe\">\n",
       "  <thead>\n",
       "    <tr style=\"text-align: right;\">\n",
       "      <th></th>\n",
       "      <th>black_tot</th>\n",
       "      <th>white_tot</th>\n",
       "      <th>tot_pop</th>\n",
       "    </tr>\n",
       "    <tr>\n",
       "      <th>effect_quantile</th>\n",
       "      <th></th>\n",
       "      <th></th>\n",
       "      <th></th>\n",
       "    </tr>\n",
       "  </thead>\n",
       "  <tbody>\n",
       "    <tr>\n",
       "      <th>lowest effect</th>\n",
       "      <td>9.9</td>\n",
       "      <td>22.1</td>\n",
       "      <td>20.8</td>\n",
       "    </tr>\n",
       "    <tr>\n",
       "      <th>middle low</th>\n",
       "      <td>15.1</td>\n",
       "      <td>22.0</td>\n",
       "      <td>21.9</td>\n",
       "    </tr>\n",
       "    <tr>\n",
       "      <th>median</th>\n",
       "      <td>12.1</td>\n",
       "      <td>22.1</td>\n",
       "      <td>20.8</td>\n",
       "    </tr>\n",
       "    <tr>\n",
       "      <th>middle high</th>\n",
       "      <td>14.4</td>\n",
       "      <td>20.1</td>\n",
       "      <td>19.2</td>\n",
       "    </tr>\n",
       "    <tr>\n",
       "      <th>highest effect</th>\n",
       "      <td>48.5</td>\n",
       "      <td>13.7</td>\n",
       "      <td>17.3</td>\n",
       "    </tr>\n",
       "  </tbody>\n",
       "</table>\n",
       "</div>"
      ],
      "text/plain": [
       "                 black_tot  white_tot  tot_pop\n",
       "effect_quantile                               \n",
       "lowest effect          9.9       22.1     20.8\n",
       "middle low            15.1       22.0     21.9\n",
       "median                12.1       22.1     20.8\n",
       "middle high           14.4       20.1     19.2\n",
       "highest effect        48.5       13.7     17.3"
      ]
     },
     "execution_count": 53,
     "metadata": {},
     "output_type": "execute_result"
    }
   ],
   "source": [
    "gdf_exclude_detroit = gdf[~gdf[\"is_in_detroit\"]].copy()\n",
    "gdf_exclude_detroit[\"effect_quantile\"] = pd.qcut(\n",
    "    gdf_exclude_detroit[\"generic_location_based_premium\"],\n",
    "    q=len(RATE_Q_LABELS),\n",
    "    labels=RATE_Q_LABELS,\n",
    ")\n",
    "gdf[\"density_quantile\"] = pd.qcut(\n",
    "    gdf_exclude_detroit[\"density\"], q=len(DENSITY_Q_LABELS), labels=DENSITY_Q_LABELS\n",
    ")\n",
    "\n",
    "gdf_groupby_quantiles = gdf_exclude_detroit.groupby(\"effect_quantile\")[\n",
    "    QUANTILE_GROUP_BY_COLS\n",
    "].sum()\n",
    "column_sums = gdf_groupby_quantiles.sum(axis=0)\n",
    "df_distribution = prptn_to_pct(gdf_groupby_quantiles.div(column_sums, axis=1), 3)\n",
    "df_distribution"
   ]
  },
  {
   "cell_type": "code",
   "execution_count": null,
   "id": "87588b7b-35ed-4cf2-ae43-baeb1d9b7f1d",
   "metadata": {},
   "outputs": [],
   "source": []
  }
 ],
 "metadata": {
  "kernelspec": {
   "display_name": "Python 3 (ipykernel)",
   "language": "python",
   "name": "python3"
  },
  "language_info": {
   "codemirror_mode": {
    "name": "ipython",
    "version": 3
   },
   "file_extension": ".py",
   "mimetype": "text/x-python",
   "name": "python",
   "nbconvert_exporter": "python",
   "pygments_lexer": "ipython3",
   "version": "3.11.9"
  }
 },
 "nbformat": 4,
 "nbformat_minor": 5
}
