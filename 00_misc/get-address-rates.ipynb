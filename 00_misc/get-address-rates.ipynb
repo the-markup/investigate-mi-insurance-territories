{
 "cells": [
  {
   "cell_type": "markdown",
   "id": "bfad0775-ea50-4053-8f41-cc0717336765",
   "metadata": {},
   "source": [
    "# Get location rate\n",
    "\n",
    "Author: Mo Al Elew\n",
    "\n",
    "Input a Michigan address and get its corresponding location rate data\n",
    "\n",
    "**What notebook does/produces:**\n",
    "\n",
    "Implements a function that reads in an insurer's rate table and filters for a given address's location\n",
    "\n",
    "**Issue/problem being solved:**\n",
    "\n",
    "There are multiple insurer's that we are analyzing in their own siloed environments. I need a single notebook where I can quickly lookup the location rate for a given address.\n",
    "\n",
    "**Strategy to solve:**\n",
    "\n",
    "1. Geocode address using Geocodio API\n",
    "2. Pull insurer rate table GIS file\n",
    "3. Execute `within` operation on the geocoded point and the rate table geographies\n",
    "4. Calculate percentile the location rate to contextualize and enable inter-insurer comparison  \n",
    "5. Filter for relevant columns\n",
    "6. Concat insurers data\n",
    "\n",
    "\n",
    "**Notes**\n",
    "\n",
    "- Address CSV should be in the format: `Name, City, State, Zip`"
   ]
  },
  {
   "cell_type": "code",
   "execution_count": null,
   "id": "25537735-b95a-4994-8820-be378c22cf1d",
   "metadata": {
    "tags": []
   },
   "outputs": [],
   "source": [
    "import geopandas as gpd\n",
    "import pandas as pd\n",
    "from geocodio import GeocodioClient\n",
    "from scipy import stats\n",
    "from shapely import intersection\n",
    "from shapely.geometry import Point\n",
    "from shapely.ops import nearest_points"
   ]
  },
  {
   "cell_type": "markdown",
   "id": "b53d8397-1053-42ed-bb0b-8ebdfea82b8e",
   "metadata": {},
   "source": [
    "# Constants"
   ]
  },
  {
   "cell_type": "code",
   "execution_count": null,
   "id": "85c0bbce-9515-4206-92c2-095f87d2699e",
   "metadata": {
    "tags": []
   },
   "outputs": [],
   "source": [
    "ADDRESSES_FP = \"../00_misc/inputs/address_to_pull.csv\"\n",
    "# API_KEY = \"\"  # insert GeoCodio API key for coordinate geocoding"
   ]
  },
  {
   "cell_type": "code",
   "execution_count": null,
   "id": "381d75eb-05f5-46d8-b9a4-e9dd655cb3e5",
   "metadata": {
    "tags": []
   },
   "outputs": [],
   "source": [
    "EXPORT_COLUMNS = [\n",
    "    \"name\",\n",
    "    \"address\",\n",
    "    \"company\",\n",
    "    \"location_effect\",\n",
    "    \"effect_percentile\",\n",
    "    \"geo_id\",\n",
    "    \"geo_name\",\n",
    "    \"white_pct\",\n",
    "    \"black_pct\",\n",
    "    \"median_income\",\n",
    "    \"bg_median_income\",\n",
    "    \"geography_factor_id\",\n",
    "    \"geography_type\",\n",
    "]\n",
    "\n",
    "INSURER_MAP_FPS = {\n",
    "    \"AllState\": \"../02_allstate/outputs/allstate_auto_gis.geojson\",\n",
    "    \"Auto Club Group\": \"../03_auto_club_group/outputs/autoclubgroup_auto_gis.geojson\",\n",
    "    \"Liberty Mutual\": \"../04_liberty_mutual/outputs/libertymutual_auto_gis.geojson\",\n",
    "    \"State Farm\": \"../05_state_farm/outputs/statefarm_auto_gis.geojson\",\n",
    "    \"Citizens\": \"../07_citizens/outputs/citizens_auto_gis.geojson\",\n",
    "}"
   ]
  },
  {
   "cell_type": "markdown",
   "id": "4a813a06-c173-4580-a2b2-dd8e99377b92",
   "metadata": {},
   "source": [
    "# Read rate maps"
   ]
  },
  {
   "cell_type": "code",
   "execution_count": null,
   "id": "641dc138-bcfb-4440-8cd4-5f7123bfff03",
   "metadata": {},
   "outputs": [],
   "source": [
    "INSURER_GDFS = {insurer: gpd.read_file(fp) for insurer, fp in INSURER_MAP_FPS.items()}"
   ]
  },
  {
   "cell_type": "markdown",
   "id": "24c35f43-0738-4728-a95b-9a94e743e627",
   "metadata": {},
   "source": [
    "# Read addresses"
   ]
  },
  {
   "cell_type": "code",
   "execution_count": null,
   "id": "ed5c45b0-5d2b-40a5-91eb-e2ea49b5006e",
   "metadata": {
    "tags": []
   },
   "outputs": [],
   "source": [
    "DF_ADDRESSES = pd.read_csv(ADDRESSES_FP, dtype=str)\n",
    "address_series = (\n",
    "    DF_ADDRESSES[\"Street\"]\n",
    "    + \", \"\n",
    "    + DF_ADDRESSES[\"City\"]\n",
    "    + \", \"\n",
    "    + DF_ADDRESSES[\"State\"]\n",
    "    + \" \"\n",
    "    + DF_ADDRESSES[\"Zip\"]\n",
    ")\n",
    "address_dict = dict(zip(DF_ADDRESSES[\"Name\"], address_series))\n",
    "address_dict"
   ]
  },
  {
   "cell_type": "markdown",
   "id": "fedaca87-8f87-455a-93a7-2d9440123445",
   "metadata": {},
   "source": [
    "# Geocodio client"
   ]
  },
  {
   "cell_type": "code",
   "execution_count": null,
   "id": "cd0bf865-2d75-420f-9c37-57480722d8a8",
   "metadata": {
    "tags": []
   },
   "outputs": [],
   "source": [
    "geocodio_client = GeocodioClient(API_KEY)"
   ]
  },
  {
   "cell_type": "markdown",
   "id": "6c8246fc-cf54-45b3-98f9-6c6757a4c965",
   "metadata": {},
   "source": [
    "# Helper Functions"
   ]
  },
  {
   "cell_type": "code",
   "execution_count": null,
   "id": "d5ccf562-fc85-4978-9f6f-3154848e3a13",
   "metadata": {
    "tags": []
   },
   "outputs": [],
   "source": [
    "def read_insurer_rate_table_map(insurer):\n",
    "    return gpd.read_file(INSURER_MAP_FPS[insurer])"
   ]
  },
  {
   "cell_type": "code",
   "execution_count": null,
   "id": "13bf0791-3afd-47d0-a847-2f502584ca43",
   "metadata": {
    "tags": []
   },
   "outputs": [],
   "source": [
    "def geocode_address_to_point(address):\n",
    "    geocoding_results = geocodio_client.geocode(address)\n",
    "    return Point(\n",
    "        [geocoding_results[\"results\"][0][\"location\"][\"lng\"]],\n",
    "        [geocoding_results[\"results\"][0][\"location\"][\"lat\"]],\n",
    "    )"
   ]
  },
  {
   "cell_type": "code",
   "execution_count": null,
   "id": "ad755476-cecc-4b23-a3ad-795899974999",
   "metadata": {
    "tags": []
   },
   "outputs": [],
   "source": [
    "def percentile_of_value(val, series, round_precision=1, percentile_kind=\"strict\"):\n",
    "    return round(\n",
    "        stats.percentileofscore(series, val, kind=\"strict\"),\n",
    "        round_precision,\n",
    "    )"
   ]
  },
  {
   "cell_type": "code",
   "execution_count": null,
   "id": "d66f3804-0f19-4288-a833-cc4a9f4b38ee",
   "metadata": {},
   "outputs": [],
   "source": [
    "def nearest_geometries(point, point_geometries):\n",
    "    multipoint = point_geometries.unary_union\n",
    "    queried_geom, nearest_geom = nearest_points(point, multipoint)\n",
    "    return nearest_geom\n",
    "\n",
    "\n",
    "def nearest_rate_unit(gdf_rates, point):\n",
    "    point_geom = gdf_rates.geometry\n",
    "    ng = nearest_geometries(point, point_geom)\n",
    "    return gdf_rates[gdf_rates[\"geometry\"] == ng].copy()"
   ]
  },
  {
   "cell_type": "code",
   "execution_count": null,
   "id": "35492b16-aba1-476a-bbf2-f91067103eba",
   "metadata": {
    "tags": []
   },
   "outputs": [],
   "source": [
    "def get_location_rate(address, insurer, name=None):\n",
    "    try:\n",
    "        INSURER_GDFS[insurer]\n",
    "    except KeyError:\n",
    "        print(\n",
    "            f\"Insurer argument must be present in INSURER_MAPS_FPS such as {INSURER_GDFS.keys()}\"\n",
    "        )\n",
    "\n",
    "    point = geocode_address_to_point(address)\n",
    "    gdf_rate_table = INSURER_GDFS[insurer]\n",
    "    gdf_point_entry = gdf_rate_table[gdf_rate_table.geometry.contains(point)].copy()\n",
    "\n",
    "    if len(gdf_point_entry) == 0:\n",
    "        gdf_point_entry = nearest_rate_unit(gdf_rate_table, point)\n",
    "\n",
    "    if len(gdf_point_entry) == 1:\n",
    "        effect = gdf_point_entry.iloc[0][\"location_effect\"]\n",
    "        gdf_point_entry[\"effect_percentile\"] = percentile_of_value(\n",
    "            effect, gdf_rate_table[\"location_effect\"]\n",
    "        )\n",
    "\n",
    "    gdf_point_entry[\"name\"] = name\n",
    "    gdf_point_entry[\"address\"] = address\n",
    "\n",
    "    return gdf_point_entry[\n",
    "        [col for col in EXPORT_COLUMNS if col in gdf_point_entry.columns]\n",
    "    ]"
   ]
  },
  {
   "cell_type": "code",
   "execution_count": null,
   "id": "b9092c9f-56b3-452f-8b62-5cab7b403f95",
   "metadata": {
    "tags": []
   },
   "outputs": [],
   "source": [
    "dfs = [\n",
    "    pd.concat(\n",
    "        [\n",
    "            get_location_rate(address, insurer, name)\n",
    "            for name, address in address_dict.items()\n",
    "        ]\n",
    "    )\n",
    "    for insurer in INSURER_MAP_FPS.keys()\n",
    "]"
   ]
  },
  {
   "cell_type": "code",
   "execution_count": null,
   "id": "53b1bd50-c0e6-42a9-a153-7e43a6a12655",
   "metadata": {
    "tags": []
   },
   "outputs": [],
   "source": [
    "df_export = pd.concat(dfs)\n",
    "df_export.sort_values([\"name\", \"company\"])"
   ]
  },
  {
   "cell_type": "code",
   "execution_count": null,
   "id": "24d69e4d-c4a3-42ae-b70a-45a0b27ad491",
   "metadata": {},
   "outputs": [],
   "source": [
    "df_export.to_csv(\"./outputs/location_rates_pulled.csv\", index=False)"
   ]
  }
 ],
 "metadata": {
  "kernelspec": {
   "display_name": "Python 3 (ipykernel)",
   "language": "python",
   "name": "python3"
  },
  "language_info": {
   "codemirror_mode": {
    "name": "ipython",
    "version": 3
   },
   "file_extension": ".py",
   "mimetype": "text/x-python",
   "name": "python",
   "nbconvert_exporter": "python",
   "pygments_lexer": "ipython3",
   "version": "3.11.9"
  }
 },
 "nbformat": 4,
 "nbformat_minor": 5
}
