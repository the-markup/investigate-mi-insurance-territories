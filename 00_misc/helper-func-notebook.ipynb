{
 "cells": [
  {
   "cell_type": "markdown",
   "id": "c78d99dc-5d04-4821-82fd-debc69b9b0f5",
   "metadata": {},
   "source": [
    "Various misc. functions and code imported into other notebooks"
   ]
  },
  {
   "cell_type": "code",
   "execution_count": 1,
   "id": "28598498-660b-4d61-abbc-84e47ab9a839",
   "metadata": {
    "tags": []
   },
   "outputs": [],
   "source": [
    "import json\n",
    "\n",
    "import altair as alt\n",
    "import matplotlib.pyplot as plt\n",
    "import pandas as pd\n",
    "import seaborn as sns\n",
    "from bs4 import BeautifulSoup as Soup\n",
    "from scipy import stats"
   ]
  },
  {
   "cell_type": "code",
   "execution_count": 2,
   "id": "9e88e997-0626-4fcc-b0dc-29b8f9369720",
   "metadata": {},
   "outputs": [],
   "source": [
    "CHART_COLS = [\n",
    "    \"Effect quintile\",\n",
    "    \"Lowest\",\n",
    "    \"Lower middle\",\n",
    "    \"Median\",\n",
    "    \"Upper middle\",\n",
    "    \"Highest\",\n",
    "]"
   ]
  },
  {
   "cell_type": "markdown",
   "id": "4dcb293a-22c9-4034-9012-611f5f8d9761",
   "metadata": {},
   "source": [
    "# Functions"
   ]
  },
  {
   "cell_type": "code",
   "execution_count": 3,
   "id": "92f53040-8949-4892-ae24-ab355534358b",
   "metadata": {},
   "outputs": [],
   "source": [
    "# adaptted from: https://stackabuse.com/calculating-spearmans-rank-correlation-coefficient-in-python-with-pandas/\n",
    "def display_correlation(df, method=\"pearson\"):\n",
    "    r = df.corr(method=method)\n",
    "    plt.figure(figsize=(10, 6))\n",
    "    heatmap = sns.heatmap(r, vmin=-1, vmax=1, annot=True)\n",
    "    plt.title(f\"{method} correlation\")\n",
    "    return r\n",
    "\n",
    "\n",
    "def plot_data_corr(df, title, color=\"green\"):\n",
    "    r = display_correlation(df)\n",
    "    fig, ax = plt.subplots(nrows=1, ncols=len(df.columns) - 1, figsize=(14, 3))\n",
    "    for i in range(1, len(df.columns)):\n",
    "        ax[i - 1].scatter(df[\"X\"], df.values[:, i], color=color)\n",
    "        ax[i - 1].title.set_text(title[i] + \"\\n r = \" + \"{:.2f}\".format(r.values[0, i]))\n",
    "        ax[i - 1].set(xlabel=df.columns[0], ylabel=df.columns[i])\n",
    "    fig.subplots_adjust(wspace=0.7)\n",
    "    plt.show()"
   ]
  },
  {
   "cell_type": "code",
   "execution_count": 4,
   "id": "c099d2f5-ae13-4f7c-ae2e-5397dc90f086",
   "metadata": {
    "tags": []
   },
   "outputs": [],
   "source": [
    "def percentile_of_score(value, series, kind=\"strict\", round_precision=1):\n",
    "    return round(\n",
    "        stats.percentileofscore(series, value, kind=kind),\n",
    "        round_precision,\n",
    "    )"
   ]
  },
  {
   "cell_type": "code",
   "execution_count": 5,
   "id": "cac31e1e-aa94-4a73-9f9d-f041267f8039",
   "metadata": {},
   "outputs": [],
   "source": [
    "def prptn_to_pct(val, precision=3):\n",
    "    return round(val, precision) * 100"
   ]
  },
  {
   "cell_type": "code",
   "execution_count": 6,
   "id": "a514a84b-1c4f-4fd9-9a6e-b3e56ca2bac8",
   "metadata": {},
   "outputs": [],
   "source": [
    "def datawrapper_race_distribution(df_distribution, insurer):\n",
    "    df_distribution.index.names = [\"race\"]\n",
    "    df_distribution.columns = [\"Black\", \"White\", \"Total\"]\n",
    "    df_distribution = df_distribution.transpose()\n",
    "    df_distribution[\"Insurer\"] = insurer\n",
    "    return df_distribution\n",
    "\n",
    "\n",
    "def datawrapper_income_distribution(df_distribution, insurer):\n",
    "    df_distribution.index.names = [\"income\"]\n",
    "    df_distribution.columns = [\n",
    "        \"Lowest income\",\n",
    "        \"Lower income\",\n",
    "        \"Middle income\",\n",
    "        \"Higher income\",\n",
    "        \"Highest incomes\",\n",
    "    ]\n",
    "    df_distribution = df_distribution.transpose()\n",
    "    df_distribution[\"Insurer\"] = insurer\n",
    "    return df_distribution\n",
    "\n",
    "\n",
    "def datawrapper_pop_density_distribution(df_distribution, insurer):\n",
    "    df_distribution.index.names = [\"Population density\"]\n",
    "    df_distribution.columns = [\n",
    "        \"Lowest density\",\n",
    "        \"Lower density\",\n",
    "        \"Middle density\",\n",
    "        \"Higher density\",\n",
    "        \"Highest density\",\n",
    "    ]\n",
    "    df_distribution = df_distribution.transpose()\n",
    "    df_distribution[\"Insurer\"] = insurer\n",
    "    return df_distribution"
   ]
  },
  {
   "cell_type": "code",
   "execution_count": 7,
   "id": "94ee9bec-30d7-48f7-8585-5a4b68bc5562",
   "metadata": {},
   "outputs": [],
   "source": [
    "def stacked_hbar(\n",
    "    df,\n",
    "    x,\n",
    "    y,\n",
    "    color,\n",
    "    color_order=\"descending\",\n",
    "    sort_y=\"descending\",\n",
    "    height=500,\n",
    "    width=700,\n",
    "    title=\"Chart\",\n",
    "    order=\"ascending\",\n",
    "):\n",
    "    return (\n",
    "        alt.Chart(df)\n",
    "        .mark_bar()\n",
    "        .encode(\n",
    "            x=alt.X(\n",
    "                x,\n",
    "            ),\n",
    "            y=alt.Y(\n",
    "                y,\n",
    "                sort=sort_y,\n",
    "            ),\n",
    "            color=alt.Color(\n",
    "                color,\n",
    "            ),\n",
    "            order=alt.Order(order),\n",
    "        )\n",
    "        .properties(height=height, width=height, title=title)\n",
    "    )\n",
    "\n",
    "\n",
    "def stacked_race_hbar(df_distribution, title=\"Chart\"):\n",
    "    df_temp = df_distribution.reset_index()\n",
    "    df_temp.columns = [\n",
    "        \"Effect quintile\",\n",
    "        \"Black population\",\n",
    "        \"White population\",\n",
    "        \"Total population\",\n",
    "    ]\n",
    "    df_temp = pd.melt(\n",
    "        df_temp,\n",
    "        id_vars=\"Effect quintile\",\n",
    "        value_name=\"Percent\",\n",
    "        var_name=\"Population group\",\n",
    "    )\n",
    "    df_temp[\"Effect quintile\"] = df_temp[\"Effect quintile\"].astype(\"category\")\n",
    "    return stacked_hbar(\n",
    "        df_temp,\n",
    "        x=\"Percent\",\n",
    "        y=\"Population group\",\n",
    "        color=\"Effect quintile\",\n",
    "        sort_y=[\n",
    "            \"Total population\",\n",
    "            \"White population\",\n",
    "            \"Black population\",\n",
    "        ],\n",
    "        title=title,\n",
    "        order=\"color_Effect_quintile_sort_index:Q\",\n",
    "    )\n",
    "\n",
    "\n",
    "def stacked_income_hbar(df_distribution, title=\"Chart\", columns=CHART_COLS):\n",
    "    df_temp = df_distribution.reset_index()\n",
    "    if columns:\n",
    "        df_temp.columns = columns\n",
    "    df_temp = pd.melt(\n",
    "        df_temp,\n",
    "        id_vars=\"Effect quintile\",\n",
    "        value_name=\"Percent\",\n",
    "        var_name=\"Income group\",\n",
    "    )\n",
    "    df_temp[\"Effect quintile\"] = df_temp[\"Effect quintile\"].astype(\"category\")\n",
    "    return stacked_hbar(\n",
    "        df_temp,\n",
    "        x=\"Percent\",\n",
    "        y=\"Income group\",\n",
    "        color=\"Effect quintile\",\n",
    "        sort_y=[\n",
    "            \"Lowest\",\n",
    "            \"Lower middle\",\n",
    "            \"Median\",\n",
    "            \"Upper middle\",\n",
    "            \"Highest\",\n",
    "        ],\n",
    "        title=title,\n",
    "        order=\"color_Effect_quintile_sort_index:Q\",\n",
    "    )\n",
    "\n",
    "\n",
    "def stacked_population_density_hbar(df_distribution, title=\"Chart\", columns=CHART_COLS):\n",
    "    df_temp = df_distribution.reset_index()\n",
    "    if columns:\n",
    "        df_temp.columns = columns\n",
    "    df_temp = pd.melt(\n",
    "        df_temp,\n",
    "        id_vars=\"Effect quintile\",\n",
    "        value_name=\"Percent\",\n",
    "        var_name=\"Population density group\",\n",
    "    )\n",
    "    df_temp[\"Effect quintile\"] = df_temp[\"Effect quintile\"].astype(\"category\")\n",
    "    return stacked_hbar(\n",
    "        df_temp,\n",
    "        x=\"Percent\",\n",
    "        y=\"Population density group\",\n",
    "        color=\"Effect quintile\",\n",
    "        sort_y=[\n",
    "            \"Lowest\",\n",
    "            \"Lower middle\",\n",
    "            \"Median\",\n",
    "            \"Upper middle\",\n",
    "            \"Highest\",\n",
    "        ],\n",
    "        title=title,\n",
    "        order=\"color_Effect_quintile_sort_index:Q\",\n",
    "    )"
   ]
  },
  {
   "cell_type": "markdown",
   "id": "2b0451d7-1cdd-4ab5-abf6-65da3a74f8cd",
   "metadata": {},
   "source": [
    "# Copy source files\n",
    "\n",
    "Copy map source files"
   ]
  },
  {
   "cell_type": "code",
   "execution_count": 2,
   "id": "d42003e7-3177-4c96-8df3-1c5c8d5bcd46",
   "metadata": {
    "tags": []
   },
   "outputs": [],
   "source": [
    "# !mkdir ./map_files/\n",
    "# !cp ../02_allstate/outputs/allstate_auto_clean.geojson ./map_files/\n",
    "# !cp ../03_auto_club_group/outputs/autoclub_auto_clean.geojson ./map_files\n",
    "# !cp ../04_liberty_mutual/outputs/libertymutual_auto_gis.geojson ./map_files\n",
    "# !cp ../05_state_farm/outputs/statefarm_auto_clean_gis.zip ./map_files\n",
    "# !cp ../06_citizens/outputs/citizens_auto_clean.geojson ./map_files"
   ]
  },
  {
   "cell_type": "markdown",
   "id": "71b97f89-d453-40b6-8391-811bf2064e22",
   "metadata": {},
   "source": [
    "# Appendix\n",
    "\n",
    "Retain functions that are no longer in use"
   ]
  }
 ],
 "metadata": {
  "kernelspec": {
   "display_name": "Python 3 (ipykernel)",
   "language": "python",
   "name": "python3"
  },
  "language_info": {
   "codemirror_mode": {
    "name": "ipython",
    "version": 3
   },
   "file_extension": ".py",
   "mimetype": "text/x-python",
   "name": "python",
   "nbconvert_exporter": "python",
   "pygments_lexer": "ipython3",
   "version": "3.11.9"
  }
 },
 "nbformat": 4,
 "nbformat_minor": 5
}
