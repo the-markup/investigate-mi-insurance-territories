{
 "cells": [
  {
   "cell_type": "markdown",
   "id": "5c3a438e-d4aa-4a1f-bf16-32f2c58a9c41",
   "metadata": {},
   "source": [
    "# No crime related coverages analysis\n",
    "\n",
    "Author: Mo Al Elew\n",
    "\n",
    "**What notebook does/produces:**\n",
    "\n",
    "Rerun our quintile racial distribution analysis factoring out insurance coverage types that could pay out following a car theft or break-in to investigate whether the racial gaps could be related to differences in rates of vehicular crimes\n",
    "\n",
    "**Approach:**\n",
    "\n",
    "The general pattern includes:\n",
    "1. Identify coverages that could pay out following a car theft or break-in\n",
    "2. Filter out those coverages and calculate a generic base rate premium excluding crime-related coverages\n",
    "3. Recalculate the location effect using the noncrime generic base rate premium\n",
    "4. Sort the non-crime premium data into quintiles\n",
    "5. Rerun the racial population distribution analysis with noncrime premium data\n",
    "6. Compare to the crime coverage inclusive population distribution to the noncrime population distribution\n",
    "\n",
    "**Conclusion**\n",
    "\n",
    "Little to no change in population distribution"
   ]
  },
  {
   "cell_type": "code",
   "execution_count": 1,
   "id": "3df351cf-9039-4508-baf8-ae6746153b91",
   "metadata": {},
   "outputs": [],
   "source": [
    "import geopandas as gpd\n",
    "import pandas as pd"
   ]
  },
  {
   "cell_type": "markdown",
   "id": "35c7c2d5-77c7-4869-9975-6eb40929c645",
   "metadata": {},
   "source": [
    "# Constants and helper functions"
   ]
  },
  {
   "cell_type": "code",
   "execution_count": 2,
   "id": "bd3e2f62-9a10-41d0-8d82-ffda973fd4eb",
   "metadata": {},
   "outputs": [],
   "source": [
    "DATA_FP = \"./outputs/statefarm_auto_gis.geojson\""
   ]
  },
  {
   "cell_type": "code",
   "execution_count": 3,
   "id": "1976c706-da59-47df-bb62-b66d7129ad90",
   "metadata": {},
   "outputs": [],
   "source": [
    "CRIME_RELATED_COVERAGES = [\n",
    "    \"rate_comp_fctr\",\n",
    "]\n",
    "\n",
    "RATE_Q_LABELS = [\n",
    "    \"lowest effect\",\n",
    "    \"middle low\",\n",
    "    \"median\",\n",
    "    \"middle high\",\n",
    "    \"highest effect\",\n",
    "]\n",
    "\n",
    "GEOID_GROUP_BY_COLS = [\n",
    "    \"generic_location_based_premium\",\n",
    "    \"non_crime_generic_premium\",\n",
    "    \"white_tot\",\n",
    "    \"black_tot\",\n",
    "    \"tot_pop\",\n",
    "    \"density\",\n",
    "]\n",
    "\n",
    "QUANTILE_GROUP_BY_COLS = [\"black_tot\", \"white_tot\", \"tot_pop\"]"
   ]
  },
  {
   "cell_type": "code",
   "execution_count": 4,
   "id": "9d65f3d4-ee31-4751-9c96-e175e1a3a60c",
   "metadata": {},
   "outputs": [],
   "source": [
    "ROUNDING_PRECISION = 2"
   ]
  },
  {
   "cell_type": "code",
   "execution_count": 5,
   "id": "2ad77793-62d3-4a2d-89d5-b8b7671b92c1",
   "metadata": {},
   "outputs": [],
   "source": [
    "def get_rate_columns(df_rate_table):\n",
    "    RATE_PREFIX = \"rate_\"\n",
    "    return [col for col in df_rate_table.columns if col.startswith(RATE_PREFIX)]\n",
    "\n",
    "\n",
    "def prptn_to_pct(val, precision=ROUNDING_PRECISION):\n",
    "    return round(val, precision) * 100"
   ]
  },
  {
   "cell_type": "markdown",
   "id": "b418670a-4578-4436-9ad8-923f19db77d5",
   "metadata": {},
   "source": [
    "# Read data"
   ]
  },
  {
   "cell_type": "code",
   "execution_count": 6,
   "id": "deda47cb-1b1f-45d8-afe0-afcd98700cc2",
   "metadata": {},
   "outputs": [],
   "source": [
    "GDF = gpd.read_file(DATA_FP)\n",
    "GDF[\"tot_pop\"] = GDF[\"total_pop\"]"
   ]
  },
  {
   "cell_type": "markdown",
   "id": "05bf67cb-fb4b-4124-88c9-7389f8b2022b",
   "metadata": {},
   "source": [
    "# Process"
   ]
  },
  {
   "cell_type": "markdown",
   "id": "83d44ac8-742f-41c9-a57f-cb351f0bff4f",
   "metadata": {},
   "source": [
    "## Factor out crime related coverages"
   ]
  },
  {
   "cell_type": "code",
   "execution_count": 7,
   "id": "e31ae46d-4863-4903-b611-a68273bd7267",
   "metadata": {},
   "outputs": [],
   "source": [
    "non_crime_coverages = [\n",
    "    col for col in get_rate_columns(GDF) if col not in CRIME_RELATED_COVERAGES\n",
    "]\n",
    "gdf = GDF.copy()"
   ]
  },
  {
   "cell_type": "markdown",
   "id": "3e886b87-8c9d-434a-bc3d-249f2244b0c2",
   "metadata": {},
   "source": [
    "## Recalculate location effect"
   ]
  },
  {
   "cell_type": "code",
   "execution_count": 8,
   "id": "ee7844fc-a0e6-4fd1-b3a8-328b07590896",
   "metadata": {},
   "outputs": [],
   "source": [
    "gdf[\"non_crime_generic_premium\"] = round(gdf[non_crime_coverages].sum(axis=1))\n",
    "\n",
    "gdf[\"non_crime_location_effect\"] = round(\n",
    "    gdf[\"non_crime_generic_premium\"] / gdf[\"non_crime_generic_premium\"].median(),\n",
    "    ROUNDING_PRECISION,\n",
    ")"
   ]
  },
  {
   "cell_type": "markdown",
   "id": "b2350121-f8ff-4529-ac15-395d3378fec5",
   "metadata": {},
   "source": [
    "# Analysis"
   ]
  },
  {
   "attachments": {},
   "cell_type": "markdown",
   "id": "6d8d6a29-093b-424c-8e55-d0f3b0ef7b01",
   "metadata": {},
   "source": [
    "## Rate quantiles\n",
    "\n",
    "I average the generic rate for each tract `geo_id` to avoid double counting "
   ]
  },
  {
   "cell_type": "code",
   "execution_count": 9,
   "id": "a87ccaa0-ea45-4133-9e03-07e07a6ff25c",
   "metadata": {},
   "outputs": [],
   "source": [
    "gdf_groupby_geo_id = gdf.groupby(\"geo_id\")[GEOID_GROUP_BY_COLS].mean()\n",
    "\n",
    "gdf_groupby_geo_id[\"effect_quantile\"] = pd.qcut(\n",
    "    gdf_groupby_geo_id[\"generic_location_based_premium\"],\n",
    "    q=len(RATE_Q_LABELS),\n",
    "    labels=RATE_Q_LABELS,\n",
    ")\n",
    "gdf_groupby_geo_id[\"non_crime_effect_quantile\"] = pd.qcut(\n",
    "    gdf_groupby_geo_id[\"non_crime_generic_premium\"],\n",
    "    q=len(RATE_Q_LABELS),\n",
    "    labels=RATE_Q_LABELS,\n",
    ")"
   ]
  },
  {
   "cell_type": "code",
   "execution_count": 10,
   "id": "0a011819-390c-4c10-80ba-0994c4ec00a3",
   "metadata": {},
   "outputs": [
    {
     "name": "stdout",
     "output_type": "stream",
     "text": [
      "This calculates (group subset in quantile / total group population)\n"
     ]
    },
    {
     "data": {
      "text/html": [
       "<div>\n",
       "<style scoped>\n",
       "    .dataframe tbody tr th:only-of-type {\n",
       "        vertical-align: middle;\n",
       "    }\n",
       "\n",
       "    .dataframe tbody tr th {\n",
       "        vertical-align: top;\n",
       "    }\n",
       "\n",
       "    .dataframe thead th {\n",
       "        text-align: right;\n",
       "    }\n",
       "</style>\n",
       "<table border=\"1\" class=\"dataframe\">\n",
       "  <thead>\n",
       "    <tr style=\"text-align: right;\">\n",
       "      <th></th>\n",
       "      <th>black_tot</th>\n",
       "      <th>white_tot</th>\n",
       "      <th>tot_pop</th>\n",
       "    </tr>\n",
       "    <tr>\n",
       "      <th>effect_quantile</th>\n",
       "      <th></th>\n",
       "      <th></th>\n",
       "      <th></th>\n",
       "    </tr>\n",
       "  </thead>\n",
       "  <tbody>\n",
       "    <tr>\n",
       "      <th>lowest effect</th>\n",
       "      <td>5.7</td>\n",
       "      <td>25.3</td>\n",
       "      <td>22.5</td>\n",
       "    </tr>\n",
       "    <tr>\n",
       "      <th>middle low</th>\n",
       "      <td>6.1</td>\n",
       "      <td>23.4</td>\n",
       "      <td>20.4</td>\n",
       "    </tr>\n",
       "    <tr>\n",
       "      <th>median</th>\n",
       "      <td>9.9</td>\n",
       "      <td>21.8</td>\n",
       "      <td>19.9</td>\n",
       "    </tr>\n",
       "    <tr>\n",
       "      <th>middle high</th>\n",
       "      <td>16.3</td>\n",
       "      <td>20.6</td>\n",
       "      <td>20.5</td>\n",
       "    </tr>\n",
       "    <tr>\n",
       "      <th>highest effect</th>\n",
       "      <td>61.9</td>\n",
       "      <td>8.9</td>\n",
       "      <td>16.7</td>\n",
       "    </tr>\n",
       "  </tbody>\n",
       "</table>\n",
       "</div>"
      ],
      "text/plain": [
       "                 black_tot  white_tot  tot_pop\n",
       "effect_quantile                               \n",
       "lowest effect          5.7       25.3     22.5\n",
       "middle low             6.1       23.4     20.4\n",
       "median                 9.9       21.8     19.9\n",
       "middle high           16.3       20.6     20.5\n",
       "highest effect        61.9        8.9     16.7"
      ]
     },
     "execution_count": 10,
     "metadata": {},
     "output_type": "execute_result"
    }
   ],
   "source": [
    "gdf_groupby_quantiles = gdf_groupby_geo_id.groupby(\"effect_quantile\", observed=False)[\n",
    "    QUANTILE_GROUP_BY_COLS\n",
    "].sum()\n",
    "\n",
    "\n",
    "print(\"This calculates (group subset in quantile / total group population)\")\n",
    "df_distribution = prptn_to_pct(\n",
    "    gdf_groupby_quantiles.div(gdf_groupby_quantiles.sum(axis=0), axis=1), 3\n",
    ")\n",
    "df_distribution"
   ]
  },
  {
   "cell_type": "code",
   "execution_count": 11,
   "id": "6a996d1d-83c5-4c3c-b7ab-9410f856e43d",
   "metadata": {},
   "outputs": [
    {
     "name": "stdout",
     "output_type": "stream",
     "text": [
      "This calculates (group subset in quantile / total group population)\n"
     ]
    },
    {
     "data": {
      "text/html": [
       "<div>\n",
       "<style scoped>\n",
       "    .dataframe tbody tr th:only-of-type {\n",
       "        vertical-align: middle;\n",
       "    }\n",
       "\n",
       "    .dataframe tbody tr th {\n",
       "        vertical-align: top;\n",
       "    }\n",
       "\n",
       "    .dataframe thead th {\n",
       "        text-align: right;\n",
       "    }\n",
       "</style>\n",
       "<table border=\"1\" class=\"dataframe\">\n",
       "  <thead>\n",
       "    <tr style=\"text-align: right;\">\n",
       "      <th></th>\n",
       "      <th>black_tot</th>\n",
       "      <th>white_tot</th>\n",
       "      <th>tot_pop</th>\n",
       "    </tr>\n",
       "    <tr>\n",
       "      <th>non_crime_effect_quantile</th>\n",
       "      <th></th>\n",
       "      <th></th>\n",
       "      <th></th>\n",
       "    </tr>\n",
       "  </thead>\n",
       "  <tbody>\n",
       "    <tr>\n",
       "      <th>lowest effect</th>\n",
       "      <td>3.6</td>\n",
       "      <td>25.3</td>\n",
       "      <td>21.7</td>\n",
       "    </tr>\n",
       "    <tr>\n",
       "      <th>middle low</th>\n",
       "      <td>5.6</td>\n",
       "      <td>22.9</td>\n",
       "      <td>19.9</td>\n",
       "    </tr>\n",
       "    <tr>\n",
       "      <th>median</th>\n",
       "      <td>11.8</td>\n",
       "      <td>22.5</td>\n",
       "      <td>21.2</td>\n",
       "    </tr>\n",
       "    <tr>\n",
       "      <th>middle high</th>\n",
       "      <td>17.5</td>\n",
       "      <td>20.3</td>\n",
       "      <td>20.5</td>\n",
       "    </tr>\n",
       "    <tr>\n",
       "      <th>highest effect</th>\n",
       "      <td>61.5</td>\n",
       "      <td>9.0</td>\n",
       "      <td>16.7</td>\n",
       "    </tr>\n",
       "  </tbody>\n",
       "</table>\n",
       "</div>"
      ],
      "text/plain": [
       "                           black_tot  white_tot  tot_pop\n",
       "non_crime_effect_quantile                               \n",
       "lowest effect                    3.6       25.3     21.7\n",
       "middle low                       5.6       22.9     19.9\n",
       "median                          11.8       22.5     21.2\n",
       "middle high                     17.5       20.3     20.5\n",
       "highest effect                  61.5        9.0     16.7"
      ]
     },
     "execution_count": 11,
     "metadata": {},
     "output_type": "execute_result"
    }
   ],
   "source": [
    "gdf_groupby_quantiles = gdf_groupby_geo_id.groupby(\n",
    "    \"non_crime_effect_quantile\", observed=False\n",
    ")[QUANTILE_GROUP_BY_COLS].sum()\n",
    "\n",
    "\n",
    "print(\"This calculates (group subset in quantile / total group population)\")\n",
    "df_non_crime_distribution = prptn_to_pct(\n",
    "    gdf_groupby_quantiles.div(gdf_groupby_quantiles.sum(axis=0), axis=1), 3\n",
    ")\n",
    "df_non_crime_distribution"
   ]
  },
  {
   "cell_type": "code",
   "execution_count": 12,
   "id": "3ef86e29-df24-40fa-9ce8-75fbf50081d4",
   "metadata": {},
   "outputs": [
    {
     "data": {
      "text/html": [
       "<div>\n",
       "<style scoped>\n",
       "    .dataframe tbody tr th:only-of-type {\n",
       "        vertical-align: middle;\n",
       "    }\n",
       "\n",
       "    .dataframe tbody tr th {\n",
       "        vertical-align: top;\n",
       "    }\n",
       "\n",
       "    .dataframe thead th {\n",
       "        text-align: right;\n",
       "    }\n",
       "</style>\n",
       "<table border=\"1\" class=\"dataframe\">\n",
       "  <thead>\n",
       "    <tr style=\"text-align: right;\">\n",
       "      <th></th>\n",
       "      <th>black_tot</th>\n",
       "      <th>white_tot</th>\n",
       "      <th>tot_pop</th>\n",
       "    </tr>\n",
       "    <tr>\n",
       "      <th>non_crime_effect_quantile</th>\n",
       "      <th></th>\n",
       "      <th></th>\n",
       "      <th></th>\n",
       "    </tr>\n",
       "  </thead>\n",
       "  <tbody>\n",
       "    <tr>\n",
       "      <th>lowest effect</th>\n",
       "      <td>-2.1</td>\n",
       "      <td>0.0</td>\n",
       "      <td>-0.8</td>\n",
       "    </tr>\n",
       "    <tr>\n",
       "      <th>middle low</th>\n",
       "      <td>-0.5</td>\n",
       "      <td>-0.5</td>\n",
       "      <td>-0.5</td>\n",
       "    </tr>\n",
       "    <tr>\n",
       "      <th>median</th>\n",
       "      <td>1.9</td>\n",
       "      <td>0.7</td>\n",
       "      <td>1.3</td>\n",
       "    </tr>\n",
       "    <tr>\n",
       "      <th>middle high</th>\n",
       "      <td>1.2</td>\n",
       "      <td>-0.3</td>\n",
       "      <td>0.0</td>\n",
       "    </tr>\n",
       "    <tr>\n",
       "      <th>highest effect</th>\n",
       "      <td>-0.4</td>\n",
       "      <td>0.1</td>\n",
       "      <td>0.0</td>\n",
       "    </tr>\n",
       "  </tbody>\n",
       "</table>\n",
       "</div>"
      ],
      "text/plain": [
       "                           black_tot  white_tot  tot_pop\n",
       "non_crime_effect_quantile                               \n",
       "lowest effect                   -2.1        0.0     -0.8\n",
       "middle low                      -0.5       -0.5     -0.5\n",
       "median                           1.9        0.7      1.3\n",
       "middle high                      1.2       -0.3      0.0\n",
       "highest effect                  -0.4        0.1      0.0"
      ]
     },
     "execution_count": 12,
     "metadata": {},
     "output_type": "execute_result"
    }
   ],
   "source": [
    "df_diff = df_non_crime_distribution - df_distribution\n",
    "df_diff"
   ]
  },
  {
   "cell_type": "code",
   "execution_count": null,
   "id": "3b92bd63",
   "metadata": {},
   "outputs": [],
   "source": []
  }
 ],
 "metadata": {
  "kernelspec": {
   "display_name": "Python 3 (ipykernel)",
   "language": "python",
   "name": "python3"
  },
  "language_info": {
   "codemirror_mode": {
    "name": "ipython",
    "version": 3
   },
   "file_extension": ".py",
   "mimetype": "text/x-python",
   "name": "python",
   "nbconvert_exporter": "python",
   "pygments_lexer": "ipython3",
   "version": "3.11.9"
  }
 },
 "nbformat": 4,
 "nbformat_minor": 5
}
