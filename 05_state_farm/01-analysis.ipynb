{
 "cells": [
  {
   "cell_type": "markdown",
   "id": "d7d7f343-b1b9-4de3-8739-4ff7395e4326",
   "metadata": {},
   "source": [
    "# State Farm analysis\n",
    "\n",
    "Author: Mo Al Elew\n",
    "\n",
    "**What notebook does/produces:**\n",
    "\n",
    "Replicates and fact checks all the data findings used in publication\n",
    "\n",
    "**Approach:**\n",
    "\n",
    "The general pattern includes:\n",
    "1. Quote the relevant text\n",
    "2. Determine asserted figure to reproduce\n",
    "3. Run the operations to reproduce relevant figure\n",
    "4. Assert expected value against actual value\n",
    "5. Print the relevant text with the actual value templated in\n",
    "\n",
    "Some findings cannot be directly tested using an assertion against a single value. In those cases, I display the relevant data slice, chart, or other presentation."
   ]
  },
  {
   "cell_type": "code",
   "execution_count": 1,
   "id": "e030f86a-e934-4aa2-991d-fc64cd7e91c6",
   "metadata": {},
   "outputs": [],
   "source": [
    "import geopandas as gpd\n",
    "import pandas as pd"
   ]
  },
  {
   "cell_type": "markdown",
   "id": "36b70c79-4754-4f4d-bf26-a39df5dc56db",
   "metadata": {},
   "source": [
    "# Constants"
   ]
  },
  {
   "cell_type": "code",
   "execution_count": 2,
   "id": "4e9bd3f1-6ee9-4659-b8cd-adf24203cb9b",
   "metadata": {},
   "outputs": [],
   "source": [
    "INSURER = \"State Farm\"\n",
    "DATA_FP = \"./outputs/statefarm_auto_clean_gis.zip\"\n",
    "\n",
    "ROUNDING_PRECISION = 3\n",
    "WAYNE_COUNTY_FIPS = \"26163\"\n",
    "PROJECTED_CRS = \"EPSG:3078\"\n",
    "\n",
    "\n",
    "def prptn_to_pct(val, precision=3):\n",
    "    return round(val, precision) * 100\n",
    "\n",
    "\n",
    "def google_maps_lat_lon(latitude, longitude, zoom_level=12):\n",
    "    return (\n",
    "        f\"https://maps.google.com/maps?z={zoom_level}&t=m&q=loc:{latitude}+{longitude}\"\n",
    "    )\n",
    "\n",
    "\n",
    "def google_maps_coords(coords_shapely):\n",
    "    return google_maps_lat_lon(coords_shapely.y, coords_shapely.x)"
   ]
  },
  {
   "cell_type": "code",
   "execution_count": 3,
   "id": "06a37143-fcd2-4fab-9ef0-4180664d773b",
   "metadata": {},
   "outputs": [],
   "source": [
    "RATE_Q_LABELS = [\n",
    "    \"lowest effect\",\n",
    "    \"middle low\",\n",
    "    \"median\",\n",
    "    \"middle high\",\n",
    "    \"highest effect\",\n",
    "]\n",
    "INCOME_Q_LABELS = [\n",
    "    \"lowest income\",\n",
    "    \"middle low\",\n",
    "    \"median\",\n",
    "    \"middle high\",\n",
    "    \"highest income\",\n",
    "]\n",
    "DENSITY_Q_LABELS = [\n",
    "    \"lowest density\",\n",
    "    \"middle low\",\n",
    "    \"median\",\n",
    "    \"middle high\",\n",
    "    \"highest density\",\n",
    "]\n",
    "\n",
    "\n",
    "QUARTILE_ANALYSIS_COLS = [\n",
    "    \"geo_id\",\n",
    "    \"geo_name\",\n",
    "    \"total_pop\",\n",
    "    \"white_tot\",\n",
    "    \"black_tot\",\n",
    "    \"generic_location_based_premium\",\n",
    "    \"effect_quantile\",\n",
    "]\n",
    "\n",
    "GEOID_GROUP_BY_COLS = [\n",
    "    \"generic_location_based_premium\",\n",
    "    \"white_tot\",\n",
    "    \"black_tot\",\n",
    "    \"total_pop\",\n",
    "    \"density\",\n",
    "    \"median_income\",\n",
    "    \"bg_median_income\",\n",
    "]\n",
    "\n",
    "QUANTILE_GROUP_BY_COLS = [\"black_tot\", \"white_tot\", \"total_pop\"]"
   ]
  },
  {
   "cell_type": "markdown",
   "id": "a7bff48c-715c-4151-ac58-53dd41bb79c0",
   "metadata": {},
   "source": [
    "# Read data"
   ]
  },
  {
   "cell_type": "code",
   "execution_count": 4,
   "id": "029dac9d-798e-4145-a022-a3bfb12c3d03",
   "metadata": {},
   "outputs": [
    {
     "name": "stdout",
     "output_type": "stream",
     "text": [
      "<class 'geopandas.geodataframe.GeoDataFrame'>\n",
      "RangeIndex: 175436 entries, 0 to 175435\n",
      "Data columns (total 23 columns):\n",
      " #   Column                          Non-Null Count   Dtype   \n",
      "---  ------                          --------------   -----   \n",
      " 0   geo_id                          175436 non-null  object  \n",
      " 1   geo_name                        175436 non-null  object  \n",
      " 2   total_pop                       175436 non-null  int64   \n",
      " 3   white_pct                       175436 non-null  object  \n",
      " 4   black_pct                       175436 non-null  object  \n",
      " 5   white_tot                       175436 non-null  int64   \n",
      " 6   black_tot                       175436 non-null  int64   \n",
      " 7   median_income                   175436 non-null  object  \n",
      " 8   generic_location_based_premium  175436 non-null  float64 \n",
      " 9   location_effect                 175436 non-null  float64 \n",
      " 10  bg_geo_id                       175436 non-null  object  \n",
      " 11  bg_tot_pop                      175436 non-null  int64   \n",
      " 12  bg_white_tot                    175436 non-null  int64   \n",
      " 13  bg_black_tot                    175436 non-null  int64   \n",
      " 14  bg_white_pct                    175436 non-null  float64 \n",
      " 15  bg_black_pct                    175436 non-null  float64 \n",
      " 16  bg_median_income                175436 non-null  object  \n",
      " 17  is_in_detroit                   175436 non-null  bool    \n",
      " 18  is_along_8_mile                 175436 non-null  bool    \n",
      " 19  is_south_8_mile                 175436 non-null  bool    \n",
      " 20  is_north_8_mile                 175436 non-null  bool    \n",
      " 21  density                         175436 non-null  float64 \n",
      " 22  geometry                        175436 non-null  geometry\n",
      "dtypes: bool(4), float64(5), geometry(1), int64(6), object(7)\n",
      "memory usage: 26.1+ MB\n"
     ]
    }
   ],
   "source": [
    "gdf = gpd.read_file(DATA_FP)\n",
    "gdf.info()"
   ]
  },
  {
   "cell_type": "markdown",
   "id": "8e7995c3-5331-40e7-9fd1-c232977008f2",
   "metadata": {},
   "source": [
    "# Preprocess"
   ]
  },
  {
   "cell_type": "code",
   "execution_count": 5,
   "id": "8b8c0b35-0185-4c7e-b42a-ac00d0632d16",
   "metadata": {},
   "outputs": [],
   "source": [
    "gdf[\"bg_median_income\"] = gdf[\"bg_median_income\"].replace(\"-\", -1)\n",
    "gdf[\"bg_median_income\"] = gdf[\"bg_median_income\"].replace(\"250,000+\", 250000)\n",
    "gdf[\"bg_median_income\"] = gdf[\"bg_median_income\"].astype(int)\n",
    "\n",
    "gdf[\"median_income\"] = gdf[\"median_income\"].replace(\"-\", -1)\n",
    "gdf[\"median_income\"] = gdf[\"median_income\"].replace(\"250,000+\", 250000)\n",
    "gdf[\"median_income\"] = gdf[\"median_income\"].astype(int)\n",
    "\n",
    "gdf[\"black_pct\"] = gdf[\"black_pct\"].replace(\"-\", 0).astype(float)\n",
    "gdf[\"white_pct\"] = gdf[\"white_pct\"].replace(\"-\", 0).astype(float)\n",
    "\n",
    "gdf[\"is_in_wayne\"] = gdf[\"geo_id\"].str.startswith(WAYNE_COUNTY_FIPS)\n",
    "gdf_wayne = gdf[gdf[\"geo_id\"].str.startswith(WAYNE_COUNTY_FIPS)]"
   ]
  },
  {
   "cell_type": "markdown",
   "id": "6fdea37c-bc08-4f54-a805-fbffb5efc4d5",
   "metadata": {},
   "source": [
    "# Largest gap\n",
    "\n",
    "> State Farm set its highest location-adjusted base rates in Detroit’s Morningside neighborhood, which is 97 percent Black. Its location effect was nearly seven times that of the territory with the lowest location effect in the state, somewhere in the southeast corner of Washtenaw County’s Saline Township."
   ]
  },
  {
   "cell_type": "code",
   "execution_count": 6,
   "id": "c3e86f82-427c-4cbc-9a75-3f1cc85bd4bd",
   "metadata": {},
   "outputs": [
    {
     "name": "stdout",
     "output_type": "stream",
     "text": [
      "Max location: https://maps.google.com/maps?z=12&t=m&q=loc:42.41+-82.98\n",
      "Min location: https://maps.google.com/maps?z=12&t=m&q=loc:42.1+-83.8\n"
     ]
    },
    {
     "data": {
      "text/plain": [
       "'Its location effect was 6.8 (28071.22 / 4153.92) times that of a gridded territory in the southeast corner of Washtenaw County’s Saline Township, which had the lowest location effect in the state.'"
      ]
     },
     "execution_count": 6,
     "metadata": {},
     "output_type": "execute_result"
    }
   ],
   "source": [
    "ASSERTED_FIGURE = 6.8\n",
    "max_rate = gdf[\"generic_location_based_premium\"].max()\n",
    "min_rate = gdf[\"generic_location_based_premium\"].min()\n",
    "max_div_min = round(max_rate / min_rate, 1)\n",
    "assert (\n",
    "    max_div_min == ASSERTED_FIGURE\n",
    "), f\"{max_rate} / {min_rate} == {max_div_min} != {ASSERTED_FIGURE}\"\n",
    "\n",
    "max_effect_entry = gdf[\n",
    "    gdf[\"generic_location_based_premium\"] == gdf[\"generic_location_based_premium\"].max()\n",
    "].iloc[0]\n",
    "min_effect_entry = gdf[\n",
    "    gdf[\"generic_location_based_premium\"] == gdf[\"generic_location_based_premium\"].min()\n",
    "].iloc[0]\n",
    "max_gmaps = google_maps_coords(max_effect_entry[\"geometry\"])\n",
    "min_gmaps = google_maps_coords(min_effect_entry[\"geometry\"])\n",
    "print(f\"Max location: {max_gmaps}\\nMin location: {min_gmaps}\")\n",
    "f\"Its location effect was {max_div_min} ({max_rate} / {min_rate}) times that of a gridded territory in the southeast corner of Washtenaw County’s Saline Township, which had the lowest location effect in the state.\""
   ]
  },
  {
   "cell_type": "markdown",
   "id": "e56e26eb-3fa9-4b44-a420-8380420985d6",
   "metadata": {},
   "source": [
    "# Detroit minimum\n",
    "\n",
    "> The location effects in Detroit under State Farm were significantly higher than the rest of the state. The lowest location effect in Detroit was double the lowest effect statewide and 1.4 times the state’s median effect."
   ]
  },
  {
   "cell_type": "code",
   "execution_count": 7,
   "id": "36120d3c-1e11-4bca-9743-e94ed2d4d30d",
   "metadata": {},
   "outputs": [],
   "source": [
    "gdf_detroit = gdf[gdf[\"is_in_detroit\"]]\n",
    "gdf[\"is_in_wayne\"] = gdf[\"geo_id\"].str.startswith(WAYNE_COUNTY_FIPS)\n",
    "gdf_wayne = gdf[gdf[\"is_in_wayne\"]]"
   ]
  },
  {
   "cell_type": "code",
   "execution_count": 8,
   "id": "887002d3-4870-4673-9139-72542d09a106",
   "metadata": {},
   "outputs": [
    {
     "name": "stdout",
     "output_type": "stream",
     "text": [
      "The lowest location effect in Detroit was 2 (8673.96 / 4153.92) times the lowest effect statewide\n",
      "    and 1.4 times the state’s median effect.\n"
     ]
    }
   ],
   "source": [
    "ASSERTED_FIGURE = 1.4\n",
    "detroit_min_effect = gdf_detroit[\"location_effect\"].min()\n",
    "assert (\n",
    "    ASSERTED_FIGURE == detroit_min_effect\n",
    "), f\"{ASSERTED_FIGURE} != {detroit_min_effect}\"\n",
    "\n",
    "ASSERTED_FIGURE = 2\n",
    "detroit_min_rate = gdf_detroit[\"generic_location_based_premium\"].min()\n",
    "detroit_min_rate_div_state_min = round(detroit_min_rate / min_rate)\n",
    "assert (\n",
    "    ASSERTED_FIGURE == detroit_min_rate_div_state_min\n",
    "), f\"{ASSERTED_FIGURE} != {detroit_min_rate_div_state_min}\"\n",
    "\n",
    "print(\n",
    "    f\"\"\"The lowest location effect in Detroit was {detroit_min_rate_div_state_min} ({detroit_min_rate} / {min_rate}) times the lowest effect statewide\n",
    "    and {detroit_min_effect} times the state’s median effect.\"\"\"\n",
    ")"
   ]
  },
  {
   "cell_type": "markdown",
   "id": "f96f5b2a-dc97-4a41-bb42-dd74412740b1",
   "metadata": {},
   "source": [
    "# 8 Mile Rd."
   ]
  },
  {
   "cell_type": "markdown",
   "id": "07eca91b-4e86-41fd-be35-31639534ef33",
   "metadata": {},
   "source": [
    "## Preprocess"
   ]
  },
  {
   "cell_type": "code",
   "execution_count": 9,
   "id": "462d3fa9-1075-4d6c-8183-112495bed81a",
   "metadata": {},
   "outputs": [],
   "source": [
    "gdf_north_8_rd = gdf[gdf[\"is_north_8_mile\"]]\n",
    "gdf_south_8_rd = gdf[gdf[\"is_south_8_mile\"]]\n",
    "\n",
    "gdf_8_mile_south_nn = gpd.sjoin_nearest(\n",
    "    gdf_south_8_rd.to_crs(\"EPSG:3857\"),\n",
    "    gdf_north_8_rd.to_crs(\"EPSG:3857\"),\n",
    "    distance_col=\"distances\",\n",
    "    lsuffix=\"south\",\n",
    "    rsuffix=\"north\",\n",
    "    exclusive=True,\n",
    ")"
   ]
  },
  {
   "cell_type": "markdown",
   "id": "9ceaf748-84b3-422f-adf7-e158668560db",
   "metadata": {},
   "source": [
    "## Demographics\n",
    "\n",
    "> Multiple territories in predominantly Black neighborhoods south of the road had a significantly higher location effect than the territories in the mostly White neighborhoods."
   ]
  },
  {
   "cell_type": "code",
   "execution_count": 10,
   "id": "b5b0071d-8546-4bbd-9085-326dd4c05d5f",
   "metadata": {},
   "outputs": [
    {
     "name": "stdout",
     "output_type": "stream",
     "text": [
      "The area north of 8 Mile is 39.0% (51499 / 131881) White and 50.1% (66022 / 131881) Black.\n",
      "\n",
      "\n",
      "The area south of 8 Mile is 7.3999999999999995% (9963 / 134767) White and 88.1% (118664 / 134767) Black.\n"
     ]
    }
   ],
   "source": [
    "def calculate_racial_demograhics(df, area_name=\"This region\"):\n",
    "    white_pct = (\n",
    "        round(df[\"white_tot\"].sum() / df[\"total_pop\"].sum(), ROUNDING_PRECISION) * 100\n",
    "    )\n",
    "    black_pct = (\n",
    "        round(df[\"black_tot\"].sum() / df[\"total_pop\"].sum(), ROUNDING_PRECISION) * 100\n",
    "    )\n",
    "    print(\n",
    "        f\"{area_name} is {white_pct}% ({df['white_tot'].sum()} / {df['total_pop'].sum()}) White and {black_pct}% ({df['black_tot'].sum()} / {df['total_pop'].sum()}) Black.\"\n",
    "    )\n",
    "\n",
    "\n",
    "calculate_racial_demograhics(\n",
    "    gdf_north_8_rd.drop_duplicates(subset=[\"geo_id\"], keep=\"first\"),\n",
    "    area_name=\"The area north of 8 Mile\",\n",
    ")\n",
    "print(\"\\n\")\n",
    "calculate_racial_demograhics(\n",
    "    gdf_south_8_rd.drop_duplicates(subset=[\"geo_id\"], keep=\"first\"),\n",
    "    area_name=\"The area south of 8 Mile\",\n",
    ")"
   ]
  },
  {
   "cell_type": "code",
   "execution_count": 11,
   "id": "6d78904e-18e2-44bf-bb40-2d45985dea88",
   "metadata": {},
   "outputs": [
    {
     "name": "stdout",
     "output_type": "stream",
     "text": [
      "30.8% of blocks north of 8 Mile are majority White.\n"
     ]
    }
   ],
   "source": [
    "assert (\n",
    "    len(gdf_north_8_rd) != gdf_north_8_rd[\"geo_id\"].nunique()\n",
    "), \"Each block maps to a single rate grid\"\n",
    "gdf_n_temp = gdf_north_8_rd.drop_duplicates(subset=[\"geo_id\"], keep=\"first\")\n",
    "assert (\n",
    "    len(gdf_n_temp) == gdf_n_temp[\"geo_id\"].nunique()\n",
    "), \"There are multiple entries for a single Block\"\n",
    "is_maj_white = gdf_n_temp[\"white_pct\"] > 50\n",
    "maj_white_blocks_pct = round(is_maj_white.sum() / len(gdf_n_temp), 3) * 100\n",
    "print(f\"{maj_white_blocks_pct}% of blocks north of 8 Mile are majority White.\")"
   ]
  },
  {
   "cell_type": "markdown",
   "id": "5d6478a8-cce4-469e-aafc-903d55759b22",
   "metadata": {},
   "source": [
    "## Topline stat\n",
    "\n",
    "> Eighty percent of territories south of 8 Mile Road had location effects higher than their northern counterparts. Nearly half of those territories had location effects 50 percent higher or more than their neighboring block north. There were no blocks south of the road that paid less than 10 percent of its northern counterpart.\n",
    "\n",
    "\n",
    "For each gridded unit south of 8 mile I caclulate this ratio:\n",
    "$$\n",
    "  south\\ north\\ ratio = \\frac{Location\\ rate\\ south\\ of\\ 8\\ Mile}{Closest\\ location\\ rate\\ north\\ of\\ 8\\ Mile}\n",
    "$$"
   ]
  },
  {
   "cell_type": "code",
   "execution_count": 12,
   "id": "f957312a-9371-4a47-805d-c708a46e82cc",
   "metadata": {},
   "outputs": [],
   "source": [
    "gdf_8_mile_south_nn[\"sn_ratio\"] = (\n",
    "    gdf_8_mile_south_nn[\"generic_location_based_premium_south\"]\n",
    "    / gdf_8_mile_south_nn[\"generic_location_based_premium_north\"]\n",
    ")\n",
    "gdf_8_mile_south_nn = gdf_8_mile_south_nn.sort_values([\"sn_ratio\"])"
   ]
  },
  {
   "cell_type": "code",
   "execution_count": 13,
   "id": "61397d3d-bd56-44ba-8bb4-901895cf947e",
   "metadata": {},
   "outputs": [
    {
     "data": {
      "text/plain": [
       "'79.5 percent (62 / 78) of territories south of 8 Mile Road had location effects higher than their northern counterparts.'"
      ]
     },
     "execution_count": 13,
     "metadata": {},
     "output_type": "execute_result"
    }
   ],
   "source": [
    "south_terr_count = len(gdf_8_mile_south_nn[\"location_effect_south\"])\n",
    "is_higher_effect_south = (\n",
    "    gdf_8_mile_south_nn[\"location_effect_south\"]\n",
    "    > gdf_8_mile_south_nn[\"location_effect_north\"]\n",
    ")\n",
    "south_terr_with_higher_effect_count = is_higher_effect_south.sum()\n",
    "south_terr_with_higher_effect_pct = (\n",
    "    round(south_terr_with_higher_effect_count / south_terr_count, ROUNDING_PRECISION)\n",
    "    * 100\n",
    ")\n",
    "f\"{south_terr_with_higher_effect_pct} percent ({south_terr_with_higher_effect_count} / {south_terr_count}) of territories south of 8 Mile Road had location effects higher than their northern counterparts.\""
   ]
  },
  {
   "cell_type": "code",
   "execution_count": 14,
   "id": "b54597ba-b9f5-41ae-b13d-53f06b43a72f",
   "metadata": {},
   "outputs": [
    {
     "data": {
      "text/plain": [
       "'51.6 percent of those territories had location effects at least 50 percent higher than their neighboring block north.'"
      ]
     },
     "execution_count": 14,
     "metadata": {},
     "output_type": "execute_result"
    }
   ],
   "source": [
    "ASSERTED_FIGURE_MIN = 0.485\n",
    "south_terr_one_point_five_count = (gdf_8_mile_south_nn[\"sn_ratio\"] > 1.49).sum()\n",
    "actual_figure = south_terr_one_point_five_count / south_terr_with_higher_effect_count\n",
    "assert actual_figure >= ASSERTED_FIGURE_MIN, f\"{actual_figure} < {ASSERTED_FIGURE_MIN}\"\n",
    "f\"{round(actual_figure, 3) * 100} percent of those territories had location effects at least 50 percent higher than their neighboring block north.\""
   ]
  },
  {
   "cell_type": "code",
   "execution_count": 15,
   "id": "c860e412-3ba1-4fc7-8086-3148551e16f5",
   "metadata": {},
   "outputs": [
    {
     "name": "stdout",
     "output_type": "stream",
     "text": [
      "On average when a location rate was lower the ratio between the effect south to north was 0.91\n"
     ]
    }
   ],
   "source": [
    "is_lower_effect_south = gdf_8_mile_south_nn[\"sn_ratio\"] < 1\n",
    "avg_effect_lower_than_nn = round(\n",
    "    gdf_8_mile_south_nn[is_lower_effect_south][\"sn_ratio\"].mean(), 2\n",
    ")\n",
    "print(\n",
    "    f\"On average when a location rate was lower the ratio between the effect south to north was {avg_effect_lower_than_nn}\"\n",
    ")"
   ]
  },
  {
   "cell_type": "markdown",
   "id": "6b57f7a9-036f-473e-ac6c-757131c78ccf",
   "metadata": {},
   "source": [
    "## Effect double neighoring area\n",
    "\n",
    "> Four State Farm territories within a mile south of the road had location effects twice that of their nearest neighbors to the north. These neighborhoods south of 8 Mile Road are all at least 60 percent Black, while their nearest neighborhoods north of 8 Mile Road were all less than 10 percent Black and majority White. \n",
    "\n",
    "I filter out by population because one of these gridded territroies is centered in a park adjacent to one of the other territories with double its northern neighbor."
   ]
  },
  {
   "cell_type": "code",
   "execution_count": 16,
   "id": "64ab95fe-9954-4875-b19d-b37ab0cd997b",
   "metadata": {},
   "outputs": [
    {
     "data": {
      "text/plain": [
       "'5 State Farm territories within a mile south of the road had location effects twice that of their nearest neighbors to the north.'"
      ]
     },
     "execution_count": 16,
     "metadata": {},
     "output_type": "execute_result"
    }
   ],
   "source": [
    "has_population = gdf_8_mile_south_nn[\"total_pop_south\"] > 0\n",
    "is_double_effect = (gdf_8_mile_south_nn[\"sn_ratio\"] > 2) & has_population\n",
    "double_effect_count = is_double_effect.sum()\n",
    "f\"{double_effect_count} State Farm territories within a mile south of the road had location effects twice that of their nearest neighbors to the north.\""
   ]
  },
  {
   "cell_type": "code",
   "execution_count": 17,
   "id": "9e63d089-05ea-406c-9614-f71f4005af35",
   "metadata": {},
   "outputs": [
    {
     "data": {
      "text/html": [
       "<div>\n",
       "<style scoped>\n",
       "    .dataframe tbody tr th:only-of-type {\n",
       "        vertical-align: middle;\n",
       "    }\n",
       "\n",
       "    .dataframe tbody tr th {\n",
       "        vertical-align: top;\n",
       "    }\n",
       "\n",
       "    .dataframe thead th {\n",
       "        text-align: right;\n",
       "    }\n",
       "</style>\n",
       "<table border=\"1\" class=\"dataframe\">\n",
       "  <thead>\n",
       "    <tr style=\"text-align: right;\">\n",
       "      <th></th>\n",
       "      <th>geo_id_south</th>\n",
       "      <th>geo_name_south</th>\n",
       "      <th>total_pop_south</th>\n",
       "      <th>white_pct_south</th>\n",
       "      <th>black_pct_south</th>\n",
       "      <th>white_tot_south</th>\n",
       "      <th>black_tot_south</th>\n",
       "      <th>median_income_south</th>\n",
       "      <th>generic_location_based_premium_south</th>\n",
       "      <th>location_effect_south</th>\n",
       "      <th>...</th>\n",
       "      <th>bg_black_pct_north</th>\n",
       "      <th>bg_median_income_north</th>\n",
       "      <th>is_in_detroit_north</th>\n",
       "      <th>is_along_8_mile_north</th>\n",
       "      <th>is_south_8_mile_north</th>\n",
       "      <th>is_north_8_mile_north</th>\n",
       "      <th>density_north</th>\n",
       "      <th>is_in_wayne_north</th>\n",
       "      <th>distances</th>\n",
       "      <th>sn_ratio</th>\n",
       "    </tr>\n",
       "  </thead>\n",
       "  <tbody>\n",
       "    <tr>\n",
       "      <th>22905</th>\n",
       "      <td>26163538600</td>\n",
       "      <td>Census Tract 5386; Wayne County; Michigan</td>\n",
       "      <td>5888</td>\n",
       "      <td>4.3</td>\n",
       "      <td>94.6</td>\n",
       "      <td>256</td>\n",
       "      <td>5572</td>\n",
       "      <td>51171</td>\n",
       "      <td>19547.40</td>\n",
       "      <td>3.17</td>\n",
       "      <td>...</td>\n",
       "      <td>6.0</td>\n",
       "      <td>105250</td>\n",
       "      <td>False</td>\n",
       "      <td>True</td>\n",
       "      <td>False</td>\n",
       "      <td>True</td>\n",
       "      <td>0.001611</td>\n",
       "      <td>False</td>\n",
       "      <td>3016.852144</td>\n",
       "      <td>2.092323</td>\n",
       "    </tr>\n",
       "    <tr>\n",
       "      <th>22903</th>\n",
       "      <td>26163538300</td>\n",
       "      <td>Census Tract 5383; Wayne County; Michigan</td>\n",
       "      <td>2010</td>\n",
       "      <td>9.4</td>\n",
       "      <td>89.0</td>\n",
       "      <td>189</td>\n",
       "      <td>1788</td>\n",
       "      <td>36563</td>\n",
       "      <td>18407.84</td>\n",
       "      <td>2.98</td>\n",
       "      <td>...</td>\n",
       "      <td>3.4</td>\n",
       "      <td>86801</td>\n",
       "      <td>False</td>\n",
       "      <td>True</td>\n",
       "      <td>False</td>\n",
       "      <td>True</td>\n",
       "      <td>0.002216</td>\n",
       "      <td>False</td>\n",
       "      <td>3016.852144</td>\n",
       "      <td>2.118815</td>\n",
       "    </tr>\n",
       "    <tr>\n",
       "      <th>22904</th>\n",
       "      <td>26163538400</td>\n",
       "      <td>Census Tract 5384; Wayne County; Michigan</td>\n",
       "      <td>4145</td>\n",
       "      <td>14.5</td>\n",
       "      <td>76.5</td>\n",
       "      <td>601</td>\n",
       "      <td>3169</td>\n",
       "      <td>105109</td>\n",
       "      <td>18969.71</td>\n",
       "      <td>3.07</td>\n",
       "      <td>...</td>\n",
       "      <td>0.0</td>\n",
       "      <td>95132</td>\n",
       "      <td>False</td>\n",
       "      <td>True</td>\n",
       "      <td>False</td>\n",
       "      <td>True</td>\n",
       "      <td>0.002216</td>\n",
       "      <td>False</td>\n",
       "      <td>3016.852144</td>\n",
       "      <td>2.134556</td>\n",
       "    </tr>\n",
       "    <tr>\n",
       "      <th>22902</th>\n",
       "      <td>26163538300</td>\n",
       "      <td>Census Tract 5383; Wayne County; Michigan</td>\n",
       "      <td>2010</td>\n",
       "      <td>9.4</td>\n",
       "      <td>89.0</td>\n",
       "      <td>189</td>\n",
       "      <td>1788</td>\n",
       "      <td>36563</td>\n",
       "      <td>18688.87</td>\n",
       "      <td>3.03</td>\n",
       "      <td>...</td>\n",
       "      <td>1.4</td>\n",
       "      <td>92699</td>\n",
       "      <td>False</td>\n",
       "      <td>True</td>\n",
       "      <td>False</td>\n",
       "      <td>True</td>\n",
       "      <td>0.002183</td>\n",
       "      <td>False</td>\n",
       "      <td>3016.852144</td>\n",
       "      <td>2.157799</td>\n",
       "    </tr>\n",
       "    <tr>\n",
       "      <th>22901</th>\n",
       "      <td>26163509000</td>\n",
       "      <td>Census Tract 5090; Wayne County; Michigan</td>\n",
       "      <td>1463</td>\n",
       "      <td>11.2</td>\n",
       "      <td>79.4</td>\n",
       "      <td>164</td>\n",
       "      <td>1162</td>\n",
       "      <td>48281</td>\n",
       "      <td>18707.97</td>\n",
       "      <td>3.03</td>\n",
       "      <td>...</td>\n",
       "      <td>6.5</td>\n",
       "      <td>70150</td>\n",
       "      <td>False</td>\n",
       "      <td>True</td>\n",
       "      <td>False</td>\n",
       "      <td>True</td>\n",
       "      <td>0.001050</td>\n",
       "      <td>False</td>\n",
       "      <td>3016.852144</td>\n",
       "      <td>2.212735</td>\n",
       "    </tr>\n",
       "  </tbody>\n",
       "</table>\n",
       "<p>5 rows × 50 columns</p>\n",
       "</div>"
      ],
      "text/plain": [
       "      geo_id_south                             geo_name_south  \\\n",
       "22905  26163538600  Census Tract 5386; Wayne County; Michigan   \n",
       "22903  26163538300  Census Tract 5383; Wayne County; Michigan   \n",
       "22904  26163538400  Census Tract 5384; Wayne County; Michigan   \n",
       "22902  26163538300  Census Tract 5383; Wayne County; Michigan   \n",
       "22901  26163509000  Census Tract 5090; Wayne County; Michigan   \n",
       "\n",
       "       total_pop_south  white_pct_south  black_pct_south  white_tot_south  \\\n",
       "22905             5888              4.3             94.6              256   \n",
       "22903             2010              9.4             89.0              189   \n",
       "22904             4145             14.5             76.5              601   \n",
       "22902             2010              9.4             89.0              189   \n",
       "22901             1463             11.2             79.4              164   \n",
       "\n",
       "       black_tot_south  median_income_south  \\\n",
       "22905             5572                51171   \n",
       "22903             1788                36563   \n",
       "22904             3169               105109   \n",
       "22902             1788                36563   \n",
       "22901             1162                48281   \n",
       "\n",
       "       generic_location_based_premium_south  location_effect_south  ...  \\\n",
       "22905                              19547.40                   3.17  ...   \n",
       "22903                              18407.84                   2.98  ...   \n",
       "22904                              18969.71                   3.07  ...   \n",
       "22902                              18688.87                   3.03  ...   \n",
       "22901                              18707.97                   3.03  ...   \n",
       "\n",
       "      bg_black_pct_north  bg_median_income_north  is_in_detroit_north  \\\n",
       "22905                6.0                  105250                False   \n",
       "22903                3.4                   86801                False   \n",
       "22904                0.0                   95132                False   \n",
       "22902                1.4                   92699                False   \n",
       "22901                6.5                   70150                False   \n",
       "\n",
       "       is_along_8_mile_north  is_south_8_mile_north  is_north_8_mile_north  \\\n",
       "22905                   True                  False                   True   \n",
       "22903                   True                  False                   True   \n",
       "22904                   True                  False                   True   \n",
       "22902                   True                  False                   True   \n",
       "22901                   True                  False                   True   \n",
       "\n",
       "       density_north  is_in_wayne_north    distances  sn_ratio  \n",
       "22905       0.001611              False  3016.852144  2.092323  \n",
       "22903       0.002216              False  3016.852144  2.118815  \n",
       "22904       0.002216              False  3016.852144  2.134556  \n",
       "22902       0.002183              False  3016.852144  2.157799  \n",
       "22901       0.001050              False  3016.852144  2.212735  \n",
       "\n",
       "[5 rows x 50 columns]"
      ]
     },
     "execution_count": 17,
     "metadata": {},
     "output_type": "execute_result"
    }
   ],
   "source": [
    "gdf_8_mile_south_nn[is_double_effect]"
   ]
  },
  {
   "cell_type": "code",
   "execution_count": 18,
   "id": "0f019e59-edfc-45e6-adcb-301f119ad40d",
   "metadata": {},
   "outputs": [
    {
     "name": "stdout",
     "output_type": "stream",
     "text": [
      "These neighborhoods south of 8 Mile Road are all at least 76.5 percent Black,\n",
      "while their nearest neighborhoods north of 8 Mile Road were all less than 8.9 percent Black and at least 80.6 percent White.\n"
     ]
    }
   ],
   "source": [
    "is_60_plus_pct_black = gdf_8_mile_south_nn[\"black_pct_south\"] >= 60\n",
    "assert is_double_effect.sum() == (is_60_plus_pct_black & is_double_effect).sum()\n",
    "min_black_pct_south = gdf_8_mile_south_nn[is_double_effect][\"black_pct_south\"].min()\n",
    "\n",
    "is_maj_white_north = gdf_8_mile_south_nn[\"white_pct_north\"] > 50\n",
    "is_second_claim = (\n",
    "    is_double_effect\n",
    "    & is_maj_white_north\n",
    "    & (gdf_8_mile_south_nn[\"black_pct_north\"] < 10)\n",
    ")\n",
    "assert is_second_claim.sum() == is_double_effect.sum()\n",
    "max_black_pct_north = gdf_8_mile_south_nn[is_double_effect][\"black_pct_north\"].max()\n",
    "min_white_pct_north = gdf_8_mile_south_nn[is_double_effect][\"white_pct_north\"].min()\n",
    "\n",
    "\n",
    "print(\n",
    "    f\"\"\"These neighborhoods south of 8 Mile Road are all at least {min_black_pct_south} percent Black,\n",
    "while their nearest neighborhoods north of 8 Mile Road were all less than {max_black_pct_north} percent Black and at least {min_white_pct_north} percent White.\"\"\"\n",
    ")"
   ]
  },
  {
   "cell_type": "markdown",
   "id": "4e2a43c5-9600-40d8-b5ca-5c59f676baac",
   "metadata": {},
   "source": [
    "> On average, the location effects directly south of 8 Mile were about 40 percent higher than the location effects just north of the road."
   ]
  },
  {
   "cell_type": "code",
   "execution_count": 19,
   "id": "8df1d287-045a-48d6-a208-264651a67a75",
   "metadata": {},
   "outputs": [
    {
     "name": "stdout",
     "output_type": "stream",
     "text": [
      "On average, the location effects directly south of 8 Mile were about 1.38 percent higher than the location effects just north of the road.\n"
     ]
    }
   ],
   "source": [
    "avg_sn_ratio = round(gdf_8_mile_south_nn[\"sn_ratio\"].mean(), 2)\n",
    "print(\n",
    "    f\"On average, the location effects directly south of 8 Mile were about {avg_sn_ratio} percent higher than the location effects just north of the road.\"\n",
    ")"
   ]
  },
  {
   "cell_type": "markdown",
   "id": "6af74c5f-0899-4871-86fc-4eaa4d0a8fbf",
   "metadata": {},
   "source": [
    "# Location effect quantiles\n",
    "\n",
    "Since State Farm uses a gridded map, I attempt three different ways to analyze the quantiles by demographics.\n",
    "\n",
    "1. I average the generic rate for each ZCTA `geo_id` \n",
    "\n",
    "I moved the these approaches to the [appendix below](#Different_quantile_approaches)\n",
    "\n",
    "2. Drop all duplicate ZCTA `geo_id` entries within quantiles - this approach allows for the same ZCTA to appear in multiple quantiles\n",
    "3. Drop all duplicate ZCTA `geo_id` entries in each quantile retaining the one in the lowest quantile"
   ]
  },
  {
   "cell_type": "markdown",
   "id": "3fa01e73-23bc-45cf-8c9c-80703d57c9b3",
   "metadata": {},
   "source": [
    "## Average rate\n",
    "\n",
    "I average the rates by geographic id to avoid double counting "
   ]
  },
  {
   "cell_type": "code",
   "execution_count": 20,
   "id": "617ac78a-fb1c-4652-9e78-37cdaa25fcd6",
   "metadata": {},
   "outputs": [],
   "source": [
    "gdf_groupby_geo_id = gdf.groupby(\"geo_id\")[GEOID_GROUP_BY_COLS].mean()\n",
    "gdf_groupby_geo_id[\"income_quartile\"] = pd.qcut(\n",
    "    gdf_groupby_geo_id[\"median_income\"],\n",
    "    q=len(INCOME_Q_LABELS),\n",
    "    labels=INCOME_Q_LABELS,\n",
    ")\n",
    "gdf_groupby_geo_id[\"effect_quantile\"] = pd.qcut(\n",
    "    gdf_groupby_geo_id[\"generic_location_based_premium\"],\n",
    "    q=len(RATE_Q_LABELS),\n",
    "    labels=RATE_Q_LABELS,\n",
    ")\n",
    "gdf_groupby_geo_id[\"density_quantile\"] = pd.qcut(\n",
    "    gdf_groupby_geo_id[\"density\"], q=len(DENSITY_Q_LABELS), labels=DENSITY_Q_LABELS\n",
    ")"
   ]
  },
  {
   "cell_type": "markdown",
   "id": "08b39fbb-d1c5-43d9-a18a-e80a9dd7cd4d",
   "metadata": {},
   "source": [
    "> Seventeen percent of the state’s residents live in tracts with location effects in the top quintile of the state. This includes 62 percent of Black Michiganders and less than 10 percent of White Michiganders."
   ]
  },
  {
   "cell_type": "code",
   "execution_count": 21,
   "id": "987c692f-7bf2-41f0-a76b-05cd1abaebbd",
   "metadata": {},
   "outputs": [
    {
     "name": "stdout",
     "output_type": "stream",
     "text": [
      "This calculates (group subset in quartile / total group population)\n"
     ]
    },
    {
     "data": {
      "text/html": [
       "<div>\n",
       "<style scoped>\n",
       "    .dataframe tbody tr th:only-of-type {\n",
       "        vertical-align: middle;\n",
       "    }\n",
       "\n",
       "    .dataframe tbody tr th {\n",
       "        vertical-align: top;\n",
       "    }\n",
       "\n",
       "    .dataframe thead th {\n",
       "        text-align: right;\n",
       "    }\n",
       "</style>\n",
       "<table border=\"1\" class=\"dataframe\">\n",
       "  <thead>\n",
       "    <tr style=\"text-align: right;\">\n",
       "      <th></th>\n",
       "      <th>black_tot</th>\n",
       "      <th>white_tot</th>\n",
       "      <th>total_pop</th>\n",
       "    </tr>\n",
       "    <tr>\n",
       "      <th>effect_quantile</th>\n",
       "      <th></th>\n",
       "      <th></th>\n",
       "      <th></th>\n",
       "    </tr>\n",
       "  </thead>\n",
       "  <tbody>\n",
       "    <tr>\n",
       "      <th>lowest effect</th>\n",
       "      <td>5.7</td>\n",
       "      <td>25.3</td>\n",
       "      <td>22.5</td>\n",
       "    </tr>\n",
       "    <tr>\n",
       "      <th>middle low</th>\n",
       "      <td>6.1</td>\n",
       "      <td>23.4</td>\n",
       "      <td>20.4</td>\n",
       "    </tr>\n",
       "    <tr>\n",
       "      <th>median</th>\n",
       "      <td>9.9</td>\n",
       "      <td>21.8</td>\n",
       "      <td>19.9</td>\n",
       "    </tr>\n",
       "    <tr>\n",
       "      <th>middle high</th>\n",
       "      <td>16.3</td>\n",
       "      <td>20.6</td>\n",
       "      <td>20.5</td>\n",
       "    </tr>\n",
       "    <tr>\n",
       "      <th>highest effect</th>\n",
       "      <td>61.9</td>\n",
       "      <td>8.9</td>\n",
       "      <td>16.7</td>\n",
       "    </tr>\n",
       "  </tbody>\n",
       "</table>\n",
       "</div>"
      ],
      "text/plain": [
       "                 black_tot  white_tot  total_pop\n",
       "effect_quantile                                 \n",
       "lowest effect          5.7       25.3       22.5\n",
       "middle low             6.1       23.4       20.4\n",
       "median                 9.9       21.8       19.9\n",
       "middle high           16.3       20.6       20.5\n",
       "highest effect        61.9        8.9       16.7"
      ]
     },
     "execution_count": 21,
     "metadata": {},
     "output_type": "execute_result"
    }
   ],
   "source": [
    "gdf_groupby_quartiles = gdf_groupby_geo_id.groupby(\"effect_quantile\", observed=False)[\n",
    "    QUANTILE_GROUP_BY_COLS\n",
    "].sum()\n",
    "\n",
    "print(\"This calculates (group subset in quartile / total group population)\")\n",
    "df_distribution = prptn_to_pct(\n",
    "    gdf_groupby_quartiles.div(gdf_groupby_quartiles.sum(axis=0), axis=1)\n",
    ")\n",
    "df_distribution"
   ]
  },
  {
   "cell_type": "markdown",
   "id": "5dfc7c06-3a64-45c0-b0cc-02108cc07032",
   "metadata": {},
   "source": [
    "Visual first draft"
   ]
  },
  {
   "cell_type": "code",
   "execution_count": 22,
   "id": "a1001d1c-95a2-4e00-90ff-a71f2fcde8f8",
   "metadata": {},
   "outputs": [
    {
     "data": {
      "text/html": [
       "\n",
       "<style>\n",
       "  #altair-viz-2927e07127c84418aa6af687ea4a3d3e.vega-embed {\n",
       "    width: 100%;\n",
       "    display: flex;\n",
       "  }\n",
       "\n",
       "  #altair-viz-2927e07127c84418aa6af687ea4a3d3e.vega-embed details,\n",
       "  #altair-viz-2927e07127c84418aa6af687ea4a3d3e.vega-embed details summary {\n",
       "    position: relative;\n",
       "  }\n",
       "</style>\n",
       "<div id=\"altair-viz-2927e07127c84418aa6af687ea4a3d3e\"></div>\n",
       "<script type=\"text/javascript\">\n",
       "  var VEGA_DEBUG = (typeof VEGA_DEBUG == \"undefined\") ? {} : VEGA_DEBUG;\n",
       "  (function(spec, embedOpt){\n",
       "    let outputDiv = document.currentScript.previousElementSibling;\n",
       "    if (outputDiv.id !== \"altair-viz-2927e07127c84418aa6af687ea4a3d3e\") {\n",
       "      outputDiv = document.getElementById(\"altair-viz-2927e07127c84418aa6af687ea4a3d3e\");\n",
       "    }\n",
       "    const paths = {\n",
       "      \"vega\": \"https://cdn.jsdelivr.net/npm/vega@5?noext\",\n",
       "      \"vega-lib\": \"https://cdn.jsdelivr.net/npm/vega-lib?noext\",\n",
       "      \"vega-lite\": \"https://cdn.jsdelivr.net/npm/vega-lite@5.17.0?noext\",\n",
       "      \"vega-embed\": \"https://cdn.jsdelivr.net/npm/vega-embed@6?noext\",\n",
       "    };\n",
       "\n",
       "    function maybeLoadScript(lib, version) {\n",
       "      var key = `${lib.replace(\"-\", \"\")}_version`;\n",
       "      return (VEGA_DEBUG[key] == version) ?\n",
       "        Promise.resolve(paths[lib]) :\n",
       "        new Promise(function(resolve, reject) {\n",
       "          var s = document.createElement('script');\n",
       "          document.getElementsByTagName(\"head\")[0].appendChild(s);\n",
       "          s.async = true;\n",
       "          s.onload = () => {\n",
       "            VEGA_DEBUG[key] = version;\n",
       "            return resolve(paths[lib]);\n",
       "          };\n",
       "          s.onerror = () => reject(`Error loading script: ${paths[lib]}`);\n",
       "          s.src = paths[lib];\n",
       "        });\n",
       "    }\n",
       "\n",
       "    function showError(err) {\n",
       "      outputDiv.innerHTML = `<div class=\"error\" style=\"color:red;\">${err}</div>`;\n",
       "      throw err;\n",
       "    }\n",
       "\n",
       "    function displayChart(vegaEmbed) {\n",
       "      vegaEmbed(outputDiv, spec, embedOpt)\n",
       "        .catch(err => showError(`Javascript Error: ${err.message}<br>This usually means there's a typo in your chart specification. See the javascript console for the full traceback.`));\n",
       "    }\n",
       "\n",
       "    if(typeof define === \"function\" && define.amd) {\n",
       "      requirejs.config({paths});\n",
       "      require([\"vega-embed\"], displayChart, err => showError(`Error loading script: ${err.message}`));\n",
       "    } else {\n",
       "      maybeLoadScript(\"vega\", \"5\")\n",
       "        .then(() => maybeLoadScript(\"vega-lite\", \"5.17.0\"))\n",
       "        .then(() => maybeLoadScript(\"vega-embed\", \"6\"))\n",
       "        .catch(showError)\n",
       "        .then(() => displayChart(vegaEmbed));\n",
       "    }\n",
       "  })({\"config\": {\"view\": {\"continuousWidth\": 300, \"continuousHeight\": 300}}, \"data\": {\"name\": \"data-5c63878818d4eaf33495611f943eaf38\"}, \"mark\": {\"type\": \"bar\"}, \"encoding\": {\"color\": {\"field\": \"Effect quintile\", \"sort\": [\"lowest effect\", \"middle low\", \"median\", \"middle high\", \"highest effect\"], \"type\": \"ordinal\"}, \"order\": {\"field\": \"color_Effect_quintile_sort_index\", \"type\": \"quantitative\"}, \"x\": {\"field\": \"Percent\", \"type\": \"quantitative\"}, \"y\": {\"field\": \"Population group\", \"sort\": [\"Total population\", \"White population\", \"Black population\"], \"type\": \"nominal\"}}, \"height\": 500, \"title\": \"State Farm\", \"width\": 500, \"$schema\": \"https://vega.github.io/schema/vega-lite/v5.17.0.json\", \"datasets\": {\"data-5c63878818d4eaf33495611f943eaf38\": [{\"Effect quintile\": \"lowest effect\", \"Population group\": \"Black population\", \"Percent\": 5.7}, {\"Effect quintile\": \"middle low\", \"Population group\": \"Black population\", \"Percent\": 6.1}, {\"Effect quintile\": \"median\", \"Population group\": \"Black population\", \"Percent\": 9.9}, {\"Effect quintile\": \"middle high\", \"Population group\": \"Black population\", \"Percent\": 16.3}, {\"Effect quintile\": \"highest effect\", \"Population group\": \"Black population\", \"Percent\": 61.9}, {\"Effect quintile\": \"lowest effect\", \"Population group\": \"White population\", \"Percent\": 25.3}, {\"Effect quintile\": \"middle low\", \"Population group\": \"White population\", \"Percent\": 23.400000000000002}, {\"Effect quintile\": \"median\", \"Population group\": \"White population\", \"Percent\": 21.8}, {\"Effect quintile\": \"middle high\", \"Population group\": \"White population\", \"Percent\": 20.599999999999998}, {\"Effect quintile\": \"highest effect\", \"Population group\": \"White population\", \"Percent\": 8.9}, {\"Effect quintile\": \"lowest effect\", \"Population group\": \"Total population\", \"Percent\": 22.5}, {\"Effect quintile\": \"middle low\", \"Population group\": \"Total population\", \"Percent\": 20.4}, {\"Effect quintile\": \"median\", \"Population group\": \"Total population\", \"Percent\": 19.900000000000002}, {\"Effect quintile\": \"middle high\", \"Population group\": \"Total population\", \"Percent\": 20.5}, {\"Effect quintile\": \"highest effect\", \"Population group\": \"Total population\", \"Percent\": 16.7}]}}, {\"mode\": \"vega-lite\"});\n",
       "</script>"
      ],
      "text/plain": [
       "alt.Chart(...)"
      ]
     },
     "execution_count": 22,
     "metadata": {},
     "output_type": "execute_result"
    }
   ],
   "source": [
    "%run ../00_misc/helper-func-notebook.ipynb\n",
    "stacked_quintile_chart = stacked_race_hbar(df_distribution, \"State Farm\")\n",
    "stacked_quintile_chart.save(\"../00_misc/charts/state_farm_population_quintile.png\")\n",
    "stacked_quintile_chart"
   ]
  },
  {
   "cell_type": "markdown",
   "id": "a7205d22-f012-4610-bce1-1df1309140f8",
   "metadata": {},
   "source": [
    "## Detroit and Wayne County distribution"
   ]
  },
  {
   "cell_type": "code",
   "execution_count": 23,
   "id": "c54b6373-8841-4cc5-a624-8e289cd3ffed",
   "metadata": {},
   "outputs": [],
   "source": [
    "gdf[\"effect_quantile\"] = pd.qcut(\n",
    "    gdf[\"generic_location_based_premium\"],\n",
    "    q=len(RATE_Q_LABELS),\n",
    "    labels=RATE_Q_LABELS,\n",
    ")"
   ]
  },
  {
   "cell_type": "markdown",
   "id": "a330d0ea-2875-41c8-9ae5-95f92cc4222a",
   "metadata": {},
   "source": [
    "> All of State Farm’s territories in Detroit showed location effects within the top quintile of the state."
   ]
  },
  {
   "cell_type": "code",
   "execution_count": 24,
   "id": "be8bf2c9-7196-4079-b440-b2673741feae",
   "metadata": {},
   "outputs": [
    {
     "data": {
      "text/plain": [
       "effect_quantile\n",
       "highest effect    1.0\n",
       "lowest effect     0.0\n",
       "middle low        0.0\n",
       "median            0.0\n",
       "middle high       0.0\n",
       "Name: count, dtype: float64"
      ]
     },
     "execution_count": 24,
     "metadata": {},
     "output_type": "execute_result"
    }
   ],
   "source": [
    "gdf[gdf[\"is_in_detroit\"]][\"effect_quantile\"].value_counts() / len(\n",
    "    gdf[gdf[\"is_in_detroit\"]]\n",
    ")"
   ]
  },
  {
   "cell_type": "markdown",
   "id": "18285df0-697c-4eab-b8b6-87954caf7e7a",
   "metadata": {},
   "source": [
    "> Furthermore, 90 percent of territories in all of Wayne County showed location effects in the top quintile of the state. "
   ]
  },
  {
   "cell_type": "code",
   "execution_count": 25,
   "id": "0ceb8b71-bd03-443e-9317-c6eb1d956c31",
   "metadata": {},
   "outputs": [
    {
     "data": {
      "text/plain": [
       "effect_quantile\n",
       "highest effect    88.7\n",
       "middle high        4.5\n",
       "median             2.4\n",
       "middle low         2.3\n",
       "lowest effect      2.0\n",
       "Name: count, dtype: float64"
      ]
     },
     "execution_count": 25,
     "metadata": {},
     "output_type": "execute_result"
    }
   ],
   "source": [
    "prptn_to_pct(\n",
    "    gdf[gdf[\"is_in_wayne\"]][\"effect_quantile\"].value_counts()\n",
    "    / len(gdf[gdf[\"is_in_wayne\"]])\n",
    ")"
   ]
  },
  {
   "cell_type": "markdown",
   "id": "5f047bbe-f61f-478c-b4cc-11f0e02ac81b",
   "metadata": {},
   "source": [
    "# Appendix"
   ]
  },
  {
   "cell_type": "markdown",
   "id": "a1180442-82e8-4c63-b70b-ad57b039af80",
   "metadata": {},
   "source": [
    "## Detroit range"
   ]
  },
  {
   "cell_type": "code",
   "execution_count": 26,
   "id": "9543893e-4ae4-4c65-bd95-d444c50a7f3e",
   "metadata": {},
   "outputs": [
    {
     "name": "stdout",
     "output_type": "stream",
     "text": [
      "State Farm range of location effects within Detroit: 1.4-4.55. The avg: 3.4\n",
      "The highest effect 4.55 is in Detroit\n"
     ]
    }
   ],
   "source": [
    "highest_effect = gdf[\"location_effect\"].max()\n",
    "detroit_loc_effects = gdf[gdf[\"is_in_detroit\"]][\"location_effect\"]\n",
    "detroit_min_loc_effects = detroit_loc_effects.min()\n",
    "detroit_max_loc_effects = detroit_loc_effects.max()\n",
    "detroit_avg_loc_effect = round(detroit_loc_effects.mean(), 2)\n",
    "assert highest_effect == detroit_max_loc_effects\n",
    "\n",
    "print(\n",
    "    f\"{INSURER} range of location effects within Detroit: {detroit_min_loc_effects}-{detroit_max_loc_effects}. The avg: {detroit_avg_loc_effect}\"\n",
    ")\n",
    "print(f\"The highest effect {highest_effect} is in Detroit\")"
   ]
  },
  {
   "cell_type": "markdown",
   "id": "0407b9f2-9e03-4b82-8d20-6e9ece2f9cc5",
   "metadata": {},
   "source": [
    "## Population density"
   ]
  },
  {
   "cell_type": "code",
   "execution_count": 27,
   "id": "ae4ef114-cada-4e59-9cb6-3456fa0794ca",
   "metadata": {},
   "outputs": [
    {
     "data": {
      "text/html": [
       "<div>\n",
       "<style scoped>\n",
       "    .dataframe tbody tr th:only-of-type {\n",
       "        vertical-align: middle;\n",
       "    }\n",
       "\n",
       "    .dataframe tbody tr th {\n",
       "        vertical-align: top;\n",
       "    }\n",
       "\n",
       "    .dataframe thead th {\n",
       "        text-align: right;\n",
       "    }\n",
       "</style>\n",
       "<table border=\"1\" class=\"dataframe\">\n",
       "  <thead>\n",
       "    <tr style=\"text-align: right;\">\n",
       "      <th>density_quantile</th>\n",
       "      <th>lowest density</th>\n",
       "      <th>middle low</th>\n",
       "      <th>median</th>\n",
       "      <th>middle high</th>\n",
       "      <th>highest density</th>\n",
       "    </tr>\n",
       "    <tr>\n",
       "      <th>effect_quantile</th>\n",
       "      <th></th>\n",
       "      <th></th>\n",
       "      <th></th>\n",
       "      <th></th>\n",
       "      <th></th>\n",
       "    </tr>\n",
       "  </thead>\n",
       "  <tbody>\n",
       "    <tr>\n",
       "      <th>lowest effect</th>\n",
       "      <td>17.4</td>\n",
       "      <td>34.3</td>\n",
       "      <td>28.3</td>\n",
       "      <td>13.4</td>\n",
       "      <td>6.8</td>\n",
       "    </tr>\n",
       "    <tr>\n",
       "      <th>middle low</th>\n",
       "      <td>33.0</td>\n",
       "      <td>29.7</td>\n",
       "      <td>19.0</td>\n",
       "      <td>11.7</td>\n",
       "      <td>6.6</td>\n",
       "    </tr>\n",
       "    <tr>\n",
       "      <th>median</th>\n",
       "      <td>34.2</td>\n",
       "      <td>22.3</td>\n",
       "      <td>19.7</td>\n",
       "      <td>13.9</td>\n",
       "      <td>9.9</td>\n",
       "    </tr>\n",
       "    <tr>\n",
       "      <th>middle high</th>\n",
       "      <td>10.2</td>\n",
       "      <td>11.7</td>\n",
       "      <td>21.0</td>\n",
       "      <td>29.2</td>\n",
       "      <td>27.8</td>\n",
       "    </tr>\n",
       "    <tr>\n",
       "      <th>highest effect</th>\n",
       "      <td>5.2</td>\n",
       "      <td>2.1</td>\n",
       "      <td>12.0</td>\n",
       "      <td>31.8</td>\n",
       "      <td>49.0</td>\n",
       "    </tr>\n",
       "  </tbody>\n",
       "</table>\n",
       "</div>"
      ],
      "text/plain": [
       "density_quantile  lowest density  middle low  median  middle high  \\\n",
       "effect_quantile                                                     \n",
       "lowest effect               17.4        34.3    28.3         13.4   \n",
       "middle low                  33.0        29.7    19.0         11.7   \n",
       "median                      34.2        22.3    19.7         13.9   \n",
       "middle high                 10.2        11.7    21.0         29.2   \n",
       "highest effect               5.2         2.1    12.0         31.8   \n",
       "\n",
       "density_quantile  highest density  \n",
       "effect_quantile                    \n",
       "lowest effect                 6.8  \n",
       "middle low                    6.6  \n",
       "median                        9.9  \n",
       "middle high                  27.8  \n",
       "highest effect               49.0  "
      ]
     },
     "execution_count": 27,
     "metadata": {},
     "output_type": "execute_result"
    }
   ],
   "source": [
    "gdf_temp = gdf_groupby_geo_id.pivot_table(\n",
    "    index=\"effect_quantile\", columns=\"density_quantile\", aggfunc=\"count\", observed=False\n",
    ")[\"median_income\"]\n",
    "df_density_quintile = prptn_to_pct(gdf_temp / gdf_temp.sum())\n",
    "df_density_quintile"
   ]
  },
  {
   "cell_type": "code",
   "execution_count": 28,
   "id": "689e59fc-0f29-4b25-a822-ba007260c47b",
   "metadata": {},
   "outputs": [
    {
     "data": {
      "text/html": [
       "<div>\n",
       "<style scoped>\n",
       "    .dataframe tbody tr th:only-of-type {\n",
       "        vertical-align: middle;\n",
       "    }\n",
       "\n",
       "    .dataframe tbody tr th {\n",
       "        vertical-align: top;\n",
       "    }\n",
       "\n",
       "    .dataframe thead th {\n",
       "        text-align: right;\n",
       "    }\n",
       "</style>\n",
       "<table border=\"1\" class=\"dataframe\">\n",
       "  <thead>\n",
       "    <tr style=\"text-align: right;\">\n",
       "      <th></th>\n",
       "      <th>black_tot</th>\n",
       "      <th>white_tot</th>\n",
       "      <th>total_pop</th>\n",
       "    </tr>\n",
       "    <tr>\n",
       "      <th>density_quantile</th>\n",
       "      <th></th>\n",
       "      <th></th>\n",
       "      <th></th>\n",
       "    </tr>\n",
       "  </thead>\n",
       "  <tbody>\n",
       "    <tr>\n",
       "      <th>lowest density</th>\n",
       "      <td>1.0</td>\n",
       "      <td>19.0</td>\n",
       "      <td>15.0</td>\n",
       "    </tr>\n",
       "    <tr>\n",
       "      <th>middle low</th>\n",
       "      <td>4.0</td>\n",
       "      <td>26.0</td>\n",
       "      <td>22.0</td>\n",
       "    </tr>\n",
       "    <tr>\n",
       "      <th>median</th>\n",
       "      <td>16.0</td>\n",
       "      <td>22.0</td>\n",
       "      <td>21.0</td>\n",
       "    </tr>\n",
       "    <tr>\n",
       "      <th>middle high</th>\n",
       "      <td>30.0</td>\n",
       "      <td>18.0</td>\n",
       "      <td>20.0</td>\n",
       "    </tr>\n",
       "    <tr>\n",
       "      <th>highest density</th>\n",
       "      <td>48.0</td>\n",
       "      <td>15.0</td>\n",
       "      <td>21.0</td>\n",
       "    </tr>\n",
       "  </tbody>\n",
       "</table>\n",
       "</div>"
      ],
      "text/plain": [
       "                  black_tot  white_tot  total_pop\n",
       "density_quantile                                 \n",
       "lowest density          1.0       19.0       15.0\n",
       "middle low              4.0       26.0       22.0\n",
       "median                 16.0       22.0       21.0\n",
       "middle high            30.0       18.0       20.0\n",
       "highest density        48.0       15.0       21.0"
      ]
     },
     "execution_count": 28,
     "metadata": {},
     "output_type": "execute_result"
    }
   ],
   "source": [
    "gdf_groupby_density_quantiles = gdf_groupby_geo_id.groupby(\n",
    "    \"density_quantile\", observed=False\n",
    ")[QUANTILE_GROUP_BY_COLS].sum()\n",
    "column_sums = gdf_groupby_density_quantiles.sum(axis=0)\n",
    "df_density_distribution = prptn_to_pct(\n",
    "    gdf_groupby_density_quantiles.div(column_sums, axis=1), 2\n",
    ")\n",
    "df_density_distribution"
   ]
  },
  {
   "cell_type": "markdown",
   "id": "3ea22e3b-999e-4a6f-b90d-9448bcec25dc",
   "metadata": {},
   "source": [
    "## Effect x density quantiles"
   ]
  },
  {
   "cell_type": "code",
   "execution_count": 29,
   "id": "55705efd-e3bf-4994-a56e-adb8b93148f6",
   "metadata": {},
   "outputs": [],
   "source": [
    "def pivot_effect_density_quantiles(\n",
    "    gdf, race_group, race_label=None, calculate_percent=True\n",
    "):\n",
    "    gdf_temp = gdf.pivot_table(\n",
    "        index=\"effect_quantile\",\n",
    "        columns=\"density_quantile\",\n",
    "        values=race_group,\n",
    "        aggfunc=\"sum\",\n",
    "        observed=False,\n",
    "    )\n",
    "    if calculate_percent:\n",
    "        gdf_temp = prptn_to_pct(gdf_temp / gdf_temp.sum().sum())\n",
    "    gdf_temp = gdf_temp.reset_index()\n",
    "    if race_label:\n",
    "        gdf_temp[\"race\"] = race_label\n",
    "    else:\n",
    "        gdf_temp[\"race\"] = race_group\n",
    "    gdf_temp[\"insurer\"] = INSURER\n",
    "    return gdf_temp\n",
    "\n",
    "\n",
    "def join_effect_density_quantiles_pivots(calculate_percent=True):\n",
    "    gdf_white = pivot_effect_density_quantiles(\n",
    "        gdf_groupby_geo_id, \"white_tot\", \"White\", calculate_percent=calculate_percent\n",
    "    )\n",
    "    gdf_black = pivot_effect_density_quantiles(\n",
    "        gdf_groupby_geo_id, \"black_tot\", \"Black\", calculate_percent=calculate_percent\n",
    "    )\n",
    "    return pd.concat([gdf_white, gdf_black], ignore_index=True)\n",
    "\n",
    "\n",
    "gdf_effect_density_quantiles_pivot = join_effect_density_quantiles_pivots(False)\n",
    "gdf_effect_density_quantiles_pivot.to_csv(\n",
    "    \"./outputs/effect_density_quantiles_pivot_count.csv\", index=False\n",
    ")"
   ]
  },
  {
   "cell_type": "markdown",
   "id": "7e1b6bc1-c643-4439-9acb-7f24b4b6b207",
   "metadata": {},
   "source": [
    "## Income cross tab"
   ]
  },
  {
   "cell_type": "code",
   "execution_count": 30,
   "id": "520bc382-1832-484b-84d5-01986a5bb0ea",
   "metadata": {},
   "outputs": [
    {
     "data": {
      "text/html": [
       "<div>\n",
       "<style scoped>\n",
       "    .dataframe tbody tr th:only-of-type {\n",
       "        vertical-align: middle;\n",
       "    }\n",
       "\n",
       "    .dataframe tbody tr th {\n",
       "        vertical-align: top;\n",
       "    }\n",
       "\n",
       "    .dataframe thead th {\n",
       "        text-align: right;\n",
       "    }\n",
       "</style>\n",
       "<table border=\"1\" class=\"dataframe\">\n",
       "  <thead>\n",
       "    <tr style=\"text-align: right;\">\n",
       "      <th>income_quartile</th>\n",
       "      <th>lowest income</th>\n",
       "      <th>middle low</th>\n",
       "      <th>median</th>\n",
       "      <th>middle high</th>\n",
       "      <th>highest income</th>\n",
       "    </tr>\n",
       "    <tr>\n",
       "      <th>effect_quantile</th>\n",
       "      <th></th>\n",
       "      <th></th>\n",
       "      <th></th>\n",
       "      <th></th>\n",
       "      <th></th>\n",
       "    </tr>\n",
       "  </thead>\n",
       "  <tbody>\n",
       "    <tr>\n",
       "      <th>lowest effect</th>\n",
       "      <td>0.105903</td>\n",
       "      <td>0.132174</td>\n",
       "      <td>0.210435</td>\n",
       "      <td>0.262609</td>\n",
       "      <td>0.289931</td>\n",
       "    </tr>\n",
       "    <tr>\n",
       "      <th>middle low</th>\n",
       "      <td>0.119792</td>\n",
       "      <td>0.233043</td>\n",
       "      <td>0.231304</td>\n",
       "      <td>0.238261</td>\n",
       "      <td>0.177083</td>\n",
       "    </tr>\n",
       "    <tr>\n",
       "      <th>median</th>\n",
       "      <td>0.154514</td>\n",
       "      <td>0.243478</td>\n",
       "      <td>0.208696</td>\n",
       "      <td>0.184348</td>\n",
       "      <td>0.208333</td>\n",
       "    </tr>\n",
       "    <tr>\n",
       "      <th>middle high</th>\n",
       "      <td>0.118056</td>\n",
       "      <td>0.175652</td>\n",
       "      <td>0.220870</td>\n",
       "      <td>0.229565</td>\n",
       "      <td>0.255208</td>\n",
       "    </tr>\n",
       "    <tr>\n",
       "      <th>highest effect</th>\n",
       "      <td>0.501736</td>\n",
       "      <td>0.215652</td>\n",
       "      <td>0.128696</td>\n",
       "      <td>0.085217</td>\n",
       "      <td>0.069444</td>\n",
       "    </tr>\n",
       "  </tbody>\n",
       "</table>\n",
       "</div>"
      ],
      "text/plain": [
       "income_quartile  lowest income  middle low    median  middle high  \\\n",
       "effect_quantile                                                     \n",
       "lowest effect         0.105903    0.132174  0.210435     0.262609   \n",
       "middle low            0.119792    0.233043  0.231304     0.238261   \n",
       "median                0.154514    0.243478  0.208696     0.184348   \n",
       "middle high           0.118056    0.175652  0.220870     0.229565   \n",
       "highest effect        0.501736    0.215652  0.128696     0.085217   \n",
       "\n",
       "income_quartile  highest income  \n",
       "effect_quantile                  \n",
       "lowest effect          0.289931  \n",
       "middle low             0.177083  \n",
       "median                 0.208333  \n",
       "middle high            0.255208  \n",
       "highest effect         0.069444  "
      ]
     },
     "execution_count": 30,
     "metadata": {},
     "output_type": "execute_result"
    }
   ],
   "source": [
    "gdf_temp = gdf_groupby_geo_id.pivot_table(\n",
    "    index=\"effect_quantile\", columns=\"income_quartile\", aggfunc=\"count\", observed=False\n",
    ")[\"median_income\"]\n",
    "gdf_temp / gdf_temp.sum()"
   ]
  },
  {
   "cell_type": "code",
   "execution_count": 31,
   "id": "6111da7e-30c0-4b78-94a2-9e9c57179947",
   "metadata": {},
   "outputs": [
    {
     "data": {
      "text/html": [
       "\n",
       "<style>\n",
       "  #altair-viz-fb8ffe98f79146d2900d8faeac5342cb.vega-embed {\n",
       "    width: 100%;\n",
       "    display: flex;\n",
       "  }\n",
       "\n",
       "  #altair-viz-fb8ffe98f79146d2900d8faeac5342cb.vega-embed details,\n",
       "  #altair-viz-fb8ffe98f79146d2900d8faeac5342cb.vega-embed details summary {\n",
       "    position: relative;\n",
       "  }\n",
       "</style>\n",
       "<div id=\"altair-viz-fb8ffe98f79146d2900d8faeac5342cb\"></div>\n",
       "<script type=\"text/javascript\">\n",
       "  var VEGA_DEBUG = (typeof VEGA_DEBUG == \"undefined\") ? {} : VEGA_DEBUG;\n",
       "  (function(spec, embedOpt){\n",
       "    let outputDiv = document.currentScript.previousElementSibling;\n",
       "    if (outputDiv.id !== \"altair-viz-fb8ffe98f79146d2900d8faeac5342cb\") {\n",
       "      outputDiv = document.getElementById(\"altair-viz-fb8ffe98f79146d2900d8faeac5342cb\");\n",
       "    }\n",
       "    const paths = {\n",
       "      \"vega\": \"https://cdn.jsdelivr.net/npm/vega@5?noext\",\n",
       "      \"vega-lib\": \"https://cdn.jsdelivr.net/npm/vega-lib?noext\",\n",
       "      \"vega-lite\": \"https://cdn.jsdelivr.net/npm/vega-lite@5.17.0?noext\",\n",
       "      \"vega-embed\": \"https://cdn.jsdelivr.net/npm/vega-embed@6?noext\",\n",
       "    };\n",
       "\n",
       "    function maybeLoadScript(lib, version) {\n",
       "      var key = `${lib.replace(\"-\", \"\")}_version`;\n",
       "      return (VEGA_DEBUG[key] == version) ?\n",
       "        Promise.resolve(paths[lib]) :\n",
       "        new Promise(function(resolve, reject) {\n",
       "          var s = document.createElement('script');\n",
       "          document.getElementsByTagName(\"head\")[0].appendChild(s);\n",
       "          s.async = true;\n",
       "          s.onload = () => {\n",
       "            VEGA_DEBUG[key] = version;\n",
       "            return resolve(paths[lib]);\n",
       "          };\n",
       "          s.onerror = () => reject(`Error loading script: ${paths[lib]}`);\n",
       "          s.src = paths[lib];\n",
       "        });\n",
       "    }\n",
       "\n",
       "    function showError(err) {\n",
       "      outputDiv.innerHTML = `<div class=\"error\" style=\"color:red;\">${err}</div>`;\n",
       "      throw err;\n",
       "    }\n",
       "\n",
       "    function displayChart(vegaEmbed) {\n",
       "      vegaEmbed(outputDiv, spec, embedOpt)\n",
       "        .catch(err => showError(`Javascript Error: ${err.message}<br>This usually means there's a typo in your chart specification. See the javascript console for the full traceback.`));\n",
       "    }\n",
       "\n",
       "    if(typeof define === \"function\" && define.amd) {\n",
       "      requirejs.config({paths});\n",
       "      require([\"vega-embed\"], displayChart, err => showError(`Error loading script: ${err.message}`));\n",
       "    } else {\n",
       "      maybeLoadScript(\"vega\", \"5\")\n",
       "        .then(() => maybeLoadScript(\"vega-lite\", \"5.17.0\"))\n",
       "        .then(() => maybeLoadScript(\"vega-embed\", \"6\"))\n",
       "        .catch(showError)\n",
       "        .then(() => displayChart(vegaEmbed));\n",
       "    }\n",
       "  })({\"config\": {\"view\": {\"continuousWidth\": 300, \"continuousHeight\": 300}}, \"data\": {\"name\": \"data-940f2eeaf2a9d15b3896be71fdeed153\"}, \"mark\": {\"type\": \"bar\"}, \"encoding\": {\"color\": {\"field\": \"Effect quintile\", \"sort\": [\"lowest effect\", \"middle low\", \"median\", \"middle high\", \"highest effect\"], \"type\": \"ordinal\"}, \"order\": {\"field\": \"color_Effect_quintile_sort_index\", \"type\": \"quantitative\"}, \"x\": {\"field\": \"Percent\", \"type\": \"quantitative\"}, \"y\": {\"field\": \"Income group\", \"sort\": [\"Lowest\", \"Lower middle\", \"Median\", \"Upper middle\", \"Highest\"], \"type\": \"nominal\"}}, \"height\": 500, \"title\": \"State Farm\", \"width\": 500, \"$schema\": \"https://vega.github.io/schema/vega-lite/v5.17.0.json\", \"datasets\": {\"data-940f2eeaf2a9d15b3896be71fdeed153\": [{\"Effect quintile\": \"lowest effect\", \"Income group\": \"Lowest\", \"Percent\": 10.5902777777778}, {\"Effect quintile\": \"middle low\", \"Income group\": \"Lowest\", \"Percent\": 11.9791666666667}, {\"Effect quintile\": \"median\", \"Income group\": \"Lowest\", \"Percent\": 15.4513888888889}, {\"Effect quintile\": \"middle high\", \"Income group\": \"Lowest\", \"Percent\": 11.8055555555556}, {\"Effect quintile\": \"highest effect\", \"Income group\": \"Lowest\", \"Percent\": 50.17361111111111}, {\"Effect quintile\": \"lowest effect\", \"Income group\": \"Lower middle\", \"Percent\": 13.2173913043478}, {\"Effect quintile\": \"middle low\", \"Income group\": \"Lower middle\", \"Percent\": 23.304347826087}, {\"Effect quintile\": \"median\", \"Income group\": \"Lower middle\", \"Percent\": 24.347826086956502}, {\"Effect quintile\": \"middle high\", \"Income group\": \"Lower middle\", \"Percent\": 17.5652173913043}, {\"Effect quintile\": \"highest effect\", \"Income group\": \"Lower middle\", \"Percent\": 21.5652173913043}, {\"Effect quintile\": \"lowest effect\", \"Income group\": \"Median\", \"Percent\": 21.0434782608696}, {\"Effect quintile\": \"middle low\", \"Income group\": \"Median\", \"Percent\": 23.1304347826087}, {\"Effect quintile\": \"median\", \"Income group\": \"Median\", \"Percent\": 20.8695652173913}, {\"Effect quintile\": \"middle high\", \"Income group\": \"Median\", \"Percent\": 22.0869565217391}, {\"Effect quintile\": \"highest effect\", \"Income group\": \"Median\", \"Percent\": 12.8695652173913}, {\"Effect quintile\": \"lowest effect\", \"Income group\": \"Upper middle\", \"Percent\": 26.260869565217398}, {\"Effect quintile\": \"middle low\", \"Income group\": \"Upper middle\", \"Percent\": 23.8260869565217}, {\"Effect quintile\": \"median\", \"Income group\": \"Upper middle\", \"Percent\": 18.4347826086957}, {\"Effect quintile\": \"middle high\", \"Income group\": \"Upper middle\", \"Percent\": 22.9565217391304}, {\"Effect quintile\": \"highest effect\", \"Income group\": \"Upper middle\", \"Percent\": 8.5217391304348}, {\"Effect quintile\": \"lowest effect\", \"Income group\": \"Highest\", \"Percent\": 28.993055555555603}, {\"Effect quintile\": \"middle low\", \"Income group\": \"Highest\", \"Percent\": 17.7083333333333}, {\"Effect quintile\": \"median\", \"Income group\": \"Highest\", \"Percent\": 20.8333333333333}, {\"Effect quintile\": \"middle high\", \"Income group\": \"Highest\", \"Percent\": 25.520833333333297}, {\"Effect quintile\": \"highest effect\", \"Income group\": \"Highest\", \"Percent\": 6.9444444444444}]}}, {\"mode\": \"vega-lite\"});\n",
       "</script>"
      ],
      "text/plain": [
       "alt.Chart(...)"
      ]
     },
     "execution_count": 31,
     "metadata": {},
     "output_type": "execute_result"
    }
   ],
   "source": [
    "%run ../00_misc/helper-func-notebook.ipynb\n",
    "df_income_quintile = prptn_to_pct(gdf_temp / gdf_temp.sum(), 15)\n",
    "income_hbar = stacked_income_hbar(df_income_quintile, title=\"State Farm\")\n",
    "income_hbar.save(\"../00_misc/charts/state_farm_income_quintile.png\")\n",
    "income_hbar"
   ]
  },
  {
   "cell_type": "markdown",
   "id": "c4a97f5b-c48d-46dc-af1a-7a7e2d20966d",
   "metadata": {},
   "source": [
    "## Effect in top quantile"
   ]
  },
  {
   "cell_type": "code",
   "execution_count": 32,
   "id": "cd6af972-36f3-466d-a314-7c67c569d3e6",
   "metadata": {},
   "outputs": [
    {
     "name": "stdout",
     "output_type": "stream",
     "text": [
      "The location effect in the top quantile ranged from 1.4722174813497502 to 4.264382726204148\n"
     ]
    }
   ],
   "source": [
    "gdf_highest_effects = gdf_groupby_geo_id[\n",
    "    gdf_groupby_geo_id[\"effect_quantile\"] == \"highest effect\"\n",
    "]\n",
    "lowest_quantile_min_effect = (\n",
    "    gdf_highest_effects[\"generic_location_based_premium\"].min()\n",
    "    / gdf_groupby_geo_id[\"generic_location_based_premium\"].median()\n",
    ")\n",
    "highest_quantile_max_effect = (\n",
    "    gdf_highest_effects[\"generic_location_based_premium\"].max()\n",
    "    / gdf_groupby_geo_id[\"generic_location_based_premium\"].median()\n",
    ")\n",
    "\n",
    "print(\n",
    "    f\"The location effect in the top quantile ranged from {lowest_quantile_min_effect} to {highest_quantile_max_effect}\"\n",
    ")"
   ]
  },
  {
   "cell_type": "markdown",
   "id": "c28ccf1b-6500-42e8-a0e9-b9616ddc953b",
   "metadata": {},
   "source": [
    "## Export data"
   ]
  },
  {
   "cell_type": "code",
   "execution_count": 33,
   "id": "1e297267-2a83-4428-b99f-274f28566cc4",
   "metadata": {},
   "outputs": [
    {
     "data": {
      "text/html": [
       "<div>\n",
       "<style scoped>\n",
       "    .dataframe tbody tr th:only-of-type {\n",
       "        vertical-align: middle;\n",
       "    }\n",
       "\n",
       "    .dataframe tbody tr th {\n",
       "        vertical-align: top;\n",
       "    }\n",
       "\n",
       "    .dataframe thead th {\n",
       "        text-align: right;\n",
       "    }\n",
       "</style>\n",
       "<table border=\"1\" class=\"dataframe\">\n",
       "  <thead>\n",
       "    <tr style=\"text-align: right;\">\n",
       "      <th>race</th>\n",
       "      <th>lowest effect</th>\n",
       "      <th>middle low</th>\n",
       "      <th>median</th>\n",
       "      <th>middle high</th>\n",
       "      <th>highest effect</th>\n",
       "      <th>Insurer</th>\n",
       "    </tr>\n",
       "  </thead>\n",
       "  <tbody>\n",
       "    <tr>\n",
       "      <th>Black</th>\n",
       "      <td>5.7</td>\n",
       "      <td>6.1</td>\n",
       "      <td>9.9</td>\n",
       "      <td>16.3</td>\n",
       "      <td>61.9</td>\n",
       "      <td>State Farm</td>\n",
       "    </tr>\n",
       "    <tr>\n",
       "      <th>White</th>\n",
       "      <td>25.3</td>\n",
       "      <td>23.4</td>\n",
       "      <td>21.8</td>\n",
       "      <td>20.6</td>\n",
       "      <td>8.9</td>\n",
       "      <td>State Farm</td>\n",
       "    </tr>\n",
       "    <tr>\n",
       "      <th>Total</th>\n",
       "      <td>22.5</td>\n",
       "      <td>20.4</td>\n",
       "      <td>19.9</td>\n",
       "      <td>20.5</td>\n",
       "      <td>16.7</td>\n",
       "      <td>State Farm</td>\n",
       "    </tr>\n",
       "  </tbody>\n",
       "</table>\n",
       "</div>"
      ],
      "text/plain": [
       "race   lowest effect  middle low  median  middle high  highest effect  \\\n",
       "Black            5.7         6.1     9.9         16.3            61.9   \n",
       "White           25.3        23.4    21.8         20.6             8.9   \n",
       "Total           22.5        20.4    19.9         20.5            16.7   \n",
       "\n",
       "race      Insurer  \n",
       "Black  State Farm  \n",
       "White  State Farm  \n",
       "Total  State Farm  "
      ]
     },
     "execution_count": 33,
     "metadata": {},
     "output_type": "execute_result"
    }
   ],
   "source": [
    "%run ../00_misc/helper-func-notebook.ipynb\n",
    "df_export = datawrapper_race_distribution(df_distribution, \"State Farm\")\n",
    "df_export.to_csv(\"./outputs/state_farm_race_chart_data.csv\")\n",
    "df_export"
   ]
  },
  {
   "cell_type": "code",
   "execution_count": 34,
   "id": "4b43e224-9d2b-45df-8f45-b0d67cfb2a2e",
   "metadata": {},
   "outputs": [
    {
     "data": {
      "text/html": [
       "<div>\n",
       "<style scoped>\n",
       "    .dataframe tbody tr th:only-of-type {\n",
       "        vertical-align: middle;\n",
       "    }\n",
       "\n",
       "    .dataframe tbody tr th {\n",
       "        vertical-align: top;\n",
       "    }\n",
       "\n",
       "    .dataframe thead th {\n",
       "        text-align: right;\n",
       "    }\n",
       "</style>\n",
       "<table border=\"1\" class=\"dataframe\">\n",
       "  <thead>\n",
       "    <tr style=\"text-align: right;\">\n",
       "      <th>income</th>\n",
       "      <th>lowest effect</th>\n",
       "      <th>middle low</th>\n",
       "      <th>median</th>\n",
       "      <th>middle high</th>\n",
       "      <th>highest effect</th>\n",
       "      <th>Insurer</th>\n",
       "    </tr>\n",
       "  </thead>\n",
       "  <tbody>\n",
       "    <tr>\n",
       "      <th>Lowest income</th>\n",
       "      <td>10.590278</td>\n",
       "      <td>11.979167</td>\n",
       "      <td>15.451389</td>\n",
       "      <td>11.805556</td>\n",
       "      <td>50.173611</td>\n",
       "      <td>State Farm</td>\n",
       "    </tr>\n",
       "    <tr>\n",
       "      <th>Lower income</th>\n",
       "      <td>13.217391</td>\n",
       "      <td>23.304348</td>\n",
       "      <td>24.347826</td>\n",
       "      <td>17.565217</td>\n",
       "      <td>21.565217</td>\n",
       "      <td>State Farm</td>\n",
       "    </tr>\n",
       "    <tr>\n",
       "      <th>Middle income</th>\n",
       "      <td>21.043478</td>\n",
       "      <td>23.130435</td>\n",
       "      <td>20.869565</td>\n",
       "      <td>22.086957</td>\n",
       "      <td>12.869565</td>\n",
       "      <td>State Farm</td>\n",
       "    </tr>\n",
       "    <tr>\n",
       "      <th>Higher income</th>\n",
       "      <td>26.260870</td>\n",
       "      <td>23.826087</td>\n",
       "      <td>18.434783</td>\n",
       "      <td>22.956522</td>\n",
       "      <td>8.521739</td>\n",
       "      <td>State Farm</td>\n",
       "    </tr>\n",
       "    <tr>\n",
       "      <th>Highest incomes</th>\n",
       "      <td>28.993056</td>\n",
       "      <td>17.708333</td>\n",
       "      <td>20.833333</td>\n",
       "      <td>25.520833</td>\n",
       "      <td>6.944444</td>\n",
       "      <td>State Farm</td>\n",
       "    </tr>\n",
       "  </tbody>\n",
       "</table>\n",
       "</div>"
      ],
      "text/plain": [
       "income           lowest effect  middle low     median  middle high  \\\n",
       "Lowest income        10.590278   11.979167  15.451389    11.805556   \n",
       "Lower income         13.217391   23.304348  24.347826    17.565217   \n",
       "Middle income        21.043478   23.130435  20.869565    22.086957   \n",
       "Higher income        26.260870   23.826087  18.434783    22.956522   \n",
       "Highest incomes      28.993056   17.708333  20.833333    25.520833   \n",
       "\n",
       "income           highest effect     Insurer  \n",
       "Lowest income         50.173611  State Farm  \n",
       "Lower income          21.565217  State Farm  \n",
       "Middle income         12.869565  State Farm  \n",
       "Higher income          8.521739  State Farm  \n",
       "Highest incomes        6.944444  State Farm  "
      ]
     },
     "execution_count": 34,
     "metadata": {},
     "output_type": "execute_result"
    }
   ],
   "source": [
    "%run ../00_misc/helper-func-notebook.ipynb\n",
    "df_export = datawrapper_income_distribution(df_income_quintile, \"State Farm\")\n",
    "df_export.to_csv(\"./outputs/state_farm_income_chart_data.csv\")\n",
    "df_export"
   ]
  },
  {
   "cell_type": "code",
   "execution_count": 35,
   "id": "5fabcb83-35ef-4327-b28a-0286b76ef1ea",
   "metadata": {},
   "outputs": [],
   "source": [
    "%run ../00_misc/helper-func-notebook.ipynb\n",
    "df_export = datawrapper_race_distribution(df_density_distribution, \"State Farm\")\n",
    "df_export.to_csv(\"./outputs/state_farm_race_density_chart_data.csv\")"
   ]
  },
  {
   "cell_type": "code",
   "execution_count": 36,
   "id": "5273bcfd-b055-47a7-9f25-de333ee3f579",
   "metadata": {},
   "outputs": [
    {
     "data": {
      "text/html": [
       "<div>\n",
       "<style scoped>\n",
       "    .dataframe tbody tr th:only-of-type {\n",
       "        vertical-align: middle;\n",
       "    }\n",
       "\n",
       "    .dataframe tbody tr th {\n",
       "        vertical-align: top;\n",
       "    }\n",
       "\n",
       "    .dataframe thead th {\n",
       "        text-align: right;\n",
       "    }\n",
       "</style>\n",
       "<table border=\"1\" class=\"dataframe\">\n",
       "  <thead>\n",
       "    <tr style=\"text-align: right;\">\n",
       "      <th>Population density</th>\n",
       "      <th>lowest effect</th>\n",
       "      <th>middle low</th>\n",
       "      <th>median</th>\n",
       "      <th>middle high</th>\n",
       "      <th>highest effect</th>\n",
       "      <th>Insurer</th>\n",
       "    </tr>\n",
       "  </thead>\n",
       "  <tbody>\n",
       "    <tr>\n",
       "      <th>Lowest density</th>\n",
       "      <td>17.4</td>\n",
       "      <td>33.0</td>\n",
       "      <td>34.2</td>\n",
       "      <td>10.2</td>\n",
       "      <td>5.2</td>\n",
       "      <td>State Farm</td>\n",
       "    </tr>\n",
       "    <tr>\n",
       "      <th>Lower density</th>\n",
       "      <td>34.3</td>\n",
       "      <td>29.7</td>\n",
       "      <td>22.3</td>\n",
       "      <td>11.7</td>\n",
       "      <td>2.1</td>\n",
       "      <td>State Farm</td>\n",
       "    </tr>\n",
       "    <tr>\n",
       "      <th>Middle density</th>\n",
       "      <td>28.3</td>\n",
       "      <td>19.0</td>\n",
       "      <td>19.7</td>\n",
       "      <td>21.0</td>\n",
       "      <td>12.0</td>\n",
       "      <td>State Farm</td>\n",
       "    </tr>\n",
       "    <tr>\n",
       "      <th>Higher density</th>\n",
       "      <td>13.4</td>\n",
       "      <td>11.7</td>\n",
       "      <td>13.9</td>\n",
       "      <td>29.2</td>\n",
       "      <td>31.8</td>\n",
       "      <td>State Farm</td>\n",
       "    </tr>\n",
       "    <tr>\n",
       "      <th>Highest density</th>\n",
       "      <td>6.8</td>\n",
       "      <td>6.6</td>\n",
       "      <td>9.9</td>\n",
       "      <td>27.8</td>\n",
       "      <td>49.0</td>\n",
       "      <td>State Farm</td>\n",
       "    </tr>\n",
       "  </tbody>\n",
       "</table>\n",
       "</div>"
      ],
      "text/plain": [
       "Population density  lowest effect  middle low  median  middle high  \\\n",
       "Lowest density               17.4        33.0    34.2         10.2   \n",
       "Lower density                34.3        29.7    22.3         11.7   \n",
       "Middle density               28.3        19.0    19.7         21.0   \n",
       "Higher density               13.4        11.7    13.9         29.2   \n",
       "Highest density               6.8         6.6     9.9         27.8   \n",
       "\n",
       "Population density  highest effect     Insurer  \n",
       "Lowest density                 5.2  State Farm  \n",
       "Lower density                  2.1  State Farm  \n",
       "Middle density                12.0  State Farm  \n",
       "Higher density                31.8  State Farm  \n",
       "Highest density               49.0  State Farm  "
      ]
     },
     "execution_count": 36,
     "metadata": {},
     "output_type": "execute_result"
    }
   ],
   "source": [
    "%run ../00_misc/helper-func-notebook.ipynb\n",
    "df_export = datawrapper_pop_density_distribution(df_density_quintile, \"State Farm\")\n",
    "df_export.to_csv(\"./outputs/statefarm_pop_density_chart_data.csv\")\n",
    "df_export"
   ]
  },
  {
   "cell_type": "markdown",
   "id": "375a4bc3-5436-4cea-aeb9-a67d870211a0",
   "metadata": {},
   "source": [
    "## Exclude Detroit\n",
    "\n",
    "I average the rates by geographic id to avoid double counting "
   ]
  },
  {
   "cell_type": "code",
   "execution_count": 37,
   "id": "76da9c66-c4e7-4d80-a202-233a3fa3198b",
   "metadata": {},
   "outputs": [],
   "source": [
    "gdf_groupby_geo_id = (\n",
    "    gdf[~gdf[\"is_in_detroit\"]].groupby(\"geo_id\")[GEOID_GROUP_BY_COLS].mean()\n",
    ")\n",
    "\n",
    "gdf_groupby_geo_id[\"effect_quantile\"] = pd.qcut(\n",
    "    gdf_groupby_geo_id[\"generic_location_based_premium\"],\n",
    "    q=len(RATE_Q_LABELS),\n",
    "    labels=RATE_Q_LABELS,\n",
    ")"
   ]
  },
  {
   "cell_type": "code",
   "execution_count": 38,
   "id": "6bc698b1-0679-429f-b472-bb6549256225",
   "metadata": {},
   "outputs": [
    {
     "name": "stdout",
     "output_type": "stream",
     "text": [
      "This calculates (group subset in quantile / total group population)\n"
     ]
    },
    {
     "data": {
      "text/html": [
       "<div>\n",
       "<style scoped>\n",
       "    .dataframe tbody tr th:only-of-type {\n",
       "        vertical-align: middle;\n",
       "    }\n",
       "\n",
       "    .dataframe tbody tr th {\n",
       "        vertical-align: top;\n",
       "    }\n",
       "\n",
       "    .dataframe thead th {\n",
       "        text-align: right;\n",
       "    }\n",
       "</style>\n",
       "<table border=\"1\" class=\"dataframe\">\n",
       "  <thead>\n",
       "    <tr style=\"text-align: right;\">\n",
       "      <th></th>\n",
       "      <th>black_tot</th>\n",
       "      <th>white_tot</th>\n",
       "      <th>total_pop</th>\n",
       "    </tr>\n",
       "    <tr>\n",
       "      <th>effect_quantile</th>\n",
       "      <th></th>\n",
       "      <th></th>\n",
       "      <th></th>\n",
       "    </tr>\n",
       "  </thead>\n",
       "  <tbody>\n",
       "    <tr>\n",
       "      <th>lowest effect</th>\n",
       "      <td>7.9</td>\n",
       "      <td>23.4</td>\n",
       "      <td>21.9</td>\n",
       "    </tr>\n",
       "    <tr>\n",
       "      <th>middle low</th>\n",
       "      <td>8.6</td>\n",
       "      <td>22.0</td>\n",
       "      <td>20.2</td>\n",
       "    </tr>\n",
       "    <tr>\n",
       "      <th>median</th>\n",
       "      <td>12.7</td>\n",
       "      <td>20.7</td>\n",
       "      <td>19.7</td>\n",
       "    </tr>\n",
       "    <tr>\n",
       "      <th>middle high</th>\n",
       "      <td>18.5</td>\n",
       "      <td>19.1</td>\n",
       "      <td>19.5</td>\n",
       "    </tr>\n",
       "    <tr>\n",
       "      <th>highest effect</th>\n",
       "      <td>52.3</td>\n",
       "      <td>14.8</td>\n",
       "      <td>18.8</td>\n",
       "    </tr>\n",
       "  </tbody>\n",
       "</table>\n",
       "</div>"
      ],
      "text/plain": [
       "                 black_tot  white_tot  total_pop\n",
       "effect_quantile                                 \n",
       "lowest effect          7.9       23.4       21.9\n",
       "middle low             8.6       22.0       20.2\n",
       "median                12.7       20.7       19.7\n",
       "middle high           18.5       19.1       19.5\n",
       "highest effect        52.3       14.8       18.8"
      ]
     },
     "execution_count": 38,
     "metadata": {},
     "output_type": "execute_result"
    }
   ],
   "source": [
    "gdf_groupby_quantiles = gdf_groupby_geo_id.groupby(\"effect_quantile\", observed=False)[\n",
    "    QUANTILE_GROUP_BY_COLS\n",
    "].sum()\n",
    "\n",
    "\n",
    "print(\"This calculates (group subset in quantile / total group population)\")\n",
    "df_distribution = prptn_to_pct(\n",
    "    gdf_groupby_quantiles.div(gdf_groupby_quantiles.sum(axis=0), axis=1)\n",
    ")\n",
    "df_distribution"
   ]
  },
  {
   "cell_type": "markdown",
   "id": "0968af0b-4965-4c88-a167-85fd5cdb483a",
   "metadata": {},
   "source": [
    "## Different quantile approaches\n",
    "\n",
    "These are the results for different approaches to categorizing and analyzing the data into quantiles."
   ]
  },
  {
   "cell_type": "markdown",
   "id": "e5abe009-4716-4ff5-9aaf-bffa1750d768",
   "metadata": {},
   "source": [
    "### Drop quartile duplicate entries"
   ]
  },
  {
   "cell_type": "code",
   "execution_count": 39,
   "id": "55c277c6-a70b-480a-bcf3-9831413e55da",
   "metadata": {},
   "outputs": [
    {
     "name": "stdout",
     "output_type": "stream",
     "text": [
      "After dropping duplicates within the quartiles, 0.7087243656586723 percent blocks are categorized in to multiple quartiles\n"
     ]
    }
   ],
   "source": [
    "gdf[\"effect_quantile\"] = pd.qcut(\n",
    "    gdf[\"generic_location_based_premium\"], q=len(RATE_Q_LABELS), labels=RATE_Q_LABELS\n",
    ")\n",
    "gdf_temp = gdf[QUARTILE_ANALYSIS_COLS]\n",
    "gdf_temp = gdf_temp.drop_duplicates([\"geo_id\", \"effect_quantile\"])\n",
    "duplicated_pct = gdf_temp[\"geo_id\"].duplicated().sum() / gdf_temp[\"geo_id\"].nunique()\n",
    "print(\n",
    "    f\"After dropping duplicates within the quartiles, {duplicated_pct} percent blocks are categorized in to multiple quartiles\"\n",
    ")"
   ]
  },
  {
   "cell_type": "code",
   "execution_count": 40,
   "id": "37824d6b-f7fc-45d5-b009-a50f38af4a0c",
   "metadata": {},
   "outputs": [
    {
     "data": {
      "text/html": [
       "<div>\n",
       "<style scoped>\n",
       "    .dataframe tbody tr th:only-of-type {\n",
       "        vertical-align: middle;\n",
       "    }\n",
       "\n",
       "    .dataframe tbody tr th {\n",
       "        vertical-align: top;\n",
       "    }\n",
       "\n",
       "    .dataframe thead th {\n",
       "        text-align: right;\n",
       "    }\n",
       "</style>\n",
       "<table border=\"1\" class=\"dataframe\">\n",
       "  <thead>\n",
       "    <tr style=\"text-align: right;\">\n",
       "      <th></th>\n",
       "      <th>black_tot</th>\n",
       "      <th>white_tot</th>\n",
       "      <th>total_pop</th>\n",
       "    </tr>\n",
       "    <tr>\n",
       "      <th>effect_quantile</th>\n",
       "      <th></th>\n",
       "      <th></th>\n",
       "      <th></th>\n",
       "    </tr>\n",
       "  </thead>\n",
       "  <tbody>\n",
       "    <tr>\n",
       "      <th>lowest effect</th>\n",
       "      <td>0.069635</td>\n",
       "      <td>0.211331</td>\n",
       "      <td>0.197814</td>\n",
       "    </tr>\n",
       "    <tr>\n",
       "      <th>middle low</th>\n",
       "      <td>0.069939</td>\n",
       "      <td>0.207285</td>\n",
       "      <td>0.190451</td>\n",
       "    </tr>\n",
       "    <tr>\n",
       "      <th>median</th>\n",
       "      <td>0.076643</td>\n",
       "      <td>0.184526</td>\n",
       "      <td>0.172314</td>\n",
       "    </tr>\n",
       "    <tr>\n",
       "      <th>middle high</th>\n",
       "      <td>0.081960</td>\n",
       "      <td>0.153823</td>\n",
       "      <td>0.146659</td>\n",
       "    </tr>\n",
       "    <tr>\n",
       "      <th>highest effect</th>\n",
       "      <td>0.701824</td>\n",
       "      <td>0.243035</td>\n",
       "      <td>0.292762</td>\n",
       "    </tr>\n",
       "  </tbody>\n",
       "</table>\n",
       "</div>"
      ],
      "text/plain": [
       "                 black_tot  white_tot  total_pop\n",
       "effect_quantile                                 \n",
       "lowest effect     0.069635   0.211331   0.197814\n",
       "middle low        0.069939   0.207285   0.190451\n",
       "median            0.076643   0.184526   0.172314\n",
       "middle high       0.081960   0.153823   0.146659\n",
       "highest effect    0.701824   0.243035   0.292762"
      ]
     },
     "execution_count": 40,
     "metadata": {},
     "output_type": "execute_result"
    }
   ],
   "source": [
    "gdf_temp = gdf_temp.groupby(\"effect_quantile\", observed=False)[\n",
    "    QUANTILE_GROUP_BY_COLS\n",
    "].sum()\n",
    "\n",
    "gdf_temp.div(gdf_temp.sum(axis=0), axis=1)"
   ]
  },
  {
   "cell_type": "markdown",
   "id": "0ce659d8-1f90-45dc-9efa-a59cc4460efc",
   "metadata": {},
   "source": [
    "### Drop all duplicates"
   ]
  },
  {
   "cell_type": "code",
   "execution_count": 41,
   "id": "e9e6f6c2-230b-4775-a473-32d87457b66f",
   "metadata": {},
   "outputs": [
    {
     "name": "stdout",
     "output_type": "stream",
     "text": [
      "After dropping duplicates within the quartiles, 0.0 percent ZCTAs are categorized in to multiple quartiles\n"
     ]
    }
   ],
   "source": [
    "gdf[\"effect_quantile\"] = pd.qcut(\n",
    "    gdf[\"generic_location_based_premium\"], q=len(RATE_Q_LABELS), labels=RATE_Q_LABELS\n",
    ")\n",
    "gdf_temp = gdf[QUARTILE_ANALYSIS_COLS]\n",
    "gdf_temp = gdf_temp.sort_values([\"generic_location_based_premium\"])\n",
    "gdf_temp = gdf_temp.drop_duplicates([\"geo_id\"])\n",
    "duplicated_pct = gdf_temp[\"geo_id\"].duplicated().sum() / gdf_temp[\"geo_id\"].nunique()\n",
    "print(\n",
    "    f\"After dropping duplicates within the quartiles, {duplicated_pct} percent ZCTAs are categorized in to multiple quartiles\"\n",
    ")"
   ]
  },
  {
   "cell_type": "code",
   "execution_count": 42,
   "id": "e71541c5-b5c0-43a8-8b3d-aeb6772372c7",
   "metadata": {},
   "outputs": [
    {
     "data": {
      "text/html": [
       "<div>\n",
       "<style scoped>\n",
       "    .dataframe tbody tr th:only-of-type {\n",
       "        vertical-align: middle;\n",
       "    }\n",
       "\n",
       "    .dataframe tbody tr th {\n",
       "        vertical-align: top;\n",
       "    }\n",
       "\n",
       "    .dataframe thead th {\n",
       "        text-align: right;\n",
       "    }\n",
       "</style>\n",
       "<table border=\"1\" class=\"dataframe\">\n",
       "  <thead>\n",
       "    <tr style=\"text-align: right;\">\n",
       "      <th></th>\n",
       "      <th>black_tot</th>\n",
       "      <th>white_tot</th>\n",
       "      <th>total_pop</th>\n",
       "    </tr>\n",
       "    <tr>\n",
       "      <th>effect_quantile</th>\n",
       "      <th></th>\n",
       "      <th></th>\n",
       "      <th></th>\n",
       "    </tr>\n",
       "  </thead>\n",
       "  <tbody>\n",
       "    <tr>\n",
       "      <th>lowest effect</th>\n",
       "      <td>0.083031</td>\n",
       "      <td>0.397953</td>\n",
       "      <td>0.348263</td>\n",
       "    </tr>\n",
       "    <tr>\n",
       "      <th>middle low</th>\n",
       "      <td>0.043271</td>\n",
       "      <td>0.152018</td>\n",
       "      <td>0.132456</td>\n",
       "    </tr>\n",
       "    <tr>\n",
       "      <th>median</th>\n",
       "      <td>0.047804</td>\n",
       "      <td>0.096869</td>\n",
       "      <td>0.090546</td>\n",
       "    </tr>\n",
       "    <tr>\n",
       "      <th>middle high</th>\n",
       "      <td>0.042140</td>\n",
       "      <td>0.072597</td>\n",
       "      <td>0.069504</td>\n",
       "    </tr>\n",
       "    <tr>\n",
       "      <th>highest effect</th>\n",
       "      <td>0.783753</td>\n",
       "      <td>0.280563</td>\n",
       "      <td>0.359231</td>\n",
       "    </tr>\n",
       "  </tbody>\n",
       "</table>\n",
       "</div>"
      ],
      "text/plain": [
       "                 black_tot  white_tot  total_pop\n",
       "effect_quantile                                 \n",
       "lowest effect     0.083031   0.397953   0.348263\n",
       "middle low        0.043271   0.152018   0.132456\n",
       "median            0.047804   0.096869   0.090546\n",
       "middle high       0.042140   0.072597   0.069504\n",
       "highest effect    0.783753   0.280563   0.359231"
      ]
     },
     "execution_count": 42,
     "metadata": {},
     "output_type": "execute_result"
    }
   ],
   "source": [
    "gdf_temp = gdf_temp.groupby(\"effect_quantile\", observed=False)[\n",
    "    QUANTILE_GROUP_BY_COLS\n",
    "].sum()\n",
    "gdf_temp.div(gdf_temp.sum(axis=0), axis=1)"
   ]
  }
 ],
 "metadata": {
  "kernelspec": {
   "display_name": "Python 3 (ipykernel)",
   "language": "python",
   "name": "python3"
  },
  "language_info": {
   "codemirror_mode": {
    "name": "ipython",
    "version": 3
   },
   "file_extension": ".py",
   "mimetype": "text/x-python",
   "name": "python",
   "nbconvert_exporter": "python",
   "pygments_lexer": "ipython3",
   "version": "3.11.9"
  }
 },
 "nbformat": 4,
 "nbformat_minor": 5
}
