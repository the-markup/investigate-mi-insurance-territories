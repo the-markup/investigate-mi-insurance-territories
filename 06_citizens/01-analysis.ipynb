{
 "cells": [
  {
   "cell_type": "markdown",
   "id": "200d88f3-459b-4135-8907-571eee49dcb4",
   "metadata": {},
   "source": [
    "# Citizens analysis\n",
    "\n",
    "Author: Mo Al Elew\n",
    "\n",
    "**What notebook does/produces:**\n",
    "\n",
    "Replicates and fact checks all the data findings used in publication\n",
    "\n",
    "**Approach:**\n",
    "\n",
    "The general pattern includes:\n",
    "1. Quote the relevant text\n",
    "2. Determine asserted figure to reproduce\n",
    "3. Run the operations to reproduce relevant figure\n",
    "4. Assert expected value against actual value\n",
    "5. Print the relevant text with the actual value templated in\n",
    "\n",
    "Some findings cannot be directly tested using an assertion against a single value. In those cases, I display the relevant data slice, chart, or other presentation."
   ]
  },
  {
   "cell_type": "code",
   "execution_count": 1,
   "id": "f9d37e68-6e03-4bed-9efa-e82f76900735",
   "metadata": {
    "tags": []
   },
   "outputs": [],
   "source": [
    "import geopandas as gpd\n",
    "import pandas as pd\n",
    "import seaborn as sns"
   ]
  },
  {
   "cell_type": "markdown",
   "id": "05d4c77f-c022-410d-b5eb-6008029452eb",
   "metadata": {},
   "source": [
    "# Constants and helper functions"
   ]
  },
  {
   "cell_type": "code",
   "execution_count": 2,
   "id": "7897f4b9-462b-4d1a-9d6d-1196339d9ca4",
   "metadata": {
    "tags": []
   },
   "outputs": [],
   "source": [
    "DATA_FP = \"./outputs/citizens_auto_gis.geojson\""
   ]
  },
  {
   "cell_type": "code",
   "execution_count": 3,
   "id": "aab25fab-ab0c-49b9-becc-c9c0efe16bd4",
   "metadata": {
    "tags": []
   },
   "outputs": [],
   "source": [
    "MAP_EXPORT_COLS = [\n",
    "    \"geo_id\",\n",
    "    \"geo_name\",\n",
    "    \"tot_pop\",\n",
    "    \"density\",\n",
    "    \"white_pct\",\n",
    "    \"black_pct\",\n",
    "    \"white_tot\",\n",
    "    \"black_tot\",\n",
    "    \"generic_location_based_premium\",\n",
    "    \"location_effect\",\n",
    "    \"loc_rate_div_min\",\n",
    "    \"geometry\",\n",
    "]\n",
    "\n",
    "CORRELATION_MATRIX_COLS = [\n",
    "    \"generic_location_based_premium\",\n",
    "    \"black_pct\",\n",
    "    \"white_pct\",\n",
    "    \"density\",\n",
    "    \"generic_location_based_premium\",\n",
    "]\n",
    "\n",
    "RATE_Q_LABELS = [\n",
    "    \"lowest effect\",\n",
    "    \"middle low\",\n",
    "    \"median\",\n",
    "    \"middle high\",\n",
    "    \"highest effect\",\n",
    "]\n",
    "DENSITY_Q_LABELS = [\n",
    "    \"lowest density\",\n",
    "    \"middle low\",\n",
    "    \"median\",\n",
    "    \"middle high\",\n",
    "    \"highest density\",\n",
    "]\n",
    "\n",
    "QUANTILE_GROUP_BY_COLS = [\"black_tot\", \"white_tot\", \"tot_pop\"]\n",
    "\n",
    "\n",
    "POP_BY_RACE_COLS = [\n",
    "    \"white_tot\",\n",
    "    \"black_tot\",\n",
    "    \"aian_tot\",\n",
    "    \"asian_tot\",\n",
    "    \"other_tot\",\n",
    "    \"latin_tot\",\n",
    "]\n",
    "POP_PCT_BY_RACE_COLS = [\n",
    "    \"white_pct\",\n",
    "    \"black_pct\",\n",
    "    \"aian_pct\",\n",
    "    \"asian_pct\",\n",
    "    \"other_pct\",\n",
    "    \"latin_pct\",\n",
    "]\n",
    "\n",
    "CORRELATION_COLS = [\n",
    "    \"generic_location_based_premium\",\n",
    "    \"black_pct\",\n",
    "    \"white_pct\",\n",
    "    \"density\",\n",
    "    \"generic_location_based_premium\",\n",
    "]"
   ]
  },
  {
   "cell_type": "code",
   "execution_count": 4,
   "id": "ead5822f-2c11-4b9b-a5e8-058c8d5b7f43",
   "metadata": {},
   "outputs": [],
   "source": [
    "WAYNE_COUNTY_FIPS = \"26163\"\n",
    "PROJECTED_CRS = \"EPSG:3078\"\n",
    "\n",
    "INSURER = \"Citizens\"\n",
    "\n",
    "\n",
    "def prptn_to_pct(val, precision=3):\n",
    "    return round(val, precision) * 100\n",
    "\n",
    "\n",
    "def calculate_racial_demograhics(df, area_name=\"This region\"):\n",
    "    white_pct = prptn_to_pct(df[\"white_tot\"].sum() / df[\"tot_pop\"].sum())\n",
    "    black_pct = prptn_to_pct(df[\"black_tot\"].sum() / df[\"tot_pop\"].sum())\n",
    "    print(\n",
    "        f\"{area_name} is {white_pct}% ({df['white_tot'].sum()} / {df['tot_pop'].sum()}) White and {black_pct}% ({df['black_tot'].sum()} / {df['tot_pop'].sum()}) Black.\"\n",
    "    )"
   ]
  },
  {
   "cell_type": "code",
   "execution_count": 5,
   "id": "e88de581-ae20-4996-a471-9920e4a8c5fb",
   "metadata": {
    "tags": []
   },
   "outputs": [],
   "source": [
    "%run ../00_misc/helper-func-notebook.ipynb"
   ]
  },
  {
   "cell_type": "markdown",
   "id": "fcccc975-809c-4c2b-916c-676c514ef153",
   "metadata": {},
   "source": [
    "# Read data"
   ]
  },
  {
   "cell_type": "code",
   "execution_count": 6,
   "id": "58621be1-ce40-42fa-ad29-67a9f0f44a8d",
   "metadata": {
    "tags": []
   },
   "outputs": [
    {
     "name": "stdout",
     "output_type": "stream",
     "text": [
      "<class 'geopandas.geodataframe.GeoDataFrame'>\n",
      "RangeIndex: 16318 entries, 0 to 16317\n",
      "Data columns (total 60 columns):\n",
      " #   Column                            Non-Null Count  Dtype   \n",
      "---  ------                            --------------  -----   \n",
      " 0   geo_id                            16318 non-null  object  \n",
      " 1   geo_name                          16318 non-null  object  \n",
      " 2   tot_pop                           16318 non-null  float64 \n",
      " 3   white_tot                         16318 non-null  float64 \n",
      " 4   black_tot                         16318 non-null  float64 \n",
      " 5   aian_tot                          16318 non-null  float64 \n",
      " 6   asian_tot                         16318 non-null  float64 \n",
      " 7   other_tot                         16318 non-null  float64 \n",
      " 8   latin_tot                         16318 non-null  float64 \n",
      " 9   white_pct                         16318 non-null  float64 \n",
      " 10  black_pct                         16318 non-null  float64 \n",
      " 11  aian_pct                          16318 non-null  float64 \n",
      " 12  asian_pct                         16318 non-null  float64 \n",
      " 13  other_pct                         16318 non-null  float64 \n",
      " 14  latin_pct                         16318 non-null  float64 \n",
      " 15  low_uw_market_discount            16318 non-null  object  \n",
      " 16  high_uw_market_discount           16318 non-null  object  \n",
      " 17  geography_factor_id               16318 non-null  object  \n",
      " 18  rate_bi                           16318 non-null  float64 \n",
      " 19  rate_pd                           16318 non-null  float64 \n",
      " 20  rate_csl                          16318 non-null  float64 \n",
      " 21  rate_pip_medical                  16318 non-null  float64 \n",
      " 22  rate_pip_wage                     16318 non-null  float64 \n",
      " 23  rate_attendant_care               16318 non-null  float64 \n",
      " 24  rate_um_uim_bi                    16318 non-null  float64 \n",
      " 25  rate_um_uim_csl                   16318 non-null  float64 \n",
      " 26  rate_compo                        16318 non-null  float64 \n",
      " 27  rate_compa                        16318 non-null  float64 \n",
      " 28  rate_compg                        16318 non-null  float64 \n",
      " 29  rate_compc                        16318 non-null  float64 \n",
      " 30  rate_limited_coll                 16318 non-null  float64 \n",
      " 31  rate_basic_coll                   16318 non-null  float64 \n",
      " 32  rate_broad_coll                   16318 non-null  float64 \n",
      " 33  rate_olte                         16318 non-null  float64 \n",
      " 34  rate_ace                          16318 non-null  float64 \n",
      " 35  rate_excess_electronic_equipment  16318 non-null  float64 \n",
      " 36  rate_coll_auto_loan_lease         16318 non-null  float64 \n",
      " 37  rate_mini_tort                    16318 non-null  float64 \n",
      " 38  rate_ppi                          16318 non-null  float64 \n",
      " 39  rate_mcca                         16318 non-null  float64 \n",
      " 40  rate_other_state_assessments      16318 non-null  float64 \n",
      " 41  rate_roadside_assistance          16318 non-null  float64 \n",
      " 42  uw_market_discount_code           16318 non-null  object  \n",
      " 43  rate_um_uim                       16318 non-null  float64 \n",
      " 44  rate_coll                         16318 non-null  float64 \n",
      " 45  rate_comp                         16318 non-null  float64 \n",
      " 46  rate_pip                          16318 non-null  float64 \n",
      " 47  generic_location_based_premium    16318 non-null  float64 \n",
      " 48  location_effect                   16318 non-null  float64 \n",
      " 49  company                           16318 non-null  object  \n",
      " 50  vehicle_type                      16318 non-null  object  \n",
      " 51  factor_circumvented               16318 non-null  object  \n",
      " 52  factor_name                       16318 non-null  object  \n",
      " 53  geography_factor                  16318 non-null  object  \n",
      " 54  geography_type                    16318 non-null  object  \n",
      " 55  census_block_group                16318 non-null  object  \n",
      " 56  territory                         16318 non-null  object  \n",
      " 57  is_in_detroit                     16318 non-null  bool    \n",
      " 58  density                           16318 non-null  float64 \n",
      " 59  geometry                          16318 non-null  geometry\n",
      "dtypes: bool(1), float64(44), geometry(1), object(14)\n",
      "memory usage: 7.4+ MB\n"
     ]
    }
   ],
   "source": [
    "GDF_DATA = gpd.read_file(DATA_FP)\n",
    "GDF_DATA = GDF_DATA.dropna(how=\"all\", axis=1)\n",
    "GDF_DATA.info()"
   ]
  },
  {
   "cell_type": "markdown",
   "id": "65ff7692-c2c8-43e4-ba56-4de7165236e2",
   "metadata": {},
   "source": [
    "## Preprocess\n",
    "\n",
    "Retain lowest rate for each geography"
   ]
  },
  {
   "cell_type": "code",
   "execution_count": 7,
   "id": "9afb84e2-b7e1-4ec4-ad96-fec68a6a3a1f",
   "metadata": {},
   "outputs": [],
   "source": [
    "gdf_min_rate = GDF_DATA.sort_values(\n",
    "    by=\"generic_location_based_premium\"\n",
    ").drop_duplicates(subset=[\"geo_id\"], keep=\"first\", ignore_index=True)"
   ]
  },
  {
   "cell_type": "code",
   "execution_count": 8,
   "id": "3d524784-7d7c-4dc2-9891-bce994c21270",
   "metadata": {
    "tags": []
   },
   "outputs": [],
   "source": [
    "gdf = gdf_min_rate.copy()\n",
    "assert (gdf[\"white_pct\"] <= 1).all()\n",
    "gdf[\"is_maj_white\"] = gdf[\"white_pct\"] > 0.49\n",
    "gdf[\"is_maj_black\"] = gdf[\"black_pct\"] > 0.49\n",
    "\n",
    "gdf[\"density\"] = gdf[\"tot_pop\"] / gdf.to_crs(PROJECTED_CRS).area\n",
    "\n",
    "gdf[\"is_wayne_county\"] = gdf[\"geo_id\"].str.startswith(WAYNE_COUNTY_FIPS)\n",
    "gdf_wayne = gdf[gdf[\"is_wayne_county\"]]"
   ]
  },
  {
   "cell_type": "markdown",
   "id": "edf1e830-ef65-4cab-b18c-c1dae55ca090",
   "metadata": {},
   "source": [
    "# Location effect and race correlation\n",
    "\n",
    "> Generally, as the proportion of Black residents increased in a Citizens territory, so did its location effect. Likewise, as the proportion of White residents in a territory increased, its location effect tended to decrease.\n",
    "\n",
    "Correlation coefficients ranging between 0.40-0.70 are [categorized as strong for social sciences](https://www.ncbi.nlm.nih.gov/pmc/articles/PMC6107969/)."
   ]
  },
  {
   "cell_type": "code",
   "execution_count": 9,
   "id": "8615945e-68ce-4b10-bcb1-09d9a76137a2",
   "metadata": {},
   "outputs": [],
   "source": [
    "def calculate_correlation_coeff(df, method=\"pearson\"):\n",
    "    CORR_COEFF_ROUNDING_PRECISION = 3\n",
    "    return round(\n",
    "        df.corr(method=method).iloc[0, 1],\n",
    "        CORR_COEFF_ROUNDING_PRECISION,\n",
    "    )"
   ]
  },
  {
   "cell_type": "code",
   "execution_count": 10,
   "id": "bb559cbd-6b95-4b42-89dd-809ef564ccd8",
   "metadata": {},
   "outputs": [
    {
     "data": {
      "text/html": [
       "<div>\n",
       "<style scoped>\n",
       "    .dataframe tbody tr th:only-of-type {\n",
       "        vertical-align: middle;\n",
       "    }\n",
       "\n",
       "    .dataframe tbody tr th {\n",
       "        vertical-align: top;\n",
       "    }\n",
       "\n",
       "    .dataframe thead th {\n",
       "        text-align: right;\n",
       "    }\n",
       "</style>\n",
       "<table border=\"1\" class=\"dataframe\">\n",
       "  <thead>\n",
       "    <tr style=\"text-align: right;\">\n",
       "      <th></th>\n",
       "      <th>generic_location_based_premium</th>\n",
       "      <th>black_pct</th>\n",
       "      <th>white_pct</th>\n",
       "      <th>density</th>\n",
       "      <th>generic_location_based_premium</th>\n",
       "    </tr>\n",
       "  </thead>\n",
       "  <tbody>\n",
       "    <tr>\n",
       "      <th>generic_location_based_premium</th>\n",
       "      <td>1.000000</td>\n",
       "      <td>0.529225</td>\n",
       "      <td>-0.524911</td>\n",
       "      <td>0.431783</td>\n",
       "      <td>1.000000</td>\n",
       "    </tr>\n",
       "    <tr>\n",
       "      <th>black_pct</th>\n",
       "      <td>0.529225</td>\n",
       "      <td>1.000000</td>\n",
       "      <td>-0.828121</td>\n",
       "      <td>0.539374</td>\n",
       "      <td>0.529225</td>\n",
       "    </tr>\n",
       "    <tr>\n",
       "      <th>white_pct</th>\n",
       "      <td>-0.524911</td>\n",
       "      <td>-0.828121</td>\n",
       "      <td>1.000000</td>\n",
       "      <td>-0.548540</td>\n",
       "      <td>-0.524911</td>\n",
       "    </tr>\n",
       "    <tr>\n",
       "      <th>density</th>\n",
       "      <td>0.431783</td>\n",
       "      <td>0.539374</td>\n",
       "      <td>-0.548540</td>\n",
       "      <td>1.000000</td>\n",
       "      <td>0.431783</td>\n",
       "    </tr>\n",
       "    <tr>\n",
       "      <th>generic_location_based_premium</th>\n",
       "      <td>1.000000</td>\n",
       "      <td>0.529225</td>\n",
       "      <td>-0.524911</td>\n",
       "      <td>0.431783</td>\n",
       "      <td>1.000000</td>\n",
       "    </tr>\n",
       "  </tbody>\n",
       "</table>\n",
       "</div>"
      ],
      "text/plain": [
       "                                generic_location_based_premium  black_pct  \\\n",
       "generic_location_based_premium                        1.000000   0.529225   \n",
       "black_pct                                             0.529225   1.000000   \n",
       "white_pct                                            -0.524911  -0.828121   \n",
       "density                                               0.431783   0.539374   \n",
       "generic_location_based_premium                        1.000000   0.529225   \n",
       "\n",
       "                                white_pct   density  \\\n",
       "generic_location_based_premium  -0.524911  0.431783   \n",
       "black_pct                       -0.828121  0.539374   \n",
       "white_pct                        1.000000 -0.548540   \n",
       "density                         -0.548540  1.000000   \n",
       "generic_location_based_premium  -0.524911  0.431783   \n",
       "\n",
       "                                generic_location_based_premium  \n",
       "generic_location_based_premium                        1.000000  \n",
       "black_pct                                             0.529225  \n",
       "white_pct                                            -0.524911  \n",
       "density                                               0.431783  \n",
       "generic_location_based_premium                        1.000000  "
      ]
     },
     "execution_count": 10,
     "metadata": {},
     "output_type": "execute_result"
    },
    {
     "data": {
      "image/png": "[encoded data removed]",
      "text/plain": [
       "<Figure size 1000x600 with 2 Axes>"
      ]
     },
     "metadata": {},
     "output_type": "display_data"
    }
   ],
   "source": [
    "%run ../00_misc/helper-func-notebook.ipynb\n",
    "display_correlation(gdf[CORRELATION_MATRIX_COLS], method=\"spearman\")"
   ]
  },
  {
   "cell_type": "code",
   "execution_count": 11,
   "id": "2552af86-607c-484e-a524-48c9f1bb434b",
   "metadata": {},
   "outputs": [
    {
     "data": {
      "text/plain": [
       "'The correlation coefficient between the Black population percentage and the location baed premium is 0.731'"
      ]
     },
     "execution_count": 11,
     "metadata": {},
     "output_type": "execute_result"
    }
   ],
   "source": [
    "ASSERTED_FIGURE_MIN = 0.2  # min for a non-negligible correlation coeff\n",
    "ASSERTED_FIGURE_MIN_STRONG_CORR = 0.4  # min for a strong correlation coeff\n",
    "black_pct_rate_corr_coeff = calculate_correlation_coeff(\n",
    "    gdf[[\"generic_location_based_premium\", \"black_pct\"]]\n",
    ")\n",
    "assert black_pct_rate_corr_coeff > ASSERTED_FIGURE_MIN\n",
    "assert black_pct_rate_corr_coeff > ASSERTED_FIGURE_MIN_STRONG_CORR\n",
    "f\"The correlation coefficient between the Black population percentage and the location baed premium is {black_pct_rate_corr_coeff}\""
   ]
  },
  {
   "cell_type": "code",
   "execution_count": 12,
   "id": "041b119b-f73a-4628-b5e3-3ae71995b6db",
   "metadata": {},
   "outputs": [
    {
     "data": {
      "text/plain": [
       "'The correlation coefficient between the White population percentage and the location based premium is -0.737'"
      ]
     },
     "execution_count": 12,
     "metadata": {},
     "output_type": "execute_result"
    }
   ],
   "source": [
    "white_pct_rate_corr_coeff = calculate_correlation_coeff(\n",
    "    gdf[[\"generic_location_based_premium\", \"white_pct\"]]\n",
    ")\n",
    "assert white_pct_rate_corr_coeff < -1 * ASSERTED_FIGURE_MIN\n",
    "assert white_pct_rate_corr_coeff < -1 * ASSERTED_FIGURE_MIN_STRONG_CORR\n",
    "f\"The correlation coefficient between the White population percentage and the location based premium is {white_pct_rate_corr_coeff}\""
   ]
  },
  {
   "cell_type": "markdown",
   "id": "74b6d1c3-297b-4246-9ca1-1e5dcc466bd2",
   "metadata": {},
   "source": [
    "# Effect quantiles\n"
   ]
  },
  {
   "cell_type": "code",
   "execution_count": 13,
   "id": "6a8c9240-7b81-4398-a335-f490acd2b4d4",
   "metadata": {},
   "outputs": [],
   "source": [
    "gdf[\"effect_quantile\"] = pd.qcut(\n",
    "    gdf[\"generic_location_based_premium\"], q=len(RATE_Q_LABELS), labels=RATE_Q_LABELS\n",
    ")\n",
    "gdf[\"density_quantile\"] = pd.qcut(\n",
    "    gdf[\"density\"], q=len(DENSITY_Q_LABELS), labels=DENSITY_Q_LABELS\n",
    ")"
   ]
  },
  {
   "cell_type": "markdown",
   "id": "ab8efd12-07b8-4a96-91fa-05fd52802697",
   "metadata": {},
   "source": [
    "## Race\n",
    "\n",
    "> Fifteen percent of residents lived in territories with location effects among the top quintile of the state. Seven percent of White Michiganders and 57 percent of Black Michiganders lived in those territories."
   ]
  },
  {
   "cell_type": "code",
   "execution_count": 14,
   "id": "5dbc5c4c-8f52-45ed-a8df-d38ef326ca09",
   "metadata": {},
   "outputs": [
    {
     "data": {
      "text/html": [
       "<div>\n",
       "<style scoped>\n",
       "    .dataframe tbody tr th:only-of-type {\n",
       "        vertical-align: middle;\n",
       "    }\n",
       "\n",
       "    .dataframe tbody tr th {\n",
       "        vertical-align: top;\n",
       "    }\n",
       "\n",
       "    .dataframe thead th {\n",
       "        text-align: right;\n",
       "    }\n",
       "</style>\n",
       "<table border=\"1\" class=\"dataframe\">\n",
       "  <thead>\n",
       "    <tr style=\"text-align: right;\">\n",
       "      <th></th>\n",
       "      <th>black_tot</th>\n",
       "      <th>white_tot</th>\n",
       "      <th>tot_pop</th>\n",
       "    </tr>\n",
       "    <tr>\n",
       "      <th>effect_quantile</th>\n",
       "      <th></th>\n",
       "      <th></th>\n",
       "      <th></th>\n",
       "    </tr>\n",
       "  </thead>\n",
       "  <tbody>\n",
       "    <tr>\n",
       "      <th>lowest effect</th>\n",
       "      <td>5.3</td>\n",
       "      <td>24.8</td>\n",
       "      <td>21.6</td>\n",
       "    </tr>\n",
       "    <tr>\n",
       "      <th>middle low</th>\n",
       "      <td>8.0</td>\n",
       "      <td>23.9</td>\n",
       "      <td>21.3</td>\n",
       "    </tr>\n",
       "    <tr>\n",
       "      <th>median</th>\n",
       "      <td>9.7</td>\n",
       "      <td>23.4</td>\n",
       "      <td>21.2</td>\n",
       "    </tr>\n",
       "    <tr>\n",
       "      <th>middle high</th>\n",
       "      <td>20.0</td>\n",
       "      <td>21.0</td>\n",
       "      <td>21.2</td>\n",
       "    </tr>\n",
       "    <tr>\n",
       "      <th>highest effect</th>\n",
       "      <td>57.0</td>\n",
       "      <td>6.9</td>\n",
       "      <td>14.8</td>\n",
       "    </tr>\n",
       "  </tbody>\n",
       "</table>\n",
       "</div>"
      ],
      "text/plain": [
       "                 black_tot  white_tot  tot_pop\n",
       "effect_quantile                               \n",
       "lowest effect          5.3       24.8     21.6\n",
       "middle low             8.0       23.9     21.3\n",
       "median                 9.7       23.4     21.2\n",
       "middle high           20.0       21.0     21.2\n",
       "highest effect        57.0        6.9     14.8"
      ]
     },
     "execution_count": 14,
     "metadata": {},
     "output_type": "execute_result"
    }
   ],
   "source": [
    "gdf_groupby_quantiles = gdf.groupby(\"effect_quantile\", observed=False)[\n",
    "    QUANTILE_GROUP_BY_COLS\n",
    "].sum()\n",
    "df_distribution = prptn_to_pct(\n",
    "    gdf_groupby_quantiles.div(gdf_groupby_quantiles.sum(axis=0), axis=1)\n",
    ")\n",
    "df_distribution"
   ]
  },
  {
   "cell_type": "markdown",
   "id": "757752f0-055b-4c94-a1a7-3379e9f3f02a",
   "metadata": {},
   "source": [
    "Stacker bar chart draft"
   ]
  },
  {
   "cell_type": "code",
   "execution_count": 15,
   "id": "3ad950fa-ca4f-4685-9e25-922c86d27489",
   "metadata": {},
   "outputs": [
    {
     "data": {
      "text/html": [
       "\n",
       "<style>\n",
       "  #altair-viz-f72d865851aa477293463a7a007d0b69.vega-embed {\n",
       "    width: 100%;\n",
       "    display: flex;\n",
       "  }\n",
       "\n",
       "  #altair-viz-f72d865851aa477293463a7a007d0b69.vega-embed details,\n",
       "  #altair-viz-f72d865851aa477293463a7a007d0b69.vega-embed details summary {\n",
       "    position: relative;\n",
       "  }\n",
       "</style>\n",
       "<div id=\"altair-viz-f72d865851aa477293463a7a007d0b69\"></div>\n",
       "<script type=\"text/javascript\">\n",
       "  var VEGA_DEBUG = (typeof VEGA_DEBUG == \"undefined\") ? {} : VEGA_DEBUG;\n",
       "  (function(spec, embedOpt){\n",
       "    let outputDiv = document.currentScript.previousElementSibling;\n",
       "    if (outputDiv.id !== \"altair-viz-f72d865851aa477293463a7a007d0b69\") {\n",
       "      outputDiv = document.getElementById(\"altair-viz-f72d865851aa477293463a7a007d0b69\");\n",
       "    }\n",
       "    const paths = {\n",
       "      \"vega\": \"https://cdn.jsdelivr.net/npm/vega@5?noext\",\n",
       "      \"vega-lib\": \"https://cdn.jsdelivr.net/npm/vega-lib?noext\",\n",
       "      \"vega-lite\": \"https://cdn.jsdelivr.net/npm/vega-lite@5.17.0?noext\",\n",
       "      \"vega-embed\": \"https://cdn.jsdelivr.net/npm/vega-embed@6?noext\",\n",
       "    };\n",
       "\n",
       "    function maybeLoadScript(lib, version) {\n",
       "      var key = `${lib.replace(\"-\", \"\")}_version`;\n",
       "      return (VEGA_DEBUG[key] == version) ?\n",
       "        Promise.resolve(paths[lib]) :\n",
       "        new Promise(function(resolve, reject) {\n",
       "          var s = document.createElement('script');\n",
       "          document.getElementsByTagName(\"head\")[0].appendChild(s);\n",
       "          s.async = true;\n",
       "          s.onload = () => {\n",
       "            VEGA_DEBUG[key] = version;\n",
       "            return resolve(paths[lib]);\n",
       "          };\n",
       "          s.onerror = () => reject(`Error loading script: ${paths[lib]}`);\n",
       "          s.src = paths[lib];\n",
       "        });\n",
       "    }\n",
       "\n",
       "    function showError(err) {\n",
       "      outputDiv.innerHTML = `<div class=\"error\" style=\"color:red;\">${err}</div>`;\n",
       "      throw err;\n",
       "    }\n",
       "\n",
       "    function displayChart(vegaEmbed) {\n",
       "      vegaEmbed(outputDiv, spec, embedOpt)\n",
       "        .catch(err => showError(`Javascript Error: ${err.message}<br>This usually means there's a typo in your chart specification. See the javascript console for the full traceback.`));\n",
       "    }\n",
       "\n",
       "    if(typeof define === \"function\" && define.amd) {\n",
       "      requirejs.config({paths});\n",
       "      require([\"vega-embed\"], displayChart, err => showError(`Error loading script: ${err.message}`));\n",
       "    } else {\n",
       "      maybeLoadScript(\"vega\", \"5\")\n",
       "        .then(() => maybeLoadScript(\"vega-lite\", \"5.17.0\"))\n",
       "        .then(() => maybeLoadScript(\"vega-embed\", \"6\"))\n",
       "        .catch(showError)\n",
       "        .then(() => displayChart(vegaEmbed));\n",
       "    }\n",
       "  })({\"config\": {\"view\": {\"continuousWidth\": 300, \"continuousHeight\": 300}}, \"data\": {\"name\": \"data-5ce8b3952e0e60eb970d1f7969800eec\"}, \"mark\": {\"type\": \"bar\"}, \"encoding\": {\"color\": {\"field\": \"Effect quintile\", \"sort\": [\"lowest effect\", \"middle low\", \"median\", \"middle high\", \"highest effect\"], \"type\": \"ordinal\"}, \"order\": {\"field\": \"color_Effect_quintile_sort_index\", \"type\": \"quantitative\"}, \"x\": {\"field\": \"Percent\", \"type\": \"quantitative\"}, \"y\": {\"field\": \"Population group\", \"sort\": [\"Total population\", \"White population\", \"Black population\"], \"type\": \"nominal\"}}, \"height\": 500, \"title\": \"Citizens\", \"width\": 500, \"$schema\": \"https://vega.github.io/schema/vega-lite/v5.17.0.json\", \"datasets\": {\"data-5ce8b3952e0e60eb970d1f7969800eec\": [{\"Effect quintile\": \"lowest effect\", \"Population group\": \"Black population\", \"Percent\": 5.3}, {\"Effect quintile\": \"middle low\", \"Population group\": \"Black population\", \"Percent\": 8.0}, {\"Effect quintile\": \"median\", \"Population group\": \"Black population\", \"Percent\": 9.700000000000001}, {\"Effect quintile\": \"middle high\", \"Population group\": \"Black population\", \"Percent\": 20.0}, {\"Effect quintile\": \"highest effect\", \"Population group\": \"Black population\", \"Percent\": 56.99999999999999}, {\"Effect quintile\": \"lowest effect\", \"Population group\": \"White population\", \"Percent\": 24.8}, {\"Effect quintile\": \"middle low\", \"Population group\": \"White population\", \"Percent\": 23.9}, {\"Effect quintile\": \"median\", \"Population group\": \"White population\", \"Percent\": 23.400000000000002}, {\"Effect quintile\": \"middle high\", \"Population group\": \"White population\", \"Percent\": 21.0}, {\"Effect quintile\": \"highest effect\", \"Population group\": \"White population\", \"Percent\": 6.9}, {\"Effect quintile\": \"lowest effect\", \"Population group\": \"Total population\", \"Percent\": 21.6}, {\"Effect quintile\": \"middle low\", \"Population group\": \"Total population\", \"Percent\": 21.3}, {\"Effect quintile\": \"median\", \"Population group\": \"Total population\", \"Percent\": 21.2}, {\"Effect quintile\": \"middle high\", \"Population group\": \"Total population\", \"Percent\": 21.2}, {\"Effect quintile\": \"highest effect\", \"Population group\": \"Total population\", \"Percent\": 14.799999999999999}]}}, {\"mode\": \"vega-lite\"});\n",
       "</script>"
      ],
      "text/plain": [
       "alt.Chart(...)"
      ]
     },
     "execution_count": 15,
     "metadata": {},
     "output_type": "execute_result"
    }
   ],
   "source": [
    "%run ../00_misc/helper-func-notebook.ipynb\n",
    "stacked_quintile_chart = stacked_race_hbar(df_distribution, \"Citizens\")\n",
    "stacked_quintile_chart.save(\"../00_misc/charts/citizens_population_quintile.png\")\n",
    "stacked_quintile_chart"
   ]
  },
  {
   "cell_type": "markdown",
   "id": "54b1ec17-6a8a-48e0-a48b-58a140e24cc4",
   "metadata": {},
   "source": [
    "# Wayne County"
   ]
  },
  {
   "cell_type": "markdown",
   "id": "5e7c0c0f-e890-42c7-8436-03df7a8d0da6",
   "metadata": {},
   "source": [
    "## Location effect and race correlation\n",
    "\n",
    "> Wayne County roughly matched the statewide trend of higher location effects, on average, for block groups with higher Black populations. The county also showed a significantly stronger trend of White block groups with lower location effects than the state as a whole."
   ]
  },
  {
   "cell_type": "code",
   "execution_count": 16,
   "id": "495d76d5-12ab-4a99-aa49-a4ae5ea92837",
   "metadata": {},
   "outputs": [
    {
     "data": {
      "text/html": [
       "<div>\n",
       "<style scoped>\n",
       "    .dataframe tbody tr th:only-of-type {\n",
       "        vertical-align: middle;\n",
       "    }\n",
       "\n",
       "    .dataframe tbody tr th {\n",
       "        vertical-align: top;\n",
       "    }\n",
       "\n",
       "    .dataframe thead th {\n",
       "        text-align: right;\n",
       "    }\n",
       "</style>\n",
       "<table border=\"1\" class=\"dataframe\">\n",
       "  <thead>\n",
       "    <tr style=\"text-align: right;\">\n",
       "      <th></th>\n",
       "      <th>generic_location_based_premium</th>\n",
       "      <th>black_pct</th>\n",
       "      <th>white_pct</th>\n",
       "      <th>density</th>\n",
       "      <th>generic_location_based_premium</th>\n",
       "    </tr>\n",
       "  </thead>\n",
       "  <tbody>\n",
       "    <tr>\n",
       "      <th>generic_location_based_premium</th>\n",
       "      <td>1.000000</td>\n",
       "      <td>0.691880</td>\n",
       "      <td>-0.767814</td>\n",
       "      <td>0.176738</td>\n",
       "      <td>1.000000</td>\n",
       "    </tr>\n",
       "    <tr>\n",
       "      <th>black_pct</th>\n",
       "      <td>0.691880</td>\n",
       "      <td>1.000000</td>\n",
       "      <td>-0.908930</td>\n",
       "      <td>0.079531</td>\n",
       "      <td>0.691880</td>\n",
       "    </tr>\n",
       "    <tr>\n",
       "      <th>white_pct</th>\n",
       "      <td>-0.767814</td>\n",
       "      <td>-0.908930</td>\n",
       "      <td>1.000000</td>\n",
       "      <td>-0.094022</td>\n",
       "      <td>-0.767814</td>\n",
       "    </tr>\n",
       "    <tr>\n",
       "      <th>density</th>\n",
       "      <td>0.176738</td>\n",
       "      <td>0.079531</td>\n",
       "      <td>-0.094022</td>\n",
       "      <td>1.000000</td>\n",
       "      <td>0.176738</td>\n",
       "    </tr>\n",
       "    <tr>\n",
       "      <th>generic_location_based_premium</th>\n",
       "      <td>1.000000</td>\n",
       "      <td>0.691880</td>\n",
       "      <td>-0.767814</td>\n",
       "      <td>0.176738</td>\n",
       "      <td>1.000000</td>\n",
       "    </tr>\n",
       "  </tbody>\n",
       "</table>\n",
       "</div>"
      ],
      "text/plain": [
       "                                generic_location_based_premium  black_pct  \\\n",
       "generic_location_based_premium                        1.000000   0.691880   \n",
       "black_pct                                             0.691880   1.000000   \n",
       "white_pct                                            -0.767814  -0.908930   \n",
       "density                                               0.176738   0.079531   \n",
       "generic_location_based_premium                        1.000000   0.691880   \n",
       "\n",
       "                                white_pct   density  \\\n",
       "generic_location_based_premium  -0.767814  0.176738   \n",
       "black_pct                       -0.908930  0.079531   \n",
       "white_pct                        1.000000 -0.094022   \n",
       "density                         -0.094022  1.000000   \n",
       "generic_location_based_premium  -0.767814  0.176738   \n",
       "\n",
       "                                generic_location_based_premium  \n",
       "generic_location_based_premium                        1.000000  \n",
       "black_pct                                             0.691880  \n",
       "white_pct                                            -0.767814  \n",
       "density                                               0.176738  \n",
       "generic_location_based_premium                        1.000000  "
      ]
     },
     "execution_count": 16,
     "metadata": {},
     "output_type": "execute_result"
    },
    {
     "data": {
      "image/png": "[encoded data removed]",
      "text/plain": [
       "<Figure size 1000x600 with 2 Axes>"
      ]
     },
     "metadata": {},
     "output_type": "display_data"
    }
   ],
   "source": [
    "%run ../00_misc/helper-func-notebook.ipynb\n",
    "display_correlation(gdf_wayne[CORRELATION_MATRIX_COLS], method=\"spearman\")"
   ]
  },
  {
   "cell_type": "markdown",
   "id": "a902d2e9-b81a-42db-8c4b-ce7b9a51f488",
   "metadata": {},
   "source": [
    "## Effect quantiles\n",
    "\n",
    "> Almost half of Wayne County’s residents lived in a territory with a location effect in the top quintile of the state. Within the county, 20 percent White residents and 85 percent of Black residents lived in one of these territories."
   ]
  },
  {
   "cell_type": "code",
   "execution_count": 17,
   "id": "5cb5ac1a-846b-4235-a65d-bac2eeb42506",
   "metadata": {},
   "outputs": [
    {
     "data": {
      "text/html": [
       "<div>\n",
       "<style scoped>\n",
       "    .dataframe tbody tr th:only-of-type {\n",
       "        vertical-align: middle;\n",
       "    }\n",
       "\n",
       "    .dataframe tbody tr th {\n",
       "        vertical-align: top;\n",
       "    }\n",
       "\n",
       "    .dataframe thead th {\n",
       "        text-align: right;\n",
       "    }\n",
       "</style>\n",
       "<table border=\"1\" class=\"dataframe\">\n",
       "  <thead>\n",
       "    <tr style=\"text-align: right;\">\n",
       "      <th></th>\n",
       "      <th>black_tot</th>\n",
       "      <th>white_tot</th>\n",
       "      <th>tot_pop</th>\n",
       "    </tr>\n",
       "    <tr>\n",
       "      <th>effect_quantile</th>\n",
       "      <th></th>\n",
       "      <th></th>\n",
       "      <th></th>\n",
       "    </tr>\n",
       "  </thead>\n",
       "  <tbody>\n",
       "    <tr>\n",
       "      <th>lowest effect</th>\n",
       "      <td>0.2</td>\n",
       "      <td>7.6</td>\n",
       "      <td>4.2</td>\n",
       "    </tr>\n",
       "    <tr>\n",
       "      <th>middle low</th>\n",
       "      <td>1.3</td>\n",
       "      <td>16.7</td>\n",
       "      <td>10.1</td>\n",
       "    </tr>\n",
       "    <tr>\n",
       "      <th>median</th>\n",
       "      <td>3.9</td>\n",
       "      <td>24.4</td>\n",
       "      <td>15.8</td>\n",
       "    </tr>\n",
       "    <tr>\n",
       "      <th>middle high</th>\n",
       "      <td>10.0</td>\n",
       "      <td>31.1</td>\n",
       "      <td>21.9</td>\n",
       "    </tr>\n",
       "    <tr>\n",
       "      <th>highest effect</th>\n",
       "      <td>84.7</td>\n",
       "      <td>20.2</td>\n",
       "      <td>48.0</td>\n",
       "    </tr>\n",
       "  </tbody>\n",
       "</table>\n",
       "</div>"
      ],
      "text/plain": [
       "                 black_tot  white_tot  tot_pop\n",
       "effect_quantile                               \n",
       "lowest effect          0.2        7.6      4.2\n",
       "middle low             1.3       16.7     10.1\n",
       "median                 3.9       24.4     15.8\n",
       "middle high           10.0       31.1     21.9\n",
       "highest effect        84.7       20.2     48.0"
      ]
     },
     "execution_count": 17,
     "metadata": {},
     "output_type": "execute_result"
    }
   ],
   "source": [
    "gdf_wayne_groupby_state_quantiles = (\n",
    "    gdf[gdf[\"is_wayne_county\"]]\n",
    "    .groupby(\"effect_quantile\", observed=False)[QUANTILE_GROUP_BY_COLS]\n",
    "    .sum()\n",
    ")\n",
    "prptn_to_pct(\n",
    "    gdf_wayne_groupby_state_quantiles.div(\n",
    "        gdf_wayne_groupby_state_quantiles.sum(axis=0), axis=1\n",
    "    )\n",
    ")"
   ]
  },
  {
   "cell_type": "markdown",
   "id": "7b00bc34-7771-4c12-ae94-9c856a953f0f",
   "metadata": {},
   "source": [
    "# Nearest neighbor"
   ]
  },
  {
   "cell_type": "code",
   "execution_count": 18,
   "id": "163bfdc6-3172-4ba3-8089-b2fb4b4fa1c4",
   "metadata": {},
   "outputs": [],
   "source": [
    "def loc_rate_from_geo_id(geo_id, gdf=gdf):\n",
    "    return gdf[\"geo_id\"] == geo_id"
   ]
  },
  {
   "cell_type": "code",
   "execution_count": 19,
   "id": "779170ed-172a-4c47-8f81-0cbc790a167e",
   "metadata": {},
   "outputs": [],
   "source": [
    "def filter_for_neighbors(neighbors, gdf=gdf):\n",
    "    return gdf[gdf[\"geo_id\"].isin(neighbors)]"
   ]
  },
  {
   "cell_type": "code",
   "execution_count": 20,
   "id": "1d057829-e744-4471-8f97-fb1c1795482a",
   "metadata": {},
   "outputs": [],
   "source": [
    "def filter_neighoring_rate(row, filter_func):\n",
    "    gdf_neighbors = filter_for_neighbors(row, gdf=gdf)\n",
    "    val = filter_func(gdf_neighbors[\"generic_location_based_premium\"])\n",
    "    geo_id = list(\n",
    "        gdf_neighbors[gdf_neighbors[\"generic_location_based_premium\"] == val][\"geo_id\"]\n",
    "    )\n",
    "    return geo_id, val"
   ]
  },
  {
   "cell_type": "code",
   "execution_count": 21,
   "id": "46cf07b5-3049-479d-a80b-a7544685d9b5",
   "metadata": {},
   "outputs": [],
   "source": [
    "def min_neighboring_rate(row):\n",
    "    if row[\"NEIGHBORS\"]:\n",
    "        return filter_neighoring_rate(row[\"NEIGHBORS\"], min)\n",
    "    else:\n",
    "        return None"
   ]
  },
  {
   "cell_type": "code",
   "execution_count": 22,
   "id": "47d3d7ec-2b57-499d-8ca6-e4ff594c375e",
   "metadata": {},
   "outputs": [],
   "source": [
    "def neighboring_polygons(gdf):\n",
    "    # add NEIGHBORS column\n",
    "    gdf[\"NEIGHBORS\"] = None\n",
    "\n",
    "    for index, row in gdf.iterrows():\n",
    "\n",
    "        # get 'not disjoint' geometries\n",
    "        neighbors = gdf[~gdf.geometry.disjoint(row.geometry)].geo_id.tolist()\n",
    "\n",
    "        # remove self id\n",
    "        neighbors = [geo_id for geo_id in neighbors if row.geo_id != geo_id]\n",
    "\n",
    "        # add names of neighbors as NEIGHBORS value\n",
    "        gdf.at[index, \"NEIGHBORS\"] = neighbors  # \", \".join(neighbors)"
   ]
  },
  {
   "cell_type": "code",
   "execution_count": 23,
   "id": "2d876e8d-5a3f-493d-b49c-cba98b750379",
   "metadata": {},
   "outputs": [],
   "source": [
    "gdf_neighbors = gdf.copy()\n",
    "neighboring_polygons(gdf_neighbors)\n",
    "\n",
    "neighboring_min = gdf_neighbors.apply(min_neighboring_rate, axis=1)"
   ]
  },
  {
   "cell_type": "code",
   "execution_count": 24,
   "id": "067240b8-afb7-4c1f-857c-af03185fa7db",
   "metadata": {},
   "outputs": [],
   "source": [
    "gdf_neighbors[\"min_geo_id\"] = neighboring_min.map(\n",
    "    lambda x: \",\".join(x[0]) if x else None\n",
    ")\n",
    "gdf_neighbors[\"neighboring_min\"] = neighboring_min.map(lambda x: x[1] if x else None)\n",
    "gdf_neighbors[\"loc_rate_div_min\"] = (\n",
    "    gdf_neighbors[\"generic_location_based_premium\"] / gdf_neighbors[\"neighboring_min\"]\n",
    ")"
   ]
  },
  {
   "cell_type": "markdown",
   "id": "98918109-27e1-4d14-a164-709ae2fa30d5",
   "metadata": {},
   "source": [
    "## Few noteworthy gaps\n",
    "\n",
    "> There were fewer than 30 block groups that had location effects more than 50 percent higher than an adjacent block group’s location effect, so it is unlikely that a customer’s rate would be significantly different if they lived in a nearby neighborhood."
   ]
  },
  {
   "cell_type": "code",
   "execution_count": 25,
   "id": "0c0e1052-3d41-4c9f-9fa7-b1cf9a50a23b",
   "metadata": {},
   "outputs": [
    {
     "data": {
      "text/plain": [
       "'There were 28 block groups that had location effects more than 1.5 times an adjacent block group’s location effect'"
      ]
     },
     "execution_count": 25,
     "metadata": {},
     "output_type": "execute_result"
    }
   ],
   "source": [
    "ASSERTED_FIGURE_MAX = 30\n",
    "ASSERTED_RATIO = 1.5\n",
    "actual_count = (gdf_neighbors[\"loc_rate_div_min\"] > ASSERTED_RATIO).sum()\n",
    "assert actual_count < ASSERTED_FIGURE_MAX\n",
    "f\"There were {actual_count} block groups that had location effects more than {ASSERTED_RATIO} times an adjacent block group’s location effect\""
   ]
  },
  {
   "cell_type": "markdown",
   "id": "ef6e91ba-a899-4a6b-a91f-2a8c667c6912",
   "metadata": {},
   "source": [
    "## Pontiac x neighboring suburbs\n",
    "\n",
    "> For example, the northwest corner of Pontiac, Mich. showed a location effect 60 percent higher than those of its bordering suburbs."
   ]
  },
  {
   "cell_type": "code",
   "execution_count": 26,
   "id": "e6228578-cbbd-4099-a764-da9738a59ff8",
   "metadata": {},
   "outputs": [
    {
     "data": {
      "text/plain": [
       "'The northwest corner of Pontiac, Michigan has a location effect 1.57-1.66 times the one for suburbs bordering.'"
      ]
     },
     "execution_count": 26,
     "metadata": {},
     "output_type": "execute_result"
    }
   ],
   "source": [
    "ASSERTED_FIGURE = 1.6\n",
    "PONTIAC_IDS = [\"CTG\", \"CTH\", \"CTJ\", \"AHO\", \"CTU\"]\n",
    "gdf_temp = gdf_neighbors[gdf_neighbors[\"geography_factor_id\"].isin(PONTIAC_IDS)]\n",
    "assert round(gdf_temp[\"loc_rate_div_min\"].min(), 1) >= ASSERTED_FIGURE\n",
    "min_temp = round(gdf_temp[\"loc_rate_div_min\"].min(), 2)\n",
    "max_temp = round(gdf_temp[\"loc_rate_div_min\"].max(), 2)\n",
    "f\"The northwest corner of Pontiac, Michigan has a location effect {min_temp}-{max_temp} times the one for suburbs bordering.\""
   ]
  },
  {
   "cell_type": "markdown",
   "id": "c02d2377-b191-49b9-8087-892ad9c4465e",
   "metadata": {},
   "source": [
    "Display table"
   ]
  },
  {
   "cell_type": "code",
   "execution_count": 27,
   "id": "61b904b4-0dac-4906-a623-e7cf9df3305b",
   "metadata": {},
   "outputs": [
    {
     "data": {
      "text/html": [
       "<div>\n",
       "<style scoped>\n",
       "    .dataframe tbody tr th:only-of-type {\n",
       "        vertical-align: middle;\n",
       "    }\n",
       "\n",
       "    .dataframe tbody tr th {\n",
       "        vertical-align: top;\n",
       "    }\n",
       "\n",
       "    .dataframe thead th {\n",
       "        text-align: right;\n",
       "    }\n",
       "</style>\n",
       "<table border=\"1\" class=\"dataframe\">\n",
       "  <thead>\n",
       "    <tr style=\"text-align: right;\">\n",
       "      <th></th>\n",
       "      <th>geo_id</th>\n",
       "      <th>geo_name</th>\n",
       "      <th>tot_pop</th>\n",
       "      <th>white_tot</th>\n",
       "      <th>black_tot</th>\n",
       "      <th>aian_tot</th>\n",
       "      <th>asian_tot</th>\n",
       "      <th>other_tot</th>\n",
       "      <th>latin_tot</th>\n",
       "      <th>white_pct</th>\n",
       "      <th>...</th>\n",
       "      <th>geometry</th>\n",
       "      <th>is_maj_white</th>\n",
       "      <th>is_maj_black</th>\n",
       "      <th>is_wayne_county</th>\n",
       "      <th>effect_quantile</th>\n",
       "      <th>density_quantile</th>\n",
       "      <th>NEIGHBORS</th>\n",
       "      <th>min_geo_id</th>\n",
       "      <th>neighboring_min</th>\n",
       "      <th>loc_rate_div_min</th>\n",
       "    </tr>\n",
       "  </thead>\n",
       "  <tbody>\n",
       "    <tr>\n",
       "      <th>7040</th>\n",
       "      <td>261251411001</td>\n",
       "      <td>Block Group 1</td>\n",
       "      <td>442.0</td>\n",
       "      <td>153.0</td>\n",
       "      <td>149.0</td>\n",
       "      <td>0.0</td>\n",
       "      <td>0.0</td>\n",
       "      <td>0.0</td>\n",
       "      <td>140.0</td>\n",
       "      <td>0.346</td>\n",
       "      <td>...</td>\n",
       "      <td>POLYGON ((-83.30970 42.67784, -83.30936 42.678...</td>\n",
       "      <td>False</td>\n",
       "      <td>False</td>\n",
       "      <td>False</td>\n",
       "      <td>highest effect</td>\n",
       "      <td>median</td>\n",
       "      <td>[261251435005, 261251405001, 261251411002, 261...</td>\n",
       "      <td>261251435005</td>\n",
       "      <td>27373.88</td>\n",
       "      <td>1.571559</td>\n",
       "    </tr>\n",
       "    <tr>\n",
       "      <th>7170</th>\n",
       "      <td>261251411002</td>\n",
       "      <td>Block Group 2</td>\n",
       "      <td>2477.0</td>\n",
       "      <td>995.0</td>\n",
       "      <td>878.0</td>\n",
       "      <td>0.0</td>\n",
       "      <td>189.0</td>\n",
       "      <td>0.0</td>\n",
       "      <td>415.0</td>\n",
       "      <td>0.402</td>\n",
       "      <td>...</td>\n",
       "      <td>POLYGON ((-83.31466 42.67795, -83.31475 42.677...</td>\n",
       "      <td>False</td>\n",
       "      <td>False</td>\n",
       "      <td>False</td>\n",
       "      <td>highest effect</td>\n",
       "      <td>middle high</td>\n",
       "      <td>[261251435005, 261251445002, 261251405001, 261...</td>\n",
       "      <td>261251435005</td>\n",
       "      <td>27373.88</td>\n",
       "      <td>1.643955</td>\n",
       "    </tr>\n",
       "    <tr>\n",
       "      <th>7299</th>\n",
       "      <td>261251409003</td>\n",
       "      <td>Block Group 3</td>\n",
       "      <td>2805.0</td>\n",
       "      <td>702.0</td>\n",
       "      <td>1919.0</td>\n",
       "      <td>14.0</td>\n",
       "      <td>12.0</td>\n",
       "      <td>20.0</td>\n",
       "      <td>138.0</td>\n",
       "      <td>0.250</td>\n",
       "      <td>...</td>\n",
       "      <td>POLYGON ((-83.33295 42.66402, -83.33282 42.664...</td>\n",
       "      <td>False</td>\n",
       "      <td>True</td>\n",
       "      <td>False</td>\n",
       "      <td>highest effect</td>\n",
       "      <td>median</td>\n",
       "      <td>[261251445002, 261251457001, 261251459001, 261...</td>\n",
       "      <td>261251445002</td>\n",
       "      <td>28239.02</td>\n",
       "      <td>1.637763</td>\n",
       "    </tr>\n",
       "    <tr>\n",
       "      <th>7327</th>\n",
       "      <td>261251409001</td>\n",
       "      <td>Block Group 1</td>\n",
       "      <td>954.0</td>\n",
       "      <td>636.0</td>\n",
       "      <td>21.0</td>\n",
       "      <td>0.0</td>\n",
       "      <td>0.0</td>\n",
       "      <td>0.0</td>\n",
       "      <td>297.0</td>\n",
       "      <td>0.667</td>\n",
       "      <td>...</td>\n",
       "      <td>POLYGON ((-83.31043 42.64804, -83.31387 42.650...</td>\n",
       "      <td>True</td>\n",
       "      <td>False</td>\n",
       "      <td>False</td>\n",
       "      <td>highest effect</td>\n",
       "      <td>median</td>\n",
       "      <td>[261251445002, 261251409003, 261251412002, 261...</td>\n",
       "      <td>261251445002</td>\n",
       "      <td>28239.02</td>\n",
       "      <td>1.647353</td>\n",
       "    </tr>\n",
       "    <tr>\n",
       "      <th>7367</th>\n",
       "      <td>261251412002</td>\n",
       "      <td>Block Group 2</td>\n",
       "      <td>1426.0</td>\n",
       "      <td>318.0</td>\n",
       "      <td>640.0</td>\n",
       "      <td>0.0</td>\n",
       "      <td>0.0</td>\n",
       "      <td>160.0</td>\n",
       "      <td>308.0</td>\n",
       "      <td>0.223</td>\n",
       "      <td>...</td>\n",
       "      <td>POLYGON ((-83.32732 42.66852, -83.32732 42.668...</td>\n",
       "      <td>False</td>\n",
       "      <td>False</td>\n",
       "      <td>False</td>\n",
       "      <td>highest effect</td>\n",
       "      <td>middle high</td>\n",
       "      <td>[261251445002, 261251411001, 261251411002, 261...</td>\n",
       "      <td>261251445002</td>\n",
       "      <td>28239.02</td>\n",
       "      <td>1.660436</td>\n",
       "    </tr>\n",
       "  </tbody>\n",
       "</table>\n",
       "<p>5 rows × 69 columns</p>\n",
       "</div>"
      ],
      "text/plain": [
       "            geo_id       geo_name  tot_pop  white_tot  black_tot  aian_tot  \\\n",
       "7040  261251411001  Block Group 1    442.0      153.0      149.0       0.0   \n",
       "7170  261251411002  Block Group 2   2477.0      995.0      878.0       0.0   \n",
       "7299  261251409003  Block Group 3   2805.0      702.0     1919.0      14.0   \n",
       "7327  261251409001  Block Group 1    954.0      636.0       21.0       0.0   \n",
       "7367  261251412002  Block Group 2   1426.0      318.0      640.0       0.0   \n",
       "\n",
       "      asian_tot  other_tot  latin_tot  white_pct  ...  \\\n",
       "7040        0.0        0.0      140.0      0.346  ...   \n",
       "7170      189.0        0.0      415.0      0.402  ...   \n",
       "7299       12.0       20.0      138.0      0.250  ...   \n",
       "7327        0.0        0.0      297.0      0.667  ...   \n",
       "7367        0.0      160.0      308.0      0.223  ...   \n",
       "\n",
       "                                               geometry  is_maj_white  \\\n",
       "7040  POLYGON ((-83.30970 42.67784, -83.30936 42.678...         False   \n",
       "7170  POLYGON ((-83.31466 42.67795, -83.31475 42.677...         False   \n",
       "7299  POLYGON ((-83.33295 42.66402, -83.33282 42.664...         False   \n",
       "7327  POLYGON ((-83.31043 42.64804, -83.31387 42.650...          True   \n",
       "7367  POLYGON ((-83.32732 42.66852, -83.32732 42.668...         False   \n",
       "\n",
       "      is_maj_black  is_wayne_county  effect_quantile density_quantile  \\\n",
       "7040         False            False   highest effect           median   \n",
       "7170         False            False   highest effect      middle high   \n",
       "7299          True            False   highest effect           median   \n",
       "7327         False            False   highest effect           median   \n",
       "7367         False            False   highest effect      middle high   \n",
       "\n",
       "                                              NEIGHBORS    min_geo_id  \\\n",
       "7040  [261251435005, 261251405001, 261251411002, 261...  261251435005   \n",
       "7170  [261251435005, 261251445002, 261251405001, 261...  261251435005   \n",
       "7299  [261251445002, 261251457001, 261251459001, 261...  261251445002   \n",
       "7327  [261251445002, 261251409003, 261251412002, 261...  261251445002   \n",
       "7367  [261251445002, 261251411001, 261251411002, 261...  261251445002   \n",
       "\n",
       "      neighboring_min  loc_rate_div_min  \n",
       "7040         27373.88          1.571559  \n",
       "7170         27373.88          1.643955  \n",
       "7299         28239.02          1.637763  \n",
       "7327         28239.02          1.647353  \n",
       "7367         28239.02          1.660436  \n",
       "\n",
       "[5 rows x 69 columns]"
      ]
     },
     "execution_count": 27,
     "metadata": {},
     "output_type": "execute_result"
    }
   ],
   "source": [
    "gdf_temp"
   ]
  },
  {
   "cell_type": "markdown",
   "id": "3940e975-d322-47ca-8ada-635f342a1b27",
   "metadata": {},
   "source": [
    "> This corner of Pontiac is 35 percent White and 45 percent Black\n",
    "\n",
    "> The neighboring suburbs are 89 percent White"
   ]
  },
  {
   "cell_type": "code",
   "execution_count": 28,
   "id": "acf6282a-53f2-46e2-903c-2773ce11dc9c",
   "metadata": {},
   "outputs": [
    {
     "name": "stdout",
     "output_type": "stream",
     "text": [
      "The northwest corner of Pontiac is 34.599999999999994% (2804.0 / 8104.0) White and 44.5% (3607.0 / 8104.0) Black.\n",
      "The neighboring suburbs is 82.3% (2955.0 / 3592.0) White and 3.5999999999999996% (129.0 / 3592.0) Black.\n"
     ]
    }
   ],
   "source": [
    "calculate_racial_demograhics(gdf_temp, \"The northwest corner of Pontiac\")\n",
    "gdf_temp_min_n = gdf_neighbors[gdf_neighbors[\"geo_id\"].isin(gdf_temp[\"min_geo_id\"])]\n",
    "calculate_racial_demograhics(gdf_temp_min_n, \"The neighboring suburbs\")"
   ]
  },
  {
   "cell_type": "markdown",
   "id": "c3c0e6b2-bf64-4f01-9a0f-b1fc7b2c29ed",
   "metadata": {},
   "source": [
    "## Benton Harbor x St. Josepth\n",
    "\n",
    "> In the southwest corner of Michigan, the territories east of the St. Joseph River in Benton Harbor showed location effects almost double that west of the river, in the city of St. Joseph."
   ]
  },
  {
   "cell_type": "code",
   "execution_count": 29,
   "id": "dea6db4c-e704-4cdf-90d5-0ed8af7c9d8e",
   "metadata": {},
   "outputs": [
    {
     "data": {
      "text/plain": [
       "'The territories east of the St. Joseph River in Benton Harbor showed location effects 1.83-1.91 times that west of the river, in the city of St. Joseph.'"
      ]
     },
     "execution_count": 29,
     "metadata": {},
     "output_type": "execute_result"
    }
   ],
   "source": [
    "BENTON_IDS = [\"GNH\", \"GML\", \"GMQ\"]\n",
    "gdf_tempgdf_temp = gdf[gdf[\"geography_factor_id\"].isin(BENTON_IDS)]\n",
    "\n",
    "ASSERTED_FIGURE = 1.8  # defining almost twice as at least 1.8\n",
    "gdf_temp = gdf_neighbors[gdf_neighbors[\"geography_factor_id\"].isin(BENTON_IDS)]\n",
    "assert round(gdf_temp[\"loc_rate_div_min\"].min(), 1) >= ASSERTED_FIGURE\n",
    "min_temp = round(gdf_temp[\"loc_rate_div_min\"].min(), 2)\n",
    "max_temp = round(gdf_temp[\"loc_rate_div_min\"].max(), 2)\n",
    "f\"The territories east of the St. Joseph River in Benton Harbor showed location effects {min_temp}-{max_temp} times that west of the river, in the city of St. Joseph.\""
   ]
  },
  {
   "cell_type": "code",
   "execution_count": 30,
   "id": "7fbeaada-e505-4789-86ac-627fc1eed5d3",
   "metadata": {},
   "outputs": [
    {
     "name": "stdout",
     "output_type": "stream",
     "text": [
      "The Benton Harbor area is 44.4% (1362.0 / 3065.0) White and 50.0% (1534.0 / 3065.0) Black.\n",
      "St Joseph is 87.2% (2466.0 / 2829.0) White and 4.0% (114.0 / 2829.0) Black.\n"
     ]
    }
   ],
   "source": [
    "calculate_racial_demograhics(gdf_temp, \"The Benton Harbor area\")\n",
    "gdf_temp_min_n = gdf_neighbors[gdf_neighbors[\"geo_id\"].isin(gdf_temp[\"min_geo_id\"])]\n",
    "calculate_racial_demograhics(gdf_temp_min_n, \"St Joseph\")"
   ]
  },
  {
   "cell_type": "markdown",
   "id": "ba7337cf-a746-4795-b2b6-eb7a4a08c937",
   "metadata": {},
   "source": [
    "# Appendix"
   ]
  },
  {
   "cell_type": "markdown",
   "id": "56dfcc0e-50f1-4e57-8375-f9f72f5d6e61",
   "metadata": {},
   "source": [
    "## Topline findings Section\n",
    "\n",
    "The relevant text from the opening section of the `Findings`section"
   ]
  },
  {
   "cell_type": "markdown",
   "id": "64ec22ad-d5f8-4428-89c3-52d02d6d81d5",
   "metadata": {},
   "source": [
    "### Correlation"
   ]
  },
  {
   "cell_type": "markdown",
   "id": "87664b65-e5ca-4267-b835-bfc52f85005b",
   "metadata": {},
   "source": [
    "> We observed a strong correlation between race and location effect for Auto Club and Citizens. For both insurers, as the number of Black residents in a territory increased, the location effect tended to increase. We saw a similar but opposing trend with Michigan’s White population: As the number of White residents in a territory increased, the location effect generally decreased.\n",
    "\n",
    "Correlation coefficients ranging between 0.40-0.70 are categorized as strong for social sciences. Results below match this."
   ]
  },
  {
   "cell_type": "code",
   "execution_count": 31,
   "id": "0408a067-07bd-4420-97cb-031057d2ae94",
   "metadata": {},
   "outputs": [
    {
     "data": {
      "text/html": [
       "<div>\n",
       "<style scoped>\n",
       "    .dataframe tbody tr th:only-of-type {\n",
       "        vertical-align: middle;\n",
       "    }\n",
       "\n",
       "    .dataframe tbody tr th {\n",
       "        vertical-align: top;\n",
       "    }\n",
       "\n",
       "    .dataframe thead th {\n",
       "        text-align: right;\n",
       "    }\n",
       "</style>\n",
       "<table border=\"1\" class=\"dataframe\">\n",
       "  <thead>\n",
       "    <tr style=\"text-align: right;\">\n",
       "      <th></th>\n",
       "      <th>generic_location_based_premium</th>\n",
       "      <th>black_pct</th>\n",
       "      <th>white_pct</th>\n",
       "      <th>density</th>\n",
       "      <th>generic_location_based_premium</th>\n",
       "    </tr>\n",
       "  </thead>\n",
       "  <tbody>\n",
       "    <tr>\n",
       "      <th>generic_location_based_premium</th>\n",
       "      <td>1.000000</td>\n",
       "      <td>0.529225</td>\n",
       "      <td>-0.524911</td>\n",
       "      <td>0.431783</td>\n",
       "      <td>1.000000</td>\n",
       "    </tr>\n",
       "    <tr>\n",
       "      <th>black_pct</th>\n",
       "      <td>0.529225</td>\n",
       "      <td>1.000000</td>\n",
       "      <td>-0.828121</td>\n",
       "      <td>0.539374</td>\n",
       "      <td>0.529225</td>\n",
       "    </tr>\n",
       "    <tr>\n",
       "      <th>white_pct</th>\n",
       "      <td>-0.524911</td>\n",
       "      <td>-0.828121</td>\n",
       "      <td>1.000000</td>\n",
       "      <td>-0.548540</td>\n",
       "      <td>-0.524911</td>\n",
       "    </tr>\n",
       "    <tr>\n",
       "      <th>density</th>\n",
       "      <td>0.431783</td>\n",
       "      <td>0.539374</td>\n",
       "      <td>-0.548540</td>\n",
       "      <td>1.000000</td>\n",
       "      <td>0.431783</td>\n",
       "    </tr>\n",
       "    <tr>\n",
       "      <th>generic_location_based_premium</th>\n",
       "      <td>1.000000</td>\n",
       "      <td>0.529225</td>\n",
       "      <td>-0.524911</td>\n",
       "      <td>0.431783</td>\n",
       "      <td>1.000000</td>\n",
       "    </tr>\n",
       "  </tbody>\n",
       "</table>\n",
       "</div>"
      ],
      "text/plain": [
       "                                generic_location_based_premium  black_pct  \\\n",
       "generic_location_based_premium                        1.000000   0.529225   \n",
       "black_pct                                             0.529225   1.000000   \n",
       "white_pct                                            -0.524911  -0.828121   \n",
       "density                                               0.431783   0.539374   \n",
       "generic_location_based_premium                        1.000000   0.529225   \n",
       "\n",
       "                                white_pct   density  \\\n",
       "generic_location_based_premium  -0.524911  0.431783   \n",
       "black_pct                       -0.828121  0.539374   \n",
       "white_pct                        1.000000 -0.548540   \n",
       "density                         -0.548540  1.000000   \n",
       "generic_location_based_premium  -0.524911  0.431783   \n",
       "\n",
       "                                generic_location_based_premium  \n",
       "generic_location_based_premium                        1.000000  \n",
       "black_pct                                             0.529225  \n",
       "white_pct                                            -0.524911  \n",
       "density                                               0.431783  \n",
       "generic_location_based_premium                        1.000000  "
      ]
     },
     "execution_count": 31,
     "metadata": {},
     "output_type": "execute_result"
    },
    {
     "data": {
      "image/png": "[encoded data removed]",
      "text/plain": [
       "<Figure size 1000x600 with 2 Axes>"
      ]
     },
     "metadata": {},
     "output_type": "display_data"
    }
   ],
   "source": [
    "%run ../00_misc/helper-func-notebook.ipynb\n",
    "display_correlation(gdf[CORRELATION_COLS], method=\"spearman\")"
   ]
  },
  {
   "attachments": {},
   "cell_type": "markdown",
   "id": "12aee8b9-21f1-404d-a41b-c544b36fb722",
   "metadata": {},
   "source": [
    "### Rate quantiles\n",
    "\n",
    "> For those two insurers, seven percent of White Michiganders lived in the top quintile of location effects."
   ]
  },
  {
   "cell_type": "code",
   "execution_count": 32,
   "id": "68120cb2-b674-4819-be27-d4a246880cb8",
   "metadata": {},
   "outputs": [
    {
     "name": "stdout",
     "output_type": "stream",
     "text": [
      "7% of White Michiganders lived in the top quintile of location effects.\n"
     ]
    },
    {
     "data": {
      "text/html": [
       "<div>\n",
       "<style scoped>\n",
       "    .dataframe tbody tr th:only-of-type {\n",
       "        vertical-align: middle;\n",
       "    }\n",
       "\n",
       "    .dataframe tbody tr th {\n",
       "        vertical-align: top;\n",
       "    }\n",
       "\n",
       "    .dataframe thead th {\n",
       "        text-align: right;\n",
       "    }\n",
       "</style>\n",
       "<table border=\"1\" class=\"dataframe\">\n",
       "  <thead>\n",
       "    <tr style=\"text-align: right;\">\n",
       "      <th></th>\n",
       "      <th>black_tot</th>\n",
       "      <th>white_tot</th>\n",
       "      <th>tot_pop</th>\n",
       "    </tr>\n",
       "    <tr>\n",
       "      <th>effect_quantile</th>\n",
       "      <th></th>\n",
       "      <th></th>\n",
       "      <th></th>\n",
       "    </tr>\n",
       "  </thead>\n",
       "  <tbody>\n",
       "    <tr>\n",
       "      <th>lowest effect</th>\n",
       "      <td>5.3</td>\n",
       "      <td>24.8</td>\n",
       "      <td>21.6</td>\n",
       "    </tr>\n",
       "    <tr>\n",
       "      <th>middle low</th>\n",
       "      <td>8.0</td>\n",
       "      <td>23.9</td>\n",
       "      <td>21.3</td>\n",
       "    </tr>\n",
       "    <tr>\n",
       "      <th>median</th>\n",
       "      <td>9.7</td>\n",
       "      <td>23.4</td>\n",
       "      <td>21.2</td>\n",
       "    </tr>\n",
       "    <tr>\n",
       "      <th>middle high</th>\n",
       "      <td>20.0</td>\n",
       "      <td>21.0</td>\n",
       "      <td>21.2</td>\n",
       "    </tr>\n",
       "    <tr>\n",
       "      <th>highest effect</th>\n",
       "      <td>57.0</td>\n",
       "      <td>6.9</td>\n",
       "      <td>14.8</td>\n",
       "    </tr>\n",
       "  </tbody>\n",
       "</table>\n",
       "</div>"
      ],
      "text/plain": [
       "                 black_tot  white_tot  tot_pop\n",
       "effect_quantile                               \n",
       "lowest effect          5.3       24.8     21.6\n",
       "middle low             8.0       23.9     21.3\n",
       "median                 9.7       23.4     21.2\n",
       "middle high           20.0       21.0     21.2\n",
       "highest effect        57.0        6.9     14.8"
      ]
     },
     "execution_count": 32,
     "metadata": {},
     "output_type": "execute_result"
    }
   ],
   "source": [
    "ASSERTED_VALUE = 7\n",
    "actual_value = round(df_distribution.loc[\"highest effect\"][\"white_tot\"])\n",
    "print(\n",
    "    f\"{actual_value}% of White Michiganders lived in the top quintile of location effects.\"\n",
    ")\n",
    "assert ASSERTED_VALUE == actual_value\n",
    "df_distribution"
   ]
  },
  {
   "cell_type": "markdown",
   "id": "b1ef2876-aadf-452a-9ada-fa67c9863a29",
   "metadata": {},
   "source": [
    "### Detroit range"
   ]
  },
  {
   "cell_type": "code",
   "execution_count": 33,
   "id": "7d0abf44-141d-4617-846f-4fe1aadc32f8",
   "metadata": {},
   "outputs": [
    {
     "name": "stdout",
     "output_type": "stream",
     "text": [
      "Citizens range of location effects within Detroit: 1.04-1.75. The avg: 1.52\n",
      "The highest effect 1.75 is in Detroit\n"
     ]
    }
   ],
   "source": [
    "highest_effect = gdf[\"location_effect\"].max()\n",
    "detroit_loc_effects = gdf[gdf[\"is_in_detroit\"]][\"location_effect\"]\n",
    "detroit_min_loc_effects = detroit_loc_effects.min()\n",
    "detroit_max_loc_effects = detroit_loc_effects.max()\n",
    "detroit_avg_loc_effect = round(detroit_loc_effects.mean(), 2)\n",
    "assert highest_effect == detroit_max_loc_effects\n",
    "\n",
    "print(\n",
    "    f\"{INSURER} range of location effects within Detroit: {detroit_min_loc_effects}-{detroit_max_loc_effects}. The avg: {detroit_avg_loc_effect}\"\n",
    ")\n",
    "print(f\"The highest effect {highest_effect} is in Detroit\")"
   ]
  },
  {
   "cell_type": "markdown",
   "id": "f7b7b752-6ca4-4b8b-a9aa-e401e234082b",
   "metadata": {},
   "source": [
    "### Location effect and race\n",
    "\n",
    "> Auto Club set higher location-related relativities in territories with a higher Black population and lower location-related relativities in territories with more White residents.\n",
    "\n",
    "Display the table of distributions below"
   ]
  },
  {
   "cell_type": "code",
   "execution_count": 34,
   "id": "24505170-8bca-4006-9b92-765c963edfd6",
   "metadata": {},
   "outputs": [
    {
     "data": {
      "text/html": [
       "<div>\n",
       "<style scoped>\n",
       "    .dataframe tbody tr th:only-of-type {\n",
       "        vertical-align: middle;\n",
       "    }\n",
       "\n",
       "    .dataframe tbody tr th {\n",
       "        vertical-align: top;\n",
       "    }\n",
       "\n",
       "    .dataframe thead th {\n",
       "        text-align: right;\n",
       "    }\n",
       "</style>\n",
       "<table border=\"1\" class=\"dataframe\">\n",
       "  <thead>\n",
       "    <tr style=\"text-align: right;\">\n",
       "      <th></th>\n",
       "      <th>black_tot</th>\n",
       "      <th>white_tot</th>\n",
       "      <th>tot_pop</th>\n",
       "    </tr>\n",
       "    <tr>\n",
       "      <th>effect_quantile</th>\n",
       "      <th></th>\n",
       "      <th></th>\n",
       "      <th></th>\n",
       "    </tr>\n",
       "  </thead>\n",
       "  <tbody>\n",
       "    <tr>\n",
       "      <th>lowest effect</th>\n",
       "      <td>5.3</td>\n",
       "      <td>24.8</td>\n",
       "      <td>21.6</td>\n",
       "    </tr>\n",
       "    <tr>\n",
       "      <th>middle low</th>\n",
       "      <td>8.0</td>\n",
       "      <td>23.9</td>\n",
       "      <td>21.3</td>\n",
       "    </tr>\n",
       "    <tr>\n",
       "      <th>median</th>\n",
       "      <td>9.7</td>\n",
       "      <td>23.4</td>\n",
       "      <td>21.2</td>\n",
       "    </tr>\n",
       "    <tr>\n",
       "      <th>middle high</th>\n",
       "      <td>20.0</td>\n",
       "      <td>21.0</td>\n",
       "      <td>21.2</td>\n",
       "    </tr>\n",
       "    <tr>\n",
       "      <th>highest effect</th>\n",
       "      <td>57.0</td>\n",
       "      <td>6.9</td>\n",
       "      <td>14.8</td>\n",
       "    </tr>\n",
       "  </tbody>\n",
       "</table>\n",
       "</div>"
      ],
      "text/plain": [
       "                 black_tot  white_tot  tot_pop\n",
       "effect_quantile                               \n",
       "lowest effect          5.3       24.8     21.6\n",
       "middle low             8.0       23.9     21.3\n",
       "median                 9.7       23.4     21.2\n",
       "middle high           20.0       21.0     21.2\n",
       "highest effect        57.0        6.9     14.8"
      ]
     },
     "execution_count": 34,
     "metadata": {},
     "output_type": "execute_result"
    }
   ],
   "source": [
    "df_distribution"
   ]
  },
  {
   "cell_type": "markdown",
   "id": "f505a693-58bd-406e-a700-c9f29697548c",
   "metadata": {},
   "source": [
    "## Effect x density"
   ]
  },
  {
   "cell_type": "code",
   "execution_count": 35,
   "id": "077f32f3-caa5-486e-b4a5-c7e4f8a628ca",
   "metadata": {},
   "outputs": [],
   "source": [
    "def pivot_effect_density_quantiles(\n",
    "    gdf, race_group, race_label=None, calculate_percent=True\n",
    "):\n",
    "    gdf_temp = gdf.pivot_table(\n",
    "        index=\"effect_quantile\",\n",
    "        columns=\"density_quantile\",\n",
    "        values=race_group,\n",
    "        aggfunc=\"sum\",\n",
    "        observed=False,\n",
    "    )\n",
    "    if calculate_percent:\n",
    "        gdf_temp = prptn_to_pct(gdf_temp / gdf_temp.sum().sum())\n",
    "    gdf_temp = gdf_temp.reset_index()\n",
    "    if race_label:\n",
    "        gdf_temp[\"race\"] = race_label\n",
    "    else:\n",
    "        gdf_temp[\"race\"] = race_group\n",
    "    gdf_temp[\"insurer\"] = INSURER\n",
    "    return gdf_temp\n",
    "\n",
    "\n",
    "def join_effect_density_quantiles_pivots(calculate_percent=True):\n",
    "    gdf_white = pivot_effect_density_quantiles(\n",
    "        gdf, \"white_tot\", \"White\", calculate_percent=calculate_percent\n",
    "    )\n",
    "    gdf_black = pivot_effect_density_quantiles(\n",
    "        gdf, \"black_tot\", \"Black\", calculate_percent=calculate_percent\n",
    "    )\n",
    "    return pd.concat([gdf_white, gdf_black], ignore_index=True)\n",
    "\n",
    "\n",
    "gdf_effect_density_quantiles_pivot = join_effect_density_quantiles_pivots()\n",
    "gdf_effect_density_quantiles_pivot.to_csv(\n",
    "    \"./outputs/effect_density_quantiles_pivot.csv\", index=False\n",
    ")\n",
    "gdf_effect_density_quantiles_pivot = join_effect_density_quantiles_pivots(False)\n",
    "gdf_effect_density_quantiles_pivot.to_csv(\n",
    "    \"./outputs/effect_density_quantiles_pivot_count.csv\", index=False\n",
    ")"
   ]
  },
  {
   "cell_type": "code",
   "execution_count": 36,
   "id": "610d68f6-3f6e-42c8-8b57-c50840cddd72",
   "metadata": {},
   "outputs": [
    {
     "data": {
      "text/html": [
       "<div>\n",
       "<style scoped>\n",
       "    .dataframe tbody tr th:only-of-type {\n",
       "        vertical-align: middle;\n",
       "    }\n",
       "\n",
       "    .dataframe tbody tr th {\n",
       "        vertical-align: top;\n",
       "    }\n",
       "\n",
       "    .dataframe thead th {\n",
       "        text-align: right;\n",
       "    }\n",
       "</style>\n",
       "<table border=\"1\" class=\"dataframe\">\n",
       "  <thead>\n",
       "    <tr style=\"text-align: right;\">\n",
       "      <th>density_quantile</th>\n",
       "      <th>lowest density</th>\n",
       "      <th>middle low</th>\n",
       "      <th>median</th>\n",
       "      <th>middle high</th>\n",
       "      <th>highest density</th>\n",
       "    </tr>\n",
       "    <tr>\n",
       "      <th>effect_quantile</th>\n",
       "      <th></th>\n",
       "      <th></th>\n",
       "      <th></th>\n",
       "      <th></th>\n",
       "      <th></th>\n",
       "    </tr>\n",
       "  </thead>\n",
       "  <tbody>\n",
       "    <tr>\n",
       "      <th>lowest effect</th>\n",
       "      <td>0.217</td>\n",
       "      <td>0.329</td>\n",
       "      <td>0.248</td>\n",
       "      <td>0.143</td>\n",
       "      <td>0.062</td>\n",
       "    </tr>\n",
       "    <tr>\n",
       "      <th>middle low</th>\n",
       "      <td>0.303</td>\n",
       "      <td>0.257</td>\n",
       "      <td>0.182</td>\n",
       "      <td>0.145</td>\n",
       "      <td>0.114</td>\n",
       "    </tr>\n",
       "    <tr>\n",
       "      <th>median</th>\n",
       "      <td>0.367</td>\n",
       "      <td>0.219</td>\n",
       "      <td>0.155</td>\n",
       "      <td>0.139</td>\n",
       "      <td>0.119</td>\n",
       "    </tr>\n",
       "    <tr>\n",
       "      <th>middle high</th>\n",
       "      <td>0.103</td>\n",
       "      <td>0.150</td>\n",
       "      <td>0.235</td>\n",
       "      <td>0.271</td>\n",
       "      <td>0.241</td>\n",
       "    </tr>\n",
       "    <tr>\n",
       "      <th>highest effect</th>\n",
       "      <td>0.010</td>\n",
       "      <td>0.045</td>\n",
       "      <td>0.180</td>\n",
       "      <td>0.302</td>\n",
       "      <td>0.463</td>\n",
       "    </tr>\n",
       "  </tbody>\n",
       "</table>\n",
       "</div>"
      ],
      "text/plain": [
       "density_quantile  lowest density  middle low  median  middle high  \\\n",
       "effect_quantile                                                     \n",
       "lowest effect              0.217       0.329   0.248        0.143   \n",
       "middle low                 0.303       0.257   0.182        0.145   \n",
       "median                     0.367       0.219   0.155        0.139   \n",
       "middle high                0.103       0.150   0.235        0.271   \n",
       "highest effect             0.010       0.045   0.180        0.302   \n",
       "\n",
       "density_quantile  highest density  \n",
       "effect_quantile                    \n",
       "lowest effect               0.062  \n",
       "middle low                  0.114  \n",
       "median                      0.119  \n",
       "middle high                 0.241  \n",
       "highest effect              0.463  "
      ]
     },
     "execution_count": 36,
     "metadata": {},
     "output_type": "execute_result"
    }
   ],
   "source": [
    "gdf_temp = gdf.pivot_table(\n",
    "    index=\"effect_quantile\", columns=\"density_quantile\", aggfunc=\"count\", observed=False\n",
    ")[\"black_pct\"]\n",
    "df_density_quintile = round(gdf_temp / gdf_temp.sum(), 3)\n",
    "df_density_quintile"
   ]
  },
  {
   "cell_type": "code",
   "execution_count": 37,
   "id": "22bbd716-c484-4202-8a93-f5f1527bdadb",
   "metadata": {},
   "outputs": [
    {
     "data": {
      "text/html": [
       "\n",
       "<style>\n",
       "  #altair-viz-b58a3a2c9e124d04af0fa1c96c8e4270.vega-embed {\n",
       "    width: 100%;\n",
       "    display: flex;\n",
       "  }\n",
       "\n",
       "  #altair-viz-b58a3a2c9e124d04af0fa1c96c8e4270.vega-embed details,\n",
       "  #altair-viz-b58a3a2c9e124d04af0fa1c96c8e4270.vega-embed details summary {\n",
       "    position: relative;\n",
       "  }\n",
       "</style>\n",
       "<div id=\"altair-viz-b58a3a2c9e124d04af0fa1c96c8e4270\"></div>\n",
       "<script type=\"text/javascript\">\n",
       "  var VEGA_DEBUG = (typeof VEGA_DEBUG == \"undefined\") ? {} : VEGA_DEBUG;\n",
       "  (function(spec, embedOpt){\n",
       "    let outputDiv = document.currentScript.previousElementSibling;\n",
       "    if (outputDiv.id !== \"altair-viz-b58a3a2c9e124d04af0fa1c96c8e4270\") {\n",
       "      outputDiv = document.getElementById(\"altair-viz-b58a3a2c9e124d04af0fa1c96c8e4270\");\n",
       "    }\n",
       "    const paths = {\n",
       "      \"vega\": \"https://cdn.jsdelivr.net/npm/vega@5?noext\",\n",
       "      \"vega-lib\": \"https://cdn.jsdelivr.net/npm/vega-lib?noext\",\n",
       "      \"vega-lite\": \"https://cdn.jsdelivr.net/npm/vega-lite@5.17.0?noext\",\n",
       "      \"vega-embed\": \"https://cdn.jsdelivr.net/npm/vega-embed@6?noext\",\n",
       "    };\n",
       "\n",
       "    function maybeLoadScript(lib, version) {\n",
       "      var key = `${lib.replace(\"-\", \"\")}_version`;\n",
       "      return (VEGA_DEBUG[key] == version) ?\n",
       "        Promise.resolve(paths[lib]) :\n",
       "        new Promise(function(resolve, reject) {\n",
       "          var s = document.createElement('script');\n",
       "          document.getElementsByTagName(\"head\")[0].appendChild(s);\n",
       "          s.async = true;\n",
       "          s.onload = () => {\n",
       "            VEGA_DEBUG[key] = version;\n",
       "            return resolve(paths[lib]);\n",
       "          };\n",
       "          s.onerror = () => reject(`Error loading script: ${paths[lib]}`);\n",
       "          s.src = paths[lib];\n",
       "        });\n",
       "    }\n",
       "\n",
       "    function showError(err) {\n",
       "      outputDiv.innerHTML = `<div class=\"error\" style=\"color:red;\">${err}</div>`;\n",
       "      throw err;\n",
       "    }\n",
       "\n",
       "    function displayChart(vegaEmbed) {\n",
       "      vegaEmbed(outputDiv, spec, embedOpt)\n",
       "        .catch(err => showError(`Javascript Error: ${err.message}<br>This usually means there's a typo in your chart specification. See the javascript console for the full traceback.`));\n",
       "    }\n",
       "\n",
       "    if(typeof define === \"function\" && define.amd) {\n",
       "      requirejs.config({paths});\n",
       "      require([\"vega-embed\"], displayChart, err => showError(`Error loading script: ${err.message}`));\n",
       "    } else {\n",
       "      maybeLoadScript(\"vega\", \"5\")\n",
       "        .then(() => maybeLoadScript(\"vega-lite\", \"5.17.0\"))\n",
       "        .then(() => maybeLoadScript(\"vega-embed\", \"6\"))\n",
       "        .catch(showError)\n",
       "        .then(() => displayChart(vegaEmbed));\n",
       "    }\n",
       "  })({\"config\": {\"view\": {\"continuousWidth\": 300, \"continuousHeight\": 300}}, \"data\": {\"name\": \"data-33a3b8c791e023adb228347912d0d7eb\"}, \"mark\": {\"type\": \"bar\"}, \"encoding\": {\"color\": {\"field\": \"Effect quintile\", \"sort\": [\"lowest effect\", \"middle low\", \"median\", \"middle high\", \"highest effect\"], \"type\": \"ordinal\"}, \"order\": {\"field\": \"color_Effect_quintile_sort_index\", \"type\": \"quantitative\"}, \"x\": {\"field\": \"Percent\", \"type\": \"quantitative\"}, \"y\": {\"field\": \"Population density group\", \"sort\": [\"Lowest\", \"Lower middle\", \"Median\", \"Upper middle\", \"Highest\"], \"type\": \"nominal\"}}, \"height\": 500, \"title\": \"Citizens\", \"width\": 500, \"$schema\": \"https://vega.github.io/schema/vega-lite/v5.17.0.json\", \"datasets\": {\"data-33a3b8c791e023adb228347912d0d7eb\": [{\"Effect quintile\": \"lowest effect\", \"Population density group\": \"Lowest\", \"Percent\": 0.217}, {\"Effect quintile\": \"middle low\", \"Population density group\": \"Lowest\", \"Percent\": 0.303}, {\"Effect quintile\": \"median\", \"Population density group\": \"Lowest\", \"Percent\": 0.367}, {\"Effect quintile\": \"middle high\", \"Population density group\": \"Lowest\", \"Percent\": 0.103}, {\"Effect quintile\": \"highest effect\", \"Population density group\": \"Lowest\", \"Percent\": 0.01}, {\"Effect quintile\": \"lowest effect\", \"Population density group\": \"Lower middle\", \"Percent\": 0.329}, {\"Effect quintile\": \"middle low\", \"Population density group\": \"Lower middle\", \"Percent\": 0.257}, {\"Effect quintile\": \"median\", \"Population density group\": \"Lower middle\", \"Percent\": 0.219}, {\"Effect quintile\": \"middle high\", \"Population density group\": \"Lower middle\", \"Percent\": 0.15}, {\"Effect quintile\": \"highest effect\", \"Population density group\": \"Lower middle\", \"Percent\": 0.045}, {\"Effect quintile\": \"lowest effect\", \"Population density group\": \"Median\", \"Percent\": 0.248}, {\"Effect quintile\": \"middle low\", \"Population density group\": \"Median\", \"Percent\": 0.182}, {\"Effect quintile\": \"median\", \"Population density group\": \"Median\", \"Percent\": 0.155}, {\"Effect quintile\": \"middle high\", \"Population density group\": \"Median\", \"Percent\": 0.235}, {\"Effect quintile\": \"highest effect\", \"Population density group\": \"Median\", \"Percent\": 0.18}, {\"Effect quintile\": \"lowest effect\", \"Population density group\": \"Upper middle\", \"Percent\": 0.143}, {\"Effect quintile\": \"middle low\", \"Population density group\": \"Upper middle\", \"Percent\": 0.145}, {\"Effect quintile\": \"median\", \"Population density group\": \"Upper middle\", \"Percent\": 0.139}, {\"Effect quintile\": \"middle high\", \"Population density group\": \"Upper middle\", \"Percent\": 0.271}, {\"Effect quintile\": \"highest effect\", \"Population density group\": \"Upper middle\", \"Percent\": 0.302}, {\"Effect quintile\": \"lowest effect\", \"Population density group\": \"Highest\", \"Percent\": 0.062}, {\"Effect quintile\": \"middle low\", \"Population density group\": \"Highest\", \"Percent\": 0.114}, {\"Effect quintile\": \"median\", \"Population density group\": \"Highest\", \"Percent\": 0.119}, {\"Effect quintile\": \"middle high\", \"Population density group\": \"Highest\", \"Percent\": 0.241}, {\"Effect quintile\": \"highest effect\", \"Population density group\": \"Highest\", \"Percent\": 0.463}]}}, {\"mode\": \"vega-lite\"});\n",
       "</script>"
      ],
      "text/plain": [
       "alt.Chart(...)"
      ]
     },
     "execution_count": 37,
     "metadata": {},
     "output_type": "execute_result"
    }
   ],
   "source": [
    "%run ../00_misc/helper-func-notebook.ipynb\n",
    "df_income_quintile = prptn_to_pct(gdf_temp / gdf_temp.sum(), 5)\n",
    "density_hbar = stacked_population_density_hbar(df_density_quintile, title=\"Citizens\")\n",
    "density_hbar"
   ]
  },
  {
   "cell_type": "markdown",
   "id": "c7b989c2-8f55-4eed-91bd-e304358d4b95",
   "metadata": {},
   "source": [
    "## Density and race"
   ]
  },
  {
   "cell_type": "code",
   "execution_count": 38,
   "id": "444090d9-5173-4c2d-bd42-427c97917b4f",
   "metadata": {},
   "outputs": [
    {
     "data": {
      "text/html": [
       "<div>\n",
       "<style scoped>\n",
       "    .dataframe tbody tr th:only-of-type {\n",
       "        vertical-align: middle;\n",
       "    }\n",
       "\n",
       "    .dataframe tbody tr th {\n",
       "        vertical-align: top;\n",
       "    }\n",
       "\n",
       "    .dataframe thead th {\n",
       "        text-align: right;\n",
       "    }\n",
       "</style>\n",
       "<table border=\"1\" class=\"dataframe\">\n",
       "  <thead>\n",
       "    <tr style=\"text-align: right;\">\n",
       "      <th></th>\n",
       "      <th>black_tot</th>\n",
       "      <th>white_tot</th>\n",
       "      <th>tot_pop</th>\n",
       "    </tr>\n",
       "    <tr>\n",
       "      <th>density_quantile</th>\n",
       "      <th></th>\n",
       "      <th></th>\n",
       "      <th></th>\n",
       "    </tr>\n",
       "  </thead>\n",
       "  <tbody>\n",
       "    <tr>\n",
       "      <th>lowest density</th>\n",
       "      <td>19403.0</td>\n",
       "      <td>1697643.0</td>\n",
       "      <td>1807460.0</td>\n",
       "    </tr>\n",
       "    <tr>\n",
       "      <th>middle low</th>\n",
       "      <td>111897.0</td>\n",
       "      <td>2000205.0</td>\n",
       "      <td>2279223.0</td>\n",
       "    </tr>\n",
       "    <tr>\n",
       "      <th>median</th>\n",
       "      <td>250296.0</td>\n",
       "      <td>1489181.0</td>\n",
       "      <td>1961884.0</td>\n",
       "    </tr>\n",
       "    <tr>\n",
       "      <th>middle high</th>\n",
       "      <td>378661.0</td>\n",
       "      <td>1173295.0</td>\n",
       "      <td>1758856.0</td>\n",
       "    </tr>\n",
       "    <tr>\n",
       "      <th>highest density</th>\n",
       "      <td>586654.0</td>\n",
       "      <td>1033807.0</td>\n",
       "      <td>1878334.0</td>\n",
       "    </tr>\n",
       "  </tbody>\n",
       "</table>\n",
       "</div>"
      ],
      "text/plain": [
       "                  black_tot  white_tot    tot_pop\n",
       "density_quantile                                 \n",
       "lowest density      19403.0  1697643.0  1807460.0\n",
       "middle low         111897.0  2000205.0  2279223.0\n",
       "median             250296.0  1489181.0  1961884.0\n",
       "middle high        378661.0  1173295.0  1758856.0\n",
       "highest density    586654.0  1033807.0  1878334.0"
      ]
     },
     "execution_count": 38,
     "metadata": {},
     "output_type": "execute_result"
    }
   ],
   "source": [
    "gdf_groupby_density_quantiles = gdf.groupby(\"density_quantile\", observed=False)[\n",
    "    QUANTILE_GROUP_BY_COLS\n",
    "].sum()\n",
    "gdf_groupby_density_quantiles"
   ]
  },
  {
   "cell_type": "code",
   "execution_count": 39,
   "id": "f3b2f53a-ca21-410d-b5ad-9d21a401c850",
   "metadata": {},
   "outputs": [
    {
     "data": {
      "text/html": [
       "<div>\n",
       "<style scoped>\n",
       "    .dataframe tbody tr th:only-of-type {\n",
       "        vertical-align: middle;\n",
       "    }\n",
       "\n",
       "    .dataframe tbody tr th {\n",
       "        vertical-align: top;\n",
       "    }\n",
       "\n",
       "    .dataframe thead th {\n",
       "        text-align: right;\n",
       "    }\n",
       "</style>\n",
       "<table border=\"1\" class=\"dataframe\">\n",
       "  <thead>\n",
       "    <tr style=\"text-align: right;\">\n",
       "      <th></th>\n",
       "      <th>black_tot</th>\n",
       "      <th>white_tot</th>\n",
       "      <th>tot_pop</th>\n",
       "    </tr>\n",
       "    <tr>\n",
       "      <th>density_quantile</th>\n",
       "      <th></th>\n",
       "      <th></th>\n",
       "      <th></th>\n",
       "    </tr>\n",
       "  </thead>\n",
       "  <tbody>\n",
       "    <tr>\n",
       "      <th>lowest density</th>\n",
       "      <td>1.0</td>\n",
       "      <td>23.0</td>\n",
       "      <td>19.0</td>\n",
       "    </tr>\n",
       "    <tr>\n",
       "      <th>middle low</th>\n",
       "      <td>8.0</td>\n",
       "      <td>27.0</td>\n",
       "      <td>24.0</td>\n",
       "    </tr>\n",
       "    <tr>\n",
       "      <th>median</th>\n",
       "      <td>19.0</td>\n",
       "      <td>20.0</td>\n",
       "      <td>20.0</td>\n",
       "    </tr>\n",
       "    <tr>\n",
       "      <th>middle high</th>\n",
       "      <td>28.0</td>\n",
       "      <td>16.0</td>\n",
       "      <td>18.0</td>\n",
       "    </tr>\n",
       "    <tr>\n",
       "      <th>highest density</th>\n",
       "      <td>44.0</td>\n",
       "      <td>14.0</td>\n",
       "      <td>19.0</td>\n",
       "    </tr>\n",
       "  </tbody>\n",
       "</table>\n",
       "</div>"
      ],
      "text/plain": [
       "                  black_tot  white_tot  tot_pop\n",
       "density_quantile                               \n",
       "lowest density          1.0       23.0     19.0\n",
       "middle low              8.0       27.0     24.0\n",
       "median                 19.0       20.0     20.0\n",
       "middle high            28.0       16.0     18.0\n",
       "highest density        44.0       14.0     19.0"
      ]
     },
     "execution_count": 39,
     "metadata": {},
     "output_type": "execute_result"
    }
   ],
   "source": [
    "column_sums = gdf_groupby_density_quantiles.sum(axis=0)\n",
    "df_density_distribution = prptn_to_pct(\n",
    "    gdf_groupby_density_quantiles.div(column_sums, axis=1), 2\n",
    ")\n",
    "df_density_distribution"
   ]
  },
  {
   "cell_type": "markdown",
   "id": "03372e24-9b2e-4d74-a7b7-f8d74ecb6b3d",
   "metadata": {},
   "source": [
    "## Effect in top quantile"
   ]
  },
  {
   "cell_type": "code",
   "execution_count": 40,
   "id": "2ef981b7-d84d-4555-a8bf-a53bffb02bd8",
   "metadata": {},
   "outputs": [
    {
     "name": "stdout",
     "output_type": "stream",
     "text": [
      "The location effect in the top quantile ranged from 1.15 to 1.75\n"
     ]
    }
   ],
   "source": [
    "gdf_highest_effects = gdf[gdf[\"effect_quantile\"] == \"highest effect\"]\n",
    "lowest_quantile_min_effect = gdf_highest_effects[\"location_effect\"].min()\n",
    "highest_quantile_max_effect = gdf_highest_effects[\"location_effect\"].max()\n",
    "\n",
    "print(\n",
    "    f\"The location effect in the top quantile ranged from {lowest_quantile_min_effect} to {highest_quantile_max_effect}\"\n",
    ")"
   ]
  },
  {
   "cell_type": "markdown",
   "id": "17eb6f9e-9c9c-4084-a9ad-cf895f526aec",
   "metadata": {},
   "source": [
    "## Export data"
   ]
  },
  {
   "cell_type": "code",
   "execution_count": 41,
   "id": "1373fcbb-3727-4c07-b2ef-86fef7f468b2",
   "metadata": {},
   "outputs": [],
   "source": [
    "%run ../00_misc/helper-func-notebook.ipynb\n",
    "df_export = datawrapper_race_distribution(df_distribution, \"Citizens\")\n",
    "df_export.to_csv(\"./outputs/citizens_race_chart_data.csv\")"
   ]
  },
  {
   "cell_type": "code",
   "execution_count": 42,
   "id": "9d1702c4-3906-4b3c-a315-b647ce97bfc4",
   "metadata": {},
   "outputs": [],
   "source": [
    "%run ../00_misc/helper-func-notebook.ipynb\n",
    "df_export = datawrapper_race_distribution(df_density_distribution, \"Citizens\")\n",
    "df_export.to_csv(\"./outputs/citizens_race_density_chart_data.csv\")"
   ]
  },
  {
   "cell_type": "code",
   "execution_count": 43,
   "id": "9cb519b5-91fa-4d38-a017-be32677179a7",
   "metadata": {},
   "outputs": [
    {
     "data": {
      "text/html": [
       "<div>\n",
       "<style scoped>\n",
       "    .dataframe tbody tr th:only-of-type {\n",
       "        vertical-align: middle;\n",
       "    }\n",
       "\n",
       "    .dataframe tbody tr th {\n",
       "        vertical-align: top;\n",
       "    }\n",
       "\n",
       "    .dataframe thead th {\n",
       "        text-align: right;\n",
       "    }\n",
       "</style>\n",
       "<table border=\"1\" class=\"dataframe\">\n",
       "  <thead>\n",
       "    <tr style=\"text-align: right;\">\n",
       "      <th>Population density</th>\n",
       "      <th>lowest effect</th>\n",
       "      <th>middle low</th>\n",
       "      <th>median</th>\n",
       "      <th>middle high</th>\n",
       "      <th>highest effect</th>\n",
       "      <th>Insurer</th>\n",
       "    </tr>\n",
       "  </thead>\n",
       "  <tbody>\n",
       "    <tr>\n",
       "      <th>Lowest density</th>\n",
       "      <td>0.217</td>\n",
       "      <td>0.303</td>\n",
       "      <td>0.367</td>\n",
       "      <td>0.103</td>\n",
       "      <td>0.010</td>\n",
       "      <td>Citizens</td>\n",
       "    </tr>\n",
       "    <tr>\n",
       "      <th>Lower density</th>\n",
       "      <td>0.329</td>\n",
       "      <td>0.257</td>\n",
       "      <td>0.219</td>\n",
       "      <td>0.150</td>\n",
       "      <td>0.045</td>\n",
       "      <td>Citizens</td>\n",
       "    </tr>\n",
       "    <tr>\n",
       "      <th>Middle density</th>\n",
       "      <td>0.248</td>\n",
       "      <td>0.182</td>\n",
       "      <td>0.155</td>\n",
       "      <td>0.235</td>\n",
       "      <td>0.180</td>\n",
       "      <td>Citizens</td>\n",
       "    </tr>\n",
       "    <tr>\n",
       "      <th>Higher density</th>\n",
       "      <td>0.143</td>\n",
       "      <td>0.145</td>\n",
       "      <td>0.139</td>\n",
       "      <td>0.271</td>\n",
       "      <td>0.302</td>\n",
       "      <td>Citizens</td>\n",
       "    </tr>\n",
       "    <tr>\n",
       "      <th>Highest density</th>\n",
       "      <td>0.062</td>\n",
       "      <td>0.114</td>\n",
       "      <td>0.119</td>\n",
       "      <td>0.241</td>\n",
       "      <td>0.463</td>\n",
       "      <td>Citizens</td>\n",
       "    </tr>\n",
       "  </tbody>\n",
       "</table>\n",
       "</div>"
      ],
      "text/plain": [
       "Population density  lowest effect  middle low  median  middle high  \\\n",
       "Lowest density              0.217       0.303   0.367        0.103   \n",
       "Lower density               0.329       0.257   0.219        0.150   \n",
       "Middle density              0.248       0.182   0.155        0.235   \n",
       "Higher density              0.143       0.145   0.139        0.271   \n",
       "Highest density             0.062       0.114   0.119        0.241   \n",
       "\n",
       "Population density  highest effect   Insurer  \n",
       "Lowest density               0.010  Citizens  \n",
       "Lower density                0.045  Citizens  \n",
       "Middle density               0.180  Citizens  \n",
       "Higher density               0.302  Citizens  \n",
       "Highest density              0.463  Citizens  "
      ]
     },
     "execution_count": 43,
     "metadata": {},
     "output_type": "execute_result"
    }
   ],
   "source": [
    "%run ../00_misc/helper-func-notebook.ipynb\n",
    "df_export = datawrapper_pop_density_distribution(df_density_quintile, \"Citizens\")\n",
    "df_export.to_csv(\"./outputs/citizens_pop_density_chart_data.csv\")\n",
    "df_export"
   ]
  },
  {
   "cell_type": "code",
   "execution_count": 44,
   "id": "ab5a9f54-b2ae-49f8-a5be-7441ec2fcac8",
   "metadata": {},
   "outputs": [],
   "source": [
    "gdf_neighbors[MAP_EXPORT_COLS].to_file(\n",
    "    \"../00_misc/map_files/citizens_auto_clean.geojson\"\n",
    ")"
   ]
  },
  {
   "cell_type": "markdown",
   "id": "d8696938-de2b-41cf-af98-6bdb8675e4fb",
   "metadata": {},
   "source": [
    "## Market discount code effect \n",
    "\n",
    "This was cut from the final draft, but I am retaining for reference.\n",
    "\n",
    "> A customer could see their location effect almost quadruple solely based on the location effect relativity assigned to their market discount code. \n",
    "\n",
    "Group by market discount code and caclulte the ration between the lower bound and upper bound discount code group"
   ]
  },
  {
   "cell_type": "code",
   "execution_count": 45,
   "id": "9cb11b5b-d34c-4270-9f5e-aff5db65743b",
   "metadata": {},
   "outputs": [
    {
     "data": {
      "text/html": [
       "<div>\n",
       "<style scoped>\n",
       "    .dataframe tbody tr th:only-of-type {\n",
       "        vertical-align: middle;\n",
       "    }\n",
       "\n",
       "    .dataframe tbody tr th {\n",
       "        vertical-align: top;\n",
       "    }\n",
       "\n",
       "    .dataframe thead th {\n",
       "        text-align: right;\n",
       "    }\n",
       "</style>\n",
       "<table border=\"1\" class=\"dataframe\">\n",
       "  <thead>\n",
       "    <tr style=\"text-align: right;\">\n",
       "      <th>uw_market_discount_code</th>\n",
       "      <th>0000001-0059999</th>\n",
       "      <th>0060000-0099999</th>\n",
       "      <th>div</th>\n",
       "    </tr>\n",
       "    <tr>\n",
       "      <th>geo_id</th>\n",
       "      <th></th>\n",
       "      <th></th>\n",
       "      <th></th>\n",
       "    </tr>\n",
       "  </thead>\n",
       "  <tbody>\n",
       "    <tr>\n",
       "      <th>260210008002</th>\n",
       "      <td>16407.10</td>\n",
       "      <td>29876.96</td>\n",
       "      <td>0.549156</td>\n",
       "    </tr>\n",
       "    <tr>\n",
       "      <th>261590104002</th>\n",
       "      <td>19696.94</td>\n",
       "      <td>34961.98</td>\n",
       "      <td>0.563382</td>\n",
       "    </tr>\n",
       "    <tr>\n",
       "      <th>260210009002</th>\n",
       "      <td>16112.04</td>\n",
       "      <td>28192.52</td>\n",
       "      <td>0.571501</td>\n",
       "    </tr>\n",
       "    <tr>\n",
       "      <th>260210008003</th>\n",
       "      <td>17046.24</td>\n",
       "      <td>29699.28</td>\n",
       "      <td>0.573961</td>\n",
       "    </tr>\n",
       "    <tr>\n",
       "      <th>260210013001</th>\n",
       "      <td>16449.06</td>\n",
       "      <td>28388.06</td>\n",
       "      <td>0.579436</td>\n",
       "    </tr>\n",
       "    <tr>\n",
       "      <th>...</th>\n",
       "      <td>...</td>\n",
       "      <td>...</td>\n",
       "      <td>...</td>\n",
       "    </tr>\n",
       "    <tr>\n",
       "      <th>261635113001</th>\n",
       "      <td>182536.74</td>\n",
       "      <td>52170.62</td>\n",
       "      <td>3.498842</td>\n",
       "    </tr>\n",
       "    <tr>\n",
       "      <th>261635113003</th>\n",
       "      <td>185825.42</td>\n",
       "      <td>52887.82</td>\n",
       "      <td>3.513577</td>\n",
       "    </tr>\n",
       "    <tr>\n",
       "      <th>261635105003</th>\n",
       "      <td>186101.28</td>\n",
       "      <td>51874.02</td>\n",
       "      <td>3.587562</td>\n",
       "    </tr>\n",
       "    <tr>\n",
       "      <th>261635437002</th>\n",
       "      <td>184446.02</td>\n",
       "      <td>50559.90</td>\n",
       "      <td>3.648069</td>\n",
       "    </tr>\n",
       "    <tr>\n",
       "      <th>261635173002</th>\n",
       "      <td>163680.56</td>\n",
       "      <td>44446.76</td>\n",
       "      <td>3.682621</td>\n",
       "    </tr>\n",
       "  </tbody>\n",
       "</table>\n",
       "<p>8159 rows × 3 columns</p>\n",
       "</div>"
      ],
      "text/plain": [
       "uw_market_discount_code  0000001-0059999  0060000-0099999       div\n",
       "geo_id                                                             \n",
       "260210008002                    16407.10         29876.96  0.549156\n",
       "261590104002                    19696.94         34961.98  0.563382\n",
       "260210009002                    16112.04         28192.52  0.571501\n",
       "260210008003                    17046.24         29699.28  0.573961\n",
       "260210013001                    16449.06         28388.06  0.579436\n",
       "...                                  ...              ...       ...\n",
       "261635113001                   182536.74         52170.62  3.498842\n",
       "261635113003                   185825.42         52887.82  3.513577\n",
       "261635105003                   186101.28         51874.02  3.587562\n",
       "261635437002                   184446.02         50559.90  3.648069\n",
       "261635173002                   163680.56         44446.76  3.682621\n",
       "\n",
       "[8159 rows x 3 columns]"
      ]
     },
     "execution_count": 45,
     "metadata": {},
     "output_type": "execute_result"
    }
   ],
   "source": [
    "gdf_temp = GDF_DATA.pivot(\n",
    "    index=\"geo_id\",\n",
    "    columns=[\"uw_market_discount_code\"],\n",
    "    values=\"generic_location_based_premium\",\n",
    ")\n",
    "gdf_temp[\"div\"] = gdf_temp[\"0000001-0059999\"] / gdf_temp[\"0060000-0099999\"]\n",
    "gdf_temp = gdf_temp.sort_values(\"div\")\n",
    "gdf_temp"
   ]
  },
  {
   "cell_type": "code",
   "execution_count": 46,
   "id": "bacee83d-65d1-442f-9497-37c3811b7776",
   "metadata": {},
   "outputs": [
    {
     "data": {
      "text/plain": [
       "'A customer could see their location effect go up by 3.6826207354596825x solely based on the location effect relativity assigned to their market discount code. '"
      ]
     },
     "execution_count": 46,
     "metadata": {},
     "output_type": "execute_result"
    }
   ],
   "source": [
    "ASSERTED_FIGURE = 4\n",
    "max_ratio = max(\n",
    "    (gdf_temp[\"0000001-0059999\"] / gdf_temp[\"0060000-0099999\"]).max(),\n",
    "    (gdf_temp[\"0060000-0099999\"] / gdf_temp[\"0000001-0059999\"]).max(),\n",
    ")\n",
    "assert round(max_ratio) == ASSERTED_FIGURE, f\"{max_ratio} != {ASSERTED_FIGURE}\"\n",
    "f\"A customer could see their location effect go up by {max_ratio}x solely based on the location effect relativity assigned to their market discount code. \""
   ]
  },
  {
   "cell_type": "markdown",
   "id": "e46a5fb7-e2a6-40cf-bbce-6f8ca56c0fef",
   "metadata": {},
   "source": [
    "## Exclude Detroit"
   ]
  },
  {
   "cell_type": "markdown",
   "id": "f2cc995e-c930-44d0-8218-990e5c4941f2",
   "metadata": {},
   "source": [
    "Keep the same quintile"
   ]
  },
  {
   "cell_type": "markdown",
   "id": "564c7bca-acb8-43eb-aa6c-0826585a7af7",
   "metadata": {},
   "source": [
    "Recalculate quintiles"
   ]
  },
  {
   "cell_type": "code",
   "execution_count": 47,
   "id": "d74b2878-45ec-4199-9787-a8db1da41944",
   "metadata": {},
   "outputs": [
    {
     "data": {
      "text/html": [
       "<div>\n",
       "<style scoped>\n",
       "    .dataframe tbody tr th:only-of-type {\n",
       "        vertical-align: middle;\n",
       "    }\n",
       "\n",
       "    .dataframe tbody tr th {\n",
       "        vertical-align: top;\n",
       "    }\n",
       "\n",
       "    .dataframe thead th {\n",
       "        text-align: right;\n",
       "    }\n",
       "</style>\n",
       "<table border=\"1\" class=\"dataframe\">\n",
       "  <thead>\n",
       "    <tr style=\"text-align: right;\">\n",
       "      <th></th>\n",
       "      <th>black_tot</th>\n",
       "      <th>white_tot</th>\n",
       "      <th>tot_pop</th>\n",
       "    </tr>\n",
       "    <tr>\n",
       "      <th>effect_quantile</th>\n",
       "      <th></th>\n",
       "      <th></th>\n",
       "      <th></th>\n",
       "    </tr>\n",
       "  </thead>\n",
       "  <tbody>\n",
       "    <tr>\n",
       "      <th>lowest effect</th>\n",
       "      <td>7.1</td>\n",
       "      <td>22.5</td>\n",
       "      <td>20.7</td>\n",
       "    </tr>\n",
       "    <tr>\n",
       "      <th>middle low</th>\n",
       "      <td>10.5</td>\n",
       "      <td>21.2</td>\n",
       "      <td>19.9</td>\n",
       "    </tr>\n",
       "    <tr>\n",
       "      <th>median</th>\n",
       "      <td>11.9</td>\n",
       "      <td>21.4</td>\n",
       "      <td>20.2</td>\n",
       "    </tr>\n",
       "    <tr>\n",
       "      <th>middle high</th>\n",
       "      <td>21.5</td>\n",
       "      <td>20.0</td>\n",
       "      <td>20.6</td>\n",
       "    </tr>\n",
       "    <tr>\n",
       "      <th>highest effect</th>\n",
       "      <td>48.9</td>\n",
       "      <td>14.9</td>\n",
       "      <td>18.6</td>\n",
       "    </tr>\n",
       "  </tbody>\n",
       "</table>\n",
       "</div>"
      ],
      "text/plain": [
       "                 black_tot  white_tot  tot_pop\n",
       "effect_quantile                               \n",
       "lowest effect          7.1       22.5     20.7\n",
       "middle low            10.5       21.2     19.9\n",
       "median                11.9       21.4     20.2\n",
       "middle high           21.5       20.0     20.6\n",
       "highest effect        48.9       14.9     18.6"
      ]
     },
     "execution_count": 47,
     "metadata": {},
     "output_type": "execute_result"
    }
   ],
   "source": [
    "gdf_exclude_detroit = gdf[~gdf[\"is_in_detroit\"]].copy()\n",
    "gdf_exclude_detroit[\"effect_quantile\"] = pd.qcut(\n",
    "    gdf_exclude_detroit[\"generic_location_based_premium\"],\n",
    "    q=len(RATE_Q_LABELS),\n",
    "    labels=RATE_Q_LABELS,\n",
    ")\n",
    "gdf[\"density_quantile\"] = pd.qcut(\n",
    "    gdf_exclude_detroit[\"density\"], q=len(DENSITY_Q_LABELS), labels=DENSITY_Q_LABELS\n",
    ")\n",
    "\n",
    "gdf_groupby_quantiles = gdf_exclude_detroit.groupby(\"effect_quantile\", observed=False)[\n",
    "    QUANTILE_GROUP_BY_COLS\n",
    "].sum()\n",
    "column_sums = gdf_groupby_quantiles.sum(axis=0)\n",
    "df_distribution = prptn_to_pct(gdf_groupby_quantiles.div(column_sums, axis=1), 3)\n",
    "df_distribution"
   ]
  },
  {
   "cell_type": "code",
   "execution_count": null,
   "id": "10b8cf98-af16-4871-8916-bd8caff540a3",
   "metadata": {},
   "outputs": [],
   "source": []
  }
 ],
 "metadata": {
  "kernelspec": {
   "display_name": "Python 3 (ipykernel)",
   "language": "python",
   "name": "python3"
  },
  "language_info": {
   "codemirror_mode": {
    "name": "ipython",
    "version": 3
   },
   "file_extension": ".py",
   "mimetype": "text/x-python",
   "name": "python",
   "nbconvert_exporter": "python",
   "pygments_lexer": "ipython3",
   "version": "3.11.9"
  }
 },
 "nbformat": 4,
 "nbformat_minor": 5
}
