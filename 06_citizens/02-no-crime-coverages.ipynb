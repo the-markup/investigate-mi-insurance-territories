{
 "cells": [
  {
   "cell_type": "markdown",
   "id": "7c1e7e71-0d80-42e5-9766-4449511c6147",
   "metadata": {},
   "source": [
    "# No crime related coverages analysis"
   ]
  },
  {
   "cell_type": "code",
   "execution_count": 1,
   "id": "3df351cf-9039-4508-baf8-ae6746153b91",
   "metadata": {},
   "outputs": [],
   "source": [
    "import geopandas as gpd\n",
    "import pandas as pd"
   ]
  },
  {
   "cell_type": "markdown",
   "id": "35c7c2d5-77c7-4869-9975-6eb40929c645",
   "metadata": {},
   "source": [
    "# Constants and helper functions"
   ]
  },
  {
   "cell_type": "code",
   "execution_count": 2,
   "id": "bd3e2f62-9a10-41d0-8d82-ffda973fd4eb",
   "metadata": {},
   "outputs": [],
   "source": [
    "DATA_FP = \"./outputs/citizens_auto_gis.geojson\""
   ]
  },
  {
   "cell_type": "code",
   "execution_count": 3,
   "id": "1976c706-da59-47df-bb62-b66d7129ad90",
   "metadata": {},
   "outputs": [],
   "source": [
    "CRIME_RELATED_COVERAGES = [\n",
    "    \"rate_comp\",\n",
    "    \"rate_excess_electronic_equipment\",\n",
    "    \"rate_roadside_assistance\",\n",
    "]\n",
    "\n",
    "RATE_Q_LABELS = [\n",
    "    \"lowest effect\",\n",
    "    \"middle low\",\n",
    "    \"median\",\n",
    "    \"middle high\",\n",
    "    \"highest effect\",\n",
    "]\n",
    "\n",
    "QUANTILE_GROUP_BY_COLS = [\"black_tot\", \"white_tot\", \"tot_pop\"]"
   ]
  },
  {
   "cell_type": "code",
   "execution_count": 4,
   "id": "9d65f3d4-ee31-4751-9c96-e175e1a3a60c",
   "metadata": {},
   "outputs": [],
   "source": [
    "ROUNDING_PRECISION = 2"
   ]
  },
  {
   "cell_type": "code",
   "execution_count": 5,
   "id": "2ad77793-62d3-4a2d-89d5-b8b7671b92c1",
   "metadata": {},
   "outputs": [],
   "source": [
    "def get_rate_columns(df_rate_table):\n",
    "    RATE_PREFIX = \"rate_\"\n",
    "    return [col for col in df_rate_table.columns if col.startswith(RATE_PREFIX)]\n",
    "\n",
    "\n",
    "def prptn_to_pct(val, precision=ROUNDING_PRECISION):\n",
    "    return round(val, precision) * 100"
   ]
  },
  {
   "cell_type": "markdown",
   "id": "b418670a-4578-4436-9ad8-923f19db77d5",
   "metadata": {},
   "source": [
    "# Read data"
   ]
  },
  {
   "cell_type": "code",
   "execution_count": 6,
   "id": "deda47cb-1b1f-45d8-afe0-afcd98700cc2",
   "metadata": {},
   "outputs": [],
   "source": [
    "GDF = gpd.read_file(DATA_FP)\n",
    "GDF = GDF.dropna(how=\"all\", axis=1)"
   ]
  },
  {
   "cell_type": "markdown",
   "id": "1732e6e5-5006-4337-8717-58f562931856",
   "metadata": {},
   "source": [
    "## Preprocess\n",
    "\n",
    "Retain lowest rate for each geography"
   ]
  },
  {
   "cell_type": "code",
   "execution_count": 7,
   "id": "2d7a283b-710a-4444-b330-443d2eea59d1",
   "metadata": {},
   "outputs": [],
   "source": [
    "gdf_min_rate = GDF.sort_values(\n",
    "    by=\"generic_location_based_premium\"\n",
    ").drop_duplicates(subset=[\"geo_id\"], keep=\"first\", ignore_index=True)"
   ]
  },
  {
   "cell_type": "code",
   "execution_count": 8,
   "id": "5763ff94-0918-41ad-a945-b92e1aca0b8d",
   "metadata": {
    "tags": []
   },
   "outputs": [],
   "source": [
    "gdf = gdf_min_rate.copy()"
   ]
  },
  {
   "cell_type": "markdown",
   "id": "05bf67cb-fb4b-4124-88c9-7389f8b2022b",
   "metadata": {},
   "source": [
    "# Process"
   ]
  },
  {
   "cell_type": "code",
   "execution_count": 9,
   "id": "e31ae46d-4863-4903-b611-a68273bd7267",
   "metadata": {},
   "outputs": [],
   "source": [
    "non_crime_coverages = [\n",
    "    col for col in get_rate_columns(GDF) if col not in CRIME_RELATED_COVERAGES\n",
    "]"
   ]
  },
  {
   "cell_type": "code",
   "execution_count": 10,
   "id": "ee7844fc-a0e6-4fd1-b3a8-328b07590896",
   "metadata": {},
   "outputs": [],
   "source": [
    "gdf[\"non_crime_generic_premium\"] = round(gdf[non_crime_coverages].sum(axis=1))\n",
    "\n",
    "gdf[\"non_crime_location_effect\"] = round(\n",
    "    gdf[\"non_crime_generic_premium\"] / gdf[\"non_crime_generic_premium\"].median(),\n",
    "    ROUNDING_PRECISION,\n",
    ")"
   ]
  },
  {
   "cell_type": "markdown",
   "id": "b2350121-f8ff-4529-ac15-395d3378fec5",
   "metadata": {},
   "source": [
    "# Analysis"
   ]
  },
  {
   "cell_type": "markdown",
   "id": "880d8e78-acde-4477-98d2-16eb089dc108",
   "metadata": {},
   "source": [
    "## Rate quantiles"
   ]
  },
  {
   "cell_type": "code",
   "execution_count": 11,
   "id": "d730aae9-6f35-41b3-bbf1-5947b9f23761",
   "metadata": {},
   "outputs": [],
   "source": [
    "gdf[\"non_crime_effect_quantile\"] = pd.qcut(\n",
    "    gdf[\"non_crime_generic_premium\"], q=len(RATE_Q_LABELS), labels=RATE_Q_LABELS\n",
    ")\n",
    "\n",
    "gdf[\"effect_quantile\"] = pd.qcut(\n",
    "    gdf[\"generic_location_based_premium\"], q=len(RATE_Q_LABELS), labels=RATE_Q_LABELS\n",
    ")"
   ]
  },
  {
   "cell_type": "markdown",
   "id": "7371cb3b-29b0-4217-bac4-fbd27d1a4d4a",
   "metadata": {},
   "source": [
    "## Race\n",
    "\n",
    "> Fifteen percent of Michigan residents lived in territories showing location effects among the highest quintile in the state. About seven percent of White Michiganders and 58 percent of Black Michiganders lived in these territories."
   ]
  },
  {
   "cell_type": "code",
   "execution_count": 12,
   "id": "132b1b72-76e2-4c5d-8389-9b86cbf46dbc",
   "metadata": {},
   "outputs": [
    {
     "data": {
      "text/html": [
       "<div>\n",
       "<style scoped>\n",
       "    .dataframe tbody tr th:only-of-type {\n",
       "        vertical-align: middle;\n",
       "    }\n",
       "\n",
       "    .dataframe tbody tr th {\n",
       "        vertical-align: top;\n",
       "    }\n",
       "\n",
       "    .dataframe thead th {\n",
       "        text-align: right;\n",
       "    }\n",
       "</style>\n",
       "<table border=\"1\" class=\"dataframe\">\n",
       "  <thead>\n",
       "    <tr style=\"text-align: right;\">\n",
       "      <th></th>\n",
       "      <th>black_tot</th>\n",
       "      <th>white_tot</th>\n",
       "      <th>tot_pop</th>\n",
       "    </tr>\n",
       "    <tr>\n",
       "      <th>effect_quantile</th>\n",
       "      <th></th>\n",
       "      <th></th>\n",
       "      <th></th>\n",
       "    </tr>\n",
       "  </thead>\n",
       "  <tbody>\n",
       "    <tr>\n",
       "      <th>lowest effect</th>\n",
       "      <td>5.3</td>\n",
       "      <td>24.8</td>\n",
       "      <td>21.6</td>\n",
       "    </tr>\n",
       "    <tr>\n",
       "      <th>middle low</th>\n",
       "      <td>8.0</td>\n",
       "      <td>23.9</td>\n",
       "      <td>21.3</td>\n",
       "    </tr>\n",
       "    <tr>\n",
       "      <th>median</th>\n",
       "      <td>9.7</td>\n",
       "      <td>23.4</td>\n",
       "      <td>21.2</td>\n",
       "    </tr>\n",
       "    <tr>\n",
       "      <th>middle high</th>\n",
       "      <td>20.0</td>\n",
       "      <td>21.0</td>\n",
       "      <td>21.2</td>\n",
       "    </tr>\n",
       "    <tr>\n",
       "      <th>highest effect</th>\n",
       "      <td>57.0</td>\n",
       "      <td>6.9</td>\n",
       "      <td>14.8</td>\n",
       "    </tr>\n",
       "  </tbody>\n",
       "</table>\n",
       "</div>"
      ],
      "text/plain": [
       "                 black_tot  white_tot  tot_pop\n",
       "effect_quantile                               \n",
       "lowest effect          5.3       24.8     21.6\n",
       "middle low             8.0       23.9     21.3\n",
       "median                 9.7       23.4     21.2\n",
       "middle high           20.0       21.0     21.2\n",
       "highest effect        57.0        6.9     14.8"
      ]
     },
     "execution_count": 12,
     "metadata": {},
     "output_type": "execute_result"
    }
   ],
   "source": [
    "gdf_groupby_quantiles = gdf.groupby(\"effect_quantile\", observed=False)[\n",
    "    QUANTILE_GROUP_BY_COLS\n",
    "].sum()\n",
    "df_distribution = prptn_to_pct(\n",
    "    gdf_groupby_quantiles.div(gdf_groupby_quantiles.sum(axis=0), axis=1), 3\n",
    ")\n",
    "df_distribution"
   ]
  },
  {
   "cell_type": "code",
   "execution_count": 13,
   "id": "d31216b0-b284-4297-9371-821c79126300",
   "metadata": {},
   "outputs": [
    {
     "data": {
      "text/html": [
       "<div>\n",
       "<style scoped>\n",
       "    .dataframe tbody tr th:only-of-type {\n",
       "        vertical-align: middle;\n",
       "    }\n",
       "\n",
       "    .dataframe tbody tr th {\n",
       "        vertical-align: top;\n",
       "    }\n",
       "\n",
       "    .dataframe thead th {\n",
       "        text-align: right;\n",
       "    }\n",
       "</style>\n",
       "<table border=\"1\" class=\"dataframe\">\n",
       "  <thead>\n",
       "    <tr style=\"text-align: right;\">\n",
       "      <th></th>\n",
       "      <th>black_tot</th>\n",
       "      <th>white_tot</th>\n",
       "      <th>tot_pop</th>\n",
       "    </tr>\n",
       "    <tr>\n",
       "      <th>non_crime_effect_quantile</th>\n",
       "      <th></th>\n",
       "      <th></th>\n",
       "      <th></th>\n",
       "    </tr>\n",
       "  </thead>\n",
       "  <tbody>\n",
       "    <tr>\n",
       "      <th>lowest effect</th>\n",
       "      <td>4.1</td>\n",
       "      <td>24.7</td>\n",
       "      <td>21.1</td>\n",
       "    </tr>\n",
       "    <tr>\n",
       "      <th>middle low</th>\n",
       "      <td>6.9</td>\n",
       "      <td>24.2</td>\n",
       "      <td>21.2</td>\n",
       "    </tr>\n",
       "    <tr>\n",
       "      <th>median</th>\n",
       "      <td>10.8</td>\n",
       "      <td>23.6</td>\n",
       "      <td>21.7</td>\n",
       "    </tr>\n",
       "    <tr>\n",
       "      <th>middle high</th>\n",
       "      <td>21.7</td>\n",
       "      <td>19.8</td>\n",
       "      <td>20.7</td>\n",
       "    </tr>\n",
       "    <tr>\n",
       "      <th>highest effect</th>\n",
       "      <td>56.6</td>\n",
       "      <td>7.6</td>\n",
       "      <td>15.3</td>\n",
       "    </tr>\n",
       "  </tbody>\n",
       "</table>\n",
       "</div>"
      ],
      "text/plain": [
       "                           black_tot  white_tot  tot_pop\n",
       "non_crime_effect_quantile                               \n",
       "lowest effect                    4.1       24.7     21.1\n",
       "middle low                       6.9       24.2     21.2\n",
       "median                          10.8       23.6     21.7\n",
       "middle high                     21.7       19.8     20.7\n",
       "highest effect                  56.6        7.6     15.3"
      ]
     },
     "execution_count": 13,
     "metadata": {},
     "output_type": "execute_result"
    }
   ],
   "source": [
    "gdf_groupby_quantiles = gdf.groupby(\"non_crime_effect_quantile\", observed=False)[\n",
    "    QUANTILE_GROUP_BY_COLS\n",
    "].sum()\n",
    "column_sums = gdf_groupby_quantiles.sum(axis=0)\n",
    "df_non_crime_distribution = prptn_to_pct(gdf_groupby_quantiles.div(column_sums, axis=1), 3)\n",
    "df_non_crime_distribution"
   ]
  },
  {
   "cell_type": "code",
   "execution_count": 14,
   "id": "5ac33701-14f5-4f79-879e-af6d0cca6e64",
   "metadata": {},
   "outputs": [
    {
     "data": {
      "text/html": [
       "<div>\n",
       "<style scoped>\n",
       "    .dataframe tbody tr th:only-of-type {\n",
       "        vertical-align: middle;\n",
       "    }\n",
       "\n",
       "    .dataframe tbody tr th {\n",
       "        vertical-align: top;\n",
       "    }\n",
       "\n",
       "    .dataframe thead th {\n",
       "        text-align: right;\n",
       "    }\n",
       "</style>\n",
       "<table border=\"1\" class=\"dataframe\">\n",
       "  <thead>\n",
       "    <tr style=\"text-align: right;\">\n",
       "      <th></th>\n",
       "      <th>black_tot</th>\n",
       "      <th>white_tot</th>\n",
       "      <th>tot_pop</th>\n",
       "    </tr>\n",
       "    <tr>\n",
       "      <th>effect_quantile</th>\n",
       "      <th></th>\n",
       "      <th></th>\n",
       "      <th></th>\n",
       "    </tr>\n",
       "  </thead>\n",
       "  <tbody>\n",
       "    <tr>\n",
       "      <th>lowest effect</th>\n",
       "      <td>1.2</td>\n",
       "      <td>0.1</td>\n",
       "      <td>0.5</td>\n",
       "    </tr>\n",
       "    <tr>\n",
       "      <th>middle low</th>\n",
       "      <td>1.1</td>\n",
       "      <td>-0.3</td>\n",
       "      <td>0.1</td>\n",
       "    </tr>\n",
       "    <tr>\n",
       "      <th>median</th>\n",
       "      <td>-1.1</td>\n",
       "      <td>-0.2</td>\n",
       "      <td>-0.5</td>\n",
       "    </tr>\n",
       "    <tr>\n",
       "      <th>middle high</th>\n",
       "      <td>-1.7</td>\n",
       "      <td>1.2</td>\n",
       "      <td>0.5</td>\n",
       "    </tr>\n",
       "    <tr>\n",
       "      <th>highest effect</th>\n",
       "      <td>0.4</td>\n",
       "      <td>-0.7</td>\n",
       "      <td>-0.5</td>\n",
       "    </tr>\n",
       "  </tbody>\n",
       "</table>\n",
       "</div>"
      ],
      "text/plain": [
       "                 black_tot  white_tot  tot_pop\n",
       "effect_quantile                               \n",
       "lowest effect          1.2        0.1      0.5\n",
       "middle low             1.1       -0.3      0.1\n",
       "median                -1.1       -0.2     -0.5\n",
       "middle high           -1.7        1.2      0.5\n",
       "highest effect         0.4       -0.7     -0.5"
      ]
     },
     "execution_count": 14,
     "metadata": {},
     "output_type": "execute_result"
    }
   ],
   "source": [
    "df_diff = (df_distribution - df_non_crime_distribution)\n",
    "df_diff"
   ]
  }
 ],
 "metadata": {
  "kernelspec": {
   "display_name": "Python 3 (ipykernel)",
   "language": "python",
   "name": "python3"
  },
  "language_info": {
   "codemirror_mode": {
    "name": "ipython",
    "version": 3
   },
   "file_extension": ".py",
   "mimetype": "text/x-python",
   "name": "python",
   "nbconvert_exporter": "python",
   "pygments_lexer": "ipython3",
   "version": "3.11.9"
  }
 },
 "nbformat": 4,
 "nbformat_minor": 5
}
